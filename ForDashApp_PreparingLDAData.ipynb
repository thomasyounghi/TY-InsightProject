{
 "cells": [
  {
   "cell_type": "markdown",
   "metadata": {},
   "source": [
    "Here we take the LDA model (5 topics), only nouns that we trained, and prepare it for visualization on the dash app.  We take the top 50 words associated with each topic and calculate the fraction of reviews that word appears in for each coffee shop. Additionally, for each coffee shop, we store the topic component values. "
   ]
  },
  {
   "cell_type": "code",
   "execution_count": 1,
   "metadata": {},
   "outputs": [],
   "source": [
    "import numpy as np\n",
    "import pandas as pd\n",
    "\n",
    "\n",
    "import gensim\n",
    "import gensim.corpora as corpora\n",
    "from gensim.utils import simple_preprocess\n",
    "from gensim.models import CoherenceModel\n",
    "\n",
    "import spacy\n",
    "from spacy.lemmatizer import Lemmatizer\n",
    "from spacy.lang.en.stop_words import STOP_WORDS\n",
    "#import en_core_web_sm\n",
    "\n",
    "from tqdm import tqdm_notebook as tqdm\n",
    "from pprint import pprint"
   ]
  },
  {
   "cell_type": "code",
   "execution_count": 2,
   "metadata": {},
   "outputs": [],
   "source": [
    "shops = pd.read_csv('./ProcessedData/coffeeshops_withcfcutoff.csv')\n",
    "reviews = pd.read_csv('./ProcessedData/reviews_withlda5topicfeatures.csv')\n",
    "reviews.rename(columns={'rating':'revrating'},inplace=True)\n",
    "merged = pd.merge(shops,reviews,how='inner',on = ['alias'])"
   ]
  },
  {
   "cell_type": "code",
   "execution_count": 3,
   "metadata": {},
   "outputs": [
    {
     "data": {
      "text/plain": [
       "Index(['index', 'id', 'name', 'alias', 'is_closed', 'review_count', 'price',\n",
       "       'rating_x', 'transactions', 'latitude', 'longitude', 'geometry',\n",
       "       'index_right', 'boro_code', 'boro_name', 'county_fip', 'ntacode',\n",
       "       'ntaname', 'shape_area', 'shape_leng', 'catlist', 'numcoffeemen',\n",
       "       'numreviews', 'fraccof', 'idx', 'date', 'rating_y', 'reviewtxt',\n",
       "       'mreviewtxt', 't0s', 't1s', 't2s', 't3s', 't4s', 't0senlen', 't1senlen',\n",
       "       't2senlen', 't3senlen', 't4senlen', 'sentiment', 'avgsentiment', 't0',\n",
       "       't1', 't2', 't3', 't4', 'reviewlen'],\n",
       "      dtype='object')"
      ]
     },
     "execution_count": 3,
     "metadata": {},
     "output_type": "execute_result"
    }
   ],
   "source": [
    "reviews.columns"
   ]
  },
  {
   "cell_type": "code",
   "execution_count": 4,
   "metadata": {},
   "outputs": [],
   "source": [
    "#Loading the previously trained LDA model\n",
    "import pickle\n",
    "from gensim.test.utils import datapath\n",
    "from gensim.models import LdaModel\n",
    "from gensim import corpora\n",
    "#Visualize the LDA topics\n",
    "dictionary = gensim.corpora.Dictionary.load('dictionary_allreviews_nouns.gensim')\n",
    "corpus = pickle.load(open('corpus_allreviews_nouns.pkl', 'rb'))\n",
    "\n",
    "temp_file = datapath(\"lda_nounsonly_5topics.gensim\")\n",
    "lda = gensim.models.ldamodel.LdaModel.load(temp_file)\n"
   ]
  },
  {
   "cell_type": "code",
   "execution_count": 5,
   "metadata": {},
   "outputs": [
    {
     "data": {
      "text/plain": [
       "([(0, 0.05003922),\n",
       "  (1, 0.050024386),\n",
       "  (2, 0.3000926),\n",
       "  (3, 0.54981965),\n",
       "  (4, 0.050024122)],\n",
       " [(31, [3]), (419, [2]), (734, [3])],\n",
       " [(31, [(3, 0.9999051)]), (419, [(2, 0.9995777)]), (734, [(3, 0.998249)])])"
      ]
     },
     "execution_count": 5,
     "metadata": {},
     "output_type": "execute_result"
    }
   ],
   "source": [
    "#A simple example of applying the trained lda model to a new text\n",
    "other_texts = [\n",
    "['computer', 'time', 'table','-'],\n",
    "['survey', 'response', 'eps'],\n",
    "['human', 'system', 'coffee']]\n",
    "other_corpus = [dictionary.doc2bow(text) for text in other_texts]\n",
    "vector1 = lda[other_corpus[0]]\n",
    "vector1\n",
    "\n",
    "vector2 = lda[other_corpus[2]]\n",
    "vector2"
   ]
  },
  {
   "cell_type": "code",
   "execution_count": 6,
   "metadata": {},
   "outputs": [
    {
     "name": "stdout",
     "output_type": "stream",
     "text": [
      "{'neg': 0.0, 'neu': 0.436, 'pos': 0.564, 'compound': 0.885}\n"
     ]
    }
   ],
   "source": [
    "#A simple example of applying vader to measure the sentiment in a sentence\n",
    "from vaderSentiment.vaderSentiment import SentimentIntensityAnalyzer\n",
    "analyzer = SentimentIntensityAnalyzer()\n",
    "vs = analyzer.polarity_scores('In some ways, they are totally opposite cataclysms. Good Awesome Terrific')\n",
    "print(vs)"
   ]
  },
  {
   "cell_type": "markdown",
   "metadata": {},
   "source": [
    "Preparing the review text to be processed by the trained LDA model|"
   ]
  },
  {
   "cell_type": "code",
   "execution_count": 7,
   "metadata": {},
   "outputs": [],
   "source": [
    "revldaweights = pd.read_csv('./ProcessedData/reviews_withlda5topicfeatures.csv')\n"
   ]
  },
  {
   "cell_type": "code",
   "execution_count": 8,
   "metadata": {},
   "outputs": [],
   "source": [
    "revldaweights.head(5)\n",
    "meanldaweights = revldaweights.groupby('alias')[['t0','t1','t2','t3','t4','t0s','t1s','t2s','t3s','t4s']].mean()"
   ]
  },
  {
   "cell_type": "code",
   "execution_count": 9,
   "metadata": {},
   "outputs": [],
   "source": [
    "merged = meanldaweights.merge(shops,how='inner',on='alias')"
   ]
  },
  {
   "cell_type": "code",
   "execution_count": 10,
   "metadata": {},
   "outputs": [],
   "source": [
    "merged.to_csv('./DataForDash/shopswithlda5topic.csv',index=False)"
   ]
  },
  {
   "cell_type": "code",
   "execution_count": 40,
   "metadata": {},
   "outputs": [
    {
     "data": {
      "text/html": [
       "<div>\n",
       "<style scoped>\n",
       "    .dataframe tbody tr th:only-of-type {\n",
       "        vertical-align: middle;\n",
       "    }\n",
       "\n",
       "    .dataframe tbody tr th {\n",
       "        vertical-align: top;\n",
       "    }\n",
       "\n",
       "    .dataframe thead th {\n",
       "        text-align: right;\n",
       "    }\n",
       "</style>\n",
       "<table border=\"1\" class=\"dataframe\">\n",
       "  <thead>\n",
       "    <tr style=\"text-align: right;\">\n",
       "      <th></th>\n",
       "      <th>alias</th>\n",
       "      <th>t3s</th>\n",
       "    </tr>\n",
       "  </thead>\n",
       "  <tbody>\n",
       "    <tr>\n",
       "      <th>302</th>\n",
       "      <td>oliver-coffee-new-york</td>\n",
       "      <td>0.373311</td>\n",
       "    </tr>\n",
       "    <tr>\n",
       "      <th>180</th>\n",
       "      <td>gregorys-coffee-new-york-22</td>\n",
       "      <td>0.373608</td>\n",
       "    </tr>\n",
       "    <tr>\n",
       "      <th>303</th>\n",
       "      <td>one-girl-cookies-brooklyn-3</td>\n",
       "      <td>0.373632</td>\n",
       "    </tr>\n",
       "    <tr>\n",
       "      <th>482</th>\n",
       "      <td>takahachi-bakery-new-york</td>\n",
       "      <td>0.373690</td>\n",
       "    </tr>\n",
       "    <tr>\n",
       "      <th>171</th>\n",
       "      <td>gregorys-coffee-brooklyn-2</td>\n",
       "      <td>0.374421</td>\n",
       "    </tr>\n",
       "    <tr>\n",
       "      <th>...</th>\n",
       "      <td>...</td>\n",
       "      <td>...</td>\n",
       "    </tr>\n",
       "    <tr>\n",
       "      <th>4</th>\n",
       "      <td>787-coffee-new-york-5</td>\n",
       "      <td>0.703245</td>\n",
       "    </tr>\n",
       "    <tr>\n",
       "      <th>261</th>\n",
       "      <td>lülü-coffee-co-new-york-23</td>\n",
       "      <td>0.706704</td>\n",
       "    </tr>\n",
       "    <tr>\n",
       "      <th>229</th>\n",
       "      <td>kaigo-coffee-room-brooklyn-4</td>\n",
       "      <td>0.720201</td>\n",
       "    </tr>\n",
       "    <tr>\n",
       "      <th>35</th>\n",
       "      <td>blue-bottle-coffee-new-york-22</td>\n",
       "      <td>0.723296</td>\n",
       "    </tr>\n",
       "    <tr>\n",
       "      <th>352</th>\n",
       "      <td>remi-flower-and-coffee-new-york-2</td>\n",
       "      <td>0.735652</td>\n",
       "    </tr>\n",
       "  </tbody>\n",
       "</table>\n",
       "<p>250 rows × 2 columns</p>\n",
       "</div>"
      ],
      "text/plain": [
       "                                 alias       t3s\n",
       "302             oliver-coffee-new-york  0.373311\n",
       "180        gregorys-coffee-new-york-22  0.373608\n",
       "303        one-girl-cookies-brooklyn-3  0.373632\n",
       "482          takahachi-bakery-new-york  0.373690\n",
       "171         gregorys-coffee-brooklyn-2  0.374421\n",
       "..                                 ...       ...\n",
       "4                787-coffee-new-york-5  0.703245\n",
       "261         lülü-coffee-co-new-york-23  0.706704\n",
       "229       kaigo-coffee-room-brooklyn-4  0.720201\n",
       "35      blue-bottle-coffee-new-york-22  0.723296\n",
       "352  remi-flower-and-coffee-new-york-2  0.735652\n",
       "\n",
       "[250 rows x 2 columns]"
      ]
     },
     "execution_count": 40,
     "metadata": {},
     "output_type": "execute_result"
    }
   ],
   "source": [
    "merged[['alias','t3s']].sort_values(by='t3s').tail(250)"
   ]
  },
  {
   "cell_type": "code",
   "execution_count": 41,
   "metadata": {},
   "outputs": [],
   "source": [
    "#Now getting the top words for each topic"
   ]
  },
  {
   "cell_type": "code",
   "execution_count": 42,
   "metadata": {},
   "outputs": [
    {
     "name": "stdout",
     "output_type": "stream",
     "text": [
      "[(12, 0.052774273), (80, 0.030384272), (154, 0.030074613), (11, 0.024772303), (18, 0.02101725), (189, 0.019616796), (50, 0.01771511), (25, 0.016095303), (183, 0.015675712), (398, 0.014464904)]\n",
      "place\n"
     ]
    }
   ],
   "source": [
    "print(lda.get_topic_terms(0))\n",
    "print(dictionary[12])"
   ]
  },
  {
   "cell_type": "code",
   "execution_count": 21,
   "metadata": {},
   "outputs": [],
   "source": [
    "#Creating a data frame, to store the fraction of the top 10 words in each topic\n",
    "results = []\n",
    "\n",
    "for i in range(5):\n",
    "    termtuples = lda.get_topic_terms(i)\n",
    "    rank = 1\n",
    "    for (dicti,prob) in termtuples:\n",
    "        word = dictionary[dicti]\n",
    "        wordinfo = [i, word, prob,rank]\n",
    "        results.append(wordinfo)\n",
    "        rank = rank+1\n",
    "        \n",
    "topwordsbytopic = pd.DataFrame(results)\n",
    "topwordsbytopic.columns = ['ldatopic','word','probability','rank']"
   ]
  },
  {
   "cell_type": "code",
   "execution_count": 25,
   "metadata": {},
   "outputs": [
    {
     "data": {
      "text/html": [
       "<div>\n",
       "<style scoped>\n",
       "    .dataframe tbody tr th:only-of-type {\n",
       "        vertical-align: middle;\n",
       "    }\n",
       "\n",
       "    .dataframe tbody tr th {\n",
       "        vertical-align: top;\n",
       "    }\n",
       "\n",
       "    .dataframe thead th {\n",
       "        text-align: right;\n",
       "    }\n",
       "</style>\n",
       "<table border=\"1\" class=\"dataframe\">\n",
       "  <thead>\n",
       "    <tr style=\"text-align: right;\">\n",
       "      <th></th>\n",
       "      <th>ldatopic</th>\n",
       "      <th>word</th>\n",
       "      <th>probability</th>\n",
       "      <th>rank</th>\n",
       "    </tr>\n",
       "  </thead>\n",
       "  <tbody>\n",
       "    <tr>\n",
       "      <th>0</th>\n",
       "      <td>0</td>\n",
       "      <td>place</td>\n",
       "      <td>0.052774</td>\n",
       "      <td>1</td>\n",
       "    </tr>\n",
       "    <tr>\n",
       "      <th>1</th>\n",
       "      <td>0</td>\n",
       "      <td>table</td>\n",
       "      <td>0.030384</td>\n",
       "      <td>2</td>\n",
       "    </tr>\n",
       "    <tr>\n",
       "      <th>2</th>\n",
       "      <td>0</td>\n",
       "      <td>work</td>\n",
       "      <td>0.030075</td>\n",
       "      <td>3</td>\n",
       "    </tr>\n",
       "    <tr>\n",
       "      <th>3</th>\n",
       "      <td>0</td>\n",
       "      <td>people</td>\n",
       "      <td>0.024772</td>\n",
       "      <td>4</td>\n",
       "    </tr>\n",
       "    <tr>\n",
       "      <th>4</th>\n",
       "      <td>0</td>\n",
       "      <td>area</td>\n",
       "      <td>0.021017</td>\n",
       "      <td>5</td>\n",
       "    </tr>\n",
       "  </tbody>\n",
       "</table>\n",
       "</div>"
      ],
      "text/plain": [
       "   ldatopic    word  probability  rank\n",
       "0         0   place     0.052774     1\n",
       "1         0   table     0.030384     2\n",
       "2         0    work     0.030075     3\n",
       "3         0  people     0.024772     4\n",
       "4         0    area     0.021017     5"
      ]
     },
     "execution_count": 25,
     "metadata": {},
     "output_type": "execute_result"
    }
   ],
   "source": [
    "topwordsbytopic.head(5)"
   ]
  },
  {
   "cell_type": "code",
   "execution_count": 23,
   "metadata": {},
   "outputs": [],
   "source": [
    "topwordsbytopic.to_csv('./DataForDash/ldatopwordsfortopics.csv',index=False)"
   ]
  },
  {
   "cell_type": "code",
   "execution_count": null,
   "metadata": {},
   "outputs": [],
   "source": []
  }
 ],
 "metadata": {
  "kernelspec": {
   "display_name": "nlp_envp3",
   "language": "python",
   "name": "nlp_envp3"
  },
  "language_info": {
   "codemirror_mode": {
    "name": "ipython",
    "version": 3
   },
   "file_extension": ".py",
   "mimetype": "text/x-python",
   "name": "python",
   "nbconvert_exporter": "python",
   "pygments_lexer": "ipython3",
   "version": "3.6.10"
  }
 },
 "nbformat": 4,
 "nbformat_minor": 4
}
