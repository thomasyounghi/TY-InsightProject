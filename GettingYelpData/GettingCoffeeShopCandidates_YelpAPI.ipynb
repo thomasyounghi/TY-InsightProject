{
 "cells": [
  {
   "cell_type": "code",
   "execution_count": null,
   "metadata": {},
   "outputs": [],
   "source": [
    "In this notebook, I use the Yelp api to scrape coffeeshop data from Yelp"
   ]
  },
  {
   "cell_type": "code",
   "execution_count": 19,
   "metadata": {},
   "outputs": [],
   "source": [
    "import requests\n",
    "import json\n",
    "import pandas as pd"
   ]
  },
  {
   "cell_type": "code",
   "execution_count": 2,
   "metadata": {},
   "outputs": [],
   "source": [
    "api_key = 'sg_yNfXjapD7bhpfSdzBO9hQdlueM-fN-vqhejxBE7c-KMWuFK-5_pTktl02IMtqm-AhImmAGFTRkCefl_xft8953TVwzJCnyVzKGRSmbCLMuNCxUm37sdpH07fYXnYx'\n",
    "headers = {'Authorization':'Bearer %s' % api_key}"
   ]
  },
  {
   "cell_type": "markdown",
   "metadata": {},
   "source": [
    "A simple example"
   ]
  },
  {
   "cell_type": "code",
   "execution_count": 85,
   "metadata": {},
   "outputs": [],
   "source": [
    "url = 'https://api.yelp.com/v3/businesses/search'\n",
    "params = {'categories':'coffee','latitude':'40.717254','longitude':'-73.995615','limit':'50','offset':'40','radius':'300'}\n",
    "params2 = {'categories':'coffee','latitude':'40.717254','longitude':'-73.995615','limit':'50','offset':'35','radius':'300'}"
   ]
  },
  {
   "cell_type": "code",
   "execution_count": 86,
   "metadata": {},
   "outputs": [],
   "source": [
    "req=requests.get(url,params=params,headers=headers)"
   ]
  },
  {
   "cell_type": "code",
   "execution_count": 87,
   "metadata": {},
   "outputs": [
    {
     "data": {
      "text/plain": [
       "0"
      ]
     },
     "execution_count": 87,
     "metadata": {},
     "output_type": "execute_result"
    }
   ],
   "source": [
    "parsed = json.loads(req.text)\n",
    "len(parsed['businesses'])"
   ]
  },
  {
   "cell_type": "code",
   "execution_count": 16,
   "metadata": {},
   "outputs": [
    {
     "data": {
      "text/plain": [
       "39"
      ]
     },
     "execution_count": 16,
     "metadata": {},
     "output_type": "execute_result"
    }
   ],
   "source": [
    "req2=requests.get(url,params=params2,headers=headers)\n",
    "parsed = json.loads(req.text)\n",
    "len(parsed[\"businesses\"])"
   ]
  },
  {
   "cell_type": "code",
   "execution_count": 25,
   "metadata": {},
   "outputs": [
    {
     "data": {
      "text/plain": [
       "[{'id': 'K5OWsf2u4GulpkW2-QLHrg',\n",
       "  'alias': 'lucky-seven-bakery-new-york',\n",
       "  'name': 'Lucky Seven bakery',\n",
       "  'image_url': 'https://s3-media2.fl.yelpcdn.com/bphoto/sbGvfurzFpPrQw8leWv6iw/o.jpg',\n",
       "  'is_closed': False,\n",
       "  'url': 'https://www.yelp.com/biz/lucky-seven-bakery-new-york?adjust_creative=CGRkejdGiNtvX-lhcOFUZQ&utm_campaign=yelp_api_v3&utm_medium=api_v3_business_search&utm_source=CGRkejdGiNtvX-lhcOFUZQ',\n",
       "  'review_count': 1,\n",
       "  'categories': [{'alias': 'coffee', 'title': 'Coffee & Tea'},\n",
       "   {'alias': 'dimsum', 'title': 'Dim Sum'},\n",
       "   {'alias': 'bakeries', 'title': 'Bakeries'}],\n",
       "  'rating': 4.0,\n",
       "  'coordinates': {'latitude': 40.71507, 'longitude': -73.99746},\n",
       "  'transactions': [],\n",
       "  'location': {'address1': '47 Bayard St',\n",
       "   'address2': '',\n",
       "   'address3': None,\n",
       "   'city': 'New York',\n",
       "   'zip_code': '10013',\n",
       "   'country': 'US',\n",
       "   'state': 'NY',\n",
       "   'display_address': ['47 Bayard St', 'New York, NY 10013']},\n",
       "  'phone': '',\n",
       "  'display_phone': '',\n",
       "  'distance': 287.12232459034004},\n",
       " {'id': '-oEU5Pv8UxWc4KTaVB8SgQ',\n",
       "  'alias': 'golden-carriage-bakery-new-york',\n",
       "  'name': 'Golden Carriage Bakery',\n",
       "  'image_url': '',\n",
       "  'is_closed': False,\n",
       "  'url': 'https://www.yelp.com/biz/golden-carriage-bakery-new-york?adjust_creative=CGRkejdGiNtvX-lhcOFUZQ&utm_campaign=yelp_api_v3&utm_medium=api_v3_business_search&utm_source=CGRkejdGiNtvX-lhcOFUZQ',\n",
       "  'review_count': 1,\n",
       "  'categories': [{'alias': 'bakeries', 'title': 'Bakeries'},\n",
       "   {'alias': 'coffee', 'title': 'Coffee & Tea'}],\n",
       "  'rating': 2.0,\n",
       "  'coordinates': {'latitude': 40.71735, 'longitude': -73.99457},\n",
       "  'transactions': [],\n",
       "  'price': '$$',\n",
       "  'location': {'address1': '79 Chrystie St',\n",
       "   'address2': '',\n",
       "   'address3': '',\n",
       "   'city': 'New York',\n",
       "   'zip_code': '10002',\n",
       "   'country': 'US',\n",
       "   'state': 'NY',\n",
       "   'display_address': ['79 Chrystie St', 'New York, NY 10002']},\n",
       "  'phone': '+12122262272',\n",
       "  'display_phone': '(212) 226-2272',\n",
       "  'distance': 90.26435566513197},\n",
       " {'id': 'sLyOzMbbGgJ_PY_ppZjjyg',\n",
       "  'alias': 'jimoto-tea-manhattan-2',\n",
       "  'name': 'Jimoto Tea',\n",
       "  'image_url': 'https://s3-media3.fl.yelpcdn.com/bphoto/6E1s9_NfHZ6iu9oJNTmz7A/o.jpg',\n",
       "  'is_closed': False,\n",
       "  'url': 'https://www.yelp.com/biz/jimoto-tea-manhattan-2?adjust_creative=CGRkejdGiNtvX-lhcOFUZQ&utm_campaign=yelp_api_v3&utm_medium=api_v3_business_search&utm_source=CGRkejdGiNtvX-lhcOFUZQ',\n",
       "  'review_count': 2,\n",
       "  'categories': [{'alias': 'coffee', 'title': 'Coffee & Tea'}],\n",
       "  'rating': 2.0,\n",
       "  'coordinates': {'latitude': 40.71585, 'longitude': -73.9977},\n",
       "  'transactions': [],\n",
       "  'price': '$',\n",
       "  'location': {'address1': '9 Elizabeth St',\n",
       "   'address2': '',\n",
       "   'address3': '',\n",
       "   'city': 'Manhattan',\n",
       "   'zip_code': '10013',\n",
       "   'country': 'US',\n",
       "   'state': 'NY',\n",
       "   'display_address': ['9 Elizabeth St', 'Manhattan, NY 10013']},\n",
       "  'phone': '+12129665181',\n",
       "  'display_phone': '(212) 966-5181',\n",
       "  'distance': 232.89278985369762},\n",
       " {'id': 'KK5l-C1HDubv3a80yYkVuA',\n",
       "  'alias': 'caffe-bon-greenwich-3',\n",
       "  'name': 'Caffe Bon',\n",
       "  'image_url': 'https://s3-media3.fl.yelpcdn.com/bphoto/POMEcGAx64Bn9Fv8mUROfw/o.jpg',\n",
       "  'is_closed': False,\n",
       "  'url': 'https://www.yelp.com/biz/caffe-bon-greenwich-3?adjust_creative=CGRkejdGiNtvX-lhcOFUZQ&utm_campaign=yelp_api_v3&utm_medium=api_v3_business_search&utm_source=CGRkejdGiNtvX-lhcOFUZQ',\n",
       "  'review_count': 2,\n",
       "  'categories': [{'alias': 'foodtrucks', 'title': 'Food Trucks'},\n",
       "   {'alias': 'coffee', 'title': 'Coffee & Tea'}],\n",
       "  'rating': 5.0,\n",
       "  'coordinates': {'latitude': 41.0280418395996,\n",
       "   'longitude': -73.6262435913086},\n",
       "  'transactions': [],\n",
       "  'price': '$',\n",
       "  'location': {'address1': '',\n",
       "   'address2': None,\n",
       "   'address3': '',\n",
       "   'city': 'Greenwich',\n",
       "   'zip_code': '06830',\n",
       "   'country': 'US',\n",
       "   'state': 'CT',\n",
       "   'display_address': ['Greenwich, CT 06830']},\n",
       "  'phone': '+12035360524',\n",
       "  'display_phone': '(203) 536-0524',\n",
       "  'distance': 50184.38168491126}]"
      ]
     },
     "execution_count": 25,
     "metadata": {},
     "output_type": "execute_result"
    }
   ],
   "source": [
    "parsed[\"businesses\"]"
   ]
  },
  {
   "cell_type": "code",
   "execution_count": 39,
   "metadata": {},
   "outputs": [],
   "source": [
    "\n",
    "def keyindictionary(dictionary,key):\n",
    "    currdict = dictionary\n",
    "    for i in range(0,len(key)):\n",
    "        if type(currdict) is not dict:\n",
    "            return None\n",
    "        if key[i] in currdict:\n",
    "            currdict = currdict[key[i]]\n",
    "        else:\n",
    "            return None\n",
    "    return currdict\n",
    "    \n",
    "    \n",
    "def getkeyvaluelist(dictionary,keys):\n",
    "    result = []\n",
    "    for key in keys:\n",
    "        result.append(keyindictionary(dictionary,key))\n",
    "    return(result)\n",
    "            "
   ]
  },
  {
   "cell_type": "code",
   "execution_count": 67,
   "metadata": {},
   "outputs": [],
   "source": [
    "businesslist = []\n",
    "keystrings = [\"id\",\"name\",\"alias\",\"is_closed\",\"categories\",\"review_count\",\"price\",\"rating\",\"transactions\"]\n",
    "keys = [[key] for key in keystrings]\n",
    "keys.extend([['coordinates','latitude'],['coordinates','longitude']])\n",
    "test = getkeyvaluelist(parsed[\"businesses\"][0],keys)\n",
    "for business in parsed[\"businesses\"]:\n",
    "    businesslist.append(getkeyvaluelist(business,keys))\n"
   ]
  },
  {
   "cell_type": "code",
   "execution_count": 68,
   "metadata": {},
   "outputs": [
    {
     "name": "stdout",
     "output_type": "stream",
     "text": [
      "{'id': 'K5OWsf2u4GulpkW2-QLHrg', 'alias': 'lucky-seven-bakery-new-york', 'name': 'Lucky Seven bakery', 'image_url': 'https://s3-media2.fl.yelpcdn.com/bphoto/sbGvfurzFpPrQw8leWv6iw/o.jpg', 'is_closed': False, 'url': 'https://www.yelp.com/biz/lucky-seven-bakery-new-york?adjust_creative=CGRkejdGiNtvX-lhcOFUZQ&utm_campaign=yelp_api_v3&utm_medium=api_v3_business_search&utm_source=CGRkejdGiNtvX-lhcOFUZQ', 'review_count': 1, 'categories': [{'alias': 'coffee', 'title': 'Coffee & Tea'}, {'alias': 'dimsum', 'title': 'Dim Sum'}, {'alias': 'bakeries', 'title': 'Bakeries'}], 'rating': 4.0, 'coordinates': {'latitude': 40.71507, 'longitude': -73.99746}, 'transactions': [], 'location': {'address1': '47 Bayard St', 'address2': '', 'address3': None, 'city': 'New York', 'zip_code': '10013', 'country': 'US', 'state': 'NY', 'display_address': ['47 Bayard St', 'New York, NY 10013']}, 'phone': '', 'display_phone': '', 'distance': 287.12232459034004}\n",
      "['K5OWsf2u4GulpkW2-QLHrg', 'Lucky Seven bakery', 'lucky-seven-bakery-new-york', False, [{'alias': 'coffee', 'title': 'Coffee & Tea'}, {'alias': 'dimsum', 'title': 'Dim Sum'}, {'alias': 'bakeries', 'title': 'Bakeries'}], 1, None, 4.0, [], 40.71507, -73.99746]\n"
     ]
    }
   ],
   "source": [
    "print(parsed[\"businesses\"][0])\n",
    "print(test)"
   ]
  },
  {
   "cell_type": "code",
   "execution_count": 69,
   "metadata": {},
   "outputs": [],
   "source": [
    "businessdf = pd.DataFrame(businesslist)\n",
    "keystrings.extend(['latitude','longitude'])\n",
    "businessdf.columns = keystrings"
   ]
  },
  {
   "cell_type": "code",
   "execution_count": 100,
   "metadata": {},
   "outputs": [],
   "source": [
    "#Now get all this businesses up to the limit of 1000 at a particular location.  \n",
    "#This function makes search requests until there are no additional businesses found in an area\n",
    "def searchlocalbustolimit(headers,latstring,longstring,radiusstring,catstring):\n",
    "    \n",
    "    businesslist = []\n",
    "    url = 'https://api.yelp.com/v3/businesses/search'\n",
    "    offset = 0\n",
    "    params = {'categories':catstring,'latitude':latstring,'longitude':longstring,'limit':'50','offset':str(offset),'radius':radiusstring}\n",
    "    req = requests.get(url,params=params,headers=headers)\n",
    "    parsed = json.loads(req.text)\n",
    "    for business in parsed[\"businesses\"]:\n",
    "        businesslist.append(getkeyvaluelist(business,keys))\n",
    "    numreturned = len(parsed['businesses'])\n",
    "    print('total is' + str(parsed['total']))\n",
    "    \n",
    "    while numreturned >= 50:\n",
    "        offset = offset + 50\n",
    "        params['offset'] = str(offset)\n",
    "        req=requests.get(url,params=params,headers=headers)\n",
    "        parsed = json.loads(req.text)\n",
    "        numreturned = len(parsed['businesses'])\n",
    "        for business in parsed[\"businesses\"]:\n",
    "            businesslist.append(getkeyvaluelist(business,keys))\n",
    "    \n",
    "    return businesslist\n",
    "\n",
    "        "
   ]
  },
  {
   "cell_type": "code",
   "execution_count": 104,
   "metadata": {},
   "outputs": [
    {
     "name": "stdout",
     "output_type": "stream",
     "text": [
      "total is79\n"
     ]
    }
   ],
   "source": [
    "params = {'categories':'coffee','latitude':'40.717254','longitude':'-73.995615','limit':'50','offset':'40','radius':'300'}\n",
    "\n",
    "test = searchlocalbustolimit(headers,'40.717254','-73.995615','500','coffee')"
   ]
  },
  {
   "cell_type": "code",
   "execution_count": 105,
   "metadata": {},
   "outputs": [
    {
     "data": {
      "text/plain": [
       "79"
      ]
     },
     "execution_count": 105,
     "metadata": {},
     "output_type": "execute_result"
    }
   ],
   "source": [
    "len(test)"
   ]
  },
  {
   "cell_type": "code",
   "execution_count": 112,
   "metadata": {},
   "outputs": [
    {
     "name": "stdout",
     "output_type": "stream",
     "text": [
      "total is609\n",
      "total is812\n",
      "total is739\n",
      "total is504\n",
      "total is521\n",
      "total is136\n",
      "total is232\n"
     ]
    }
   ],
   "source": [
    "#Now loop over relevant latitudes and longitudes to get coffeeshops across manhattan\n",
    "businesslist = []\n",
    "coords = [[40.717254, -73.995615],\n",
    "[40.733255, -73.997675],\n",
    "[40.749058, -73.977247],\n",
    "[40.766486, -73.994928],\n",
    "[40.765897, -73.967806],\n",
    "[40.791899, -73.977591],\n",
    "[40.778442, -73.953129]\n",
    "]\n",
    "\n",
    "for [lat,long] in coords:\n",
    "    bcurrentloc = searchlocalbustolimit(headers,lat,long,'2000','coffee')\n",
    "    businesslist.extend(bcurrentloc)"
   ]
  },
  {
   "cell_type": "code",
   "execution_count": 114,
   "metadata": {},
   "outputs": [],
   "source": [
    "businessdf = pd.DataFrame(businesslist)\n",
    "businessdf.columns = keystrings"
   ]
  },
  {
   "cell_type": "code",
   "execution_count": 117,
   "metadata": {},
   "outputs": [],
   "source": [
    "businessdf.to_csv('mhcoffeeshops_6_4_20.csv',index=False)\n"
   ]
  },
  {
   "cell_type": "code",
   "execution_count": null,
   "metadata": {},
   "outputs": [],
   "source": [
    "allcoffee = businessdf.drop_duplicates(subset = 'id',keep = 'first')\n",
    "allcoffee.to_csv('mhcoffeeshops_6_4_20_noduplicates.csv',index=False)"
   ]
  },
  {
   "cell_type": "code",
   "execution_count": null,
   "metadata": {},
   "outputs": [],
   "source": []
  }
 ],
 "metadata": {
  "kernelspec": {
   "display_name": "Python 3",
   "language": "python",
   "name": "python3"
  },
  "language_info": {
   "codemirror_mode": {
    "name": "ipython",
    "version": 3
   },
   "file_extension": ".py",
   "mimetype": "text/x-python",
   "name": "python",
   "nbconvert_exporter": "python",
   "pygments_lexer": "ipython3",
   "version": "3.7.6"
  }
 },
 "nbformat": 4,
 "nbformat_minor": 4
}
