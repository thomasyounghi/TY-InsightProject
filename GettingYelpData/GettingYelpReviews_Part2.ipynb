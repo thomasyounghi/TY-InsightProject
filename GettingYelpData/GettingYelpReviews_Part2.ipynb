{
 "cells": [
  {
   "cell_type": "markdown",
   "metadata": {},
   "source": [
    "Scrape 100 most recent Yelp reviews for each coffee shop originally scraped in GettingYelpReviews_Part1, and coffee shops for which 0 reviews were obtained."
   ]
  },
  {
   "cell_type": "code",
   "execution_count": 1,
   "metadata": {},
   "outputs": [],
   "source": [
    "import os\n",
    "os.getcwd()\n",
    "os.chdir('..')\n",
    "\n",
    "import pandas as pd\n",
    "from helper_functions import yelpscraping"
   ]
  },
  {
   "cell_type": "code",
   "execution_count": 2,
   "metadata": {},
   "outputs": [
    {
     "data": {
      "text/html": [
       "<div>\n",
       "<style scoped>\n",
       "    .dataframe tbody tr th:only-of-type {\n",
       "        vertical-align: middle;\n",
       "    }\n",
       "\n",
       "    .dataframe tbody tr th {\n",
       "        vertical-align: top;\n",
       "    }\n",
       "\n",
       "    .dataframe thead th {\n",
       "        text-align: right;\n",
       "    }\n",
       "</style>\n",
       "<table border=\"1\" class=\"dataframe\">\n",
       "  <thead>\n",
       "    <tr style=\"text-align: right;\">\n",
       "      <th></th>\n",
       "      <th>id</th>\n",
       "      <th>name</th>\n",
       "      <th>alias</th>\n",
       "      <th>is_closed</th>\n",
       "      <th>categories</th>\n",
       "      <th>review_count</th>\n",
       "      <th>price</th>\n",
       "      <th>rating</th>\n",
       "      <th>transactions</th>\n",
       "      <th>latitude</th>\n",
       "      <th>longitude</th>\n",
       "    </tr>\n",
       "  </thead>\n",
       "  <tbody>\n",
       "    <tr>\n",
       "      <th>0</th>\n",
       "      <td>prQUP_jDq72ll8jf__TK_w</td>\n",
       "      <td>Black Cat LES</td>\n",
       "      <td>black-cat-les-new-york-2</td>\n",
       "      <td>False</td>\n",
       "      <td>[{'alias': 'coffee', 'title': 'Coffee &amp; Tea'},...</td>\n",
       "      <td>296</td>\n",
       "      <td>$</td>\n",
       "      <td>4.0</td>\n",
       "      <td>['pickup', 'delivery']</td>\n",
       "      <td>40.719129</td>\n",
       "      <td>-73.984509</td>\n",
       "    </tr>\n",
       "    <tr>\n",
       "      <th>1</th>\n",
       "      <td>MN17Htz75s1aZvO5nltzPA</td>\n",
       "      <td>Haven Cafe</td>\n",
       "      <td>haven-cafe-new-york</td>\n",
       "      <td>False</td>\n",
       "      <td>[{'alias': 'coffee', 'title': 'Coffee &amp; Tea'},...</td>\n",
       "      <td>54</td>\n",
       "      <td>$</td>\n",
       "      <td>4.5</td>\n",
       "      <td>[]</td>\n",
       "      <td>40.718850</td>\n",
       "      <td>-73.996680</td>\n",
       "    </tr>\n",
       "    <tr>\n",
       "      <th>2</th>\n",
       "      <td>KEyhIMAUpj7cceOvG9C1sA</td>\n",
       "      <td>Kabisera</td>\n",
       "      <td>kabisera-new-york-2</td>\n",
       "      <td>False</td>\n",
       "      <td>[{'alias': 'coffee', 'title': 'Coffee &amp; Tea'},...</td>\n",
       "      <td>66</td>\n",
       "      <td>$</td>\n",
       "      <td>4.5</td>\n",
       "      <td>['pickup', 'delivery']</td>\n",
       "      <td>40.720880</td>\n",
       "      <td>-73.989810</td>\n",
       "    </tr>\n",
       "    <tr>\n",
       "      <th>3</th>\n",
       "      <td>0pohq-vk8zKoi8ntSJnX4g</td>\n",
       "      <td>Smile To Go</td>\n",
       "      <td>smile-to-go-new-york-2</td>\n",
       "      <td>False</td>\n",
       "      <td>[{'alias': 'newamerican', 'title': 'American (...</td>\n",
       "      <td>129</td>\n",
       "      <td>$$</td>\n",
       "      <td>3.5</td>\n",
       "      <td>['pickup', 'delivery']</td>\n",
       "      <td>40.719584</td>\n",
       "      <td>-74.000186</td>\n",
       "    </tr>\n",
       "    <tr>\n",
       "      <th>4</th>\n",
       "      <td>MxMFcf9nRzjWbYREGa8AVA</td>\n",
       "      <td>Sage Collective</td>\n",
       "      <td>sage-collective-new-york</td>\n",
       "      <td>False</td>\n",
       "      <td>[{'alias': 'coffee', 'title': 'Coffee &amp; Tea'},...</td>\n",
       "      <td>28</td>\n",
       "      <td>$$</td>\n",
       "      <td>4.5</td>\n",
       "      <td>['restaurant_reservation']</td>\n",
       "      <td>40.720858</td>\n",
       "      <td>-73.997204</td>\n",
       "    </tr>\n",
       "  </tbody>\n",
       "</table>\n",
       "</div>"
      ],
      "text/plain": [
       "                       id             name                     alias  \\\n",
       "0  prQUP_jDq72ll8jf__TK_w    Black Cat LES  black-cat-les-new-york-2   \n",
       "1  MN17Htz75s1aZvO5nltzPA       Haven Cafe       haven-cafe-new-york   \n",
       "2  KEyhIMAUpj7cceOvG9C1sA         Kabisera       kabisera-new-york-2   \n",
       "3  0pohq-vk8zKoi8ntSJnX4g      Smile To Go    smile-to-go-new-york-2   \n",
       "4  MxMFcf9nRzjWbYREGa8AVA  Sage Collective  sage-collective-new-york   \n",
       "\n",
       "   is_closed                                         categories  review_count  \\\n",
       "0      False  [{'alias': 'coffee', 'title': 'Coffee & Tea'},...           296   \n",
       "1      False  [{'alias': 'coffee', 'title': 'Coffee & Tea'},...            54   \n",
       "2      False  [{'alias': 'coffee', 'title': 'Coffee & Tea'},...            66   \n",
       "3      False  [{'alias': 'newamerican', 'title': 'American (...           129   \n",
       "4      False  [{'alias': 'coffee', 'title': 'Coffee & Tea'},...            28   \n",
       "\n",
       "  price  rating                transactions   latitude  longitude  \n",
       "0     $     4.0      ['pickup', 'delivery']  40.719129 -73.984509  \n",
       "1     $     4.5                          []  40.718850 -73.996680  \n",
       "2     $     4.5      ['pickup', 'delivery']  40.720880 -73.989810  \n",
       "3    $$     3.5      ['pickup', 'delivery']  40.719584 -74.000186  \n",
       "4    $$     4.5  ['restaurant_reservation']  40.720858 -73.997204  "
      ]
     },
     "execution_count": 2,
     "metadata": {},
     "output_type": "execute_result"
    }
   ],
   "source": [
    "df_data_1 = pd.read_csv('./ProcessedData/coffeeshops_withcfcutoff.csv')\n",
    "df_data_1.head()\n",
    "\n",
    "df_data_2 = pd.read_csv('./GettingYelpData/noreviewshops.csv')\n",
    "df_data_2.head()\n"
   ]
  },
  {
   "cell_type": "code",
   "execution_count": 5,
   "metadata": {},
   "outputs": [],
   "source": [
    "coffeeshops = df_data_1\n",
    "coffeeshops1 = df_data_2"
   ]
  },
  {
   "cell_type": "code",
   "execution_count": null,
   "metadata": {},
   "outputs": [],
   "source": [
    "#Now looping over NYC coffee shops"
   ]
  },
  {
   "cell_type": "code",
   "execution_count": 10,
   "metadata": {},
   "outputs": [
    {
     "name": "stdout",
     "output_type": "stream",
     "text": [
      "0             little-canal-new-york-2\n",
      "1    ninth-street-espresso-new-york-3\n",
      "2                 ost-cafe-new-york-3\n",
      "3        tokuyama-salon-café-new-york\n",
      "4             grandlo-cafe-new-york-3\n",
      "Name: alias, dtype: object\n",
      "579\n",
      "483\n"
     ]
    }
   ],
   "source": [
    "\n",
    "aliases = coffeeshops.alias\n",
    "#aliases1 contains shops for which no review was collected in GettingYelpReview_Part1\n",
    "aliases1 = coffeeshops1.alias"
   ]
  },
  {
   "cell_type": "code",
   "execution_count": null,
   "metadata": {},
   "outputs": [],
   "source": [
    "#Getting the 100 most recent reviews for aliases 0-250\n",
    "#Using a proxy server helps. Need to fill this in.\n",
    "proxy_host = \"\"\n",
    "proxy_port = \"\"\n",
    "proxy_auth = \"\" # Make sure to include ':' at the end\n",
    "proxies = {\"https\": \"https://{}@{}:{}/\".format(proxy_auth, proxy_host, proxy_port),\n",
    "      \"http\": \"http://{}@{}:{}/\".format(proxy_auth, proxy_host, proxy_port)}\n",
    "\n",
    "\n",
    "resultdf = yelpscraping.scraperecentyelpreviews(aliases,0,250,81,proxies,3,3)\n",
    "resultdf.to_csv('./Data/reviews_0to250_orderedbydate.csv',index=False)\n"
   ]
  },
  {
   "cell_type": "code",
   "execution_count": null,
   "metadata": {},
   "outputs": [],
   "source": [
    "#Most recent reviews for shops with aliases 250-579\n",
    "resultdf = yelpscraping.scraperecentyelpreviews(aliases,0,250,81,proxies,3,3)\n",
    "resultdf.to_csv('./Data/reviews_250-579_orderedbydate.csv',index=False)\n"
   ]
  },
  {
   "cell_type": "code",
   "execution_count": null,
   "metadata": {},
   "outputs": [],
   "source": [
    "#Most recent reviews for shops with aliases1 0-250\n",
    "resultdf = yelpscraping.scraperecentyelpreviews(aliases1,0,250,81,proxies,3,3)\n",
    "resultdf.to_csv('./Data/reviews_norevshops_0to250_orderedbydate.csv',index=False)"
   ]
  },
  {
   "cell_type": "code",
   "execution_count": null,
   "metadata": {},
   "outputs": [],
   "source": [
    "#Most recent reviews for shops with aliases1 250-483\n",
    "resultdf = yelpscraping.scraperecentyelpreviews(aliases1,0,250,81,proxies,3,3)\n",
    "resultdf.to_csv('./Data/reviews_norevshops_250to483_orderedbydate.csv',index=False)"
   ]
  }
 ],
 "metadata": {
  "kernelspec": {
   "display_name": "Python 3",
   "language": "python",
   "name": "python3"
  },
  "language_info": {
   "codemirror_mode": {
    "name": "ipython",
    "version": 3
   },
   "file_extension": ".py",
   "mimetype": "text/x-python",
   "name": "python",
   "nbconvert_exporter": "python",
   "pygments_lexer": "ipython3",
   "version": "3.7.6"
  }
 },
 "nbformat": 4,
 "nbformat_minor": 1
}
