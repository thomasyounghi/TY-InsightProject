{
 "cells": [
  {
   "cell_type": "markdown",
   "metadata": {},
   "source": [
    "Scrape 100 most recent Yelp reviews for coffee shops in the candidate list extracted using the Yelp API ('mhcoffeeshops_6_4_20_noduplicates.csv')"
   ]
  },
  {
   "cell_type": "code",
   "execution_count": 1,
   "metadata": {},
   "outputs": [
    {
     "name": "stdout",
     "output_type": "stream",
     "text": [
      "/Users/thomasyoung/Dropbox/TYInsightProject/GettingYelpData\n"
     ]
    },
    {
     "data": {
      "text/plain": [
       "'/Users/thomasyoung/Dropbox/TYInsightProject'"
      ]
     },
     "execution_count": 1,
     "metadata": {},
     "output_type": "execute_result"
    }
   ],
   "source": [
    "#Step one directory up to access the yelp scraping function in the helper_functions module\n",
    "import os\n",
    "print(os.getcwd())\n",
    "os.chdir('../')\n",
    "os.getcwd()"
   ]
  },
  {
   "cell_type": "code",
   "execution_count": 2,
   "metadata": {},
   "outputs": [],
   "source": [
    "\n",
    "import pandas as pd\n",
    "from helper_functions import yelpscraping\n"
   ]
  },
  {
   "cell_type": "code",
   "execution_count": 3,
   "metadata": {},
   "outputs": [
    {
     "name": "stdout",
     "output_type": "stream",
     "text": [
      "                       id                   name  \\\n",
      "0  lWOkeS-wV4no8qqA9OwwEg         Doughnut Plant   \n",
      "1  UZViRVpxNZvOM5KarmbT1g           Sweet Moment   \n",
      "2  nOCjslrdcKBQQYgD5qUs9Q   Kam Hing Coffee Shop   \n",
      "3  hGo9KArKThuOKxNbwmNpoA            Ruby's Cafe   \n",
      "4  0rQz8mkleT62eUkiAVs4UA  Russ & Daughters Cafe   \n",
      "\n",
      "                                alias  is_closed  \\\n",
      "0           doughnut-plant-new-york-6      False   \n",
      "1               sweet-moment-new-york      False   \n",
      "2     kam-hing-coffee-shop-new-york-2      False   \n",
      "3               rubys-cafe-new-york-2      False   \n",
      "4  russ-and-daughters-cafe-new-york-5      False   \n",
      "\n",
      "                                          categories  review_count price  \\\n",
      "0  [{'alias': 'donuts', 'title': 'Donuts'}, {'ali...          3213    $$   \n",
      "1  [{'alias': 'coffee', 'title': 'Coffee & Tea'},...           822    $$   \n",
      "2  [{'alias': 'bakeries', 'title': 'Bakeries'}, {...           645     $   \n",
      "3  [{'alias': 'burgers', 'title': 'Burgers'}, {'a...          1190    $$   \n",
      "4  [{'alias': 'bagels', 'title': 'Bagels'}, {'ali...          1004    $$   \n",
      "\n",
      "   rating            transactions   latitude  longitude  \n",
      "0     4.5  ['pickup', 'delivery']  40.716394 -73.988610  \n",
      "1     4.5                      []  40.717630 -73.997140  \n",
      "2     4.5                      []  40.718248 -73.999004  \n",
      "3     4.0  ['pickup', 'delivery']  40.722329 -73.996326  \n",
      "4     4.0                      []  40.719625 -73.989576  \n"
     ]
    }
   ],
   "source": [
    "\n",
    "df_data_1 = pd.read_csv('./GettingYelpData/mhcoffeeshops_6_4_20_noduplicates.csv')\n",
    "print(df_data_1.head())\n",
    "coffeeshops = df_data_1"
   ]
  },
  {
   "cell_type": "code",
   "execution_count": null,
   "metadata": {},
   "outputs": [],
   "source": [
    "#Now looping over NYC coffee shops"
   ]
  },
  {
   "cell_type": "code",
   "execution_count": 7,
   "metadata": {},
   "outputs": [
    {
     "name": "stdout",
     "output_type": "stream",
     "text": [
      "doughnut-plant-new-york-6\n"
     ]
    }
   ],
   "source": [
    "aliases = coffeeshops.alias\n",
    "print(aliases[0])"
   ]
  },
  {
   "cell_type": "code",
   "execution_count": null,
   "metadata": {},
   "outputs": [],
   "source": [
    "#Getting the 100 most recent reviews for aliases 0-250\n",
    "\n",
    "#Using a proxy server helps.  Need to fill these in.\n",
    "proxy_host = \"\"\n",
    "proxy_port = \"\"\n",
    "proxy_auth = \"\" # Make sure to include ':' at the end\n",
    "proxies = {\"https\": \"https://{}@{}:{}/\".format(proxy_auth, proxy_host, proxy_port),\n",
    "      \"http\": \"http://{}@{}:{}/\".format(proxy_auth, proxy_host, proxy_port)}\n",
    "\n",
    "\n",
    "resultdf = yelpscraping.scraperecentyelpreviews(aliases,0,70,81,proxies,3,3)\n",
    "resultdf.to_csv('../Data/reviews_first70cs.csv',index=False)\n"
   ]
  },
  {
   "cell_type": "code",
   "execution_count": null,
   "metadata": {},
   "outputs": [],
   "source": [
    "\n",
    "resultdf = yelpscraping.scraperecentyelpreviews(aliases,70,225,81,proxies,3,3)\n",
    "resultdf.to_csv('./Data/reviews_70to225cs.csv',index=False)\n"
   ]
  },
  {
   "cell_type": "code",
   "execution_count": null,
   "metadata": {},
   "outputs": [],
   "source": [
    "resultdf = yelpscraping.scraperecentyelpreviews(aliases,225,600,81,proxies,3,3)\n",
    "resultdf.to_csv('./Data/reviews_225to600cs.csv',index=False)"
   ]
  },
  {
   "cell_type": "code",
   "execution_count": null,
   "metadata": {},
   "outputs": [],
   "source": [
    "resultdf = yelpscraping.scraperecentyelpreviews(aliases,600,1000,81,proxies,3,3)\n",
    "resultdf.to_csv('./Data/reviews_600to1000cs.csv',index=False)"
   ]
  },
  {
   "cell_type": "code",
   "execution_count": null,
   "metadata": {},
   "outputs": [],
   "source": [
    "resultdf = yelpscraping.scraperecentyelpreviews(aliases,879,897,81,proxies,3,3)\n",
    "resultdf.to_csv('./Data/reviews_879to897cs.csv',index=False)"
   ]
  },
  {
   "cell_type": "code",
   "execution_count": null,
   "metadata": {},
   "outputs": [],
   "source": [
    "resultdf = yelpscraping.scraperecentyelpreviews(aliases,897,1200,81,proxies,3,3)\n",
    "resultdf.to_csv('./Data/reviews_897to1200cs.csv',index=False)"
   ]
  },
  {
   "cell_type": "code",
   "execution_count": null,
   "metadata": {},
   "outputs": [],
   "source": []
  }
 ],
 "metadata": {
  "kernelspec": {
   "display_name": "Python 3",
   "language": "python",
   "name": "python3"
  },
  "language_info": {
   "codemirror_mode": {
    "name": "ipython",
    "version": 3
   },
   "file_extension": ".py",
   "mimetype": "text/x-python",
   "name": "python",
   "nbconvert_exporter": "python",
   "pygments_lexer": "ipython3",
   "version": "3.7.6"
  }
 },
 "nbformat": 4,
 "nbformat_minor": 1
}
