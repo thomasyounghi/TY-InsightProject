{
 "cells": [
  {
   "cell_type": "markdown",
   "metadata": {},
   "source": [
    "What this notebook does:\n",
    "\n",
    "To evaluate the quality of the topics in the 5-topic LDA model('./LDA_Fitting/LDA_onreviews_nouns_withhptuning.ipynb'), I assess whether words in the same topic tend to be located in the same paragraphs as opposed to being mixed evenly in the review. Since paragraphs are used to separate the main ideas in a review, alignment of paragraphs with different topics would suggest that review writers associate the words in a topic with a particular set of ideas. \n",
    "\n",
    "I computed the LDA topic score for each multi-sentence (at least 4) paragraph.  If for each topic, the topic score for 4 sentence paragraphs has peaks at 0 and 1, then the topics align with the writers definition of a sentence. \n",
    "\n",
    "This was not actually the case. For each topic, most pargraphs in multiparagraph reviews have <0.5 topic importance."
   ]
  },
  {
   "cell_type": "code",
   "execution_count": null,
   "metadata": {},
   "outputs": [],
   "source": [
    "#Step one directory up to access the yelp scraping function in the helper_functions module\n",
    "import os\n",
    "print(os.getcwd())\n",
    "os.chdir('../')\n",
    "os.getcwd()"
   ]
  },
  {
   "cell_type": "code",
   "execution_count": 2,
   "metadata": {},
   "outputs": [],
   "source": [
    "import numpy as np\n",
    "import pandas as pd\n",
    "\n",
    "\n",
    "import gensim\n",
    "import gensim.corpora as corpora\n",
    "from gensim.utils import simple_preprocess\n",
    "from gensim.models import CoherenceModel\n",
    "\n",
    "import spacy\n",
    "from spacy.lemmatizer import Lemmatizer\n",
    "from spacy.lang.en.stop_words import STOP_WORDS\n",
    "#import en_core_web_sm\n",
    "\n",
    "from tqdm import tqdm_notebook as tqdm\n",
    "from pprint import pprint\n",
    "\n",
    "# NLTK Stop words\n",
    "import nltk\n",
    "nltk.download('stopwords')\n",
    "from nltk.corpus import stopwords\n",
    "\n",
    "import matplotlib.pyplot as plt\n",
    "import seaborn as sns\n",
    "\n",
    "import pickle\n",
    "import gensim\n",
    "from gensim.test.utils import datapath\n",
    "from gensim.models import LdaModel\n",
    "from gensim import corpora\n",
    "\n"
   ]
  },
  {
   "cell_type": "code",
   "execution_count": 4,
   "metadata": {},
   "outputs": [
    {
     "data": {
      "text/html": [
       "<div>\n",
       "<style scoped>\n",
       "    .dataframe tbody tr th:only-of-type {\n",
       "        vertical-align: middle;\n",
       "    }\n",
       "\n",
       "    .dataframe tbody tr th {\n",
       "        vertical-align: top;\n",
       "    }\n",
       "\n",
       "    .dataframe thead th {\n",
       "        text-align: right;\n",
       "    }\n",
       "</style>\n",
       "<table border=\"1\" class=\"dataframe\">\n",
       "  <thead>\n",
       "    <tr style=\"text-align: right;\">\n",
       "      <th></th>\n",
       "      <th>id</th>\n",
       "      <th>name</th>\n",
       "      <th>alias</th>\n",
       "      <th>is_closed</th>\n",
       "      <th>review_count</th>\n",
       "      <th>price</th>\n",
       "      <th>rating</th>\n",
       "      <th>transactions</th>\n",
       "      <th>latitude</th>\n",
       "      <th>longitude</th>\n",
       "      <th>...</th>\n",
       "      <th>numcoffeemen</th>\n",
       "      <th>numreviews</th>\n",
       "      <th>fraccof</th>\n",
       "      <th>name_top5count</th>\n",
       "      <th>reviewidx</th>\n",
       "      <th>shopidx</th>\n",
       "      <th>date</th>\n",
       "      <th>review_rating</th>\n",
       "      <th>reviewtxt</th>\n",
       "      <th>mreviewtxt</th>\n",
       "    </tr>\n",
       "  </thead>\n",
       "  <tbody>\n",
       "    <tr>\n",
       "      <th>0</th>\n",
       "      <td>DxeD4Jw3gsImI-olCOB0bA</td>\n",
       "      <td>Little Canal</td>\n",
       "      <td>little-canal-new-york-2</td>\n",
       "      <td>False</td>\n",
       "      <td>115</td>\n",
       "      <td>$</td>\n",
       "      <td>4.0</td>\n",
       "      <td>['pickup', 'delivery']</td>\n",
       "      <td>40.714309</td>\n",
       "      <td>-73.990417</td>\n",
       "      <td>...</td>\n",
       "      <td>31.0</td>\n",
       "      <td>40</td>\n",
       "      <td>0.775</td>\n",
       "      <td>other</td>\n",
       "      <td>5244</td>\n",
       "      <td>102</td>\n",
       "      <td>2020-03-11</td>\n",
       "      <td>4.0</td>\n",
       "      <td>It smells good in here. Because it smells like...</td>\n",
       "      <td>it smells good in here. because it smells like...</td>\n",
       "    </tr>\n",
       "    <tr>\n",
       "      <th>1</th>\n",
       "      <td>DxeD4Jw3gsImI-olCOB0bA</td>\n",
       "      <td>Little Canal</td>\n",
       "      <td>little-canal-new-york-2</td>\n",
       "      <td>False</td>\n",
       "      <td>115</td>\n",
       "      <td>$</td>\n",
       "      <td>4.0</td>\n",
       "      <td>['pickup', 'delivery']</td>\n",
       "      <td>40.714309</td>\n",
       "      <td>-73.990417</td>\n",
       "      <td>...</td>\n",
       "      <td>31.0</td>\n",
       "      <td>40</td>\n",
       "      <td>0.775</td>\n",
       "      <td>other</td>\n",
       "      <td>5245</td>\n",
       "      <td>102</td>\n",
       "      <td>2020-02-28</td>\n",
       "      <td>5.0</td>\n",
       "      <td>Full disclosure, I've never sat in or ordered ...</td>\n",
       "      <td>full disclosure  i've never sat in or ordered ...</td>\n",
       "    </tr>\n",
       "    <tr>\n",
       "      <th>2</th>\n",
       "      <td>DxeD4Jw3gsImI-olCOB0bA</td>\n",
       "      <td>Little Canal</td>\n",
       "      <td>little-canal-new-york-2</td>\n",
       "      <td>False</td>\n",
       "      <td>115</td>\n",
       "      <td>$</td>\n",
       "      <td>4.0</td>\n",
       "      <td>['pickup', 'delivery']</td>\n",
       "      <td>40.714309</td>\n",
       "      <td>-73.990417</td>\n",
       "      <td>...</td>\n",
       "      <td>31.0</td>\n",
       "      <td>40</td>\n",
       "      <td>0.775</td>\n",
       "      <td>other</td>\n",
       "      <td>5246</td>\n",
       "      <td>102</td>\n",
       "      <td>2019-12-19</td>\n",
       "      <td>5.0</td>\n",
       "      <td>Just moved to the area and although there are ...</td>\n",
       "      <td>just moved to the area and although there are ...</td>\n",
       "    </tr>\n",
       "  </tbody>\n",
       "</table>\n",
       "<p>3 rows × 30 columns</p>\n",
       "</div>"
      ],
      "text/plain": [
       "                       id          name                    alias  is_closed  \\\n",
       "0  DxeD4Jw3gsImI-olCOB0bA  Little Canal  little-canal-new-york-2      False   \n",
       "1  DxeD4Jw3gsImI-olCOB0bA  Little Canal  little-canal-new-york-2      False   \n",
       "2  DxeD4Jw3gsImI-olCOB0bA  Little Canal  little-canal-new-york-2      False   \n",
       "\n",
       "   review_count price  rating            transactions   latitude  longitude  \\\n",
       "0           115     $     4.0  ['pickup', 'delivery']  40.714309 -73.990417   \n",
       "1           115     $     4.0  ['pickup', 'delivery']  40.714309 -73.990417   \n",
       "2           115     $     4.0  ['pickup', 'delivery']  40.714309 -73.990417   \n",
       "\n",
       "   ... numcoffeemen  numreviews  fraccof name_top5count  reviewidx shopidx  \\\n",
       "0  ...         31.0          40    0.775          other       5244     102   \n",
       "1  ...         31.0          40    0.775          other       5245     102   \n",
       "2  ...         31.0          40    0.775          other       5246     102   \n",
       "\n",
       "         date  review_rating  \\\n",
       "0  2020-03-11            4.0   \n",
       "1  2020-02-28            5.0   \n",
       "2  2019-12-19            5.0   \n",
       "\n",
       "                                           reviewtxt  \\\n",
       "0  It smells good in here. Because it smells like...   \n",
       "1  Full disclosure, I've never sat in or ordered ...   \n",
       "2  Just moved to the area and although there are ...   \n",
       "\n",
       "                                          mreviewtxt  \n",
       "0  it smells good in here. because it smells like...  \n",
       "1  full disclosure  i've never sat in or ordered ...  \n",
       "2  just moved to the area and although there are ...  \n",
       "\n",
       "[3 rows x 30 columns]"
      ]
     },
     "execution_count": 4,
     "metadata": {},
     "output_type": "execute_result"
    }
   ],
   "source": [
    "shops = pd.read_csv('./ProcessedData/coffeeshops_withcfcutoff.csv')\n",
    "reviews = pd.read_csv('./ProcessedData/allreviews_txtprocessed.csv')\n",
    "reviews.rename(columns = {'rating':'review_rating'},inplace=True)\n",
    "merged = pd.merge(shops,reviews,how='inner',on = ['alias'])\n",
    "merged.head(3)"
   ]
  },
  {
   "cell_type": "markdown",
   "metadata": {},
   "source": [
    "### Breaking up reviews into paragraphs"
   ]
  },
  {
   "cell_type": "code",
   "execution_count": 7,
   "metadata": {},
   "outputs": [],
   "source": [
    "plist = []\n",
    "ridxlist = []\n",
    "for reviewidx,review in zip(merged.reviewidx.to_list(),merged.reviewtxt.to_list()):\n",
    "    splitrev = review.split('\\n')\n",
    "    plist.extend(splitrev)\n",
    "    ridxlist.extend([reviewidx for i in range(len(splitrev))])"
   ]
  },
  {
   "cell_type": "code",
   "execution_count": 8,
   "metadata": {},
   "outputs": [],
   "source": [
    "#Create a data frame with the review identities and the paragraph text.\n",
    "#Go through list of raw text of reviews, if there is a newline \\n split the review and append to a larger list. \n",
    "#Keep track of the review identity with a separate list.\n",
    "\n",
    "pardf = pd.DataFrame(plist)\n",
    "pardf['reviewidx'] = ridxlist\n",
    "pardf.rename(columns={0:\"partxt\"},inplace=True)\n",
    "pardf.head(5)\n",
    "pardf['parlen'] = pardf.partxt.str.len()"
   ]
  },
  {
   "cell_type": "code",
   "execution_count": 9,
   "metadata": {},
   "outputs": [
    {
     "data": {
      "text/html": [
       "<div>\n",
       "<style scoped>\n",
       "    .dataframe tbody tr th:only-of-type {\n",
       "        vertical-align: middle;\n",
       "    }\n",
       "\n",
       "    .dataframe tbody tr th {\n",
       "        vertical-align: top;\n",
       "    }\n",
       "\n",
       "    .dataframe thead th {\n",
       "        text-align: right;\n",
       "    }\n",
       "</style>\n",
       "<table border=\"1\" class=\"dataframe\">\n",
       "  <thead>\n",
       "    <tr style=\"text-align: right;\">\n",
       "      <th></th>\n",
       "      <th>partxt</th>\n",
       "      <th>reviewidx</th>\n",
       "      <th>parlen</th>\n",
       "    </tr>\n",
       "  </thead>\n",
       "  <tbody>\n",
       "    <tr>\n",
       "      <th>0</th>\n",
       "      <td>It smells good in here. Because it smells like...</td>\n",
       "      <td>5244</td>\n",
       "      <td>291</td>\n",
       "    </tr>\n",
       "    <tr>\n",
       "      <th>2</th>\n",
       "      <td>Little Canal has been here for four years and ...</td>\n",
       "      <td>5244</td>\n",
       "      <td>253</td>\n",
       "    </tr>\n",
       "    <tr>\n",
       "      <th>3</th>\n",
       "      <td>Full disclosure, I've never sat in or ordered ...</td>\n",
       "      <td>5245</td>\n",
       "      <td>727</td>\n",
       "    </tr>\n",
       "    <tr>\n",
       "      <th>5</th>\n",
       "      <td>Again, I know nothing about their food or eat-...</td>\n",
       "      <td>5245</td>\n",
       "      <td>89</td>\n",
       "    </tr>\n",
       "    <tr>\n",
       "      <th>6</th>\n",
       "      <td>Just moved to the area and although there are ...</td>\n",
       "      <td>5246</td>\n",
       "      <td>111</td>\n",
       "    </tr>\n",
       "  </tbody>\n",
       "</table>\n",
       "</div>"
      ],
      "text/plain": [
       "                                              partxt  reviewidx  parlen\n",
       "0  It smells good in here. Because it smells like...       5244     291\n",
       "2  Little Canal has been here for four years and ...       5244     253\n",
       "3  Full disclosure, I've never sat in or ordered ...       5245     727\n",
       "5  Again, I know nothing about their food or eat-...       5245      89\n",
       "6  Just moved to the area and although there are ...       5246     111"
      ]
     },
     "execution_count": 9,
     "metadata": {},
     "output_type": "execute_result"
    },
    {
     "data": {
      "image/png": "[encoded data removed]",
      "text/plain": [
       "<Figure size 432x288 with 1 Axes>"
      ]
     },
     "metadata": {
      "needs_background": "light"
     },
     "output_type": "display_data"
    }
   ],
   "source": [
    "pardf = pardf[pardf.parlen>50]\n",
    "sns.distplot(pardf.parlen)\n",
    "pardf.parlen.min()\n",
    "pardf.head(5)"
   ]
  },
  {
   "cell_type": "code",
   "execution_count": 10,
   "metadata": {},
   "outputs": [],
   "source": [
    "#Now count the number of paragraphs per review\n",
    "parnum = pardf.groupby(['reviewidx']).count()"
   ]
  },
  {
   "cell_type": "code",
   "execution_count": 11,
   "metadata": {},
   "outputs": [
    {
     "data": {
      "text/html": [
       "<div>\n",
       "<style scoped>\n",
       "    .dataframe tbody tr th:only-of-type {\n",
       "        vertical-align: middle;\n",
       "    }\n",
       "\n",
       "    .dataframe tbody tr th {\n",
       "        vertical-align: top;\n",
       "    }\n",
       "\n",
       "    .dataframe thead th {\n",
       "        text-align: right;\n",
       "    }\n",
       "</style>\n",
       "<table border=\"1\" class=\"dataframe\">\n",
       "  <thead>\n",
       "    <tr style=\"text-align: right;\">\n",
       "      <th></th>\n",
       "      <th>reviewidx</th>\n",
       "      <th>partxt</th>\n",
       "      <th>parlen</th>\n",
       "    </tr>\n",
       "  </thead>\n",
       "  <tbody>\n",
       "    <tr>\n",
       "      <th>0</th>\n",
       "      <td>60</td>\n",
       "      <td>3</td>\n",
       "      <td>3</td>\n",
       "    </tr>\n",
       "  </tbody>\n",
       "</table>\n",
       "</div>"
      ],
      "text/plain": [
       "   reviewidx  partxt  parlen\n",
       "0         60       3       3"
      ]
     },
     "execution_count": 11,
     "metadata": {},
     "output_type": "execute_result"
    }
   ],
   "source": [
    "parnum[parnum.parlen>1].shape\n",
    "parnum.reset_index(inplace=True)\n",
    "parnum.head(1)"
   ]
  },
  {
   "cell_type": "code",
   "execution_count": 12,
   "metadata": {},
   "outputs": [
    {
     "name": "stdout",
     "output_type": "stream",
     "text": [
      "                                              partxt  reviewidx  parlen\n",
      "0  It smells good in here. Because it smells like...       5244     291\n"
     ]
    },
    {
     "data": {
      "text/html": [
       "<div>\n",
       "<style scoped>\n",
       "    .dataframe tbody tr th:only-of-type {\n",
       "        vertical-align: middle;\n",
       "    }\n",
       "\n",
       "    .dataframe tbody tr th {\n",
       "        vertical-align: top;\n",
       "    }\n",
       "\n",
       "    .dataframe thead th {\n",
       "        text-align: right;\n",
       "    }\n",
       "</style>\n",
       "<table border=\"1\" class=\"dataframe\">\n",
       "  <thead>\n",
       "    <tr style=\"text-align: right;\">\n",
       "      <th></th>\n",
       "      <th>reviewidx</th>\n",
       "      <th>partxt</th>\n",
       "      <th>parlen</th>\n",
       "    </tr>\n",
       "  </thead>\n",
       "  <tbody>\n",
       "    <tr>\n",
       "      <th>0</th>\n",
       "      <td>60</td>\n",
       "      <td>3</td>\n",
       "      <td>3</td>\n",
       "    </tr>\n",
       "  </tbody>\n",
       "</table>\n",
       "</div>"
      ],
      "text/plain": [
       "   reviewidx  partxt  parlen\n",
       "0         60       3       3"
      ]
     },
     "execution_count": 12,
     "metadata": {},
     "output_type": "execute_result"
    }
   ],
   "source": [
    "parnum.shape\n",
    "print(pardf.head(1))\n",
    "parnum.head(1)"
   ]
  },
  {
   "cell_type": "markdown",
   "metadata": {},
   "source": [
    "### Only considering pargraphs in multiparagraph reviews"
   ]
  },
  {
   "cell_type": "code",
   "execution_count": 13,
   "metadata": {},
   "outputs": [],
   "source": [
    "\n",
    "multipardf = parnum.loc[parnum.parlen>1,['reviewidx']]\n",
    "multipardf.reviewidx.max()\n",
    "multipardf.columns\n",
    "multipardf = pardf.merge(multipardf,how='right',on='reviewidx')"
   ]
  },
  {
   "cell_type": "code",
   "execution_count": 14,
   "metadata": {},
   "outputs": [
    {
     "data": {
      "text/plain": [
       "(28883, 3)"
      ]
     },
     "execution_count": 14,
     "metadata": {},
     "output_type": "execute_result"
    }
   ],
   "source": [
    "multipardf.shape"
   ]
  },
  {
   "cell_type": "markdown",
   "metadata": {},
   "source": [
    "### Lemmatizing and getting topic importances for the review paragraphs"
   ]
  },
  {
   "cell_type": "code",
   "execution_count": 15,
   "metadata": {},
   "outputs": [],
   "source": [
    "\n",
    "dictionary = gensim.corpora.Dictionary.load('dictionary_allreviews_nouns.gensim')\n",
    "corpus = pickle.load(open('corpus_allreviews_nouns.pkl', 'rb'))\n",
    "\n",
    "temp_file = datapath(\"lda_nounsonly_5topics.gensim\")\n",
    "lda = gensim.models.ldamodel.LdaModel.load(temp_file)"
   ]
  },
  {
   "cell_type": "code",
   "execution_count": 32,
   "metadata": {},
   "outputs": [
    {
     "name": "stderr",
     "output_type": "stream",
     "text": [
      "[nltk_data] Downloading package stopwords to\n",
      "[nltk_data]     /Users/thomasyoung/nltk_data...\n",
      "[nltk_data]   Package stopwords is already up-to-date!\n"
     ]
    }
   ],
   "source": [
    "#Process the paragraphs that belong to multiparagraph reviews\n",
    "def sent_to_words(sentences):\n",
    "    for sentence in sentences:\n",
    "        yield(gensim.utils.simple_preprocess(str(sentence), deacc=True))  # deacc=True removes punctuations\n",
    "data = multipardf.partxt.values.tolist()\n",
    "data_words = list(sent_to_words(data))\n",
    "\n",
    "# Build the bigram and trigram models\n",
    "bigram = gensim.models.Phrases(data_words, min_count=5, threshold=100) # higher threshold fewer phrases.\n",
    "trigram = gensim.models.Phrases(bigram[data_words], threshold=100)\n",
    "# Faster way to get a sentence clubbed as a trigram/bigram\n",
    "bigram_mod = gensim.models.phrases.Phraser(bigram)\n",
    "trigram_mod = gensim.models.phrases.Phraser(trigram)\n",
    "\n",
    "stop_words = stopwords.words('english')\n",
    "stop_words.extend(['from', 'subject', 're', 'edu', 'use','good','great','love','go','always','go','order','get','say','try','nice','need','order','really','also','but','starbuck','dunkin','gregory','pret','bluestone','la colombe',\n",
    "                  'starbucks','gregorys','store','area','people','location','drink'])\n",
    "\n",
    "#'time','place','shop'\n",
    "# Define functions for stopwords, bigrams, trigrams and lemmatization\n",
    "def remove_stopwords(texts):\n",
    "    return [[word for word in simple_preprocess(str(doc)) if word not in stop_words] for doc in texts]\n",
    "def make_bigrams(texts):\n",
    "    return [bigram_mod[doc] for doc in texts]\n",
    "def make_trigrams(texts):\n",
    "    return [trigram_mod[bigram_mod[doc]] for doc in texts]\n",
    "\n",
    "#we only focus on nouns and verbs since they probably provide the most distinct topic information\n",
    "def lemmatization(texts, allowed_postags=['NOUN']):\n",
    "    \"\"\"https://spacy.io/api/annotation\"\"\"\n",
    "    texts_out = []\n",
    "    for sent in texts:\n",
    "        doc = nlp(\" \".join(sent)) \n",
    "        texts_out.append([token.lemma_ for token in doc if token.pos_ in allowed_postags])\n",
    "    return texts_out\n",
    "\n",
    "\n",
    "# Remove Stop Words\n",
    "data_words_nostops = remove_stopwords(data_words)\n",
    "# Form Bigrams\n",
    "data_words_bigrams = make_bigrams(data_words_nostops)\n",
    "# Initialize spacy 'en' model, keeping only tagger component (for efficiency)\n",
    "nlp = spacy.load(\"en_core_web_lg\", disable=['parser', 'ner'])\n",
    "#nlp = en_core_web_lg.load()\n",
    "# Do lemmatization keeping only nouns\n",
    "data_lemmatized = lemmatization(data_words_bigrams, allowed_postags=['NOUN'])\n",
    "\n",
    "import gensim.corpora as corpora\n",
    "# Create Dictionary\n",
    "id2word = corpora.Dictionary(data_lemmatized)\n",
    "# Create Corpus\n",
    "texts = data_lemmatized\n",
    "# Term Document Frequency\n",
    "corpus = [id2word.doc2bow(text) for text in texts]\n"
   ]
  },
  {
   "cell_type": "code",
   "execution_count": 45,
   "metadata": {},
   "outputs": [],
   "source": [
    "ldavecs = []\n",
    "for i in range(len(data_lemmatized)):\n",
    "    corpus = dictionary.doc2bow(data_lemmatized[i])\n",
    "    ldav = lda[corpus][0]\n",
    "    ldavecs.append([pair[1] for pair in ldav])\n",
    "ldavecdf = pd.DataFrame(ldavecs)\n",
    "ldavecdf.columns = ['t0','t1','t2','t3','t4']"
   ]
  },
  {
   "cell_type": "code",
   "execution_count": 51,
   "metadata": {},
   "outputs": [],
   "source": [
    "multipardf = pd.concat([multipardf,ldavecdf],axis=1)\n",
    "multipardf.tail(10)"
   ]
  },
  {
   "cell_type": "markdown",
   "metadata": {},
   "source": [
    "### Visualizing the topic distribution for multiparagraph reviews"
   ]
  },
  {
   "cell_type": "code",
   "execution_count": 56,
   "metadata": {},
   "outputs": [
    {
     "data": {
      "image/png": "[encoded data removed]",
      "text/plain": [
       "<Figure size 1080x360 with 5 Axes>"
      ]
     },
     "metadata": {
      "needs_background": "light"
     },
     "output_type": "display_data"
    }
   ],
   "source": [
    "fig,ax = plt.subplots(1,5,figsize=(15,5))\n",
    "for i in range(5):\n",
    "    sns.distplot(multipardf['t'+str(i)],kde=False,ax=ax[i])"
   ]
  },
  {
   "cell_type": "markdown",
   "metadata": {},
   "source": [
    "It looks like most paragraphs are a mixture of the 5 topics as well. No paragraphs predominantly belong to a single topic.    "
   ]
  },
  {
   "cell_type": "code",
   "execution_count": null,
   "metadata": {},
   "outputs": [],
   "source": []
  }
 ],
 "metadata": {
  "kernelspec": {
   "display_name": "nlp_env",
   "language": "python",
   "name": "nlp_env"
  },
  "language_info": {
   "codemirror_mode": {
    "name": "ipython",
    "version": 3
   },
   "file_extension": ".py",
   "mimetype": "text/x-python",
   "name": "python",
   "nbconvert_exporter": "python",
   "pygments_lexer": "ipython3",
   "version": "3.6.10"
  }
 },
 "nbformat": 4,
 "nbformat_minor": 4
}
