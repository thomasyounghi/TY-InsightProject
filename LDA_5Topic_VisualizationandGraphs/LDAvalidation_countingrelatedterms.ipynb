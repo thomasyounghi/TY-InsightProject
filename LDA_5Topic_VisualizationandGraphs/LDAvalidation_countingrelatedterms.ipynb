{
 "cells": [
  {
   "cell_type": "markdown",
   "metadata": {},
   "source": [
    "What this notebook does:\n",
    "\n",
    "Counts the number of words in each review related to 1) Coffee, 2) Food, 3) Sweets, and plots the distribution of these counts across all reviews. This is motivated by observation that different coffee-related terms (like expresso drinks, pour-overs, etc) are spread across different LDA topics. One reason could be that within individual reviews, only a small number of coffee drinks, savoury food items, or sweet items are mentioned.  As a result LDA would have a hard time associated many different types of coffee drinks, or food items with one another.  Couting occurences of these related terms can help to verify this.\n",
    "\n",
    "Word2vec was used to identify words related to (express,coffee), (food, sandwich), or (dessert, cookies). To do this, a word2vec model was trained on the lemmatized review nouns.  Hierarchical clustering with complete linkage was used to group words with similar usage. For each pair, the words in the same cluster were identified, and the top 10 highest occuring words in that cluster were saved.  This resulted in 3 sets of words: the top 10 coffee related words, food related words, and sweet related words.  The number of reviews with 1 word, 2 words, 3 words, in each set was counted and plotted.\n",
    "\n",
    "For each set of related terms, the fraction of reviews containing some number x of those terms decreased with increasing x. As expected, reviews do not contain many mentions of words with similar usage."
   ]
  },
  {
   "cell_type": "code",
   "execution_count": null,
   "metadata": {},
   "outputs": [],
   "source": [
    "#Step one directory up to access the yelp scraping function in the helper_functions module\n",
    "import os\n",
    "print(os.getcwd())\n",
    "os.chdir('../')\n",
    "os.getcwd()"
   ]
  },
  {
   "cell_type": "code",
   "execution_count": 2,
   "metadata": {},
   "outputs": [],
   "source": [
    "import warnings\n",
    "\n",
    "import gensim\n",
    "\n",
    "import pandas as pd\n",
    "import matplotlib.pyplot as plt\n",
    "%matplotlib inline\n",
    "import seaborn as sns\n"
   ]
  },
  {
   "cell_type": "code",
   "execution_count": 3,
   "metadata": {},
   "outputs": [
    {
     "data": {
      "text/html": [
       "<div>\n",
       "<style scoped>\n",
       "    .dataframe tbody tr th:only-of-type {\n",
       "        vertical-align: middle;\n",
       "    }\n",
       "\n",
       "    .dataframe tbody tr th {\n",
       "        vertical-align: top;\n",
       "    }\n",
       "\n",
       "    .dataframe thead th {\n",
       "        text-align: right;\n",
       "    }\n",
       "</style>\n",
       "<table border=\"1\" class=\"dataframe\">\n",
       "  <thead>\n",
       "    <tr style=\"text-align: right;\">\n",
       "      <th></th>\n",
       "      <th>ldatopic</th>\n",
       "      <th>word</th>\n",
       "      <th>probability</th>\n",
       "      <th>rank</th>\n",
       "    </tr>\n",
       "  </thead>\n",
       "  <tbody>\n",
       "    <tr>\n",
       "      <th>0</th>\n",
       "      <td>0</td>\n",
       "      <td>chocolate</td>\n",
       "      <td>0.040577</td>\n",
       "      <td>1</td>\n",
       "    </tr>\n",
       "    <tr>\n",
       "      <th>1</th>\n",
       "      <td>0</td>\n",
       "      <td>tea</td>\n",
       "      <td>0.037534</td>\n",
       "      <td>2</td>\n",
       "    </tr>\n",
       "    <tr>\n",
       "      <th>2</th>\n",
       "      <td>0</td>\n",
       "      <td>cookie</td>\n",
       "      <td>0.031508</td>\n",
       "      <td>3</td>\n",
       "    </tr>\n",
       "    <tr>\n",
       "      <th>3</th>\n",
       "      <td>0</td>\n",
       "      <td>latte</td>\n",
       "      <td>0.024652</td>\n",
       "      <td>4</td>\n",
       "    </tr>\n",
       "    <tr>\n",
       "      <th>4</th>\n",
       "      <td>0</td>\n",
       "      <td>flavor</td>\n",
       "      <td>0.022728</td>\n",
       "      <td>5</td>\n",
       "    </tr>\n",
       "  </tbody>\n",
       "</table>\n",
       "</div>"
      ],
      "text/plain": [
       "   ldatopic       word  probability  rank\n",
       "0         0  chocolate     0.040577     1\n",
       "1         0        tea     0.037534     2\n",
       "2         0     cookie     0.031508     3\n",
       "3         0      latte     0.024652     4\n",
       "4         0     flavor     0.022728     5"
      ]
     },
     "execution_count": 3,
     "metadata": {},
     "output_type": "execute_result"
    }
   ],
   "source": [
    "topldawords = pd.read_csv('./LDAresults/ldatopwordsfor5topics.csv')\n",
    "topldawords.head(5)"
   ]
  },
  {
   "cell_type": "code",
   "execution_count": 4,
   "metadata": {},
   "outputs": [],
   "source": [
    "#Reading in the sentences to train a word2vec model\n",
    "\n",
    "warnings.filterwarnings(\"ignore\")\n",
    "\n",
    "class SentenceCorpus(object):\n",
    "\n",
    "    def __init__(self, filename):\n",
    "        self.filename = filename\n",
    "\n",
    "    def __iter__(self):\n",
    "        with open(self.filename, \"r\") as i:\n",
    "            for line in i:\n",
    "                tokens = line.strip().split()\n",
    "                yield tokens\n",
    "\n",
    "              \n",
    "TEXT_FILE = './ProcessedData/reviewsentences.csv'\n",
    "sentences = SentenceCorpus(TEXT_FILE)\n"
   ]
  },
  {
   "cell_type": "code",
   "execution_count": 5,
   "metadata": {},
   "outputs": [],
   "source": [
    "model = gensim.models.Word2Vec(sentences, min_count=25, window=10, size=100,iter=100)"
   ]
  },
  {
   "cell_type": "code",
   "execution_count": 46,
   "metadata": {},
   "outputs": [
    {
     "data": {
      "text/plain": [
       "array([[0.5827512]], dtype=float32)"
      ]
     },
     "execution_count": 46,
     "metadata": {},
     "output_type": "execute_result"
    }
   ],
   "source": [
    "import numpy as np\n",
    "from sklearn.metrics.pairwise import cosine_similarity\n",
    "test =model.wv['latte'] \n",
    "test = np.array([test])\n",
    "\n",
    "test1 =model.wv['cortado'] \n",
    "test1 = np.array([test1])\n",
    "cosine_similarity(test,test1)\n"
   ]
  },
  {
   "cell_type": "code",
   "execution_count": 8,
   "metadata": {},
   "outputs": [
    {
     "data": {
      "text/plain": [
       "21594"
      ]
     },
     "execution_count": 8,
     "metadata": {},
     "output_type": "execute_result"
    }
   ],
   "source": [
    "#Loading the previously lemmatized reviews (nouns only)\n",
    "import csv \n",
    "with open('./LDAresults/lemmatized_reviews_nouns.csv', newline='') as csvfile: \n",
    "    dialect = csv.Sniffer().sniff(csvfile.read())\n",
    "    csvfile.seek(0)\n",
    "    reader = csv.reader(csvfile, dialect)\n",
    "    rows = list(reader)\n",
    "len(rows)"
   ]
  },
  {
   "cell_type": "code",
   "execution_count": 9,
   "metadata": {},
   "outputs": [
    {
     "data": {
      "text/plain": [
       "21563"
      ]
     },
     "execution_count": 9,
     "metadata": {},
     "output_type": "execute_result"
    }
   ],
   "source": [
    "reviews = [row[0].split(',') for row in rows if len(row)>0]\n",
    "len(reviews)"
   ]
  },
  {
   "cell_type": "code",
   "execution_count": 10,
   "metadata": {},
   "outputs": [],
   "source": [
    "nouns = {}\n",
    "for review in reviews:\n",
    "    for noun in review:\n",
    "        if noun not in nouns:\n",
    "            nouns[noun] = 0\n",
    "        nouns[noun] = nouns[noun] + 1"
   ]
  },
  {
   "cell_type": "code",
   "execution_count": 11,
   "metadata": {},
   "outputs": [],
   "source": [
    "keys = model.wv.vocab.keys()"
   ]
  },
  {
   "cell_type": "code",
   "execution_count": 64,
   "metadata": {},
   "outputs": [
    {
     "name": "stdout",
     "output_type": "stream",
     "text": [
      "3147\n",
      "1989\n"
     ]
    }
   ],
   "source": [
    "import numpy as np\n",
    "print(len(keys))\n",
    "keys1 = [key for key in keys if key in nouns]\n",
    "#keys1 = ['latte','macchiato','cortado','coffee','cold_brew','sandwich','chicken','pizza']\n",
    "print(len(keys1))\n",
    "wvs = np.array([model.wv[key] for key in keys1])\n",
    "#print(wvs[100])\n",
    "#print(keys1[100])\n",
    "#print(model.wv['price'])"
   ]
  },
  {
   "cell_type": "code",
   "execution_count": 65,
   "metadata": {},
   "outputs": [
    {
     "data": {
      "image/png": "[encoded data removed]",
      "text/plain": [
       "<Figure size 432x288 with 1 Axes>"
      ]
     },
     "metadata": {
      "needs_background": "light"
     },
     "output_type": "display_data"
    }
   ],
   "source": [
    "\n",
    "import numpy as np\n",
    "\n",
    "from matplotlib import pyplot as plt\n",
    "from scipy.cluster.hierarchy import dendrogram\n",
    "from sklearn.datasets import load_iris\n",
    "from sklearn.cluster import AgglomerativeClustering\n",
    "\n",
    "\n",
    "def plot_dendrogram(model, **kwargs):\n",
    "    # Create linkage matrix and then plot the dendrogram\n",
    "\n",
    "    # create the counts of samples under each node\n",
    "    counts = np.zeros(model.children_.shape[0])\n",
    "    n_samples = len(model.labels_)\n",
    "    for i, merge in enumerate(model.children_):\n",
    "        current_count = 0\n",
    "        for child_idx in merge:\n",
    "            if child_idx < n_samples:\n",
    "                current_count += 1  # leaf node\n",
    "            else:\n",
    "                current_count += counts[child_idx - n_samples]\n",
    "        counts[i] = current_count\n",
    "\n",
    "    linkage_matrix = np.column_stack([model.children_, model.distances_,\n",
    "                                      counts]).astype(float)\n",
    "\n",
    "    # Plot the corresponding dendrogram\n",
    "    dendrogram(linkage_matrix, **kwargs)\n",
    "\n",
    "\n",
    "# setting distance_threshold=0 ensures we compute the full tree.\n",
    "hmodel = AgglomerativeClustering(distance_threshold=0, n_clusters=None,affinity=\"cosine\",linkage=\"single\")\n",
    "\n",
    "hmodel = hmodel.fit(wvs)\n",
    "plt.title('Hierarchical Clustering Dendrogram')\n",
    "# plot the top three levels of the dendrogram\n",
    "plot_dendrogram(hmodel, truncate_mode='level', p=3)\n",
    "plt.xlabel(\"Number of points in node (or index of point if no parenthesis).\")\n",
    "plt.show()"
   ]
  },
  {
   "cell_type": "code",
   "execution_count": 90,
   "metadata": {},
   "outputs": [],
   "source": [
    "hmodel = AgglomerativeClustering(n_clusters=200,affinity=\"cosine\",linkage=\"complete\")\n",
    "hmodel = hmodel.fit(wvs)\n",
    "words = pd.DataFrame(keys1)\n",
    "words.columns = ['word']\n",
    "words.head(10)\n",
    "words['cluster'] = pd.Series(hmodel.labels_)\n"
   ]
  },
  {
   "cell_type": "code",
   "execution_count": 132,
   "metadata": {},
   "outputs": [
    {
     "name": "stdout",
     "output_type": "stream",
     "text": [
      "94\n",
      "['cortado', 'cappuccino', 'americano', 'decaf', 'espresso', 'flat_white', 'expresso', 'macchiato', 'medium', 'red_eye', 'double_shot', 'frap', 'dirty_chai', 'blonde', 'skin', 'venti', 'frappuccino', 'caramel_macchiato', 'pike', 'frapp']\n",
      "['coffee', 'coffe', 'drink', 'tea', 'java', 'beverage', 'bubble_tea', 'jasmine', 'loose_leaf']\n"
     ]
    },
    {
     "data": {
      "text/html": [
       "<div>\n",
       "<style scoped>\n",
       "    .dataframe tbody tr th:only-of-type {\n",
       "        vertical-align: middle;\n",
       "    }\n",
       "\n",
       "    .dataframe tbody tr th {\n",
       "        vertical-align: top;\n",
       "    }\n",
       "\n",
       "    .dataframe thead th {\n",
       "        text-align: right;\n",
       "    }\n",
       "</style>\n",
       "<table border=\"1\" class=\"dataframe\">\n",
       "  <thead>\n",
       "    <tr style=\"text-align: right;\">\n",
       "      <th></th>\n",
       "      <th>word</th>\n",
       "      <th>count</th>\n",
       "    </tr>\n",
       "  </thead>\n",
       "  <tbody>\n",
       "    <tr>\n",
       "      <th>0</th>\n",
       "      <td>coffee</td>\n",
       "      <td>20523</td>\n",
       "    </tr>\n",
       "    <tr>\n",
       "      <th>2</th>\n",
       "      <td>drink</td>\n",
       "      <td>2189</td>\n",
       "    </tr>\n",
       "    <tr>\n",
       "      <th>3</th>\n",
       "      <td>tea</td>\n",
       "      <td>2092</td>\n",
       "    </tr>\n",
       "    <tr>\n",
       "      <th>13</th>\n",
       "      <td>espresso</td>\n",
       "      <td>1501</td>\n",
       "    </tr>\n",
       "    <tr>\n",
       "      <th>10</th>\n",
       "      <td>cappuccino</td>\n",
       "      <td>892</td>\n",
       "    </tr>\n",
       "    <tr>\n",
       "      <th>5</th>\n",
       "      <td>beverage</td>\n",
       "      <td>538</td>\n",
       "    </tr>\n",
       "    <tr>\n",
       "      <th>16</th>\n",
       "      <td>macchiato</td>\n",
       "      <td>83</td>\n",
       "    </tr>\n",
       "    <tr>\n",
       "      <th>17</th>\n",
       "      <td>medium</td>\n",
       "      <td>83</td>\n",
       "    </tr>\n",
       "    <tr>\n",
       "      <th>12</th>\n",
       "      <td>decaf</td>\n",
       "      <td>81</td>\n",
       "    </tr>\n",
       "    <tr>\n",
       "      <th>11</th>\n",
       "      <td>americano</td>\n",
       "      <td>68</td>\n",
       "    </tr>\n",
       "  </tbody>\n",
       "</table>\n",
       "</div>"
      ],
      "text/plain": [
       "          word  count\n",
       "0       coffee  20523\n",
       "2        drink   2189\n",
       "3          tea   2092\n",
       "13    espresso   1501\n",
       "10  cappuccino    892\n",
       "5     beverage    538\n",
       "16   macchiato     83\n",
       "17      medium     83\n",
       "12       decaf     81\n",
       "11   americano     68"
      ]
     },
     "execution_count": 132,
     "metadata": {},
     "output_type": "execute_result"
    }
   ],
   "source": [
    "#Getting words related to coffee or expresso\n",
    "expcluster = words[words.word=='expresso'].cluster.to_list()[0]\n",
    "cofcluster = words[words.word=='coffee'].cluster.to_list()[0]\n",
    "print(expcluster)\n",
    "expwords = words.word[words.cluster==expcluster].to_list()\n",
    "print(expwords)\n",
    "cofwords = words.word[words.cluster==cofcluster].to_list()\n",
    "print(cofwords)\n",
    "cofwords.extend(expwords)\n",
    "\n",
    "cofcounts = [nouns[word] for word in cofwords]\n",
    "cofworddf = pd.DataFrame()\n",
    "cofworddf['word'] = pd.Series(cofwords)\n",
    "cofworddf['count'] = pd.Series(cofcounts)\n",
    "cofworddf = cofworddf.sort_values(by=['count'],ascending=False).head(10)\n",
    "cofworddf"
   ]
  },
  {
   "cell_type": "code",
   "execution_count": 137,
   "metadata": {},
   "outputs": [
    {
     "data": {
      "text/html": [
       "<div>\n",
       "<style scoped>\n",
       "    .dataframe tbody tr th:only-of-type {\n",
       "        vertical-align: middle;\n",
       "    }\n",
       "\n",
       "    .dataframe tbody tr th {\n",
       "        vertical-align: top;\n",
       "    }\n",
       "\n",
       "    .dataframe thead th {\n",
       "        text-align: right;\n",
       "    }\n",
       "</style>\n",
       "<table border=\"1\" class=\"dataframe\">\n",
       "  <thead>\n",
       "    <tr style=\"text-align: right;\">\n",
       "      <th></th>\n",
       "      <th>word</th>\n",
       "      <th>count</th>\n",
       "    </tr>\n",
       "  </thead>\n",
       "  <tbody>\n",
       "    <tr>\n",
       "      <th>0</th>\n",
       "      <td>food</td>\n",
       "      <td>4035</td>\n",
       "    </tr>\n",
       "    <tr>\n",
       "      <th>12</th>\n",
       "      <td>sandwich</td>\n",
       "      <td>2631</td>\n",
       "    </tr>\n",
       "    <tr>\n",
       "      <th>13</th>\n",
       "      <td>egg</td>\n",
       "      <td>1007</td>\n",
       "    </tr>\n",
       "    <tr>\n",
       "      <th>29</th>\n",
       "      <td>soup</td>\n",
       "      <td>476</td>\n",
       "    </tr>\n",
       "    <tr>\n",
       "      <th>16</th>\n",
       "      <td>chicken</td>\n",
       "      <td>390</td>\n",
       "    </tr>\n",
       "    <tr>\n",
       "      <th>18</th>\n",
       "      <td>avocado</td>\n",
       "      <td>365</td>\n",
       "    </tr>\n",
       "    <tr>\n",
       "      <th>30</th>\n",
       "      <td>tomato</td>\n",
       "      <td>273</td>\n",
       "    </tr>\n",
       "    <tr>\n",
       "      <th>19</th>\n",
       "      <td>salmon</td>\n",
       "      <td>211</td>\n",
       "    </tr>\n",
       "    <tr>\n",
       "      <th>25</th>\n",
       "      <td>sauce</td>\n",
       "      <td>174</td>\n",
       "    </tr>\n",
       "    <tr>\n",
       "      <th>8</th>\n",
       "      <td>wrap</td>\n",
       "      <td>168</td>\n",
       "    </tr>\n",
       "  </tbody>\n",
       "</table>\n",
       "</div>"
      ],
      "text/plain": [
       "        word  count\n",
       "0       food   4035\n",
       "12  sandwich   2631\n",
       "13       egg   1007\n",
       "29      soup    476\n",
       "16   chicken    390\n",
       "18   avocado    365\n",
       "30    tomato    273\n",
       "19    salmon    211\n",
       "25     sauce    174\n",
       "8       wrap    168"
      ]
     },
     "execution_count": 137,
     "metadata": {},
     "output_type": "execute_result"
    }
   ],
   "source": [
    "#Getting words related food or sandwiches\n",
    "cluster1 = words[words.word=='food'].cluster.to_list()[0]\n",
    "cluster2 = words[words.word=='sandwich'].cluster.to_list()[0]\n",
    "\n",
    "words1 = words.word[words.cluster==cluster1].to_list()\n",
    "words2 = words.word[words.cluster==cluster2].to_list()\n",
    "words1.extend(words2)\n",
    "\n",
    "counts = [nouns[word] for word in words1]\n",
    "worddf = pd.DataFrame()\n",
    "worddf['word'] = pd.Series(words1)\n",
    "worddf['count'] = pd.Series(counts)\n",
    "worddf = worddf.sort_values(by=['count'],ascending=False).head(10)\n",
    "foodworddf = worddf\n",
    "foodworddf\n"
   ]
  },
  {
   "cell_type": "code",
   "execution_count": 139,
   "metadata": {},
   "outputs": [
    {
     "data": {
      "text/html": [
       "<div>\n",
       "<style scoped>\n",
       "    .dataframe tbody tr th:only-of-type {\n",
       "        vertical-align: middle;\n",
       "    }\n",
       "\n",
       "    .dataframe tbody tr th {\n",
       "        vertical-align: top;\n",
       "    }\n",
       "\n",
       "    .dataframe thead th {\n",
       "        text-align: right;\n",
       "    }\n",
       "</style>\n",
       "<table border=\"1\" class=\"dataframe\">\n",
       "  <thead>\n",
       "    <tr style=\"text-align: right;\">\n",
       "      <th></th>\n",
       "      <th>word</th>\n",
       "      <th>count</th>\n",
       "    </tr>\n",
       "  </thead>\n",
       "  <tbody>\n",
       "    <tr>\n",
       "      <th>1</th>\n",
       "      <td>pastry</td>\n",
       "      <td>2059</td>\n",
       "    </tr>\n",
       "    <tr>\n",
       "      <th>26</th>\n",
       "      <td>matcha</td>\n",
       "      <td>1618</td>\n",
       "    </tr>\n",
       "    <tr>\n",
       "      <th>23</th>\n",
       "      <td>cookie</td>\n",
       "      <td>1356</td>\n",
       "    </tr>\n",
       "    <tr>\n",
       "      <th>20</th>\n",
       "      <td>croissant</td>\n",
       "      <td>1172</td>\n",
       "    </tr>\n",
       "    <tr>\n",
       "      <th>7</th>\n",
       "      <td>cake</td>\n",
       "      <td>1067</td>\n",
       "    </tr>\n",
       "    <tr>\n",
       "      <th>6</th>\n",
       "      <td>donut</td>\n",
       "      <td>994</td>\n",
       "    </tr>\n",
       "    <tr>\n",
       "      <th>9</th>\n",
       "      <td>dessert</td>\n",
       "      <td>622</td>\n",
       "    </tr>\n",
       "    <tr>\n",
       "      <th>0</th>\n",
       "      <td>bakery</td>\n",
       "      <td>490</td>\n",
       "    </tr>\n",
       "    <tr>\n",
       "      <th>24</th>\n",
       "      <td>muffin</td>\n",
       "      <td>357</td>\n",
       "    </tr>\n",
       "    <tr>\n",
       "      <th>4</th>\n",
       "      <td>treat</td>\n",
       "      <td>307</td>\n",
       "    </tr>\n",
       "  </tbody>\n",
       "</table>\n",
       "</div>"
      ],
      "text/plain": [
       "         word  count\n",
       "1      pastry   2059\n",
       "26     matcha   1618\n",
       "23     cookie   1356\n",
       "20  croissant   1172\n",
       "7        cake   1067\n",
       "6       donut    994\n",
       "9     dessert    622\n",
       "0      bakery    490\n",
       "24     muffin    357\n",
       "4       treat    307"
      ]
     },
     "execution_count": 139,
     "metadata": {},
     "output_type": "execute_result"
    }
   ],
   "source": [
    "#Getting words related dessert or cookies\n",
    "cluster1 = words[words.word=='dessert'].cluster.to_list()[0]\n",
    "cluster2 = words[words.word=='cookie'].cluster.to_list()[0]\n",
    "\n",
    "words1 = words.word[words.cluster==cluster1].to_list()\n",
    "words2 = words.word[words.cluster==cluster2].to_list()\n",
    "words1.extend(words2)\n",
    "\n",
    "counts = [nouns[word] for word in words1]\n",
    "worddf = pd.DataFrame()\n",
    "worddf['word'] = pd.Series(words1)\n",
    "worddf['count'] = pd.Series(counts)\n",
    "worddf = worddf.sort_values(by=['count'],ascending=False).head(10)\n",
    "dessertworddf = worddf\n",
    "dessertworddf"
   ]
  },
  {
   "cell_type": "code",
   "execution_count": 158,
   "metadata": {},
   "outputs": [
    {
     "data": {
      "text/plain": [
       "{'americano',\n",
       " 'beverage',\n",
       " 'cappuccino',\n",
       " 'coffee',\n",
       " 'decaf',\n",
       " 'drink',\n",
       " 'espresso',\n",
       " 'macchiato',\n",
       " 'medium',\n",
       " 'tea'}"
      ]
     },
     "execution_count": 158,
     "metadata": {},
     "output_type": "execute_result"
    }
   ],
   "source": [
    "\n",
    "\n",
    "coflist = cofworddf.word.to_list()\n",
    "foodlist = foodworddf.word.to_list()\n",
    "sweetlist = dessertworddf.word.to_list()\n",
    "\n",
    "coffeeset = set(coflist)\n",
    "foodset = set(foodlist)\n",
    "sweetset = set(sweetlist)\n",
    "coffeeset\n"
   ]
  },
  {
   "cell_type": "code",
   "execution_count": 204,
   "metadata": {},
   "outputs": [
    {
     "name": "stdout",
     "output_type": "stream",
     "text": [
      "1\n",
      "0\n",
      "0\n",
      "1\n",
      "1\n",
      "0\n",
      "1\n",
      "1\n",
      "0\n",
      "0\n",
      "2\n",
      "0\n",
      "1\n",
      "0\n",
      "0\n"
     ]
    }
   ],
   "source": [
    "coffeecounts = []\n",
    "foodcounts = []\n",
    "sweetcounts = []\n",
    "#Take words that have similar overall frequencies in the data set. \n",
    "#Sum of counts of coffee nouns = sum of counts of food nouns = sum of counts of sweet nouns\n",
    "for review in reviews[0:5]:\n",
    "    reviewset = set(review)\n",
    "    cofcount = len(reviewset.intersection(coffeeset))\n",
    "    foodcount = len(reviewset.intersection(foodset))\n",
    "    sweetcount = len(reviewset.intersection(sweetset))\n",
    "    print(cofcount)\n",
    "    print(foodcount)\n",
    "    print(sweetcount)\n",
    "    coffeecounts.append(cofcount)\n",
    "    foodcounts.append(foodcount)\n",
    "    sweetcounts.append(sweetcount)\n",
    "    \n",
    "    "
   ]
  },
  {
   "cell_type": "code",
   "execution_count": 202,
   "metadata": {},
   "outputs": [
    {
     "name": "stdout",
     "output_type": "stream",
     "text": [
      "1207528\n",
      "21563\n"
     ]
    },
    {
     "data": {
      "text/plain": [
       "0"
      ]
     },
     "execution_count": 202,
     "metadata": {},
     "output_type": "execute_result"
    }
   ],
   "source": [
    "print(len(coffeecounts))\n",
    "print(len(foodcounts))\n"
   ]
  },
  {
   "cell_type": "code",
   "execution_count": 197,
   "metadata": {},
   "outputs": [
    {
     "name": "stdout",
     "output_type": "stream",
     "text": [
      "   labels  counts  dummy\n",
      "0  coffee       1      1\n",
      "1  coffee       1      1\n",
      "2  coffee       1      1\n",
      "3  coffee       0      1\n",
      "4  coffee       1      1\n",
      "                dummy\n",
      "                count\n",
      "labels counts        \n",
      "coffee 0       881480\n",
      "       1       205845\n",
      "       2        56711\n",
      "       3        15133\n",
      "       4         3812\n",
      "Index(['category', 'count', 'numreviews'], dtype='object')\n",
      "  category  count  numreviews\n",
      "0   coffee      0      881480\n",
      "1   coffee      1      205845\n",
      "2   coffee      2       56711\n",
      "3   coffee      3       15133\n",
      "4   coffee      4        3812\n",
      "5   coffee      5        1124\n",
      "6   coffee      6         270\n",
      "7   coffee      7          27\n",
      "8     food      0       16618\n",
      "9     food      1        3401\n",
      "21563\n",
      "21563\n"
     ]
    },
    {
     "data": {
      "image/png": "[encoded data removed]",
      "text/plain": [
       "<Figure size 360x360 with 1 Axes>"
      ]
     },
     "metadata": {
      "needs_background": "light"
     },
     "output_type": "display_data"
    }
   ],
   "source": [
    "import matplotlib.pyplot as plt\n",
    "import seaborn as sns\n",
    "labels = ['coffee' for i in range(len(coffeecounts))]\n",
    "foodlab = ['food' for i in range(len(foodcounts))]\n",
    "sweetlab = ['sweets' for i in range(len(sweetcounts))]\n",
    "labels.extend(foodlab)\n",
    "labels.extend(sweetlab)\n",
    "\n",
    "toplot = pd.DataFrame()\n",
    "toplot['labels'] = pd.Series(labels)\n",
    "counts = coffeecounts\n",
    "counts.extend(foodcounts)\n",
    "counts.extend(sweetcounts)\n",
    "toplot['counts'] = pd.Series(counts)\n",
    "toplot['dummy'] = pd.Series([1 for i in range(len(counts))])\n",
    "print(toplot.head(5))\n",
    "toplot1 = toplot.groupby(['labels','counts']).agg(['count'])\n",
    "print(toplot1.head())\n",
    "toplot1.reset_index(inplace=True)\n",
    "toplot1.columns = ['category','count','numreviews']\n",
    "print(toplot1.columns)\n",
    "print(toplot1.head(10))\n",
    "\n",
    "\n",
    "cof = toplot1[toplot1.category=='coffee']\n",
    "cof['freq'] = cof.numreviews/sum(cof.numreviews)\n",
    "\n",
    "food = toplot1[toplot1.category=='food']\n",
    "food['freq'] = food.numreviews/sum(food.numreviews)\n",
    "print(sum(food.numreviews))\n",
    "\n",
    "sweet = toplot1[toplot1.category=='sweets']\n",
    "sweet['freq'] = sweet.numreviews/sum(sweet.numreviews)\n",
    "print(sum(sweet.numreviews))\n",
    "\n",
    "toplot2 = pd.concat([cof,food,sweet],axis=0)\n",
    "fig,ax = plt.subplots(1,1,figsize=(5,5))\n",
    "\n",
    "sns.lineplot(x=\"count\",y=\"freq\",hue=\"category\",data=toplot2,ax=ax)\n",
    "ax.set_xlabel('Number of Mentions in Review',fontsize=20)\n",
    "ax.set_ylabel('Fraction of Reviews',fontsize=20)\n",
    "ax.set_title('Mentions of Related Terms in Reviews',fontsize=20)\n",
    "fig.savefig('./Figures/coffee_food_sweet_mentions.png',bbox_inches='tight')"
   ]
  },
  {
   "cell_type": "code",
   "execution_count": 198,
   "metadata": {},
   "outputs": [
    {
     "data": {
      "text/html": [
       "<div>\n",
       "<style scoped>\n",
       "    .dataframe tbody tr th:only-of-type {\n",
       "        vertical-align: middle;\n",
       "    }\n",
       "\n",
       "    .dataframe tbody tr th {\n",
       "        vertical-align: top;\n",
       "    }\n",
       "\n",
       "    .dataframe thead th {\n",
       "        text-align: right;\n",
       "    }\n",
       "</style>\n",
       "<table border=\"1\" class=\"dataframe\">\n",
       "  <thead>\n",
       "    <tr style=\"text-align: right;\">\n",
       "      <th></th>\n",
       "      <th>category</th>\n",
       "      <th>count</th>\n",
       "      <th>numreviews</th>\n",
       "      <th>freq</th>\n",
       "    </tr>\n",
       "  </thead>\n",
       "  <tbody>\n",
       "    <tr>\n",
       "      <th>8</th>\n",
       "      <td>food</td>\n",
       "      <td>0</td>\n",
       "      <td>16618</td>\n",
       "      <td>0.770672</td>\n",
       "    </tr>\n",
       "    <tr>\n",
       "      <th>9</th>\n",
       "      <td>food</td>\n",
       "      <td>1</td>\n",
       "      <td>3401</td>\n",
       "      <td>0.157724</td>\n",
       "    </tr>\n",
       "    <tr>\n",
       "      <th>10</th>\n",
       "      <td>food</td>\n",
       "      <td>2</td>\n",
       "      <td>1082</td>\n",
       "      <td>0.050179</td>\n",
       "    </tr>\n",
       "  </tbody>\n",
       "</table>\n",
       "</div>"
      ],
      "text/plain": [
       "   category  count  numreviews      freq\n",
       "8      food      0       16618  0.770672\n",
       "9      food      1        3401  0.157724\n",
       "10     food      2        1082  0.050179"
      ]
     },
     "execution_count": 198,
     "metadata": {},
     "output_type": "execute_result"
    }
   ],
   "source": [
    "food.head(3)"
   ]
  },
  {
   "cell_type": "code",
   "execution_count": 200,
   "metadata": {},
   "outputs": [
    {
     "data": {
      "text/html": [
       "<div>\n",
       "<style scoped>\n",
       "    .dataframe tbody tr th:only-of-type {\n",
       "        vertical-align: middle;\n",
       "    }\n",
       "\n",
       "    .dataframe tbody tr th {\n",
       "        vertical-align: top;\n",
       "    }\n",
       "\n",
       "    .dataframe thead th {\n",
       "        text-align: right;\n",
       "    }\n",
       "</style>\n",
       "<table border=\"1\" class=\"dataframe\">\n",
       "  <thead>\n",
       "    <tr style=\"text-align: right;\">\n",
       "      <th></th>\n",
       "      <th>category</th>\n",
       "      <th>count</th>\n",
       "      <th>numreviews</th>\n",
       "      <th>freq</th>\n",
       "    </tr>\n",
       "  </thead>\n",
       "  <tbody>\n",
       "    <tr>\n",
       "      <th>0</th>\n",
       "      <td>coffee</td>\n",
       "      <td>0</td>\n",
       "      <td>881480</td>\n",
       "      <td>0.757024</td>\n",
       "    </tr>\n",
       "    <tr>\n",
       "      <th>1</th>\n",
       "      <td>coffee</td>\n",
       "      <td>1</td>\n",
       "      <td>205845</td>\n",
       "      <td>0.176782</td>\n",
       "    </tr>\n",
       "    <tr>\n",
       "      <th>2</th>\n",
       "      <td>coffee</td>\n",
       "      <td>2</td>\n",
       "      <td>56711</td>\n",
       "      <td>0.048704</td>\n",
       "    </tr>\n",
       "  </tbody>\n",
       "</table>\n",
       "</div>"
      ],
      "text/plain": [
       "  category  count  numreviews      freq\n",
       "0   coffee      0      881480  0.757024\n",
       "1   coffee      1      205845  0.176782\n",
       "2   coffee      2       56711  0.048704"
      ]
     },
     "execution_count": 200,
     "metadata": {},
     "output_type": "execute_result"
    }
   ],
   "source": [
    "cof.head(3)"
   ]
  },
  {
   "cell_type": "code",
   "execution_count": 205,
   "metadata": {},
   "outputs": [
    {
     "data": {
      "text/html": [
       "<div>\n",
       "<style scoped>\n",
       "    .dataframe tbody tr th:only-of-type {\n",
       "        vertical-align: middle;\n",
       "    }\n",
       "\n",
       "    .dataframe tbody tr th {\n",
       "        vertical-align: top;\n",
       "    }\n",
       "\n",
       "    .dataframe thead th {\n",
       "        text-align: right;\n",
       "    }\n",
       "</style>\n",
       "<table border=\"1\" class=\"dataframe\">\n",
       "  <thead>\n",
       "    <tr style=\"text-align: right;\">\n",
       "      <th></th>\n",
       "      <th>category</th>\n",
       "      <th>count</th>\n",
       "      <th>numreviews</th>\n",
       "      <th>freq</th>\n",
       "    </tr>\n",
       "  </thead>\n",
       "  <tbody>\n",
       "    <tr>\n",
       "      <th>0</th>\n",
       "      <td>coffee</td>\n",
       "      <td>0</td>\n",
       "      <td>881480</td>\n",
       "      <td>0.757024</td>\n",
       "    </tr>\n",
       "    <tr>\n",
       "      <th>1</th>\n",
       "      <td>coffee</td>\n",
       "      <td>1</td>\n",
       "      <td>205845</td>\n",
       "      <td>0.176782</td>\n",
       "    </tr>\n",
       "    <tr>\n",
       "      <th>2</th>\n",
       "      <td>coffee</td>\n",
       "      <td>2</td>\n",
       "      <td>56711</td>\n",
       "      <td>0.048704</td>\n",
       "    </tr>\n",
       "    <tr>\n",
       "      <th>3</th>\n",
       "      <td>coffee</td>\n",
       "      <td>3</td>\n",
       "      <td>15133</td>\n",
       "      <td>0.012996</td>\n",
       "    </tr>\n",
       "    <tr>\n",
       "      <th>4</th>\n",
       "      <td>coffee</td>\n",
       "      <td>4</td>\n",
       "      <td>3812</td>\n",
       "      <td>0.003274</td>\n",
       "    </tr>\n",
       "    <tr>\n",
       "      <th>5</th>\n",
       "      <td>coffee</td>\n",
       "      <td>5</td>\n",
       "      <td>1124</td>\n",
       "      <td>0.000965</td>\n",
       "    </tr>\n",
       "    <tr>\n",
       "      <th>6</th>\n",
       "      <td>coffee</td>\n",
       "      <td>6</td>\n",
       "      <td>270</td>\n",
       "      <td>0.000232</td>\n",
       "    </tr>\n",
       "    <tr>\n",
       "      <th>7</th>\n",
       "      <td>coffee</td>\n",
       "      <td>7</td>\n",
       "      <td>27</td>\n",
       "      <td>0.000023</td>\n",
       "    </tr>\n",
       "  </tbody>\n",
       "</table>\n",
       "</div>"
      ],
      "text/plain": [
       "  category  count  numreviews      freq\n",
       "0   coffee      0      881480  0.757024\n",
       "1   coffee      1      205845  0.176782\n",
       "2   coffee      2       56711  0.048704\n",
       "3   coffee      3       15133  0.012996\n",
       "4   coffee      4        3812  0.003274\n",
       "5   coffee      5        1124  0.000965\n",
       "6   coffee      6         270  0.000232\n",
       "7   coffee      7          27  0.000023"
      ]
     },
     "execution_count": 205,
     "metadata": {},
     "output_type": "execute_result"
    }
   ],
   "source": [
    "cof"
   ]
  }
 ],
 "metadata": {
  "kernelspec": {
   "display_name": "nlp_env",
   "language": "python",
   "name": "nlp_env"
  },
  "language_info": {
   "codemirror_mode": {
    "name": "ipython",
    "version": 3
   },
   "file_extension": ".py",
   "mimetype": "text/x-python",
   "name": "python",
   "nbconvert_exporter": "python",
   "pygments_lexer": "ipython3",
   "version": "3.6.10"
  }
 },
 "nbformat": 4,
 "nbformat_minor": 4
}
