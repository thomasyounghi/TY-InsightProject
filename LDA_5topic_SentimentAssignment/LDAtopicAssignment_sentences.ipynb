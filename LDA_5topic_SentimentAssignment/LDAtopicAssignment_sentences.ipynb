{
 "cells": [
  {
   "cell_type": "markdown",
   "metadata": {},
   "source": [
    "What this notebook does:\n",
    "\n",
    "Applies several methods of assigning sentiment to a topic for each sentence in each review. These methods are threshold based - any topic with importance > threshold gets some of the sentiment for a sentence.  The thresholds tested are 0.2,0.4, 0.6, and 0.8.  One method ('hard') assigns the entire sentiment of the sentence to any topic greater than the threshold. Alternatively, the sentiment assigned to the topic is weighted by topic importance ('soft')\n",
    "\n",
    "Topic importance scores for each sentence come from the 5-topic LDA model fitted on the nouns of each review ('./LDA_Fitting/LDA_onreviews_nouns_withhyptuning.ipynb')\n",
    "\n",
    "Compound sentiments are measured using the Vader sentiment analyzer.\n",
    "\n",
    "The threshold based LDA topic sentiments are generated for sentences from a random subset of 5000 coffee shop reviews.\n",
    "The resulting feature matrix is saved in ./LDA_5topic_SentimentAssignment/comparingthresholds_reviewsent.csv'.\n",
    "Features are assessed based on their ability to predict Yelp review rating in './LDA_5topic_SentimentAssignment/LDAtopicAssignment_sentences_assessment.ipynb'\n",
    "\n",
    "\n"
   ]
  },
  {
   "cell_type": "code",
   "execution_count": null,
   "metadata": {},
   "outputs": [],
   "source": [
    "#Step one directory up to access the yelp scraping function in the helper_functions module\n",
    "import os\n",
    "print(os.getcwd())\n",
    "os.chdir('../')\n",
    "os.getcwd()"
   ]
  },
  {
   "cell_type": "code",
   "execution_count": 1,
   "metadata": {},
   "outputs": [],
   "source": [
    "import random\n",
    "\n",
    "import numpy as np\n",
    "import pandas as pd\n",
    "\n",
    "import gensim\n",
    "import gensim.corpora as corpora\n",
    "from gensim.utils import simple_preprocess\n",
    "from gensim.models import CoherenceModel\n",
    "\n",
    "import spacy\n",
    "from spacy.lemmatizer import Lemmatizer\n",
    "from spacy.lang.en.stop_words import STOP_WORDS\n",
    "#import en_core_web_sm\n",
    "\n",
    "from tqdm import tqdm_notebook as tqdm\n",
    "from pprint import pprint\n",
    "\n",
    "from helper_functions import nlp_helpers\n",
    "\n",
    "import pickle\n",
    "from gensim.test.utils import datapath\n",
    "from gensim.models import LdaModel\n",
    "from gensim import corpora\n",
    "\n",
    "import matplotlib.pyplot as plt\n",
    "import seaborn as sns\n",
    "\n",
    "from vaderSentiment.vaderSentiment import SentimentIntensityAnalyzer"
   ]
  },
  {
   "cell_type": "markdown",
   "metadata": {},
   "source": [
    "cp thomasyoung/opt/anaconda3/envs/nlp_env/lib/python3.6/site-packages/gensim/test/test_data/lda_nounsonly_5topics.gensim.id2word thomasyoung/opt/anaconda3/envs/nlp_envp3/lib/python3.6/site-packages/gensim/test/test_data/lda_nounsonly_5topics.gensim.id2word\n",
    "\n",
    "cp thomasyoung/opt/anaconda3/envs/nlp_env/lib/python3.6/site-packages/gensim/test/test_data/lda_nounsonly_5topics.gensim.state thomasyoung/opt/anaconda3/envs/nlp_envp3/lib/python3.6/site-packages/gensim/test/test_data/lda_nounsonly_5topics.gensim.state\n",
    "\n",
    "cp thomasyoung/opt/anaconda3/envs/nlp_env/lib/python3.6/site-packages/gensim/test/test_data/lda_nounsonly_5topics.gensim.expElogbeta.npy thomasyoung/opt/anaconda3/envs/nlp_envp3/lib/python3.6/site-packages/gensim/test/test_data/lda_nounsonly_5topics.gensim.expElogbeta.npy\n",
    "\n",
    "cp thomasyoung/opt/anaconda3/envs/nlp_env/lib/python3.6/site-packages/gensim/test/test_data/lda_nounsonly_5topics.gensim thomasyoung/opt/anaconda3/envs/nlp_envp3/lib/python3.6/site-packages/gensim/test/test_data/lda_nounsonly_5topics.gensim               "
   ]
  },
  {
   "cell_type": "code",
   "execution_count": 2,
   "metadata": {},
   "outputs": [
    {
     "name": "stdout",
     "output_type": "stream",
     "text": [
      "(244523, 3)\n",
      "(26371, 3)\n",
      "(26358, 3)\n"
     ]
    }
   ],
   "source": [
    "sentdf = pd.read_csv('./ProcessedData/reviewsentences_lemmatized.csv')\n",
    "print(sentdf.shape)\n",
    "\n",
    "#Only use a subset of 8000 reviews to compare different thresholds\n",
    "shops = pd.read_csv('./ProcessedData/coffeeshops_withcfcutoff.csv')\n",
    "reviews = pd.read_csv('./ProcessedData/lemmatizedreviews.csv')\n",
    "reviews.rename(columns = {'rating':'review_rating'},inplace=True)\n",
    "merged = pd.merge(shops,reviews,how='inner',on = ['alias'])\n",
    "\n",
    "#\n",
    "allrevidx = merged.reviewidx.unique().tolist()\n",
    "subsetrevidx = random.sample(allrevidx,5000)\n",
    "sentdf = sentdf[sentdf.reviewidx.isin(subsetrevidx)]\n",
    "print(sentdf.shape)\n",
    "\n",
    "#dropnan\n",
    "sentdf = sentdf.dropna(axis=0)\n",
    "print(sentdf.shape)\n",
    "\n",
    "#rest index\n",
    "sentdf.reset_index(inplace=True, drop = True)"
   ]
  },
  {
   "cell_type": "code",
   "execution_count": 3,
   "metadata": {},
   "outputs": [],
   "source": [
    "#Loading the previously trained LDA model\n",
    "\n",
    "dictionary = gensim.corpora.Dictionary.load('dictionary_allreviews_nouns.gensim')\n",
    "corpus = pickle.load(open('corpus_allreviews_nouns.pkl', 'rb'))\n",
    "\n",
    "temp_file = datapath(\"lda_nounsonly_5topics.gensim\")\n",
    "lda = gensim.models.ldamodel.LdaModel.load(temp_file)\n"
   ]
  },
  {
   "cell_type": "code",
   "execution_count": 4,
   "metadata": {},
   "outputs": [
    {
     "data": {
      "text/plain": [
       "<matplotlib.axes._subplots.AxesSubplot at 0x7f92562d1748>"
      ]
     },
     "execution_count": 4,
     "metadata": {},
     "output_type": "execute_result"
    },
    {
     "data": {
      "image/png": "[encoded data removed]",
      "text/plain": [
       "<Figure size 432x288 with 1 Axes>"
      ]
     },
     "metadata": {
      "needs_background": "light"
     },
     "output_type": "display_data"
    }
   ],
   "source": [
    "#Vader Sentiment Analyzer\n",
    "analyzer = SentimentIntensityAnalyzer()\n",
    "\n",
    "#Getting sentiments\n",
    "vs = [analyzer.polarity_scores(sentence)['compound'] for sentence in sentdf.sentence]\n",
    "sentdf['vs'] = pd.Series(vs)\n",
    "sns.distplot(sentdf['vs'])"
   ]
  },
  {
   "cell_type": "code",
   "execution_count": 5,
   "metadata": {},
   "outputs": [
    {
     "data": {
      "text/html": [
       "<div>\n",
       "<style scoped>\n",
       "    .dataframe tbody tr th:only-of-type {\n",
       "        vertical-align: middle;\n",
       "    }\n",
       "\n",
       "    .dataframe tbody tr th {\n",
       "        vertical-align: top;\n",
       "    }\n",
       "\n",
       "    .dataframe thead th {\n",
       "        text-align: right;\n",
       "    }\n",
       "</style>\n",
       "<table border=\"1\" class=\"dataframe\">\n",
       "  <thead>\n",
       "    <tr style=\"text-align: right;\">\n",
       "      <th></th>\n",
       "      <th>t0</th>\n",
       "      <th>t1</th>\n",
       "      <th>t2</th>\n",
       "      <th>t3</th>\n",
       "      <th>t4</th>\n",
       "    </tr>\n",
       "  </thead>\n",
       "  <tbody>\n",
       "    <tr>\n",
       "      <th>0</th>\n",
       "      <td>0.186482</td>\n",
       "      <td>0.758314</td>\n",
       "      <td>0.018326</td>\n",
       "      <td>0.018572</td>\n",
       "      <td>0.018307</td>\n",
       "    </tr>\n",
       "    <tr>\n",
       "      <th>1</th>\n",
       "      <td>0.517176</td>\n",
       "      <td>0.211662</td>\n",
       "      <td>0.168033</td>\n",
       "      <td>0.050048</td>\n",
       "      <td>0.053081</td>\n",
       "    </tr>\n",
       "    <tr>\n",
       "      <th>2</th>\n",
       "      <td>0.050473</td>\n",
       "      <td>0.199003</td>\n",
       "      <td>0.050004</td>\n",
       "      <td>0.400572</td>\n",
       "      <td>0.299948</td>\n",
       "    </tr>\n",
       "    <tr>\n",
       "      <th>3</th>\n",
       "      <td>0.019618</td>\n",
       "      <td>0.019597</td>\n",
       "      <td>0.604114</td>\n",
       "      <td>0.337044</td>\n",
       "      <td>0.019627</td>\n",
       "    </tr>\n",
       "    <tr>\n",
       "      <th>4</th>\n",
       "      <td>0.837206</td>\n",
       "      <td>0.041794</td>\n",
       "      <td>0.040499</td>\n",
       "      <td>0.040026</td>\n",
       "      <td>0.040475</td>\n",
       "    </tr>\n",
       "    <tr>\n",
       "      <th>5</th>\n",
       "      <td>0.486768</td>\n",
       "      <td>0.322921</td>\n",
       "      <td>0.023971</td>\n",
       "      <td>0.023328</td>\n",
       "      <td>0.143012</td>\n",
       "    </tr>\n",
       "    <tr>\n",
       "      <th>6</th>\n",
       "      <td>0.776111</td>\n",
       "      <td>0.025380</td>\n",
       "      <td>0.147780</td>\n",
       "      <td>0.025412</td>\n",
       "      <td>0.025317</td>\n",
       "    </tr>\n",
       "    <tr>\n",
       "      <th>7</th>\n",
       "      <td>0.487023</td>\n",
       "      <td>0.403139</td>\n",
       "      <td>0.011280</td>\n",
       "      <td>0.011286</td>\n",
       "      <td>0.087272</td>\n",
       "    </tr>\n",
       "    <tr>\n",
       "      <th>8</th>\n",
       "      <td>0.200000</td>\n",
       "      <td>0.200000</td>\n",
       "      <td>0.200000</td>\n",
       "      <td>0.200000</td>\n",
       "      <td>0.200000</td>\n",
       "    </tr>\n",
       "    <tr>\n",
       "      <th>9</th>\n",
       "      <td>0.303304</td>\n",
       "      <td>0.236312</td>\n",
       "      <td>0.029691</td>\n",
       "      <td>0.209961</td>\n",
       "      <td>0.220732</td>\n",
       "    </tr>\n",
       "  </tbody>\n",
       "</table>\n",
       "</div>"
      ],
      "text/plain": [
       "         t0        t1        t2        t3        t4\n",
       "0  0.186482  0.758314  0.018326  0.018572  0.018307\n",
       "1  0.517176  0.211662  0.168033  0.050048  0.053081\n",
       "2  0.050473  0.199003  0.050004  0.400572  0.299948\n",
       "3  0.019618  0.019597  0.604114  0.337044  0.019627\n",
       "4  0.837206  0.041794  0.040499  0.040026  0.040475\n",
       "5  0.486768  0.322921  0.023971  0.023328  0.143012\n",
       "6  0.776111  0.025380  0.147780  0.025412  0.025317\n",
       "7  0.487023  0.403139  0.011280  0.011286  0.087272\n",
       "8  0.200000  0.200000  0.200000  0.200000  0.200000\n",
       "9  0.303304  0.236312  0.029691  0.209961  0.220732"
      ]
     },
     "execution_count": 5,
     "metadata": {},
     "output_type": "execute_result"
    }
   ],
   "source": [
    "ldavecs = nlp_helpers.getldavec(sentdf.lemsentence.tolist(),dictionary,lda)\n",
    "ldavdf = pd.DataFrame(ldavecs,columns = ['t0','t1','t2','t3','t4'])\n",
    "ldavdf.head(10)"
   ]
  },
  {
   "cell_type": "code",
   "execution_count": 6,
   "metadata": {},
   "outputs": [
    {
     "data": {
      "text/plain": [
       "(145, 5)"
      ]
     },
     "execution_count": 6,
     "metadata": {},
     "output_type": "execute_result"
    }
   ],
   "source": [
    "ldavdf[ldavdf.isnull().any(axis=1)].shape"
   ]
  },
  {
   "cell_type": "code",
   "execution_count": 7,
   "metadata": {},
   "outputs": [
    {
     "name": "stdout",
     "output_type": "stream",
     "text": [
      "['0.2_soft', '0.2_hard', '0.4_soft', '0.4_hard', '0.6_soft', '0.6_hard', '0.8_soft', '0.8_hard']\n"
     ]
    }
   ],
   "source": [
    "thresh = [0.2,0.4,0.6,0.8]\n",
    "threshtype = ['soft','hard']\n",
    "prefix = ['t0s','t1s','t2s','t3s','t4s']\n",
    "\n",
    "names = []\n",
    "results = []\n",
    "for thr in thresh:\n",
    "    for thrt in threshtype:\n",
    "        names.append('_'.join([str(thr),thrt]))\n",
    "        results.append(nlp_helpers.sentencebasedsentiment(vs,ldavecs,thr,thrt=='soft'))\n",
    "\n",
    "print(names)"
   ]
  },
  {
   "cell_type": "code",
   "execution_count": 10,
   "metadata": {
    "scrolled": false
   },
   "outputs": [
    {
     "name": "stdout",
     "output_type": "stream",
     "text": [
      " Friendly caring staff with a simple yet welcoming environment\n",
      "[0.2002273847222328, 0.27264701618254183, 0.18874975791573526, nan, nan]\n",
      " I live around the corner and I walk in here a couple times a week\n",
      "[nan, 0.0, 0.0, nan, nan]\n",
      " \n",
      "\n",
      "Delicious regular coffee\n",
      "[0.257888571023941, nan, nan, 0.2129704046010971, nan]\n",
      " I hit my 10 purchased drinks reward today and got a free drink\n",
      "[nan, nan, 0.580953929245472, nan, nan]\n",
      " Asked the barista for something fancy\n",
      "[0.0, nan, 0.0, nan, 0.0]\n",
      " He hooked me up with a quad shot oat-mocha or \"Oatka\"\n",
      "[0.0, nan, nan, nan, nan]\n",
      " It was, I'm quite sure, the best coffee drink I've ever had! \n",
      "\n",
      "Bravo 787\n",
      "[0.30914569795131686, nan, 0.25172959417104723, nan, 0.18930438056588175]\n",
      "Had an iced latte it was delightful\n",
      "[0.36643534399867056, nan, nan, nan, nan]\n",
      " Staff very friendly\n",
      "[nan, nan, nan, 0.39311602378487587, nan]\n",
      " Overall chill vibe\n",
      "[nan, 0.0, nan, nan, nan]\n",
      " Delicious quesitos\n",
      "[0.38624357907176016, nan, nan, nan, nan]\n",
      "Blue stone lane has good quality creamers\n",
      "[0.2599907052755356, nan, nan, nan, nan]\n",
      " The customer service here sucks though\n",
      "[nan, nan, -0.2887656817674637, nan, nan]\n",
      " The barista was really rude in his demeanor\n",
      "[nan, nan, -0.15225478217005728, nan, -0.2801653318405151]\n",
      " Really ruins an experience!\n",
      "[nan, nan, -0.39567724227905277, nan, nan]\n",
      "Great place to relax and have yourself a flat white ( large with oat milk please)!   The Aussies have invaded and redefined the coffee game\n",
      "[0.49665508400201797, 0.25301502926945685, nan, nan, nan]\n",
      "   This located has a limited amount of space so be sure to get here early and get yourself a flat white with avocado toast!\n",
      "[0.059659968495368955, 0.10719606310129165, nan, 0.058833950042724605, nan]\n",
      "This is a CASHLESS business\n",
      "[nan, nan, 0.0, nan, nan]\n",
      " Bluestone Lane rejects legal federal tender in interest of classist policies designed to limit access of service to the poor and to collect consumer data\n",
      "[-0.1328035514652729, nan, -0.16745911315083503, nan, nan]\n",
      " Resist this model and this business\n",
      "[0.0, nan, nan, nan, nan]\n",
      " This policy only serves big credit/debit corporations and is discriminatory\n",
      "[0.0, nan, nan, nan, 0.0]\n",
      " Buy your coffee elsewhere\n",
      "[0.0, nan, nan, nan, 0.0]\n",
      " There are hundreds of excellent coffee shops in this neighborhood that accept cash\n",
      "[0.5113246704936028, 0.1568833801150322, nan, nan, nan]\n",
      "This place is adorable, I'm so glad I came!\n",
      "I love scoping out cute brunch places and this was definitely bookmarked for a visit\n",
      "[0.440692802631855, nan, nan, 0.2080329571902752, nan]\n",
      "\n",
      "\n",
      "I was really impressed with the service because I feel like in a place like NYC, even the quaint restaurants can be rude, but the server was really patient with me and my friends\n",
      "[0.22765817534923555, 0.18864981620907784, nan, 0.19899217829704285, nan]\n",
      " We took forever to decide and drank tons of water because we were really hungover (lol)\n",
      "\n",
      "Greenhead with a side of salmon: I got this and it was really good! The more I ate, the more bland\n",
      "[nan, 0.15949725701808928, 0.20898674998283384, 0.27420687406063077, nan]\n",
      " I really couldn't finish it because something about it was just too salty and the vegetables inside just got soggy and blegh\n",
      "[0.0, nan, nan, 0.0, 0.0]\n",
      " But if you're a fast eater, then go for it\n",
      "[nan, 0.0, 0.0, 0.0, nan]\n",
      " I highly recommend getting something on the side like the salmon or bacon to help you finish the dish because the thing itself just has too much veggies (i'm a meat lover)\n",
      "[0.19616356296837328, nan, nan, 0.5465662480294704, nan]\n",
      " the toast that it came with was really hard so I only took a couple bites and gave up because i don't like to abuse my teeth like that, but the center is definitely softer\n",
      "[0.29567622786760334, nan, nan, nan, 0.15573361830413343]\n",
      "\n",
      "\n",
      "My friend got some kind of toast with salmon and avocado and that was definitely better! toast was still hard and chewy af but it didn't get bad the more you ate it\n",
      "[nan, nan, nan, 0.6722518938660622, nan]\n",
      " it was more refreshing with every bite!\n",
      "\n",
      "the atmosphere was great, there was more seating than i had expected, but it still is definitely a bit cramped so I don't know if i would recommend parties larger than 4 at a time\n",
      "[nan, 0.5292368855178357, nan, nan, 0.2519869643896818]\n",
      "\n",
      "\n",
      "also they had no ketchup and it made me sad\n",
      "[nan, nan, -0.2590437239170074, -0.25917358142137525, nan]\n",
      "What a beautiful, well-lite coffee spot! This new location of Bluestone Lane is my favorite so far in New York City\n",
      "[0.3904086227416992, nan, nan, 0.21790326991081238, nan]\n"
     ]
    }
   ],
   "source": [
    "#lda_sent_pt5_soft[0:10]\n",
    "for i in range(4286,4320):\n",
    "    print(sentdf.sentence[i])\n",
    "    print(results[0][i])\n"
   ]
  },
  {
   "cell_type": "code",
   "execution_count": 11,
   "metadata": {},
   "outputs": [],
   "source": [
    "#Need to group the sentence results together to get a sentiment score at the review level\n",
    "#Then need to save the results to the data frame so they can further be analyzed\n",
    "for i,name in enumerate(names):\n",
    "    newdf = pd.DataFrame(results[i])\n",
    "    newdf.columns = ['t' + str(i) + 's_' + name for i in range(5)]\n",
    "    sentdf = pd.concat([sentdf,newdf],axis=1)\n",
    "\n"
   ]
  },
  {
   "cell_type": "code",
   "execution_count": 13,
   "metadata": {},
   "outputs": [
    {
     "name": "stdout",
     "output_type": "stream",
     "text": [
      "       reviewidx                                           sentence  \\\n",
      "26348      51889  Best vegan muffin (strawberry ginger) ever!!  ...   \n",
      "26349      51889            \\n\\nLittle Bean is friendlier than ever   \n",
      "26350      51926  A lovely coffee shop in Harlem, a block north ...   \n",
      "26351      51926   Once you step in the place, you'll be welcome...   \n",
      "26352      51926   The coffee is very good and it is simply a ni...   \n",
      "26353      51926   I couldn't be more excited to finally have a ...   \n",
      "26354      52191  I tired to order a coffee under promotion but ...   \n",
      "26355      52191   The adverts didn't mention any dates or limit...   \n",
      "26356      52191                            This is very misleading   \n",
      "26357      52191   The server at the check out shrugged and said...   \n",
      "\n",
      "                                             lemsentence      vs  \\\n",
      "26348  good vegan muffin strawberry ginger ever thril...  0.8264   \n",
      "26349                        little bean friendlier ever  0.4091   \n",
      "26350  lovely coffee shop harlem block north central_...  0.2263   \n",
      "26351           step place welcome friendly claire chris  0.7089   \n",
      "26352  coffee good simply nice space take little brea...  0.7178   \n",
      "26353             excite finally place like neighborhood  0.0637   \n",
      "26354  tired order coffee promotion tell promo start ... -0.2382   \n",
      "26355                     advert mention date limitation -0.2960   \n",
      "26356                                         misleading -0.4576   \n",
      "26357  server check shrug say manager call put advert...  0.0000   \n",
      "\n",
      "       t0s_0.2_soft  t1s_0.2_soft  t2s_0.2_soft  t3s_0.2_soft  t4s_0.2_soft  \\\n",
      "26348      0.344661           NaN           NaN           NaN      0.410061   \n",
      "26349      0.259543           NaN           NaN           NaN           NaN   \n",
      "26350      0.137203           NaN           NaN           NaN           NaN   \n",
      "26351           NaN      0.412412           NaN      0.210748           NaN   \n",
      "26352      0.301046      0.280966           NaN           NaN           NaN   \n",
      "26353      0.050862           NaN           NaN           NaN           NaN   \n",
      "26354     -0.074031           NaN     -0.091972           NaN           NaN   \n",
      "26355           NaN     -0.248237           NaN           NaN           NaN   \n",
      "26356           NaN           NaN           NaN     -0.237852           NaN   \n",
      "26357           NaN           NaN      0.000000           NaN           NaN   \n",
      "\n",
      "       t0s_0.2_hard  ...  t0s_0.8_soft  t1s_0.8_soft  t2s_0.8_soft  \\\n",
      "26348        0.8264  ...           NaN           NaN           NaN   \n",
      "26349        0.4091  ...           NaN           NaN           NaN   \n",
      "26350        0.2263  ...           NaN           NaN           NaN   \n",
      "26351           NaN  ...           NaN           NaN           NaN   \n",
      "26352        0.7178  ...           NaN           NaN           NaN   \n",
      "26353        0.0637  ...           NaN           NaN           NaN   \n",
      "26354       -0.2382  ...           NaN           NaN           NaN   \n",
      "26355           NaN  ...           NaN     -0.248237           NaN   \n",
      "26356           NaN  ...           NaN           NaN           NaN   \n",
      "26357           NaN  ...           NaN           NaN           0.0   \n",
      "\n",
      "       t3s_0.8_soft  t4s_0.8_soft  t0s_0.8_hard  t1s_0.8_hard  t2s_0.8_hard  \\\n",
      "26348           NaN           NaN           NaN           NaN           NaN   \n",
      "26349           NaN           NaN           NaN           NaN           NaN   \n",
      "26350           NaN           NaN           NaN           NaN           NaN   \n",
      "26351           NaN           NaN           NaN           NaN           NaN   \n",
      "26352           NaN           NaN           NaN           NaN           NaN   \n",
      "26353           NaN           NaN           NaN           NaN           NaN   \n",
      "26354           NaN           NaN           NaN           NaN           NaN   \n",
      "26355           NaN           NaN           NaN        -0.296           NaN   \n",
      "26356           NaN           NaN           NaN           NaN           NaN   \n",
      "26357           NaN           NaN           NaN           NaN           0.0   \n",
      "\n",
      "       t3s_0.8_hard  t4s_0.8_hard  \n",
      "26348           NaN           NaN  \n",
      "26349           NaN           NaN  \n",
      "26350           NaN           NaN  \n",
      "26351           NaN           NaN  \n",
      "26352           NaN           NaN  \n",
      "26353           NaN           NaN  \n",
      "26354           NaN           NaN  \n",
      "26355           NaN           NaN  \n",
      "26356           NaN           NaN  \n",
      "26357           NaN           NaN  \n",
      "\n",
      "[10 rows x 44 columns]\n"
     ]
    }
   ],
   "source": [
    "print(sentdf.tail(10))"
   ]
  },
  {
   "cell_type": "code",
   "execution_count": 14,
   "metadata": {},
   "outputs": [],
   "source": [
    "sentdf.to_csv('./LDA_5topic_SentimentAssignment/comparingthresholds_reviewsent.csv',index=False)"
   ]
  },
  {
   "cell_type": "code",
   "execution_count": null,
   "metadata": {},
   "outputs": [],
   "source": []
  }
 ],
 "metadata": {
  "kernelspec": {
   "display_name": "nlp_envp3",
   "language": "python",
   "name": "nlp_envp3"
  },
  "language_info": {
   "codemirror_mode": {
    "name": "ipython",
    "version": 3
   },
   "file_extension": ".py",
   "mimetype": "text/x-python",
   "name": "python",
   "nbconvert_exporter": "python",
   "pygments_lexer": "ipython3",
   "version": "3.6.10"
  }
 },
 "nbformat": 4,
 "nbformat_minor": 4
}
