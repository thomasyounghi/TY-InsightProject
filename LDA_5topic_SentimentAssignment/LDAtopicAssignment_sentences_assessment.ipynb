{
 "cells": [
  {
   "cell_type": "markdown",
   "metadata": {},
   "source": [
    "What this notebook does:\n",
    "\n",
    "Compares different methods of assigning sentiment to the 5 LDA topics for each review sentence. The features corresponding to different methods of sentiment->topic assignment are stored in './LDA_5topic_SentimentAssignment/comparingthresholds_reviewsent.csv'.  Features are compared on their ability to predict review rating (after averaging topic sentiment across the sentences of each review).\n",
    "\n",
    "For each sentence (row) in the 'comparingthresholds_reviewsent.csv' file, a compound sentiment score and a set of topic importance scores were calculated. Sentiment were asssigned to a topic based on that topic's importance score. Too low a score threshold, and sentiment gets assigned to irrelevant topics (that the user isn't even discussing). Too high a score threshold, and no topics get assigned sentiment. Additionally the entire sentiment('hard'), or sentiment x topic_importance ('soft') were assigned to the corresponding sentiment.  Each column of the table corresponds to a different combination of threshold, topic, and 'hard vs soft'.\n",
    "\n",
    "To compare different procedures for assigning sentiment to topics, I use the metric of test accuracy in predicting the rating for reviews. Assuming topic specific sentiments are predictive of review rating, I expect procedures that lead to noisy or biased estimates of topic sentiment to degrade predictive performance. \n",
    "\n",
    "To predict review rating from the features being considered, I used a random forest regression model. The main reason behind this choice was to account for the non-linear relationship between Yelp review rating, and sentiment (There is no review higher than 5 or lower than 1).\n",
    "\n",
    "Random forest models containing feature sets were compared:\n",
    "    1) the union of all possible combinations of (topic, importance_threshold, hard_vs_soft),whole review sentiment, and whole review topic importance.\n",
    "    2) the union of all possible combinations of (topic, importance_threshold, hard_vs_soft),whole review sentiment, whole review topic importances, and whole review sentiment weighted by topic importances.\n",
    "    3) Whole review sentiment, whole review topic importances, whole review sentiment weighted by topic importances\n",
    "    4) Whole review sentiment, whole review topic importances, topic sentiments (based on threshold 0.2 and 'soft' assignment of sentiment to topics)\n",
    "    5) Whole review sentiment, whole review topic importances, topic sentiments (based on threshold 0.4 and 'soft' assignment of sentiment to topics)\n",
    "    6) Whole review sentiment, whole review topic importances, topic sentiments (based on threshold 0.6 and 'soft' assignment of sentiment to topics)\n",
    "    8) Whole review sentiment, whole review topic importances, topic sentiments (based on threshold 0.4 and 'hard' assignment of sentiment to topics)\n",
    "    \n",
    "Use of theshold 0.2, and proportional('soft') assignment of sentence sentiment to topics, resulted in slightly better predictive performance. The corresponding features are calculated for all sentences for all reviews, and used to obtain a topic sentiment for each review."
   ]
  },
  {
   "cell_type": "code",
   "execution_count": null,
   "metadata": {},
   "outputs": [],
   "source": [
    "#Step one directory up to access the yelp scraping function in the helper_functions module\n",
    "import os\n",
    "print(os.getcwd())\n",
    "os.chdir('../')\n",
    "os.getcwd()"
   ]
  },
  {
   "cell_type": "code",
   "execution_count": 41,
   "metadata": {},
   "outputs": [],
   "source": [
    "import pandas as pd\n",
    "import matplotlib.pyplot as plt\n",
    "import seaborn as sns\n",
    "\n",
    "from helper_functions import nlp_helpers\n",
    "\n",
    "import gensim\n",
    "import gensim.corpora as corpora\n",
    "from gensim.utils import simple_preprocess\n",
    "from gensim.models import CoherenceModel\n",
    "\n",
    "\n",
    "import pickle\n",
    "from gensim.test.utils import datapath\n",
    "from gensim.models import LdaModel\n",
    "from gensim import corpora\n"
   ]
  },
  {
   "cell_type": "code",
   "execution_count": 42,
   "metadata": {},
   "outputs": [],
   "source": [
    "sentdf = pd.read_csv('./sentiment_sentence_ldaassignment/comparingthresholds_reviewsent.csv')\n",
    "reviews = pd.read_csv('./ProcessedData/lemmatizedreviews.csv')\n",
    "reviews = reviews.dropna(axis=0)"
   ]
  },
  {
   "cell_type": "code",
   "execution_count": 43,
   "metadata": {},
   "outputs": [],
   "source": [
    "#Loading the previously trained LDA model\n",
    "\n",
    "dictionary = gensim.corpora.Dictionary.load('dictionary_allreviews_nouns.gensim')\n",
    "corpus = pickle.load(open('corpus_allreviews_nouns.pkl', 'rb'))\n",
    "\n",
    "temp_file = datapath(\"lda_nounsonly_5topics.gensim\")\n",
    "lda = gensim.models.ldamodel.LdaModel.load(temp_file)"
   ]
  },
  {
   "cell_type": "code",
   "execution_count": 44,
   "metadata": {},
   "outputs": [],
   "source": [
    "ldavecs = nlp_helpers.getldavec(reviews.review_lem_noun.tolist(),dictionary,lda)"
   ]
  },
  {
   "cell_type": "code",
   "execution_count": 45,
   "metadata": {},
   "outputs": [],
   "source": [
    "#get vader sentiment for each review \n",
    "from vaderSentiment.vaderSentiment import SentimentIntensityAnalyzer\n",
    "analyzer = SentimentIntensityAnalyzer()\n",
    "vs = [analyzer.polarity_scores(txt)['compound'] for txt in reviews.reviewtxt.to_list()]\n"
   ]
  },
  {
   "cell_type": "code",
   "execution_count": 46,
   "metadata": {},
   "outputs": [],
   "source": [
    "topicweightedsent = [[component*sent for component in vec] for (vec,sent) in zip(ldavecs,vs)]"
   ]
  },
  {
   "cell_type": "code",
   "execution_count": 47,
   "metadata": {},
   "outputs": [],
   "source": [
    "\n",
    "reviews.reset_index(inplace=True, drop = True)\n",
    "ldavecdf = pd.DataFrame(ldavecs)\n",
    "ldavecdf.columns = ['t0','t1','t2','t3','t4']\n",
    "ldavecdf.fillna(value = 0,inplace=True)\n",
    "\n",
    "topicwsentdf = pd.DataFrame(topicweightedsent)\n",
    "topicwsentdf.columns = ['t0s_wholerev','t1s_wholerev','t2s_wholerev','t3s_wholerev','t4s_wholerev']\n",
    "topicwsentdf.fillna(value=0, inplace=True)\n",
    "\n",
    "\n",
    "reviews = pd.concat([reviews,ldavecdf,topicwsentdf],axis=1)\n",
    "reviews['vs'] = pd.Series(vs)\n",
    "reviews['reviewlen'] = reviews['mreviewtxt'].str.len()"
   ]
  },
  {
   "cell_type": "code",
   "execution_count": 48,
   "metadata": {},
   "outputs": [
    {
     "data": {
      "text/html": [
       "<div>\n",
       "<style scoped>\n",
       "    .dataframe tbody tr th:only-of-type {\n",
       "        vertical-align: middle;\n",
       "    }\n",
       "\n",
       "    .dataframe tbody tr th {\n",
       "        vertical-align: top;\n",
       "    }\n",
       "\n",
       "    .dataframe thead th {\n",
       "        text-align: right;\n",
       "    }\n",
       "</style>\n",
       "<table border=\"1\" class=\"dataframe\">\n",
       "  <thead>\n",
       "    <tr style=\"text-align: right;\">\n",
       "      <th></th>\n",
       "      <th>reviewidx</th>\n",
       "      <th>shopidx</th>\n",
       "      <th>alias</th>\n",
       "      <th>date</th>\n",
       "      <th>revrating</th>\n",
       "      <th>reviewtxt</th>\n",
       "      <th>mreviewtxt</th>\n",
       "      <th>review_lem_noun</th>\n",
       "      <th>review_lem_nounverb</th>\n",
       "      <th>review_lem_nounadj</th>\n",
       "      <th>...</th>\n",
       "      <th>t2</th>\n",
       "      <th>t3</th>\n",
       "      <th>t4</th>\n",
       "      <th>t0s_wholerev</th>\n",
       "      <th>t1s_wholerev</th>\n",
       "      <th>t2s_wholerev</th>\n",
       "      <th>t3s_wholerev</th>\n",
       "      <th>t4s_wholerev</th>\n",
       "      <th>vs</th>\n",
       "      <th>reviewlen</th>\n",
       "    </tr>\n",
       "  </thead>\n",
       "  <tbody>\n",
       "    <tr>\n",
       "      <th>0</th>\n",
       "      <td>6</td>\n",
       "      <td>0</td>\n",
       "      <td>little-canal-new-york-2</td>\n",
       "      <td>2019-12-21</td>\n",
       "      <td>3.0</td>\n",
       "      <td>It was my first time to the Little Canal.  I w...</td>\n",
       "      <td>it was my first time to the little canal.  i w...</td>\n",
       "      <td>time canal review person oat latte way catch f...</td>\n",
       "      <td>time canal look ice decide come see review per...</td>\n",
       "      <td>first time little canal positive review interi...</td>\n",
       "      <td>...</td>\n",
       "      <td>0.269288</td>\n",
       "      <td>0.019133</td>\n",
       "      <td>0.019149</td>\n",
       "      <td>0.301664</td>\n",
       "      <td>0.340980</td>\n",
       "      <td>0.249926</td>\n",
       "      <td>0.017757</td>\n",
       "      <td>0.017772</td>\n",
       "      <td>0.9281</td>\n",
       "      <td>458</td>\n",
       "    </tr>\n",
       "    <tr>\n",
       "      <th>1</th>\n",
       "      <td>7</td>\n",
       "      <td>0</td>\n",
       "      <td>little-canal-new-york-2</td>\n",
       "      <td>2019-12-19</td>\n",
       "      <td>5.0</td>\n",
       "      <td>Just moved to the area and although there are ...</td>\n",
       "      <td>just moved to the area and although there are ...</td>\n",
       "      <td>cafe neighborhood spot job staff vibe anxiety ...</td>\n",
       "      <td>move cafe choose stop work feel neighborhood s...</td>\n",
       "      <td>many cafe favorite friendly neighborhood spot ...</td>\n",
       "      <td>...</td>\n",
       "      <td>0.278795</td>\n",
       "      <td>0.172469</td>\n",
       "      <td>0.011133</td>\n",
       "      <td>0.262258</td>\n",
       "      <td>0.254110</td>\n",
       "      <td>0.267782</td>\n",
       "      <td>0.165656</td>\n",
       "      <td>0.010693</td>\n",
       "      <td>0.9605</td>\n",
       "      <td>751</td>\n",
       "    </tr>\n",
       "    <tr>\n",
       "      <th>2</th>\n",
       "      <td>8</td>\n",
       "      <td>0</td>\n",
       "      <td>little-canal-new-york-2</td>\n",
       "      <td>2019-12-14</td>\n",
       "      <td>5.0</td>\n",
       "      <td>Daytime: cafe. Nighttime: chillest, coziest ba...</td>\n",
       "      <td>daytime: cafe. nighttime: chillest  coziest ba...</td>\n",
       "      <td>nighttime bar vibe vibe price bank table wait ...</td>\n",
       "      <td>nighttime bar could want come vibe stay vibe p...</td>\n",
       "      <td>nighttime cozy bar vibe vibe price bank weekni...</td>\n",
       "      <td>...</td>\n",
       "      <td>0.238303</td>\n",
       "      <td>0.117720</td>\n",
       "      <td>0.011884</td>\n",
       "      <td>0.011603</td>\n",
       "      <td>0.602728</td>\n",
       "      <td>0.231607</td>\n",
       "      <td>0.114412</td>\n",
       "      <td>0.011550</td>\n",
       "      <td>0.9719</td>\n",
       "      <td>478</td>\n",
       "    </tr>\n",
       "    <tr>\n",
       "      <th>3</th>\n",
       "      <td>9</td>\n",
       "      <td>0</td>\n",
       "      <td>little-canal-new-york-2</td>\n",
       "      <td>2019-11-04</td>\n",
       "      <td>4.0</td>\n",
       "      <td>I always end up in here after I go to the Metr...</td>\n",
       "      <td>i always end up in here after i go to the metr...</td>\n",
       "      <td>spritz commissary canal hip atmosphere pretens...</td>\n",
       "      <td>want spend spritz commissary canal chill hip a...</td>\n",
       "      <td>spritz commissary little canal hip atmosphere ...</td>\n",
       "      <td>...</td>\n",
       "      <td>0.079134</td>\n",
       "      <td>0.000000</td>\n",
       "      <td>0.000000</td>\n",
       "      <td>0.142463</td>\n",
       "      <td>0.754150</td>\n",
       "      <td>0.077773</td>\n",
       "      <td>0.000000</td>\n",
       "      <td>0.000000</td>\n",
       "      <td>0.9828</td>\n",
       "      <td>1427</td>\n",
       "    </tr>\n",
       "    <tr>\n",
       "      <th>4</th>\n",
       "      <td>10</td>\n",
       "      <td>0</td>\n",
       "      <td>little-canal-new-york-2</td>\n",
       "      <td>2019-10-26</td>\n",
       "      <td>5.0</td>\n",
       "      <td>Stopped here Sunday 10/11/19 late in the day a...</td>\n",
       "      <td>stopped here sunday  / /  late in the day afte...</td>\n",
       "      <td>gallery beer hummus sandwich day sort way service</td>\n",
       "      <td>stop gallery open beer hummus sandwich would e...</td>\n",
       "      <td>gallery nearby fantastic beer hummus sandwich ...</td>\n",
       "      <td>...</td>\n",
       "      <td>0.443779</td>\n",
       "      <td>0.307111</td>\n",
       "      <td>0.022434</td>\n",
       "      <td>0.019255</td>\n",
       "      <td>0.175141</td>\n",
       "      <td>0.380585</td>\n",
       "      <td>0.263379</td>\n",
       "      <td>0.019240</td>\n",
       "      <td>0.8576</td>\n",
       "      <td>272</td>\n",
       "    </tr>\n",
       "  </tbody>\n",
       "</table>\n",
       "<p>5 rows × 24 columns</p>\n",
       "</div>"
      ],
      "text/plain": [
       "   reviewidx  shopidx                    alias        date  revrating  \\\n",
       "0          6        0  little-canal-new-york-2  2019-12-21        3.0   \n",
       "1          7        0  little-canal-new-york-2  2019-12-19        5.0   \n",
       "2          8        0  little-canal-new-york-2  2019-12-14        5.0   \n",
       "3          9        0  little-canal-new-york-2  2019-11-04        4.0   \n",
       "4         10        0  little-canal-new-york-2  2019-10-26        5.0   \n",
       "\n",
       "                                           reviewtxt  \\\n",
       "0  It was my first time to the Little Canal.  I w...   \n",
       "1  Just moved to the area and although there are ...   \n",
       "2  Daytime: cafe. Nighttime: chillest, coziest ba...   \n",
       "3  I always end up in here after I go to the Metr...   \n",
       "4  Stopped here Sunday 10/11/19 late in the day a...   \n",
       "\n",
       "                                          mreviewtxt  \\\n",
       "0  it was my first time to the little canal.  i w...   \n",
       "1  just moved to the area and although there are ...   \n",
       "2  daytime: cafe. nighttime: chillest  coziest ba...   \n",
       "3  i always end up in here after i go to the metr...   \n",
       "4  stopped here sunday  / /  late in the day afte...   \n",
       "\n",
       "                                     review_lem_noun  \\\n",
       "0  time canal review person oat latte way catch f...   \n",
       "1  cafe neighborhood spot job staff vibe anxiety ...   \n",
       "2  nighttime bar vibe vibe price bank table wait ...   \n",
       "3  spritz commissary canal hip atmosphere pretens...   \n",
       "4  gallery beer hummus sandwich day sort way service   \n",
       "\n",
       "                                 review_lem_nounverb  \\\n",
       "0  time canal look ice decide come see review per...   \n",
       "1  move cafe choose stop work feel neighborhood s...   \n",
       "2  nighttime bar could want come vibe stay vibe p...   \n",
       "3  want spend spritz commissary canal chill hip a...   \n",
       "4  stop gallery open beer hummus sandwich would e...   \n",
       "\n",
       "                                  review_lem_nounadj  ...        t2        t3  \\\n",
       "0  first time little canal positive review interi...  ...  0.269288  0.019133   \n",
       "1  many cafe favorite friendly neighborhood spot ...  ...  0.278795  0.172469   \n",
       "2  nighttime cozy bar vibe vibe price bank weekni...  ...  0.238303  0.117720   \n",
       "3  spritz commissary little canal hip atmosphere ...  ...  0.079134  0.000000   \n",
       "4  gallery nearby fantastic beer hummus sandwich ...  ...  0.443779  0.307111   \n",
       "\n",
       "         t4  t0s_wholerev  t1s_wholerev  t2s_wholerev  t3s_wholerev  \\\n",
       "0  0.019149      0.301664      0.340980      0.249926      0.017757   \n",
       "1  0.011133      0.262258      0.254110      0.267782      0.165656   \n",
       "2  0.011884      0.011603      0.602728      0.231607      0.114412   \n",
       "3  0.000000      0.142463      0.754150      0.077773      0.000000   \n",
       "4  0.022434      0.019255      0.175141      0.380585      0.263379   \n",
       "\n",
       "   t4s_wholerev      vs  reviewlen  \n",
       "0      0.017772  0.9281        458  \n",
       "1      0.010693  0.9605        751  \n",
       "2      0.011550  0.9719        478  \n",
       "3      0.000000  0.9828       1427  \n",
       "4      0.019240  0.8576        272  \n",
       "\n",
       "[5 rows x 24 columns]"
      ]
     },
     "execution_count": 48,
     "metadata": {},
     "output_type": "execute_result"
    }
   ],
   "source": [
    "reviews.head(5)"
   ]
  },
  {
   "cell_type": "code",
   "execution_count": 49,
   "metadata": {},
   "outputs": [
    {
     "name": "stdout",
     "output_type": "stream",
     "text": [
      "         reviewidx           vs  t0s_0.2_soft  t1s_0.2_soft  t2s_0.2_soft  \\\n",
      "count   5000.00000  5000.000000   4517.000000   4032.000000   3931.000000   \n",
      "mean   27210.89220     0.280040      0.137999      0.127834      0.065731   \n",
      "std    17065.44638     0.324883      0.167887      0.160085      0.164056   \n",
      "min       11.00000    -0.953300     -0.528501     -0.601216     -0.825713   \n",
      "25%    13071.75000     0.072186      0.015221      0.000000     -0.012243   \n",
      "50%    25862.50000     0.297908      0.140751      0.127359      0.064233   \n",
      "75%    39709.25000     0.496100      0.240342      0.226441      0.170903   \n",
      "max    83010.00000     0.995300      0.865313      0.776717      0.698494   \n",
      "\n",
      "       t3s_0.2_soft  t4s_0.2_soft  t0s_0.2_hard  t1s_0.2_hard  t2s_0.2_hard  \\\n",
      "count   3233.000000   3363.000000   4517.000000   4032.000000   3931.000000   \n",
      "mean       0.125400      0.105516      0.304288      0.303949      0.191396   \n",
      "std        0.150990      0.153720      0.354843      0.355544      0.371208   \n",
      "min       -0.513458     -0.556737     -0.953300     -0.913000     -0.953300   \n",
      "25%        0.000000      0.000000      0.048338      0.000000     -0.019707   \n",
      "50%        0.118423      0.112250      0.332667      0.328550      0.166967   \n",
      "75%        0.216231      0.204341      0.571800      0.585900      0.457950   \n",
      "max        0.771011      0.800808      0.995300      0.995300      0.992200   \n",
      "\n",
      "       ...  t0s_0.8_soft  t1s_0.8_soft  t2s_0.8_soft  t3s_0.8_soft  \\\n",
      "count  ...    573.000000    290.000000    339.000000    112.000000   \n",
      "mean   ...      0.233199      0.287222     -0.048532      0.191274   \n",
      "std    ...      0.317808      0.300176      0.320088      0.280852   \n",
      "min    ...     -0.726572     -0.451073     -0.825713     -0.555317   \n",
      "25%    ...      0.000000      0.000000     -0.256124      0.000000   \n",
      "50%    ...      0.295603      0.340962      0.000000      0.104733   \n",
      "75%    ...      0.478604      0.540579      0.019836      0.399154   \n",
      "max    ...      0.865313      0.818358      0.784883      0.828024   \n",
      "\n",
      "       t4s_0.8_soft  t0s_0.8_hard  t1s_0.8_hard  t2s_0.8_hard  t3s_0.8_hard  \\\n",
      "count    113.000000    573.000000    290.000000    339.000000    112.000000   \n",
      "mean       0.271452      0.273518      0.336811     -0.058018      0.227656   \n",
      "std        0.313276      0.372156      0.350332      0.376800      0.333694   \n",
      "min       -0.512391     -0.876500     -0.526700     -0.904100     -0.639700   \n",
      "25%        0.000000      0.000000      0.000000     -0.296000      0.000000   \n",
      "50%        0.357978      0.361200      0.401900      0.000000      0.124875   \n",
      "75%        0.534825      0.571900      0.624900      0.025800      0.462950   \n",
      "max        0.800808      0.952700      0.925900      0.906200      0.923100   \n",
      "\n",
      "       t4s_0.8_hard  \n",
      "count    113.000000  \n",
      "mean       0.320291  \n",
      "std        0.370117  \n",
      "min       -0.626900  \n",
      "25%        0.000000  \n",
      "50%        0.421500  \n",
      "75%        0.636900  \n",
      "max        0.904300  \n",
      "\n",
      "[8 rows x 42 columns]\n",
      "         reviewidx           vs  t0s_0.2_soft  t1s_0.2_soft  t2s_0.2_soft  \\\n",
      "count   5000.00000  5000.000000   5000.000000   5000.000000   5000.000000   \n",
      "mean   27210.89220     0.280040      0.124668      0.103086      0.051678   \n",
      "std    17065.44638     0.324883      0.164696      0.152370      0.147937   \n",
      "min       11.00000    -0.953300     -0.528501     -0.601216     -0.825713   \n",
      "25%    13071.75000     0.072186      0.000000      0.000000      0.000000   \n",
      "50%    25862.50000     0.297908      0.119539      0.077455      0.000000   \n",
      "75%    39709.25000     0.496100      0.228524      0.201927      0.141030   \n",
      "max    83010.00000     0.995300      0.865313      0.776717      0.698494   \n",
      "\n",
      "       t3s_0.2_soft  t4s_0.2_soft  t0s_0.2_hard  t1s_0.2_hard  t2s_0.2_hard  \\\n",
      "count   5000.000000   5000.000000   5000.000000   5000.000000   5000.000000   \n",
      "mean       0.081084      0.070970      0.274894      0.245105      0.150476   \n",
      "std        0.135402      0.135441      0.349042      0.341115      0.338360   \n",
      "min       -0.513458     -0.556737     -0.953300     -0.913000     -0.953300   \n",
      "25%        0.000000      0.000000      0.000000      0.000000      0.000000   \n",
      "50%        0.000000      0.000000      0.283587      0.202929      0.000000   \n",
      "75%        0.162423      0.159070      0.538575      0.509350      0.382312   \n",
      "max        0.771011      0.800808      0.995300      0.995300      0.992200   \n",
      "\n",
      "       ...  t0s_0.8_soft  t1s_0.8_soft  t2s_0.8_soft  t3s_0.8_soft  \\\n",
      "count  ...   5000.000000   5000.000000   5000.000000   5000.000000   \n",
      "mean   ...      0.026725      0.016659     -0.003290      0.004285   \n",
      "std    ...      0.130675      0.098576      0.084121      0.050525   \n",
      "min    ...     -0.726572     -0.451073     -0.825713     -0.555317   \n",
      "25%    ...      0.000000      0.000000      0.000000      0.000000   \n",
      "50%    ...      0.000000      0.000000      0.000000      0.000000   \n",
      "75%    ...      0.000000      0.000000      0.000000      0.000000   \n",
      "max    ...      0.865313      0.818358      0.784883      0.828024   \n",
      "\n",
      "       t4s_0.8_soft  t0s_0.8_hard  t1s_0.8_hard  t2s_0.8_hard  t3s_0.8_hard  \\\n",
      "count   5000.000000   5000.000000   5000.000000   5000.000000   5000.000000   \n",
      "mean       0.006135      0.031345      0.019535     -0.003934      0.005100   \n",
      "std        0.061861      0.153101      0.115302      0.099058      0.060064   \n",
      "min       -0.512391     -0.876500     -0.526700     -0.904100     -0.639700   \n",
      "25%        0.000000      0.000000      0.000000      0.000000      0.000000   \n",
      "50%        0.000000      0.000000      0.000000      0.000000      0.000000   \n",
      "75%        0.000000      0.000000      0.000000      0.000000      0.000000   \n",
      "max        0.800808      0.952700      0.925900      0.906200      0.923100   \n",
      "\n",
      "       t4s_0.8_hard  \n",
      "count   5000.000000  \n",
      "mean       0.007239  \n",
      "std        0.073045  \n",
      "min       -0.626900  \n",
      "25%        0.000000  \n",
      "50%        0.000000  \n",
      "75%        0.000000  \n",
      "max        0.904300  \n",
      "\n",
      "[8 rows x 42 columns]\n",
      "   reviewidx        vs  t0s_0.2_soft  t1s_0.2_soft  t2s_0.2_soft  \\\n",
      "0         11  0.949200      0.000000      0.719791      0.000000   \n",
      "1         12  0.294600      0.152360      0.062356      0.000000   \n",
      "2         14  0.534567      0.266399      0.000000      0.391828   \n",
      "3         19  0.308075      0.172738      0.119280      0.000000   \n",
      "4         26  0.261279      0.066727      0.134480      0.052216   \n",
      "\n",
      "   t3s_0.2_soft  t4s_0.2_soft  t0s_0.2_hard  t1s_0.2_hard  t2s_0.2_hard  ...  \\\n",
      "0      0.000000      0.000000      0.000000      0.949200       0.00000  ...   \n",
      "1      0.000000      0.000000      0.294600      0.294600       0.00000  ...   \n",
      "2      0.236866      0.191037      0.318200      0.000000       0.64860  ...   \n",
      "3      0.000000      0.000000      0.308075      0.306033       0.00000  ...   \n",
      "4      0.170615      0.255657      0.158764      0.405611       0.09012  ...   \n",
      "\n",
      "   t0s_0.8_soft  t1s_0.8_soft  t2s_0.8_soft  t3s_0.8_soft  t4s_0.8_soft  \\\n",
      "0      0.000000           0.0           0.0           0.0           0.0   \n",
      "1      0.000000           0.0           0.0           0.0           0.0   \n",
      "2      0.266399           0.0           0.0           0.0           0.0   \n",
      "3      0.000000           0.0           0.0           0.0           0.0   \n",
      "4      0.000000           0.0           0.0           0.0           0.0   \n",
      "\n",
      "   t0s_0.8_hard  t1s_0.8_hard  t2s_0.8_hard  t3s_0.8_hard  t4s_0.8_hard  \n",
      "0        0.0000           0.0           0.0           0.0           0.0  \n",
      "1        0.0000           0.0           0.0           0.0           0.0  \n",
      "2        0.3182           0.0           0.0           0.0           0.0  \n",
      "3        0.0000           0.0           0.0           0.0           0.0  \n",
      "4        0.0000           0.0           0.0           0.0           0.0  \n",
      "\n",
      "[5 rows x 42 columns]\n",
      "(5000, 42)\n",
      "Empty DataFrame\n",
      "Columns: [reviewidx, shopidx, alias, date, revrating, reviewtxt, mreviewtxt, review_lem_noun, review_lem_nounverb, review_lem_nounadj, reviewtxt_periodonly, review_lem_withperiod, t0, t1, t2, t3, t4, t0s_wholerev, t1s_wholerev, t2s_wholerev, t3s_wholerev, t4s_wholerev, vs, reviewlen]\n",
      "Index: []\n",
      "\n",
      "[0 rows x 24 columns]\n"
     ]
    }
   ],
   "source": [
    "#Grouping sentences by review and averaging the thresholded lda sentiment scores\n",
    "#Only take the average of non-zero sentiment scores for each topic.\n",
    "#If a topic isn't discussed that should not bring down the average sentiment score for that topic.\n",
    "#sentdf.fillna(value = 0,inplace=True)\n",
    "review_avgsentiment = sentdf.drop(['sentence','lemsentence'],axis=1).groupby(['reviewidx']).mean()\n",
    "review_avgsentiment.reset_index(inplace=True)\n",
    "\n",
    "#At the higher thresholds for assigning sentences to topic (0.8) as much as 90% of reviews in the dataset have an\n",
    "#unknown sentiment for the coffee shop topic\n",
    "print(review_avgsentiment.describe())\n",
    "\n",
    "#Fill the nans with 0. Topic sentiments that are unknown should be set to 0. If a topic didn't come up in a review\n",
    "#the sentiment with respect to that topic should be neutral.\n",
    "#Alternatively, if failure to mention a topic actually corresponds to slightly \n",
    "\n",
    "review_avgsentiment.fillna(value=0,inplace=True)\n",
    "print(review_avgsentiment.describe())\n",
    "\n",
    "print(review_avgsentiment.head(5))\n",
    "print(review_avgsentiment.shape)\n",
    "print(reviews[reviews.isnull().any(axis=1)])"
   ]
  },
  {
   "cell_type": "code",
   "execution_count": 50,
   "metadata": {},
   "outputs": [],
   "source": [
    "wholerevsentiment = ['t' + str(i) + 's_wholerev' for i in range(5)]\n",
    "columnstokeep = ['reviewidx','revrating','t0','t1','t2','t3','t4','vs','reviewlen']\n",
    "columnstokeep.extend(wholerevsentiment)\n",
    "reviews = reviews[columnstokeep]\n",
    "combined_avg = reviews.merge(review_avgsentiment.drop(['vs'],axis=1),how='inner',left_on='reviewidx', right_on='reviewidx')\n"
   ]
  },
  {
   "cell_type": "code",
   "execution_count": 51,
   "metadata": {},
   "outputs": [
    {
     "name": "stdout",
     "output_type": "stream",
     "text": [
      "Index(['t0', 't1', 't2', 't3', 't4', 'vs', 'reviewlen', 't0s_wholerev',\n",
      "       't1s_wholerev', 't2s_wholerev', 't3s_wholerev', 't4s_wholerev',\n",
      "       't0s_0.2_soft', 't1s_0.2_soft', 't2s_0.2_soft', 't3s_0.2_soft',\n",
      "       't4s_0.2_soft', 't0s_0.2_hard', 't1s_0.2_hard', 't2s_0.2_hard',\n",
      "       't3s_0.2_hard', 't4s_0.2_hard', 't0s_0.4_soft', 't1s_0.4_soft',\n",
      "       't2s_0.4_soft', 't3s_0.4_soft', 't4s_0.4_soft', 't0s_0.4_hard',\n",
      "       't1s_0.4_hard', 't2s_0.4_hard', 't3s_0.4_hard', 't4s_0.4_hard',\n",
      "       't0s_0.6_soft', 't1s_0.6_soft', 't2s_0.6_soft', 't3s_0.6_soft',\n",
      "       't4s_0.6_soft', 't0s_0.6_hard', 't1s_0.6_hard', 't2s_0.6_hard',\n",
      "       't3s_0.6_hard', 't4s_0.6_hard', 't0s_0.8_soft', 't1s_0.8_soft',\n",
      "       't2s_0.8_soft', 't3s_0.8_soft', 't4s_0.8_soft', 't0s_0.8_hard',\n",
      "       't1s_0.8_hard', 't2s_0.8_hard', 't3s_0.8_hard', 't4s_0.8_hard'],\n",
      "      dtype='object')\n"
     ]
    }
   ],
   "source": [
    "X = combined_avg.drop(['reviewidx','revrating'],axis=1)\n",
    "print(X.columns)\n",
    "y = combined_avg['revrating']"
   ]
  },
  {
   "cell_type": "code",
   "execution_count": 52,
   "metadata": {},
   "outputs": [
    {
     "data": {
      "text/plain": [
       "(3341,)"
      ]
     },
     "execution_count": 52,
     "metadata": {},
     "output_type": "execute_result"
    }
   ],
   "source": [
    "#Splitting the data into training and test sets\n",
    "from sklearn.model_selection import train_test_split\n",
    "\n",
    "X_train, X_test, y_train, y_test = train_test_split(X, y, test_size=0.33, random_state=42)\n",
    "X_train.shape\n",
    "y_train.shape\n"
   ]
  },
  {
   "cell_type": "code",
   "execution_count": 53,
   "metadata": {},
   "outputs": [
    {
     "name": "stdout",
     "output_type": "stream",
     "text": [
      "OOB scores (R2 on the holdout observations)\n",
      "[100, 1, 'auto', 0.4561965001108207]\n",
      "[100, 1, 'sqrt', 0.3703762990163081]\n",
      "[100, 10, 'auto', 0.5993928206429395]\n",
      "[100, 10, 'sqrt', 0.5926505942953257]\n",
      "[100, 20, 'auto', 0.5894572518384025]\n",
      "[100, 20, 'sqrt', 0.5852372222034161]\n",
      "[100, 30, 'auto', 0.5880430664769731]\n",
      "[100, 30, 'sqrt', 0.5871367619120774]\n",
      "[100, 40, 'auto', 0.5871469477278635]\n",
      "[100, 40, 'sqrt', 0.5905150202084638]\n",
      "[200, 1, 'auto', 0.45518544313574916]\n",
      "[200, 1, 'sqrt', 0.3837708857182772]\n",
      "[200, 10, 'auto', 0.5990516022694647]\n",
      "[200, 10, 'sqrt', 0.6012484908155189]\n",
      "[200, 20, 'auto', 0.594780479441031]\n",
      "[200, 20, 'sqrt', 0.599798954959845]\n",
      "[200, 30, 'auto', 0.597355533106737]\n",
      "[200, 30, 'sqrt', 0.5971243664205479]\n",
      "[200, 40, 'auto', 0.5970595650329548]\n",
      "[200, 40, 'sqrt', 0.5980227704859631]\n",
      "[500, 1, 'auto', 0.456330570547534]\n",
      "[500, 1, 'sqrt', 0.378028937251213]\n",
      "[500, 10, 'auto', 0.6025745564102987]\n",
      "[500, 10, 'sqrt', 0.6005240639761504]\n",
      "[500, 20, 'auto', 0.5985068096942953]\n",
      "[500, 20, 'sqrt', 0.6022000248745848]\n",
      "[500, 30, 'auto', 0.5980186994581674]\n",
      "[500, 30, 'sqrt', 0.6002012066948748]\n",
      "[500, 40, 'auto', 0.5989596399504872]\n",
      "[500, 40, 'sqrt', 0.6005091841025524]\n"
     ]
    }
   ],
   "source": [
    "#A linear model is not very appropriate since values are confined between 0 and 5\n",
    "#Will use the random forest instead and look at random forest importances.\n",
    "#Use random forest regression since there is an ordering to the yelp ratings. 4 is closer to 5 than 1.\n",
    "\n",
    "from sklearn.ensemble import RandomForestRegressor\n",
    "\n",
    "n_estimators = [100,200,500]\n",
    "max_depths = [1,10,20,30,40]\n",
    "max_features = ['auto','sqrt']\n",
    "\n",
    "results = []\n",
    "for n_est in n_estimators:\n",
    "    for max_d in max_depths:\n",
    "        for max_f in max_features:\n",
    "            model = RandomForestRegressor(criterion = \"mse\",max_depth = max_d,n_estimators = n_est,max_features = max_f,oob_score=True).fit(X_train.drop(wholerevsentiment,axis=1),y_train)\n",
    "            result = [n_est,max_d,max_f,model.oob_score_]\n",
    "            results.append(result)\n",
    "            \n",
    "resultdf = pd.DataFrame(results)\n",
    "resultdf.columns = ['n_estimators','max_depth','max_features','oob_score']\n",
    "\n",
    "print('OOB scores (R2 on the holdout observations)')\n",
    "for entry in results:\n",
    "    print(entry)\n"
   ]
  },
  {
   "cell_type": "code",
   "execution_count": 72,
   "metadata": {},
   "outputs": [
    {
     "name": "stdout",
     "output_type": "stream",
     "text": [
      "         feature  importance\n",
      "5             vs    0.182441\n",
      "14  t2s_0.2_hard    0.082023\n",
      "9   t2s_0.2_soft    0.080542\n",
      "12  t0s_0.2_hard    0.066362\n",
      "7   t0s_0.2_soft    0.062534\n",
      "19  t2s_0.4_soft    0.052590\n",
      "24  t2s_0.4_hard    0.046191\n",
      "13  t1s_0.2_hard    0.043233\n",
      "8   t1s_0.2_soft    0.040914\n",
      "11  t4s_0.2_soft    0.031747\n",
      "16  t4s_0.2_hard    0.027565\n",
      "2             t2    0.026069\n",
      "15  t3s_0.2_hard    0.024634\n",
      "10  t3s_0.2_soft    0.021728\n",
      "34  t2s_0.6_hard    0.020424\n",
      "29  t2s_0.6_soft    0.019836\n",
      "17  t0s_0.4_soft    0.017516\n",
      "6      reviewlen    0.016967\n",
      "22  t0s_0.4_hard    0.016250\n",
      "0             t0    0.013848\n",
      "0.7260602337509517\n",
      "Mean Percent Test Error in Review Rating Prediction,\n",
      "Sentence Based Sentiment\n",
      "0.14521204675019034\n"
     ]
    },
    {
     "data": {
      "image/png": "[encoded data removed]",
      "text/plain": [
       "<Figure size 432x288 with 1 Axes>"
      ]
     },
     "metadata": {
      "needs_background": "light"
     },
     "output_type": "display_data"
    }
   ],
   "source": [
    "model = RandomForestRegressor(criterion = \"mse\",max_depth = 10,n_estimators = 10000,max_features = 'sqrt',oob_score=True).fit(X_train.drop(wholerevsentiment,axis=1),y_train)\n",
    "\n",
    "toplot = pd.DataFrame([i for i in zip(X_train.drop(wholerevsentiment,axis=1).columns,model.feature_importances_)])\n",
    "toplot.columns = ['feature','importance']\n",
    "toplot.sort_values(by=['importance'],ascending=False,inplace=True)\n",
    "print(toplot.head(20))\n",
    "\n",
    "ypred = model.predict(X_test.drop(wholerevsentiment,axis=1))\n",
    "sns.stripplot(y_test,ypred-y_test)\n",
    "\n",
    "from sklearn.metrics import mean_absolute_error\n",
    "print(mean_absolute_error(ypred,y_test))\n",
    "print('Mean Percent Test Error in Review Rating Prediction,\\nSentence Based Sentiment')\n",
    "print(mean_absolute_error(ypred,y_test)/5)\n"
   ]
  },
  {
   "cell_type": "markdown",
   "metadata": {},
   "source": [
    "The fitted random forest model tends to over predict the rating for poorly rated shops, and underpredict for highly rated shops. The topic importances are such that using high topic importance cutoffs of 0.6, 0.8 yield features that are of low importance in the random forest regressor, while using low cutoffs of 0.2 and 0.4 yield features with higher importance in the random forest. In terms of the topics, whose sentiments have the greatest importance, the 'lines', and 'coffee shop' topic are at 0.06-0.07, followed by ambience at 0.04, sweets at 0.030, and food at 0.02. Overal review sentiment has the greatest topic importance at 0.15."
   ]
  },
  {
   "cell_type": "markdown",
   "metadata": {},
   "source": [
    "Now including sentiments that are derived from the whole-review topic importances, together with the sentiment scores derived from sentence level topic importances/sentiments\n"
   ]
  },
  {
   "cell_type": "code",
   "execution_count": 55,
   "metadata": {},
   "outputs": [
    {
     "name": "stdout",
     "output_type": "stream",
     "text": [
      "OOB scores (R2 on the holdout observations)\n",
      "[100, 1, 'auto', 0.4573396555242504]\n",
      "[100, 1, 'sqrt', 0.44716523187365464]\n",
      "[100, 10, 'auto', 0.5948063188898235]\n",
      "[100, 10, 'sqrt', 0.597343886536787]\n",
      "[100, 20, 'auto', 0.5811879414762512]\n",
      "[100, 20, 'sqrt', 0.5989982355870112]\n",
      "[100, 30, 'auto', 0.5849070376939631]\n",
      "[100, 30, 'sqrt', 0.5970062715438222]\n",
      "[200, 1, 'auto', 0.45867632965846605]\n",
      "[200, 1, 'sqrt', 0.46070480335397035]\n",
      "[200, 10, 'auto', 0.6021116736284621]\n",
      "[200, 10, 'sqrt', 0.6030829127576282]\n",
      "[200, 20, 'auto', 0.5951216030451855]\n",
      "[200, 20, 'sqrt', 0.6003491419388995]\n",
      "[200, 30, 'auto', 0.593799855837781]\n",
      "[200, 30, 'sqrt', 0.6068351479613425]\n",
      "[500, 1, 'auto', 0.4586405950104163]\n",
      "[500, 1, 'sqrt', 0.4612382096831057]\n",
      "[500, 10, 'auto', 0.606320904990947]\n",
      "[500, 10, 'sqrt', 0.6051450025561473]\n",
      "[500, 20, 'auto', 0.5994961608994451]\n",
      "[500, 20, 'sqrt', 0.6027370263840504]\n",
      "[500, 30, 'auto', 0.5984589740420299]\n",
      "[500, 30, 'sqrt', 0.6034202546043805]\n"
     ]
    }
   ],
   "source": [
    "from sklearn.ensemble import RandomForestRegressor\n",
    "\n",
    "n_estimators = [100,200,500]\n",
    "max_depths = [1,10,20,30]\n",
    "max_features = ['auto','sqrt']\n",
    "\n",
    "results = []\n",
    "for n_est in n_estimators:\n",
    "    for max_d in max_depths:\n",
    "        for max_f in max_features:\n",
    "            model = RandomForestRegressor(criterion = \"mse\",max_depth = max_d,n_estimators = n_est,max_features = max_f,oob_score=True).fit(X_train,y_train)\n",
    "            result = [n_est,max_d,max_f,model.oob_score_]\n",
    "            results.append(result)\n",
    "            \n",
    "resultdf = pd.DataFrame(results)\n",
    "resultdf.columns = ['n_estimators','max_depth','max_features','oob_score']\n",
    "print('OOB scores (R2 on the holdout observations)')\n",
    "for entry in results:\n",
    "    print(entry)\n"
   ]
  },
  {
   "cell_type": "code",
   "execution_count": 71,
   "metadata": {},
   "outputs": [
    {
     "name": "stdout",
     "output_type": "stream",
     "text": [
      "         feature  importance\n",
      "5             vs    0.139609\n",
      "7   t0s_wholerev    0.097986\n",
      "8   t1s_wholerev    0.094279\n",
      "9   t2s_wholerev    0.075900\n",
      "10  t3s_wholerev    0.063014\n",
      "11  t4s_wholerev    0.048100\n",
      "14  t2s_0.2_soft    0.043865\n",
      "19  t2s_0.2_hard    0.041385\n",
      "17  t0s_0.2_hard    0.038611\n",
      "12  t0s_0.2_soft    0.033334\n",
      "24  t2s_0.4_soft    0.026758\n",
      "18  t1s_0.2_hard    0.026369\n",
      "29  t2s_0.4_hard    0.023264\n",
      "13  t1s_0.2_soft    0.022962\n",
      "2             t2    0.019706\n",
      "6      reviewlen    0.018047\n",
      "16  t4s_0.2_soft    0.016700\n",
      "20  t3s_0.2_hard    0.014918\n",
      "21  t4s_0.2_hard    0.014302\n",
      "15  t3s_0.2_soft    0.012771\n",
      "0.7199802812254367\n",
      "Mean Percent Test Error in Review Rating Prediction,\n",
      "Sentence Based Sentiment\n",
      "0.14399605624508732\n"
     ]
    },
    {
     "data": {
      "image/png": "[encoded data removed]",
      "text/plain": [
       "<Figure size 432x288 with 1 Axes>"
      ]
     },
     "metadata": {
      "needs_background": "light"
     },
     "output_type": "display_data"
    }
   ],
   "source": [
    "model = RandomForestRegressor(criterion = \"mse\",max_depth = 10,n_estimators = 10000,max_features = 'sqrt',oob_score=True).fit(X_train,y_train)\n",
    "\n",
    "toplot = pd.DataFrame([i for i in zip(X_train.columns,model.feature_importances_)])\n",
    "toplot.columns = ['feature','importance']\n",
    "toplot.sort_values(by=['importance'],ascending=False,inplace=True)\n",
    "print(toplot.head(20))\n",
    "\n",
    "ypred = model.predict(X_test)\n",
    "sns.stripplot(y_test,ypred-y_test)\n",
    "\n",
    "print(mean_absolute_error(ypred,y_test))\n",
    "print('Mean Percent Test Error in Review Rating Prediction,\\nSentence Based Sentiment')\n",
    "print(mean_absolute_error(ypred,y_test)/5)"
   ]
  },
  {
   "cell_type": "code",
   "execution_count": 57,
   "metadata": {},
   "outputs": [
    {
     "name": "stdout",
     "output_type": "stream",
     "text": [
      "mean prediction for different true ratings\n",
      "          ypred\n",
      "ytest          \n",
      "1.0    2.012523\n",
      "2.0    2.613658\n",
      "3.0    3.353039\n",
      "4.0    4.100533\n",
      "5.0    4.346344\n",
      "variance in predictions for different true ratings\n",
      "          ypred\n",
      "ytest          \n",
      "1.0    0.712325\n",
      "2.0    0.874622\n",
      "3.0    0.853826\n",
      "4.0    0.364430\n",
      "5.0    0.225476\n"
     ]
    }
   ],
   "source": [
    "preddf = pd.DataFrame([i for i in zip(ypred,y_test)])\n",
    "preddf.columns = ['ypred','ytest']\n",
    "print('mean prediction for different true ratings')\n",
    "print(preddf.groupby(['ytest']).mean())\n",
    "print('variance in predictions for different true ratings')\n",
    "print(preddf.groupby(['ytest']).var())\n"
   ]
  },
  {
   "cell_type": "code",
   "execution_count": 58,
   "metadata": {},
   "outputs": [
    {
     "name": "stdout",
     "output_type": "stream",
     "text": [
      "OOB scores (R2 on the holdout observations)\n",
      "[100, 1, 'auto', 0.458689878542047]\n",
      "[100, 1, 'sqrt', 0.4658776152740911]\n",
      "[100, 10, 'auto', 0.5455116512779175]\n",
      "[100, 10, 'sqrt', 0.5578719765307176]\n",
      "[100, 20, 'auto', 0.5311247255076259]\n",
      "[100, 20, 'sqrt', 0.5360169234058261]\n",
      "[100, 30, 'auto', 0.5312356461408999]\n",
      "[100, 30, 'sqrt', 0.5333110855323147]\n",
      "[200, 1, 'auto', 0.4582156852875915]\n",
      "[200, 1, 'sqrt', 0.4702896117972284]\n",
      "[200, 10, 'auto', 0.5511688579052951]\n",
      "[200, 10, 'sqrt', 0.5620556482503305]\n",
      "[200, 20, 'auto', 0.536241134770424]\n",
      "[200, 20, 'sqrt', 0.5442267287020529]\n",
      "[200, 30, 'auto', 0.5381897045046531]\n",
      "[200, 30, 'sqrt', 0.5439380509143341]\n",
      "[500, 1, 'auto', 0.45793962195503457]\n",
      "[500, 1, 'sqrt', 0.46777187348654425]\n",
      "[500, 10, 'auto', 0.5529149411148041]\n",
      "[500, 10, 'sqrt', 0.5633097311869782]\n",
      "[500, 20, 'auto', 0.5433892946898315]\n",
      "[500, 20, 'sqrt', 0.5474754152562545]\n",
      "[500, 30, 'auto', 0.5399055491308941]\n",
      "[500, 30, 'sqrt', 0.5485376829466967]\n"
     ]
    }
   ],
   "source": [
    "#Random forest only on whole review topic importance, whole review sentiment (no sentence derived sentiment score)\n",
    "from sklearn.ensemble import RandomForestRegressor\n",
    "\n",
    "n_estimators = [100,200,500]\n",
    "max_depths = [1,10,20,30]\n",
    "max_features = ['auto','sqrt']\n",
    "\n",
    "results = []\n",
    "wholerevfeat = ['t0','t1','t2','t3','t4','vs','reviewlen','t0s_wholerev','t1s_wholerev','t2s_wholerev','t3s_wholerev','t4s_wholerev']\n",
    "for n_est in n_estimators:\n",
    "    for max_d in max_depths:\n",
    "        for max_f in max_features:\n",
    "            model = RandomForestRegressor(criterion = \"mse\",max_depth = max_d,n_estimators = n_est,max_features = max_f,oob_score=True).fit(X_train[wholerevfeat],y_train)\n",
    "            result = [n_est,max_d,max_f,model.oob_score_]\n",
    "            results.append(result)\n",
    "            \n",
    "resultdf = pd.DataFrame(results)\n",
    "resultdf.columns = ['n_estimators','max_depth','max_features','oob_score']\n",
    "print('OOB scores (R2 on the holdout observations)')\n",
    "for entry in results:\n",
    "    print(entry)\n"
   ]
  },
  {
   "cell_type": "code",
   "execution_count": 70,
   "metadata": {},
   "outputs": [
    {
     "name": "stdout",
     "output_type": "stream",
     "text": [
      "         feature  importance\n",
      "5             vs    0.249766\n",
      "8   t1s_wholerev    0.153179\n",
      "7   t0s_wholerev    0.144671\n",
      "9   t2s_wholerev    0.108572\n",
      "10  t3s_wholerev    0.077961\n",
      "11  t4s_wholerev    0.059012\n",
      "6      reviewlen    0.056038\n",
      "2             t2    0.047953\n",
      "0             t0    0.029924\n",
      "1             t1    0.026589\n",
      "3             t3    0.023934\n",
      "4             t4    0.022401\n",
      "0.7417529921933191\n",
      "Mean Percent Test Error in Review Rating Prediction,\n",
      "Sentence Based Sentiment\n",
      "0.14835059843866383\n"
     ]
    },
    {
     "data": {
      "image/png": "[encoded data removed]",
      "text/plain": [
       "<Figure size 432x288 with 1 Axes>"
      ]
     },
     "metadata": {
      "needs_background": "light"
     },
     "output_type": "display_data"
    }
   ],
   "source": [
    "from sklearn.metrics import mean_absolute_error\n",
    "wholerevfeat = ['t0','t1','t2','t3','t4','vs','reviewlen','t0s_wholerev','t1s_wholerev','t2s_wholerev','t3s_wholerev','t4s_wholerev']\n",
    "\n",
    "\n",
    "model = RandomForestRegressor(criterion = \"mse\",max_depth = 10,n_estimators = 10000,\n",
    "                              max_features = 'sqrt',oob_score=True).fit(X_train[wholerevfeat],y_train)\n",
    "\n",
    "toplot = pd.DataFrame([i for i in zip(X_train.columns,model.feature_importances_)])\n",
    "toplot.columns = ['feature','importance']\n",
    "toplot.sort_values(by=['importance'],ascending=False,inplace=True)\n",
    "print(toplot.head(50))\n",
    "\n",
    "ypred = model.predict(X_test[wholerevfeat])\n",
    "sns.stripplot(y_test,ypred-y_test)\n",
    "\n",
    "print(mean_absolute_error(ypred,y_test))\n",
    "print('Mean Percent Test Error in Review Rating Prediction,\\nSentence Based Sentiment')\n",
    "print(mean_absolute_error(ypred,y_test)/5)\n"
   ]
  },
  {
   "cell_type": "markdown",
   "metadata": {},
   "source": [
    "Using only whole-review attributes (topic sentiments and importances), mean percent test error is slightly worse (15% vs 14.6%). Therefore the additional sentence derived topic sentiments help improve the ability of the random forest to predict review rating. However, the higher feature importance of the whole-review-topic-sentiments make it a better metric to use to compute average topic sentiments for restaurants.  I use display these topic sentiment scores for the dashborad."
   ]
  },
  {
   "cell_type": "markdown",
   "metadata": {},
   "source": [
    "Using only the sentiment features derived with threshold 0.2 and soft thresholding."
   ]
  },
  {
   "cell_type": "code",
   "execution_count": 62,
   "metadata": {},
   "outputs": [
    {
     "name": "stdout",
     "output_type": "stream",
     "text": [
      "OOB scores (R2 on the holdout observations)\n",
      "[100, 1, 'auto', 0.4555680663570748]\n",
      "[100, 1, 'sqrt', 0.41524118744670224]\n",
      "[100, 10, 'auto', 0.5926940057086884]\n",
      "[100, 10, 'sqrt', 0.6047956149758961]\n",
      "[100, 20, 'auto', 0.5888871674289657]\n",
      "[100, 20, 'sqrt', 0.5944040513446933]\n",
      "[100, 30, 'auto', 0.5901482592461512]\n",
      "[100, 30, 'sqrt', 0.6002943444555924]\n",
      "[200, 1, 'auto', 0.4565596708039137]\n",
      "[200, 1, 'sqrt', 0.41615251058439107]\n",
      "[200, 10, 'auto', 0.5981821763660178]\n",
      "[200, 10, 'sqrt', 0.6053732214846484]\n",
      "[200, 20, 'auto', 0.5911519233219386]\n",
      "[200, 20, 'sqrt', 0.6021916577461269]\n",
      "[200, 30, 'auto', 0.5929504198152463]\n",
      "[200, 30, 'sqrt', 0.6027228439345709]\n",
      "[500, 1, 'auto', 0.4569418118280858]\n",
      "[500, 1, 'sqrt', 0.41185792668180543]\n",
      "[500, 10, 'auto', 0.5984002352223214]\n",
      "[500, 10, 'sqrt', 0.6082653225521897]\n",
      "[500, 20, 'auto', 0.5946009983277853]\n",
      "[500, 20, 'sqrt', 0.6038604125749512]\n",
      "[500, 30, 'auto', 0.5935838121356738]\n",
      "[500, 30, 'sqrt', 0.6053113795554353]\n"
     ]
    }
   ],
   "source": [
    "#Random forest only on whole review topic importance, whole review sentiment (no sentence derived sentiment score)\n",
    "from sklearn.ensemble import RandomForestRegressor\n",
    "\n",
    "n_estimators = [100,200,500]\n",
    "max_depths = [1,10,20,30]\n",
    "max_features = ['auto','sqrt']\n",
    "\n",
    "results = []\n",
    "wholerevfeat = ['t0','t1','t2','t3','t4','vs','reviewlen','t0s_0.2_soft','t1s_0.2_soft','t2s_0.2_soft','t3s_0.2_soft','t4s_0.2_soft']\n",
    "for n_est in n_estimators:\n",
    "    for max_d in max_depths:\n",
    "        for max_f in max_features:\n",
    "            model = RandomForestRegressor(criterion = \"mse\",max_depth = max_d,n_estimators = n_est,max_features = max_f,oob_score=True).fit(X_train[wholerevfeat],y_train)\n",
    "            result = [n_est,max_d,max_f,model.oob_score_]\n",
    "            results.append(result)\n",
    "            \n",
    "resultdf = pd.DataFrame(results)\n",
    "resultdf.columns = ['n_estimators','max_depth','max_features','oob_score']\n",
    "print('OOB scores (R2 on the holdout observations)')\n",
    "for entry in results:\n",
    "    print(entry)\n"
   ]
  },
  {
   "cell_type": "code",
   "execution_count": 63,
   "metadata": {},
   "outputs": [
    {
     "name": "stdout",
     "output_type": "stream",
     "text": [
      "         feature  importance\n",
      "5             vs    0.316217\n",
      "9   t2s_0.2_soft    0.160147\n",
      "7   t0s_0.2_soft    0.122045\n",
      "8   t1s_0.2_soft    0.084146\n",
      "11  t4s_0.2_soft    0.063531\n",
      "2             t2    0.058089\n",
      "10  t3s_0.2_soft    0.050309\n",
      "6      reviewlen    0.042772\n",
      "0             t0    0.031082\n",
      "1             t1    0.027533\n",
      "3             t3    0.022769\n",
      "4             t4    0.021361\n",
      "0.7225226036093783\n",
      "Mean Percent Test Error in Review Rating Prediction,\n",
      "Sentence Based Sentiment\n",
      "0.14450452072187564\n"
     ]
    },
    {
     "data": {
      "image/png": "[encoded data removed]",
      "text/plain": [
       "<Figure size 432x288 with 1 Axes>"
      ]
     },
     "metadata": {
      "needs_background": "light"
     },
     "output_type": "display_data"
    }
   ],
   "source": [
    "from sklearn.metrics import mean_absolute_error\n",
    "wholerevfeat = ['t0','t1','t2','t3','t4','vs','reviewlen','t0s_0.2_soft','t1s_0.2_soft','t2s_0.2_soft','t3s_0.2_soft','t4s_0.2_soft']\n",
    "\n",
    "model = RandomForestRegressor(criterion = \"mse\",max_depth = 10,n_estimators = 10000,\n",
    "                              max_features = 'sqrt',oob_score=True).fit(X_train[wholerevfeat],y_train)\n",
    "\n",
    "toplot = pd.DataFrame([i for i in zip(X_train[wholerevfeat].columns,model.feature_importances_)])\n",
    "toplot.columns = ['feature','importance']\n",
    "toplot.sort_values(by=['importance'],ascending=False,inplace=True)\n",
    "print(toplot.head(50))\n",
    "\n",
    "ypred = model.predict(X_test[wholerevfeat])\n",
    "sns.stripplot(y_test,ypred-y_test)\n",
    "\n",
    "print(mean_absolute_error(ypred,y_test))\n",
    "print('Mean Percent Test Error in Review Rating Prediction,\\nSentence Based Sentiment')\n",
    "print(mean_absolute_error(ypred,y_test)/5)"
   ]
  },
  {
   "cell_type": "markdown",
   "metadata": {},
   "source": [
    "Features derived from thresholding at 0.2 and assigning sentiment in a soft way (proportional to topic importance), do a decent job of predicted review rating. MAPE of 14.7% compared to an MAPE of 14.5% when using all features.  This is also slightly better than the MAPE of 15% achieved when whole-review-based topic sentiments are used.  So just because whole-review-sentiments had a much higher topic importance in the random forest model using all features, doesn't mean whole-review-sentiments are better predictors in a smaller random forest model."
   ]
  },
  {
   "cell_type": "markdown",
   "metadata": {},
   "source": [
    "Now I repeat the same analysis using sentence derived sentiments with a threshold of 0.4 and soft thresholding"
   ]
  },
  {
   "cell_type": "code",
   "execution_count": 64,
   "metadata": {},
   "outputs": [
    {
     "name": "stdout",
     "output_type": "stream",
     "text": [
      "OOB scores (R2 on the holdout observations)\n",
      "[100, 1, 'auto', 0.45695659731660276]\n",
      "[100, 1, 'sqrt', 0.34071804102132175]\n",
      "[100, 10, 'auto', 0.5841229162725304]\n",
      "[100, 10, 'sqrt', 0.5888054241067542]\n",
      "[100, 20, 'auto', 0.5765030487189451]\n",
      "[100, 20, 'sqrt', 0.5907337290518879]\n",
      "[100, 30, 'auto', 0.5813796874099784]\n",
      "[100, 30, 'sqrt', 0.5864205703109713]\n",
      "[200, 1, 'auto', 0.45562908230699695]\n",
      "[200, 1, 'sqrt', 0.336321331561504]\n",
      "[200, 10, 'auto', 0.5917428282327817]\n",
      "[200, 10, 'sqrt', 0.5970149605335289]\n",
      "[200, 20, 'auto', 0.5808339134484097]\n",
      "[200, 20, 'sqrt', 0.5896320441708057]\n",
      "[200, 30, 'auto', 0.5862576605776539]\n",
      "[200, 30, 'sqrt', 0.5934789853816604]\n",
      "[500, 1, 'auto', 0.45591479071815577]\n",
      "[500, 1, 'sqrt', 0.33925952082642485]\n",
      "[500, 10, 'auto', 0.5916693530472867]\n",
      "[500, 10, 'sqrt', 0.597692322385642]\n",
      "[500, 20, 'auto', 0.5866020468755602]\n",
      "[500, 20, 'sqrt', 0.5934901800350294]\n",
      "[500, 30, 'auto', 0.5856410712635974]\n",
      "[500, 30, 'sqrt', 0.5946245312430135]\n"
     ]
    }
   ],
   "source": [
    "#Random forest only on whole review topic importance, whole review sentiment (no sentence derived sentiment score)\n",
    "from sklearn.ensemble import RandomForestRegressor\n",
    "\n",
    "n_estimators = [100,200,500]\n",
    "max_depths = [1,10,20,30]\n",
    "max_features = ['auto','sqrt']\n",
    "\n",
    "results = []\n",
    "wholerevfeat = ['t0','t1','t2','t3','t4','vs','reviewlen','t0s_0.4_soft','t1s_0.4_soft','t2s_0.4_soft','t3s_0.4_soft','t4s_0.4_soft']\n",
    "for n_est in n_estimators:\n",
    "    for max_d in max_depths:\n",
    "        for max_f in max_features:\n",
    "            model = RandomForestRegressor(criterion = \"mse\",max_depth = max_d,n_estimators = n_est,max_features = max_f,oob_score=True).fit(X_train[wholerevfeat],y_train)\n",
    "            result = [n_est,max_d,max_f,model.oob_score_]\n",
    "            results.append(result)\n",
    "            \n",
    "resultdf = pd.DataFrame(results)\n",
    "resultdf.columns = ['n_estimators','max_depth','max_features','oob_score']\n",
    "print('OOB scores (R2 on the holdout observations)')\n",
    "for entry in results:\n",
    "    print(entry)"
   ]
  },
  {
   "cell_type": "code",
   "execution_count": 65,
   "metadata": {},
   "outputs": [
    {
     "name": "stdout",
     "output_type": "stream",
     "text": [
      "         feature  importance\n",
      "5             vs    0.410978\n",
      "9   t2s_0.4_soft    0.161336\n",
      "2             t2    0.080955\n",
      "7   t0s_0.4_soft    0.077976\n",
      "6      reviewlen    0.051254\n",
      "8   t1s_0.4_soft    0.042217\n",
      "0             t0    0.035646\n",
      "1             t1    0.031904\n",
      "11  t4s_0.4_soft    0.029505\n",
      "10  t3s_0.4_soft    0.028793\n",
      "3             t3    0.025729\n",
      "4             t4    0.023706\n",
      "0.736619997909602\n",
      "Mean Percent Test Error in Review Rating Prediction,\n",
      "Sentence Based Sentiment\n",
      "0.14732399958192038\n"
     ]
    },
    {
     "data": {
      "image/png": "[encoded data removed]",
      "text/plain": [
       "<Figure size 432x288 with 1 Axes>"
      ]
     },
     "metadata": {
      "needs_background": "light"
     },
     "output_type": "display_data"
    }
   ],
   "source": [
    "from sklearn.metrics import mean_absolute_error\n",
    "wholerevfeat = ['t0','t1','t2','t3','t4','vs','reviewlen','t0s_0.4_soft','t1s_0.4_soft','t2s_0.4_soft','t3s_0.4_soft','t4s_0.4_soft']\n",
    "\n",
    "model = RandomForestRegressor(criterion = \"mse\",max_depth = 10,n_estimators = 10000,\n",
    "                              max_features = 'sqrt',oob_score=True).fit(X_train[wholerevfeat],y_train)\n",
    "\n",
    "toplot = pd.DataFrame([i for i in zip(X_train[wholerevfeat].columns,model.feature_importances_)])\n",
    "toplot.columns = ['feature','importance']\n",
    "toplot.sort_values(by=['importance'],ascending=False,inplace=True)\n",
    "print(toplot.head(50))\n",
    "\n",
    "ypred = model.predict(X_test[wholerevfeat])\n",
    "sns.stripplot(y_test,ypred-y_test)\n",
    "\n",
    "print(mean_absolute_error(ypred,y_test))\n",
    "print('Mean Percent Test Error in Review Rating Prediction,\\nSentence Based Sentiment')\n",
    "print(mean_absolute_error(ypred,y_test)/5)"
   ]
  },
  {
   "cell_type": "markdown",
   "metadata": {},
   "source": [
    "Repeating the analysis for sentence specific topic sentiments, topic threshold of 0.6 and soft assignment of sentiment"
   ]
  },
  {
   "cell_type": "code",
   "execution_count": 66,
   "metadata": {},
   "outputs": [
    {
     "name": "stdout",
     "output_type": "stream",
     "text": [
      "OOB scores (R2 on the holdout observations)\n",
      "[100, 1, 'auto', 0.45736104180908166]\n",
      "[100, 1, 'sqrt', 0.2645350262493107]\n",
      "[100, 10, 'auto', 0.5859023235262684]\n",
      "[100, 10, 'sqrt', 0.584236186466804]\n",
      "[100, 20, 'auto', 0.5715170798935054]\n",
      "[100, 20, 'sqrt', 0.5771364489342332]\n",
      "[100, 30, 'auto', 0.5723196115148195]\n",
      "[100, 30, 'sqrt', 0.5783224242374831]\n",
      "[200, 1, 'auto', 0.45788729443749754]\n",
      "[200, 1, 'sqrt', 0.2868684075166612]\n",
      "[200, 10, 'auto', 0.5904507297834021]\n",
      "[200, 10, 'sqrt', 0.5899563229774122]\n",
      "[200, 20, 'auto', 0.5810272071796462]\n",
      "[200, 20, 'sqrt', 0.5870574654467389]\n",
      "[200, 30, 'auto', 0.5797354688523135]\n",
      "[200, 30, 'sqrt', 0.5882931258021061]\n",
      "[500, 1, 'auto', 0.4563033898123957]\n",
      "[500, 1, 'sqrt', 0.30115598623334006]\n",
      "[500, 10, 'auto', 0.5892248328178961]\n",
      "[500, 10, 'sqrt', 0.5919692209404053]\n",
      "[500, 20, 'auto', 0.5838805255688087]\n",
      "[500, 20, 'sqrt', 0.5917928903863017]\n",
      "[500, 30, 'auto', 0.5826153034995794]\n",
      "[500, 30, 'sqrt', 0.5903561430140796]\n"
     ]
    }
   ],
   "source": [
    "#Random forest only on whole review topic importance, whole review sentiment (no sentence derived sentiment score)\n",
    "from sklearn.ensemble import RandomForestRegressor\n",
    "\n",
    "n_estimators = [100,200,500]\n",
    "max_depths = [1,10,20,30]\n",
    "max_features = ['auto','sqrt']\n",
    "\n",
    "results = []\n",
    "wholerevfeat = ['t0','t1','t2','t3','t4','vs','reviewlen','t0s_0.6_soft','t1s_0.6_soft','t2s_0.6_soft','t3s_0.6_soft','t4s_0.6_soft']\n",
    "for n_est in n_estimators:\n",
    "    for max_d in max_depths:\n",
    "        for max_f in max_features:\n",
    "            model = RandomForestRegressor(criterion = \"mse\",max_depth = max_d,n_estimators = n_est,max_features = max_f,oob_score=True).fit(X_train[wholerevfeat],y_train)\n",
    "            result = [n_est,max_d,max_f,model.oob_score_]\n",
    "            results.append(result)\n",
    "            \n",
    "resultdf = pd.DataFrame(results)\n",
    "resultdf.columns = ['n_estimators','max_depth','max_features','oob_score']\n",
    "print('OOB scores (R2 on the holdout observations)')\n",
    "for entry in results:\n",
    "    print(entry)"
   ]
  },
  {
   "cell_type": "code",
   "execution_count": 67,
   "metadata": {},
   "outputs": [
    {
     "name": "stdout",
     "output_type": "stream",
     "text": [
      "         feature  importance\n",
      "5             vs    0.512443\n",
      "9   t2s_0.6_soft    0.117211\n",
      "2             t2    0.100117\n",
      "6      reviewlen    0.056152\n",
      "0             t0    0.042913\n",
      "7   t0s_0.6_soft    0.040315\n",
      "1             t1    0.035349\n",
      "3             t3    0.030216\n",
      "4             t4    0.026655\n",
      "8   t1s_0.6_soft    0.016864\n",
      "10  t3s_0.6_soft    0.014071\n",
      "11  t4s_0.6_soft    0.007695\n",
      "0.7491720445007284\n",
      "Mean Percent Test Error in Review Rating Prediction,\n",
      "Sentence Based Sentiment\n",
      "0.14983440890014568\n"
     ]
    },
    {
     "data": {
      "image/png": "[encoded data removed]",
      "text/plain": [
       "<Figure size 432x288 with 1 Axes>"
      ]
     },
     "metadata": {
      "needs_background": "light"
     },
     "output_type": "display_data"
    }
   ],
   "source": [
    "from sklearn.metrics import mean_absolute_error\n",
    "wholerevfeat = ['t0','t1','t2','t3','t4','vs','reviewlen','t0s_0.6_soft','t1s_0.6_soft','t2s_0.6_soft','t3s_0.6_soft','t4s_0.6_soft']\n",
    "\n",
    "model = RandomForestRegressor(criterion = \"mse\",max_depth = 10,n_estimators = 10000,\n",
    "                              max_features = 'sqrt',oob_score=True).fit(X_train[wholerevfeat],y_train)\n",
    "\n",
    "toplot = pd.DataFrame([i for i in zip(X_train[wholerevfeat].columns,model.feature_importances_)])\n",
    "toplot.columns = ['feature','importance']\n",
    "toplot.sort_values(by=['importance'],ascending=False,inplace=True)\n",
    "print(toplot.head(50))\n",
    "\n",
    "ypred = model.predict(X_test[wholerevfeat])\n",
    "sns.stripplot(y_test,ypred-y_test)\n",
    "\n",
    "print(mean_absolute_error(ypred,y_test))\n",
    "print('Mean Percent Test Error in Review Rating Prediction,\\nSentence Based Sentiment')\n",
    "print(mean_absolute_error(ypred,y_test)/5)"
   ]
  },
  {
   "cell_type": "markdown",
   "metadata": {},
   "source": [
    "It looks like increasing the threshold the threshold above 0.2 decreases the performance of the random forest regressor.  What about assigning all sentiment to topics with importance greater than the threshold?"
   ]
  },
  {
   "cell_type": "code",
   "execution_count": 68,
   "metadata": {},
   "outputs": [
    {
     "name": "stdout",
     "output_type": "stream",
     "text": [
      "OOB scores (R2 on the holdout observations)\n",
      "[100, 1, 'auto', 0.4556073094174232]\n",
      "[100, 1, 'sqrt', 0.33575046036664813]\n",
      "[100, 10, 'auto', 0.5872543429615018]\n",
      "[100, 10, 'sqrt', 0.5912773862435579]\n",
      "[100, 20, 'auto', 0.573930305327257]\n",
      "[100, 20, 'sqrt', 0.5798210620359525]\n",
      "[100, 30, 'auto', 0.5751202065677252]\n",
      "[100, 30, 'sqrt', 0.5788294976289741]\n",
      "[200, 1, 'auto', 0.45684371652252287]\n",
      "[200, 1, 'sqrt', 0.3535477985286427]\n",
      "[200, 10, 'auto', 0.5882905369403928]\n",
      "[200, 10, 'sqrt', 0.5949857683136983]\n",
      "[200, 20, 'auto', 0.5782678668264309]\n",
      "[200, 20, 'sqrt', 0.588150694756822]\n",
      "[200, 30, 'auto', 0.5812168398233213]\n",
      "[200, 30, 'sqrt', 0.5897921843389224]\n",
      "[500, 1, 'auto', 0.4565544581673455]\n",
      "[500, 1, 'sqrt', 0.3431289055567226]\n",
      "[500, 10, 'auto', 0.5911143246475495]\n",
      "[500, 10, 'sqrt', 0.596120106304235]\n",
      "[500, 20, 'auto', 0.5822417464509365]\n",
      "[500, 20, 'sqrt', 0.592411558502757]\n",
      "[500, 30, 'auto', 0.584629961433279]\n",
      "[500, 30, 'sqrt', 0.5900662603076976]\n"
     ]
    }
   ],
   "source": [
    "#Random forest only on whole review topic importance, whole review sentiment (no sentence derived sentiment score)\n",
    "from sklearn.ensemble import RandomForestRegressor\n",
    "\n",
    "n_estimators = [100,200,500]\n",
    "max_depths = [1,10,20,30]\n",
    "max_features = ['auto','sqrt']\n",
    "\n",
    "results = []\n",
    "wholerevfeat = ['t0','t1','t2','t3','t4','vs','reviewlen','t0s_0.4_hard','t1s_0.4_hard','t2s_0.4_hard','t3s_0.4_hard','t4s_0.4_hard']\n",
    "for n_est in n_estimators:\n",
    "    for max_d in max_depths:\n",
    "        for max_f in max_features:\n",
    "            model = RandomForestRegressor(criterion = \"mse\",max_depth = max_d,n_estimators = n_est,max_features = max_f,oob_score=True).fit(X_train[wholerevfeat],y_train)\n",
    "            result = [n_est,max_d,max_f,model.oob_score_]\n",
    "            results.append(result)\n",
    "            \n",
    "resultdf = pd.DataFrame(results)\n",
    "resultdf.columns = ['n_estimators','max_depth','max_features','oob_score']\n",
    "print('OOB scores (R2 on the holdout observations)')\n",
    "for entry in results:\n",
    "    print(entry)"
   ]
  },
  {
   "cell_type": "code",
   "execution_count": 69,
   "metadata": {},
   "outputs": [
    {
     "name": "stdout",
     "output_type": "stream",
     "text": [
      "         feature  importance\n",
      "5             vs    0.414455\n",
      "9   t2s_0.4_hard    0.158380\n",
      "2             t2    0.082505\n",
      "7   t0s_0.4_hard    0.074890\n",
      "6      reviewlen    0.051407\n",
      "8   t1s_0.4_hard    0.042764\n",
      "0             t0    0.036194\n",
      "1             t1    0.032011\n",
      "11  t4s_0.4_hard    0.030162\n",
      "10  t3s_0.4_hard    0.027452\n",
      "3             t3    0.025667\n",
      "4             t4    0.024112\n",
      "0.7366756636702826\n",
      "Mean Percent Test Error in Review Rating Prediction,\n",
      "Sentence Based Sentiment\n",
      "0.14733513273405652\n"
     ]
    },
    {
     "data": {
      "image/png": "[encoded data removed]",
      "text/plain": [
       "<Figure size 432x288 with 1 Axes>"
      ]
     },
     "metadata": {
      "needs_background": "light"
     },
     "output_type": "display_data"
    }
   ],
   "source": [
    "from sklearn.metrics import mean_absolute_error\n",
    "wholerevfeat = ['t0','t1','t2','t3','t4','vs','reviewlen','t0s_0.4_hard','t1s_0.4_hard','t2s_0.4_hard','t3s_0.4_hard','t4s_0.4_hard']\n",
    "\n",
    "model = RandomForestRegressor(criterion = \"mse\",max_depth = 10,n_estimators = 10000,\n",
    "                              max_features = 'sqrt',oob_score=True).fit(X_train[wholerevfeat],y_train)\n",
    "\n",
    "toplot = pd.DataFrame([i for i in zip(X_train[wholerevfeat].columns,model.feature_importances_)])\n",
    "toplot.columns = ['feature','importance']\n",
    "toplot.sort_values(by=['importance'],ascending=False,inplace=True)\n",
    "print(toplot.head(50))\n",
    "\n",
    "ypred = model.predict(X_test[wholerevfeat])\n",
    "sns.stripplot(y_test,ypred-y_test)\n",
    "\n",
    "print(mean_absolute_error(ypred,y_test))\n",
    "print('Mean Percent Test Error in Review Rating Prediction,\\nSentence Based Sentiment')\n",
    "print(mean_absolute_error(ypred,y_test)/5)"
   ]
  },
  {
   "cell_type": "markdown",
   "metadata": {},
   "source": [
    "This performs similarly to the sentence based sentiment assignment with threshold 0.2, and soft assignment of sentiment to different topics (14.7 MAPE vs 14.4 MAPE). Will still go ahead and assign sentence sentiment proportionally to topic importances."
   ]
  }
 ],
 "metadata": {
  "kernelspec": {
   "display_name": "nlp_envp3",
   "language": "python",
   "name": "nlp_envp3"
  },
  "language_info": {
   "codemirror_mode": {
    "name": "ipython",
    "version": 3
   },
   "file_extension": ".py",
   "mimetype": "text/x-python",
   "name": "python",
   "nbconvert_exporter": "python",
   "pygments_lexer": "ipython3",
   "version": "3.6.10"
  }
 },
 "nbformat": 4,
 "nbformat_minor": 4
}
