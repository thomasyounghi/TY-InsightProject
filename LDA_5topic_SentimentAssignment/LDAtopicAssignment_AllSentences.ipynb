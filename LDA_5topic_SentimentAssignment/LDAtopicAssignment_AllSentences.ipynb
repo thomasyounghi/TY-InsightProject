{
 "cells": [
  {
   "cell_type": "markdown",
   "metadata": {},
   "source": [
    "What this notebook does:\n",
    "\n",
    "Assigns sentiment to topics for all sentences, for all coffee shop reviews. For each sentence, topic importance and vader compound sentiment S are measured. If for topic X, the topic importance is greater than 0.2, the sentiment Sxtopic_importance is assigned to topic X for that sentence.\n",
    "\n",
    "Topic importance scores for each sentence come from the 5-topic LDA model fitted on the nouns of each review ('./LDA_Fitting/LDA_onreviews_nouns_withhyptuning.ipynb')\n",
    "\n",
    "The resulting feature matrix is saved in './ProcessedData/reviewsent_sentiment_thresh0.2soft.csv'. These topic/sentence specific sentiments will be averaged within each review in './LDA_5topic_SentimentAssignment/EngineeringFeatures_basedon_5LDAnountopics.ipynb'"
   ]
  },
  {
   "cell_type": "code",
   "execution_count": null,
   "metadata": {},
   "outputs": [],
   "source": [
    "#Step one directory up to access the yelp scraping function in the helper_functions module\n",
    "import os\n",
    "print(os.getcwd())\n",
    "os.chdir('../')\n",
    "os.getcwd()"
   ]
  },
  {
   "cell_type": "code",
   "execution_count": 1,
   "metadata": {},
   "outputs": [],
   "source": [
    "import random\n",
    "\n",
    "import numpy as np\n",
    "import pandas as pd\n",
    "\n",
    "import gensim\n",
    "import gensim.corpora as corpora\n",
    "from gensim.utils import simple_preprocess\n",
    "from gensim.models import CoherenceModel\n",
    "\n",
    "import spacy\n",
    "from spacy.lemmatizer import Lemmatizer\n",
    "from spacy.lang.en.stop_words import STOP_WORDS\n",
    "#import en_core_web_sm\n",
    "\n",
    "from tqdm import tqdm_notebook as tqdm\n",
    "from pprint import pprint\n",
    "\n",
    "from helper_functions.lda_application_helpers import getldavec, sentencebasedsentiment\n",
    "import pickle\n",
    "from gensim.test.utils import datapath\n",
    "from gensim.models import LdaModel\n",
    "from gensim import corpora\n",
    "\n",
    "import matplotlib.pyplot as plt\n",
    "import seaborn as sns\n",
    "\n",
    "from vaderSentiment.vaderSentiment import SentimentIntensityAnalyzer"
   ]
  },
  {
   "cell_type": "markdown",
   "metadata": {},
   "source": [
    "cp thomasyoung/opt/anaconda3/envs/nlp_env/lib/python3.6/site-packages/gensim/test/test_data/lda_nounsonly_5topics.gensim.id2word thomasyoung/opt/anaconda3/envs/nlp_envp3/lib/python3.6/site-packages/gensim/test/test_data/lda_nounsonly_5topics.gensim.id2word\n",
    "\n",
    "cp thomasyoung/opt/anaconda3/envs/nlp_env/lib/python3.6/site-packages/gensim/test/test_data/lda_nounsonly_5topics.gensim.state thomasyoung/opt/anaconda3/envs/nlp_envp3/lib/python3.6/site-packages/gensim/test/test_data/lda_nounsonly_5topics.gensim.state\n",
    "\n",
    "cp thomasyoung/opt/anaconda3/envs/nlp_env/lib/python3.6/site-packages/gensim/test/test_data/lda_nounsonly_5topics.gensim.expElogbeta.npy thomasyoung/opt/anaconda3/envs/nlp_envp3/lib/python3.6/site-packages/gensim/test/test_data/lda_nounsonly_5topics.gensim.expElogbeta.npy\n",
    "\n",
    "cp thomasyoung/opt/anaconda3/envs/nlp_env/lib/python3.6/site-packages/gensim/test/test_data/lda_nounsonly_5topics.gensim thomasyoung/opt/anaconda3/envs/nlp_envp3/lib/python3.6/site-packages/gensim/test/test_data/lda_nounsonly_5topics.gensim               "
   ]
  },
  {
   "cell_type": "code",
   "execution_count": 31,
   "metadata": {},
   "outputs": [
    {
     "name": "stdout",
     "output_type": "stream",
     "text": [
      "(244523, 3)\n",
      "(244381, 3)\n"
     ]
    }
   ],
   "source": [
    "sentdf = pd.read_csv('./ProcessedData/reviewsentences_lemmatized.csv')\n",
    "print(sentdf.shape)\n",
    "\n",
    "#Only use a subset of 8000 reviews to compare different thresholds\n",
    "shops = pd.read_csv('./ProcessedData/coffeeshops_withcfcutoff.csv')\n",
    "reviews = pd.read_csv('./ProcessedData/lemmatizedreviews.csv')\n",
    "reviews.rename(columns = {'rating':'review_rating'},inplace=True)\n",
    "merged = pd.merge(shops,reviews,how='inner',on = ['alias'])\n",
    "\n",
    "#dropnan\n",
    "sentdf = sentdf.dropna(axis=0)\n",
    "print(sentdf.shape)\n",
    "\n",
    "#rest index\n",
    "sentdf.reset_index(inplace=True, drop = True)"
   ]
  },
  {
   "cell_type": "code",
   "execution_count": 32,
   "metadata": {},
   "outputs": [],
   "source": [
    "#Loading the previously trained LDA model\n",
    "\n",
    "dictionary = gensim.corpora.Dictionary.load('dictionary_allreviews_nouns.gensim')\n",
    "corpus = pickle.load(open('corpus_allreviews_nouns.pkl', 'rb'))\n",
    "\n",
    "temp_file = datapath(\"lda_nounsonly_5topics.gensim\")\n",
    "lda = gensim.models.ldamodel.LdaModel.load(temp_file)\n"
   ]
  },
  {
   "cell_type": "code",
   "execution_count": 33,
   "metadata": {},
   "outputs": [
    {
     "data": {
      "text/plain": [
       "<matplotlib.axes._subplots.AxesSubplot at 0x7f924d22ae48>"
      ]
     },
     "execution_count": 33,
     "metadata": {},
     "output_type": "execute_result"
    },
    {
     "data": {
      "image/png": "[encoded data removed]",
      "text/plain": [
       "<Figure size 432x288 with 1 Axes>"
      ]
     },
     "metadata": {
      "needs_background": "light"
     },
     "output_type": "display_data"
    }
   ],
   "source": [
    "#Vader Sentiment Analyzer\n",
    "analyzer = SentimentIntensityAnalyzer()\n",
    "\n",
    "#Getting sentiments\n",
    "vs = [analyzer.polarity_scores(sentence)['compound'] for sentence in sentdf.sentence]\n",
    "sentdf['vs'] = pd.Series(vs)\n",
    "sns.distplot(sentdf['vs'])"
   ]
  },
  {
   "cell_type": "code",
   "execution_count": 18,
   "metadata": {},
   "outputs": [
    {
     "data": {
      "text/html": [
       "<div>\n",
       "<style scoped>\n",
       "    .dataframe tbody tr th:only-of-type {\n",
       "        vertical-align: middle;\n",
       "    }\n",
       "\n",
       "    .dataframe tbody tr th {\n",
       "        vertical-align: top;\n",
       "    }\n",
       "\n",
       "    .dataframe thead th {\n",
       "        text-align: right;\n",
       "    }\n",
       "</style>\n",
       "<table border=\"1\" class=\"dataframe\">\n",
       "  <thead>\n",
       "    <tr style=\"text-align: right;\">\n",
       "      <th></th>\n",
       "      <th>t0</th>\n",
       "      <th>t1</th>\n",
       "      <th>t2</th>\n",
       "      <th>t3</th>\n",
       "      <th>t4</th>\n",
       "    </tr>\n",
       "  </thead>\n",
       "  <tbody>\n",
       "    <tr>\n",
       "      <th>0</th>\n",
       "      <td>0.082959</td>\n",
       "      <td>0.087602</td>\n",
       "      <td>0.666566</td>\n",
       "      <td>0.081756</td>\n",
       "      <td>0.081116</td>\n",
       "    </tr>\n",
       "    <tr>\n",
       "      <th>1</th>\n",
       "      <td>0.171693</td>\n",
       "      <td>0.441144</td>\n",
       "      <td>0.338163</td>\n",
       "      <td>0.024445</td>\n",
       "      <td>0.024556</td>\n",
       "    </tr>\n",
       "    <tr>\n",
       "      <th>2</th>\n",
       "      <td>0.050149</td>\n",
       "      <td>0.551541</td>\n",
       "      <td>0.050151</td>\n",
       "      <td>0.298008</td>\n",
       "      <td>0.050151</td>\n",
       "    </tr>\n",
       "    <tr>\n",
       "      <th>3</th>\n",
       "      <td>0.067680</td>\n",
       "      <td>0.067871</td>\n",
       "      <td>0.399465</td>\n",
       "      <td>0.066672</td>\n",
       "      <td>0.398313</td>\n",
       "    </tr>\n",
       "    <tr>\n",
       "      <th>4</th>\n",
       "      <td>0.100198</td>\n",
       "      <td>0.100198</td>\n",
       "      <td>0.100202</td>\n",
       "      <td>0.599202</td>\n",
       "      <td>0.100200</td>\n",
       "    </tr>\n",
       "    <tr>\n",
       "      <th>5</th>\n",
       "      <td>0.554707</td>\n",
       "      <td>0.047900</td>\n",
       "      <td>0.301966</td>\n",
       "      <td>0.047682</td>\n",
       "      <td>0.047745</td>\n",
       "    </tr>\n",
       "    <tr>\n",
       "      <th>6</th>\n",
       "      <td>0.031821</td>\n",
       "      <td>0.031826</td>\n",
       "      <td>0.516953</td>\n",
       "      <td>0.202905</td>\n",
       "      <td>0.216495</td>\n",
       "    </tr>\n",
       "    <tr>\n",
       "      <th>7</th>\n",
       "      <td>0.022466</td>\n",
       "      <td>0.739682</td>\n",
       "      <td>0.192984</td>\n",
       "      <td>0.022482</td>\n",
       "      <td>0.022387</td>\n",
       "    </tr>\n",
       "    <tr>\n",
       "      <th>8</th>\n",
       "      <td>0.897584</td>\n",
       "      <td>0.026126</td>\n",
       "      <td>0.025270</td>\n",
       "      <td>0.025388</td>\n",
       "      <td>0.025631</td>\n",
       "    </tr>\n",
       "    <tr>\n",
       "      <th>9</th>\n",
       "      <td>0.296633</td>\n",
       "      <td>0.247997</td>\n",
       "      <td>0.260805</td>\n",
       "      <td>0.130790</td>\n",
       "      <td>0.063775</td>\n",
       "    </tr>\n",
       "  </tbody>\n",
       "</table>\n",
       "</div>"
      ],
      "text/plain": [
       "         t0        t1        t2        t3        t4\n",
       "0  0.082959  0.087602  0.666566  0.081756  0.081116\n",
       "1  0.171693  0.441144  0.338163  0.024445  0.024556\n",
       "2  0.050149  0.551541  0.050151  0.298008  0.050151\n",
       "3  0.067680  0.067871  0.399465  0.066672  0.398313\n",
       "4  0.100198  0.100198  0.100202  0.599202  0.100200\n",
       "5  0.554707  0.047900  0.301966  0.047682  0.047745\n",
       "6  0.031821  0.031826  0.516953  0.202905  0.216495\n",
       "7  0.022466  0.739682  0.192984  0.022482  0.022387\n",
       "8  0.897584  0.026126  0.025270  0.025388  0.025631\n",
       "9  0.296633  0.247997  0.260805  0.130790  0.063775"
      ]
     },
     "execution_count": 18,
     "metadata": {},
     "output_type": "execute_result"
    }
   ],
   "source": [
    "ldavecs = getldavec(sentdf.lemsentence.tolist(),dictionary,lda)\n",
    "ldavdf = pd.DataFrame(ldavecs,columns = ['t0','t1','t2','t3','t4'])\n",
    "ldavdf.head(10)"
   ]
  },
  {
   "cell_type": "code",
   "execution_count": 21,
   "metadata": {},
   "outputs": [
    {
     "name": "stdout",
     "output_type": "stream",
     "text": [
      "(1263, 5)\n",
      "(244381, 5)\n"
     ]
    }
   ],
   "source": [
    "print(ldavdf[ldavdf.isnull().any(axis=1)].shape)\n",
    "print(ldavdf.shape)"
   ]
  },
  {
   "cell_type": "code",
   "execution_count": 22,
   "metadata": {},
   "outputs": [],
   "source": [
    "\n",
    "results = sentencebasedsentiment(vs,ldavecs,threshold = 0.2,soft=True)\n"
   ]
  },
  {
   "cell_type": "code",
   "execution_count": 24,
   "metadata": {
    "scrolled": false
   },
   "outputs": [
    {
     "name": "stdout",
     "output_type": "stream",
     "text": [
      "244381\n",
      "244381\n"
     ]
    }
   ],
   "source": [
    "#lda_sent_pt5_soft[0:10]\n",
    "print(len(results))\n",
    "print(len(sentdf))"
   ]
  },
  {
   "cell_type": "code",
   "execution_count": 34,
   "metadata": {},
   "outputs": [],
   "source": [
    "#Need to group the sentence results together to get a sentiment score at the review level\n",
    "#Then need to save the results to the data frame so they can further be analyzed\n",
    "\n",
    "newdf = pd.DataFrame(results)\n",
    "newdf.columns = ['t' + str(i) + 's' for i in range(5)]\n",
    "sentdf.reset_index(inplace=True,drop=True)\n",
    "sentdf = pd.concat([sentdf,newdf],axis=1)\n",
    "\n"
   ]
  },
  {
   "cell_type": "code",
   "execution_count": 37,
   "metadata": {},
   "outputs": [],
   "source": [
    "sentdf.to_csv('./ProcessedData/reviewsent_sentiment_thresh0.2soft.csv',index=False)"
   ]
  },
  {
   "cell_type": "code",
   "execution_count": null,
   "metadata": {},
   "outputs": [],
   "source": []
  }
 ],
 "metadata": {
  "kernelspec": {
   "display_name": "nlp_envp3",
   "language": "python",
   "name": "nlp_envp3"
  },
  "language_info": {
   "codemirror_mode": {
    "name": "ipython",
    "version": 3
   },
   "file_extension": ".py",
   "mimetype": "text/x-python",
   "name": "python",
   "nbconvert_exporter": "python",
   "pygments_lexer": "ipython3",
   "version": "3.6.10"
  }
 },
 "nbformat": 4,
 "nbformat_minor": 4
}
