{
 "cells": [
  {
   "cell_type": "markdown",
   "metadata": {},
   "source": [
    "The goal of this analyses is to use LDA to model the words that occur in reviews as a mixture of topics containing different words. 2-grams and 3-grams are included in this approach. It makes sense to consider reviews this way because different coffee shops sell different sets of items to customers.  A customer can buy the same sets of items at two different coffee shops, so we don't need separate topics for each coffee shop\n",
    "\n",
    "We expect different coffee shops to have review topic distributiosn that differ significantly between one another.  LDA is validated by checking coherence of words in topics with C_v measure.  Different hyper paramter sets are used."
   ]
  },
  {
   "cell_type": "code",
   "execution_count": 1,
   "metadata": {},
   "outputs": [],
   "source": [
    "import numpy as np\n",
    "import pandas as pd\n",
    "\n",
    "\n",
    "import gensim\n",
    "import gensim.corpora as corpora\n",
    "from gensim.utils import simple_preprocess\n",
    "from gensim.models import CoherenceModel\n",
    "\n",
    "import spacy\n",
    "from spacy.lemmatizer import Lemmatizer\n",
    "from spacy.lang.en.stop_words import STOP_WORDS\n",
    "import en_core_web_sm\n",
    "\n",
    "from tqdm import tqdm_notebook as tqdm\n",
    "from pprint import pprint"
   ]
  },
  {
   "cell_type": "code",
   "execution_count": 2,
   "metadata": {},
   "outputs": [
    {
     "name": "stdout",
     "output_type": "stream",
     "text": [
      "(31806, 6)\n",
      "                       id          name                  alias  is_closed  \\\n",
      "0  UZViRVpxNZvOM5KarmbT1g  Sweet Moment  sweet-moment-new-york      False   \n",
      "1  UZViRVpxNZvOM5KarmbT1g  Sweet Moment  sweet-moment-new-york      False   \n",
      "2  UZViRVpxNZvOM5KarmbT1g  Sweet Moment  sweet-moment-new-york      False   \n",
      "\n",
      "                                          categories  review_count price  \\\n",
      "0  [{'alias': 'coffee', 'title': 'Coffee & Tea'},...           822    $$   \n",
      "1  [{'alias': 'coffee', 'title': 'Coffee & Tea'},...           822    $$   \n",
      "2  [{'alias': 'coffee', 'title': 'Coffee & Tea'},...           822    $$   \n",
      "\n",
      "   rating_x transactions  latitude  ...                    geometry  \\\n",
      "0       4.5           []  40.71763  ...  POINT (-73.99714 40.71763)   \n",
      "1       4.5           []  40.71763  ...  POINT (-73.99714 40.71763)   \n",
      "2       4.5           []  40.71763  ...  POINT (-73.99714 40.71763)   \n",
      "\n",
      "                             catlist numcoffeemen  numreviews   fraccof  idx  \\\n",
      "0  ['coffee', 'icecream', 'waffles']         28.0          60  0.466667    1   \n",
      "1  ['coffee', 'icecream', 'waffles']         28.0          60  0.466667    1   \n",
      "2  ['coffee', 'icecream', 'waffles']         28.0          60  0.466667    1   \n",
      "\n",
      "         date rating_y                                          reviewtxt  \\\n",
      "0  2020-03-14      5.0  I can't believe I have never left a review for...   \n",
      "1  2020-04-21      4.0  Walked all the way across town to get my cute,...   \n",
      "2  2020-03-05      4.0  Definitely a beautiful cup of coffee. It was a...   \n",
      "\n",
      "                                          mreviewtxt  \n",
      "0  i can't believe i have never left a review for...  \n",
      "1  walked all the way across town to get my cute ...  \n",
      "2  definitely a beautiful cup of coffee. it was a...  \n",
      "\n",
      "[3 rows x 21 columns]\n",
      "Starbucks             3844\n",
      "Dunkin'                821\n",
      "Pret A Manger          711\n",
      "Gregorys Coffee        710\n",
      "Bluestone Lane         496\n",
      "La Colombe Coffee      380\n",
      "Blue Bottle Coffee     278\n",
      "JOE & THE JUICE        252\n",
      "Matto Espresso         242\n",
      "Think Coffee           240\n",
      "Name: name, dtype: int64\n",
      "Voyager Espresso             20\n",
      "The Good Kind                20\n",
      "Laughing Man Coffee & Tea    20\n",
      "Black Press Coffee           20\n",
      "Blue Stripes Cacao Shop      20\n",
      "Manon Café                   20\n",
      "Office Coffee                19\n",
      "RoastBean Coffee             19\n",
      "FEED Shop & Cafe             18\n",
      "Chillhouse Cafe              18\n",
      "Caffe Vergnano               17\n",
      "Oren's Daily Roast           17\n",
      "Coffee at Le District        17\n",
      "Book Club                    17\n",
      "St Kilda Coffee              16\n",
      "Barclay Street Cafe          15\n",
      "Hungry Ghost Coffee          15\n",
      "Alice's Tea Cup To Go        15\n",
      "The Marlton Espresso Bar     15\n",
      "Tulo House                   15\n",
      "Name: name, dtype: int64\n",
      "(261,)\n"
     ]
    }
   ],
   "source": [
    "shops = pd.read_csv('./ProcessedData/coffeeshops_withcfcutoff.csv')\n",
    "reviews = pd.read_csv('./ProcessedData/allreviews_txtprocessed.csv')\n",
    "merged = pd.merge(shops,reviews,how='inner',on = ['alias'])\n",
    "print(reviews.shape)\n",
    "print(merged.head(3))\n",
    "print(merged.name.value_counts().head(10))\n",
    "print(merged.name.value_counts().tail(20))\n",
    "print(merged.name.value_counts().shape)"
   ]
  },
  {
   "cell_type": "code",
   "execution_count": 3,
   "metadata": {},
   "outputs": [
    {
     "data": {
      "text/plain": [
       "0    i can't believe i have never left a review for...\n",
       "1    walked all the way across town to get my cute ...\n",
       "2    definitely a beautiful cup of coffee it was a ...\n",
       "3    i first came to sweet moment when my friend to...\n",
       "4    okay so this place has by far has the best lat...\n",
       "Name: mreviewtxt, dtype: object"
      ]
     },
     "execution_count": 3,
     "metadata": {},
     "output_type": "execute_result"
    }
   ],
   "source": [
    "# Load the regular expression library\n",
    "import re\n",
    "# Remove punctuation\n",
    "merged['mreviewtxt'] = merged['mreviewtxt'].map(lambda x: re.sub('[,\\.!?]', '', x))\n",
    "# Convert the titles to lowercase\n",
    "merged['mreviewtxt'] = merged['mreviewtxt'].map(lambda x: x.lower())\n",
    "# Print out the first rows of papers\n",
    "merged['mreviewtxt'].head()"
   ]
  },
  {
   "cell_type": "code",
   "execution_count": 4,
   "metadata": {},
   "outputs": [
    {
     "name": "stdout",
     "output_type": "stream",
     "text": [
      "[['can', 'believe', 'have', 'never', 'left', 'review', 'for', 'this', 'place', 'considering', 'the', 'amount', 'of', 'times', 'stop', 'by', 'here', 'and', 'all', 'the', 'times', 'have', 'been', 'here', 'not', 'once', 'has', 'aone', 'been', 'rude', 'to', 'me', 'always', 'make', 'sure', 'to', 'get', 'latter', 'art', 'so', 'maybe', 'the', 'taro', 'or', 'red', 'velvet', 'or', 'matcha', 'to', 'be', 'honest', 'like', 'them', 'all', 'just', 'the', 'cuteness', 'of', 'it', 'makes', 'me', 'love', 'it', 'understandable', 'that', 'ma', 'people', 'don', 'wanna', 'pay', 'for', 'such', 'small', 'cups', 'of', 'latte', 'but', 'it', 'is', 'definitely', 'based', 'on', 'preference', 'second', 'the', 'bingsoo', 'here', 'is', 'so', 'so', 'good', 'the', 'one', 'get', 'the', 'most', 'has', 'to', 'be', 'the', 'mango', 'cheesecake', 'it', 'literally', 'has', 'lives', 'of', 'cheesecakes', 'and', 'has', 'condensed', 'milk', 'and', 'all', 'that', 'good', 'stuff', 'it', 'very', 'sweet', 'incase', 'don', 'like', 'that', 'really', 'don', 'think', 'it', 'miss', 'if', 'you', 'come', 'here', 'they', 'have', 'individual', 'and', 'large', 'bingsoos', 'get', 'individual', 'because', 'don', 'like', 'sharing', 'the', 'goodness']]\n"
     ]
    }
   ],
   "source": [
    "import gensim\n",
    "from gensim.utils import simple_preprocess\n",
    "def sent_to_words(sentences):\n",
    "    for sentence in sentences:\n",
    "        yield(gensim.utils.simple_preprocess(str(sentence), deacc=True))  # deacc=True removes punctuations\n",
    "data = merged.mreviewtxt.values.tolist()\n",
    "data_words = list(sent_to_words(data))\n",
    "print(data_words[:1])"
   ]
  },
  {
   "cell_type": "markdown",
   "metadata": {},
   "source": [
    "Bi-grams and tri-grams"
   ]
  },
  {
   "cell_type": "code",
   "execution_count": 5,
   "metadata": {},
   "outputs": [],
   "source": [
    "# Build the bigram and trigram models\n",
    "bigram = gensim.models.Phrases(data_words, min_count=5, threshold=100) # higher threshold fewer phrases.\n",
    "trigram = gensim.models.Phrases(bigram[data_words], threshold=100)\n",
    "# Faster way to get a sentence clubbed as a trigram/bigram\n",
    "bigram_mod = gensim.models.phrases.Phraser(bigram)\n",
    "trigram_mod = gensim.models.phrases.Phraser(trigram)"
   ]
  },
  {
   "cell_type": "markdown",
   "metadata": {},
   "source": [
    "Removing stopwords, making bigrams, and lemmatizing"
   ]
  },
  {
   "cell_type": "code",
   "execution_count": 7,
   "metadata": {},
   "outputs": [
    {
     "name": "stderr",
     "output_type": "stream",
     "text": [
      "[nltk_data] Downloading package stopwords to\n",
      "[nltk_data]     /Users/thomasyoung/nltk_data...\n",
      "[nltk_data]   Package stopwords is already up-to-date!\n"
     ]
    }
   ],
   "source": [
    "# NLTK Stop words\n",
    "import nltk\n",
    "nltk.download('stopwords')\n",
    "from nltk.corpus import stopwords\n",
    "stop_words = stopwords.words('english')\n",
    "stop_words.extend(['from', 'subject', 're', 'edu', 'use','good','great','love','go','always','go','order','get','say','try','nice','need','order','really','also','but','starbuck','dunkin','gregory','pret','bluestone','la colombe',\n",
    "                  'starbucks','gregorys'])\n",
    "# Define functions for stopwords, bigrams, trigrams and lemmatization\n",
    "def remove_stopwords(texts):\n",
    "    return [[word for word in simple_preprocess(str(doc)) if word not in stop_words] for doc in texts]\n",
    "def make_bigrams(texts):\n",
    "    return [bigram_mod[doc] for doc in texts]\n",
    "def make_trigrams(texts):\n",
    "    return [trigram_mod[bigram_mod[doc]] for doc in texts]\n",
    "\n",
    "#we only focus on nouns and verbs since they probably provide the most distinct topic information\n",
    "def lemmatization(texts, allowed_postags=['NOUN']):\n",
    "    \"\"\"https://spacy.io/api/annotation\"\"\"\n",
    "    texts_out = []\n",
    "    for sent in texts:\n",
    "        doc = nlp(\" \".join(sent)) \n",
    "        texts_out.append([token.lemma_ for token in doc if token.pos_ in allowed_postags])\n",
    "    return texts_out"
   ]
  },
  {
   "cell_type": "markdown",
   "metadata": {},
   "source": [
    "Calling the functions"
   ]
  },
  {
   "cell_type": "code",
   "execution_count": 8,
   "metadata": {},
   "outputs": [
    {
     "name": "stdout",
     "output_type": "stream",
     "text": [
      "['coffee', 'bit', 'design', 'cream', 'special', 'base', 'coffee', 'tea', 'cream', 'tea', 'coffee', 'coffee', 'tea', 'cream', 'wish']\n"
     ]
    }
   ],
   "source": [
    "import spacy\n",
    "# Remove Stop Words\n",
    "data_words_nostops = remove_stopwords(data_words)\n",
    "# Form Bigrams\n",
    "data_words_bigrams = make_bigrams(data_words_nostops)\n",
    "# Initialize spacy 'en' model, keeping only tagger component (for efficiency)\n",
    "nlp = spacy.load(\"en_core_web_sm\", disable=['parser', 'ner'])\n",
    "# Do lemmatization keeping only noun, adj, vb, adv\n",
    "data_lemmatized = lemmatization(data_words_bigrams, allowed_postags=['NOUN'])\n",
    "print(data_lemmatized[2])"
   ]
  },
  {
   "cell_type": "code",
   "execution_count": 9,
   "metadata": {},
   "outputs": [
    {
     "name": "stdout",
     "output_type": "stream",
     "text": [
      "[['town', 'duper', 'seating', 'area', 'plenty', 'choice', 'stick', 'latte', 'art', 'drink', 'star', 'experience'], ['coffee', 'bit', 'design', 'cream', 'special', 'base', 'coffee', 'tea', 'cream', 'tea', 'coffee', 'coffee', 'tea', 'cream', 'wish'], ['moment', 'friend', 'summer', 'multiple', 'trip', 'month', 'summer', 'school', 'friend', 'moment', 'flavor', 'aone', 'flavor', 'suit', 'taste', 'moment', 'place', 'study', 'environment', 'focus', 'homework', 'vibe', 'picture', 'place', 'study', 'eat', 'dessert', 'moment', 'seat', 'worker'], ['place', 'latte', 'art', 'life', 'person', 'decorate', 'coffee', 'definite', 'girl', 'brunch', 'art', 'fare', 'list', 'con', 'place', 'customer', 'service', 'super', 'question', 'excuse', 'question', 'town', 'subway', 'parking', 'spot', 'dollar', 'hour', 'wifi', 'weekend', 'table', 'place', 'group', 'price', 'latte', 'place', 'con', 'variety', 'coffee', 'flavor', 'art', 'struggle'], ['shop', 'spot', 'invite', 'friend', 'couple', 'people', 'homework', 'outlet', 'shop', 'charge', 'laptop', 'phone', 'store', 'photo', 'milk', 'tea', 'cream', 'art', 'matcha', 'cheesecake', 'cream', 'art', 'flavor', 'chocolate', 'taro', 'flavor', 'waffle', 'flavor', 'egg', 'fruit'], ['thought', 'place', 'instagram', 'photo', 'dessert', 'place', 'size', 'bingsoo', 'pile', 'milk', 'shaved_ice', 'mango', 'syrup', 'mango', 'piece', 'side', 'dessert', 'size', 'share', 'people', 'plastic', 'sharing', 'container', 'condense', 'milk', 'shaved_ice', 'option', 'dessert', 'shop', 'day', 'flavor', 'texture'], ['dinner', 'friend', 'dessert', 'dessert', 'spot', 'time', 'moment', 'list', 'walk', 'spot', 'birthday', 'celebration', 'bts', 'member', 'fan', 'friend', 'shaved_ice', 'people', 'melon', 'shaved_ice', 'man', 'phone', 'flick', 'wrist', 'reflex', 'shaved_ice', 'mountain', 'shaved_ice', 'taste', 'shaved_ice', 'texture', 'syrup', 'sauce', 'balance', 'melon', 'shaved_ice', 'cup', 'melon', 'ball', 'shaved_ice', 'melon', 'melona', 'bar', 'shaved_ice', 'kind', 'want', 'air', 'freshener', 'scent', 'car', 'friend', 'spot', 'dessert', 'highly_recommend', 'spot', 'sit', 'dessert', 'spot', 'group', 'friend', 'date'], ['art', 'ig', 'feed', 'time', 'point', 'opportunity', 'place', 'version', 'latte', 'art', 'tea', 'sample', 'display', 'latte', 'art', 'lot', 'people', 'shaved_ice', 'cream', 'group', 'share', 'latte', 'art', 'treat'], ['desert', 'spot', 'place', 'work', 'seating', 'desert', 'spot', 'service', 'way', 'arrangement', 'flavor', 'flavor']]\n",
      "['sweet_potato', 'sweet_potato', 'spicy_mayo', 'avocado_toast', 'french_toast', 'overly_sweet', 'sweet_potato', 'spicy_mayo', 'poached_eggs', 'perfectly_cooked', 'poached_eggs', 'nutella_french', 'sweet_potato', 'spicy_mayo', 'highly_recommend', 'sunday_afternoon', 'golden_folded', 'avo_toast', 'flat_white', 'flat_white', 'ice_cream', 'nothing_special', 'avocado_toast', 'golden_folded', 'portion_size', 'pleasant_surprise', 'french_toast', 'scrambled_eggs', 'avocado_toast', 'nutella_french', 'scrambled_eggs', 'natural_light', 'avocado_toast', 'blown_away', 'nutella_french', 'nutella_french', 'poached_egg', 'cooked_perfectly', 'smoked_salmon', 'golden_folded', 'highly_recommend', 'color_scheme', 'avocado_toast', 'olive_oil', 'chia_pudding', 'sweet_potato', 'avocado_toast', 'golden_folded', 'smoked_salmon', 'folded_eggs']\n"
     ]
    }
   ],
   "source": [
    "print(data_lemmatized[1:10])\n",
    "bigramtokens = []\n",
    "for doc in data_words_bigrams:\n",
    "    for token in doc:\n",
    "        if '_' in token:\n",
    "            bigramtokens.append(token)\n",
    "print(bigramtokens[2000:2050])"
   ]
  },
  {
   "cell_type": "markdown",
   "metadata": {},
   "source": [
    "Creating a dictionary and corpus for the LDA model"
   ]
  },
  {
   "cell_type": "code",
   "execution_count": 10,
   "metadata": {},
   "outputs": [
    {
     "name": "stdout",
     "output_type": "stream",
     "text": [
      "[[(0, 1), (1, 1), (2, 1), (3, 1), (4, 1), (5, 1), (6, 1), (7, 1), (8, 1), (9, 1), (10, 1), (11, 1), (12, 1), (13, 1), (14, 1), (15, 1), (16, 1), (17, 2)]]\n",
      "19590\n",
      "19590\n",
      "19590\n",
      "10239\n",
      "19590\n"
     ]
    }
   ],
   "source": [
    "import gensim.corpora as corpora\n",
    "# Create Dictionary\n",
    "id2word = corpora.Dictionary(data_lemmatized)\n",
    "# Create Corpus\n",
    "texts = data_lemmatized\n",
    "# Term Document Frequency\n",
    "corpus = [id2word.doc2bow(text) for text in texts]\n",
    "# View\n",
    "print(corpus[:1])\n",
    "print(len(corpus))\n",
    "print(len(merged))\n",
    "print(len(data_lemmatized))\n",
    "print(len(id2word))\n",
    "print(len(texts))"
   ]
  },
  {
   "cell_type": "markdown",
   "metadata": {},
   "source": [
    "Base Model"
   ]
  },
  {
   "cell_type": "code",
   "execution_count": 14,
   "metadata": {},
   "outputs": [],
   "source": [
    "# Build LDA model\n",
    "lda_model = gensim.models.LdaMulticore(corpus=corpus,\n",
    "                                       id2word=id2word,\n",
    "                                       num_topics=10, \n",
    "                                       random_state=100,\n",
    "                                       chunksize=100,\n",
    "                                       passes=10,\n",
    "                                       per_word_topics=True)"
   ]
  },
  {
   "cell_type": "code",
   "execution_count": 15,
   "metadata": {},
   "outputs": [
    {
     "name": "stdout",
     "output_type": "stream",
     "text": [
      "[(0,\n",
      "  '0.056*\"place\" + 0.044*\"coffee\" + 0.033*\"work\" + 0.031*\"table\" + '\n",
      "  '0.026*\"people\" + 0.026*\"space\" + 0.024*\"area\" + 0.020*\"starbuck\" + '\n",
      "  '0.020*\"location\" + 0.018*\"seating\"'),\n",
      " (1,\n",
      "  '0.119*\"food\" + 0.061*\"sandwich\" + 0.053*\"place\" + 0.050*\"breakfast\" + '\n",
      "  '0.036*\"lunch\" + 0.031*\"option\" + 0.021*\"item\" + 0.020*\"price\" + '\n",
      "  '0.020*\"juice\" + 0.019*\"spot\"'),\n",
      " (2,\n",
      "  '0.079*\"milk\" + 0.069*\"drink\" + 0.048*\"starbuck\" + 0.034*\"coffee\" + '\n",
      "  '0.030*\"barista\" + 0.030*\"latte\" + 0.025*\"time\" + 0.020*\"place\" + '\n",
      "  '0.019*\"manager\" + 0.016*\"oat\"'),\n",
      " (3,\n",
      "  '0.039*\"drink\" + 0.027*\"woman\" + 0.024*\"hotel\" + 0.023*\"issue\" + '\n",
      "  '0.018*\"mocha\" + 0.015*\"vanilla\" + 0.014*\"man\" + 0.014*\"espresso\" + '\n",
      "  '0.013*\"day\" + 0.012*\"smile\"'),\n",
      " (4,\n",
      "  '0.058*\"customer\" + 0.055*\"time\" + 0.050*\"service\" + 0.043*\"location\" + '\n",
      "  '0.032*\"people\" + 0.031*\"staff\" + 0.030*\"line\" + 0.029*\"minute\" + '\n",
      "  '0.028*\"employee\" + 0.022*\"morning\"'),\n",
      " (5,\n",
      "  '0.032*\"chain\" + 0.028*\"bagel\" + 0.020*\"ice\" + 0.019*\"fix\" + 0.017*\"tip\" + '\n",
      "  '0.015*\"muffin\" + 0.015*\"station\" + 0.014*\"show\" + 0.013*\"traffic\" + '\n",
      "  '0.013*\"pop\"'),\n",
      " (6,\n",
      "  '0.037*\"cookie\" + 0.033*\"flavor\" + 0.026*\"bread\" + 0.023*\"salad\" + '\n",
      "  '0.023*\"pastry\" + 0.022*\"cake\" + 0.018*\"cheese\" + 0.017*\"bakery\" + '\n",
      "  '0.017*\"croissant\" + 0.016*\"taste\"'),\n",
      " (7,\n",
      "  '0.108*\"chocolate\" + 0.027*\"cappuccino\" + 0.020*\"train\" + 0.020*\"smoothie\" + '\n",
      "  '0.019*\"gregory\" + 0.018*\"deal\" + 0.017*\"management\" + 0.017*\"water\" + '\n",
      "  '0.012*\"pm\" + 0.012*\"mistake\"'),\n",
      " (8,\n",
      "  '0.170*\"tea\" + 0.039*\"store\" + 0.036*\"app\" + 0.027*\"selection\" + '\n",
      "  '0.023*\"book\" + 0.018*\"month\" + 0.015*\"scone\" + 0.013*\"week\" + 0.013*\"level\" '\n",
      "  '+ 0.012*\"brand\"'),\n",
      " (9,\n",
      "  '0.338*\"coffee\" + 0.068*\"shop\" + 0.048*\"place\" + 0.022*\"staff\" + '\n",
      "  '0.018*\"service\" + 0.017*\"pastry\" + 0.014*\"office\" + 0.014*\"quality\" + '\n",
      "  '0.014*\"morning\" + 0.014*\"area\"')]\n"
     ]
    }
   ],
   "source": [
    "from pprint import pprint\n",
    "# Print the Keyword in the 10 topics\n",
    "pprint(lda_model.print_topics())\n",
    "doc_lda = lda_model[corpus]"
   ]
  },
  {
   "cell_type": "markdown",
   "metadata": {},
   "source": [
    "When 10 topics are used some interesting combinations of topics show up.  Topic 6 appears to correspodn to pastries, Topic 9 to staff, office, quality,  Topic 7 to chocolate, capuccino.  Some topics contain a mixture of place related information (like office, train, traffic, morning, day), and food related information (chocolate, scone).  The dominant words in each topic correspond to food/coffee/tee while words like time, place,location, and seating have low probabiliteies among the reviews."
   ]
  },
  {
   "cell_type": "markdown",
   "metadata": {},
   "source": [
    "Baseline Coherence Score"
   ]
  },
  {
   "cell_type": "code",
   "execution_count": 22,
   "metadata": {},
   "outputs": [
    {
     "name": "stdout",
     "output_type": "stream",
     "text": [
      "\n",
      "Coherence Score:  0.4129189817807785\n"
     ]
    }
   ],
   "source": [
    "from gensim.models import CoherenceModel\n",
    "# Compute Coherence Score\n",
    "coherence_model_lda = CoherenceModel(model=lda_model, texts=data_lemmatized, dictionary=id2word, coherence='c_v')\n",
    "coherence_lda = coherence_model_lda.get_coherence()\n",
    "print('\\nCoherence Score: ', coherence_lda)"
   ]
  },
  {
   "cell_type": "markdown",
   "metadata": {},
   "source": [
    "Since hyperparameter tuning is kind of slow, just try to tune the number of topics rather than the alpha beta parameters."
   ]
  },
  {
   "cell_type": "code",
   "execution_count": 11,
   "metadata": {},
   "outputs": [
    {
     "name": "stdout",
     "output_type": "stream",
     "text": [
      "Number of topics is:3\n",
      "[(0,\n",
      "  '0.146*\"coffee\" + 0.048*\"place\" + 0.026*\"shop\" + 0.018*\"milk\" + 0.016*\"work\" '\n",
      "  '+ 0.016*\"area\" + 0.015*\"staff\" + 0.014*\"table\" + 0.013*\"space\" + '\n",
      "  '0.012*\"spot\"'),\n",
      " (1,\n",
      "  '0.045*\"food\" + 0.023*\"sandwich\" + 0.023*\"chocolate\" + 0.022*\"place\" + '\n",
      "  '0.021*\"tea\" + 0.020*\"breakfast\" + 0.014*\"lunch\" + 0.013*\"flavor\" + '\n",
      "  '0.013*\"cookie\" + 0.013*\"option\"'),\n",
      " (2,\n",
      "  '0.034*\"time\" + 0.031*\"location\" + 0.029*\"drink\" + 0.027*\"service\" + '\n",
      "  '0.027*\"customer\" + 0.021*\"line\" + 0.021*\"staff\" + 0.019*\"people\" + '\n",
      "  '0.015*\"coffee\" + 0.015*\"morning\"')]\n",
      "Number of topics is:4\n",
      "[(0,\n",
      "  '0.050*\"place\" + 0.029*\"table\" + 0.027*\"work\" + 0.022*\"people\" + '\n",
      "  '0.020*\"space\" + 0.020*\"area\" + 0.019*\"coffee\" + 0.017*\"seat\" + '\n",
      "  '0.016*\"seating\" + 0.014*\"staff\"'),\n",
      " (1,\n",
      "  '0.043*\"food\" + 0.028*\"sandwich\" + 0.023*\"breakfast\" + 0.023*\"place\" + '\n",
      "  '0.022*\"chocolate\" + 0.020*\"tea\" + 0.016*\"lunch\" + 0.016*\"cookie\" + '\n",
      "  '0.014*\"option\" + 0.013*\"flavor\"'),\n",
      " (2,\n",
      "  '0.038*\"time\" + 0.033*\"location\" + 0.031*\"customer\" + 0.030*\"drink\" + '\n",
      "  '0.029*\"service\" + 0.023*\"line\" + 0.022*\"staff\" + 0.021*\"people\" + '\n",
      "  '0.017*\"morning\" + 0.016*\"minute\"'),\n",
      " (3,\n",
      "  '0.210*\"coffee\" + 0.038*\"milk\" + 0.037*\"shop\" + 0.036*\"place\" + '\n",
      "  '0.017*\"latte\" + 0.014*\"staff\" + 0.013*\"drink\" + 0.011*\"service\" + '\n",
      "  '0.011*\"time\" + 0.011*\"pastry\"')]\n",
      "Number of topics is:5\n",
      "[(0,\n",
      "  '0.053*\"place\" + 0.030*\"table\" + 0.030*\"work\" + 0.025*\"people\" + '\n",
      "  '0.021*\"area\" + 0.020*\"space\" + 0.018*\"seat\" + 0.016*\"seating\" + '\n",
      "  '0.016*\"staff\" + 0.014*\"music\"'),\n",
      " (1,\n",
      "  '0.083*\"food\" + 0.043*\"sandwich\" + 0.035*\"breakfast\" + 0.029*\"place\" + '\n",
      "  '0.025*\"lunch\" + 0.023*\"cookie\" + 0.021*\"option\" + 0.018*\"item\" + '\n",
      "  '0.017*\"bread\" + 0.015*\"egg\"'),\n",
      " (2,\n",
      "  '0.046*\"time\" + 0.041*\"location\" + 0.039*\"service\" + 0.039*\"customer\" + '\n",
      "  '0.030*\"drink\" + 0.028*\"line\" + 0.025*\"staff\" + 0.023*\"people\" + '\n",
      "  '0.021*\"morning\" + 0.020*\"minute\"'),\n",
      " (3,\n",
      "  '0.227*\"coffee\" + 0.040*\"place\" + 0.038*\"shop\" + 0.029*\"milk\" + '\n",
      "  '0.015*\"staff\" + 0.014*\"latte\" + 0.014*\"service\" + 0.012*\"pastry\" + '\n",
      "  '0.011*\"spot\" + 0.010*\"time\"'),\n",
      " (4,\n",
      "  '0.040*\"tea\" + 0.036*\"chocolate\" + 0.032*\"drink\" + 0.023*\"flavor\" + '\n",
      "  '0.017*\"taste\" + 0.017*\"milk\" + 0.015*\"donut\" + 0.012*\"cake\" + 0.011*\"time\" '\n",
      "  '+ 0.009*\"woman\"')]\n"
     ]
    }
   ],
   "source": [
    "# Build LDA model with 3 to 9 topics\n",
    "ldamodlist = []\n",
    "docldalist = []\n",
    "cohereldalist = []\n",
    "for nt in range(3,6):\n",
    "    lda_model = gensim.models.LdaMulticore(corpus=corpus,\n",
    "                                       id2word=id2word,\n",
    "                                       num_topics=nt, \n",
    "                                       random_state=100,\n",
    "                                       chunksize=100,\n",
    "                                        passes=10,\n",
    "                                       per_word_topics=True)\n",
    "    print(f'Number of topics is:{nt}')\n",
    "    pprint(lda_model.print_topics())\n",
    "    doc_lda = lda_model[corpus]\n",
    "    coherence_model_lda = CoherenceModel(model=lda_model, texts=data_lemmatized, dictionary=id2word, coherence='c_v')\n",
    "    coherence_lda = coherence_model_lda.get_coherence()\n",
    "    ldamodlist.append(lda_model)\n",
    "    docldalist.append(doc_lda)\n",
    "    cohereldalist.append(coherence_lda)\n",
    "    \n"
   ]
  },
  {
   "cell_type": "code",
   "execution_count": 26,
   "metadata": {},
   "outputs": [
    {
     "data": {
      "text/plain": [
       "Text(0.5, 1.0, 'Coherence vs Number of Topics LDA ')"
      ]
     },
     "execution_count": 26,
     "metadata": {},
     "output_type": "execute_result"
    },
    {
     "data": {
      "image/png": "[encoded data removed]",
      "text/plain": [
       "<Figure size 432x288 with 1 Axes>"
      ]
     },
     "metadata": {
      "needs_background": "light"
     },
     "output_type": "display_data"
    }
   ],
   "source": [
    "import seaborn as sns\n",
    "import matplotlib.pyplot as plt\n",
    "\n",
    "fig, ax = plt.subplots()\n",
    "sns.lineplot(x=range(3,8),y=cohereldalist,ax=ax)\n",
    "ax.set_xlabel('Number of Clusters')\n",
    "ax.set_ylabel('C_v score')\n",
    "ax.set_title('Coherence vs Number of Topics LDA ')\n",
    "\n",
    "#The coherence is highest when there are 5 clusters (0.51)"
   ]
  },
  {
   "cell_type": "markdown",
   "metadata": {},
   "source": [
    "The coherence score is a little higher when 6 topics are used. 0.52 instead of 0.41"
   ]
  },
  {
   "cell_type": "code",
   "execution_count": 12,
   "metadata": {},
   "outputs": [],
   "source": [
    "#Actually 5 topics is better when 'starbucks',and 'gregorys' are removed from reviews\n",
    "from gensim.test.utils import datapath\n",
    "from gensim.models import LdaModel\n",
    "# Save model to disk.\n",
    "temp_file = datapath(\"lda_nounsonly_5topics.gensim\")\n",
    "ldamodlist[2].save(temp_file)\n",
    "\n",
    "ldamod3t = LdaModel.load(temp_file)\n"
   ]
  },
  {
   "cell_type": "code",
   "execution_count": 13,
   "metadata": {},
   "outputs": [],
   "source": [
    "#saving the dictionary\n",
    "from gensim import corpora\n",
    "dictionary = corpora.Dictionary(texts)\n",
    "corpus = [dictionary.doc2bow(text) for text in texts]\n",
    "import pickle\n",
    "pickle.dump(corpus, open('corpus_allreviews_nouns.pkl', 'wb'))\n",
    "dictionary.save('dictionary_allreviews_nouns.gensim')\n"
   ]
  },
  {
   "cell_type": "code",
   "execution_count": 5,
   "metadata": {
    "scrolled": true
   },
   "outputs": [
    {
     "data": {
      "text/html": [
       "\n",
       "<link rel=\"stylesheet\" type=\"text/css\" href=\"https://cdn.rawgit.com/bmabey/pyLDAvis/files/ldavis.v1.0.0.css\">\n",
       "\n",
       "\n",
       "<div id=\"ldavis_el181921404068034793124132114518\"></div>\n",
       "<script type=\"text/javascript\">\n",
       "\n",
       "var ldavis_el181921404068034793124132114518_data = {\"mdsDat\": {\"x\": [0.12186028084403752, -0.22297322791419244, 0.24792529216852438, 0.0035863497615249624, -0.15039869485989446], \"y\": [-0.05784919781665455, -0.21321637460236717, -0.008764851111509668, 0.024464291102218177, 0.2553661324283134], \"topics\": [1, 2, 3, 4, 5], \"cluster\": [1, 1, 1, 1, 1], \"Freq\": [20.328474044799805, 12.449328422546387, 22.60072898864746, 28.657785415649414, 15.96368408203125]}, \"tinfo\": {\"Term\": [\"coffee\", \"food\", \"customer\", \"shop\", \"sandwich\", \"tea\", \"breakfast\", \"chocolate\", \"table\", \"location\", \"milk\", \"line\", \"place\", \"lunch\", \"people\", \"drink\", \"work\", \"service\", \"flavor\", \"seat\", \"cookie\", \"employee\", \"minute\", \"option\", \"space\", \"taste\", \"music\", \"bread\", \"hour\", \"bathouroom\", \"seat\", \"music\", \"hour\", \"bathouroom\", \"manager\", \"outlet\", \"floor\", \"wifi\", \"chair\", \"restroom\", \"study\", \"man\", \"laptop\", \"patron\", \"book\", \"none\", \"weekday\", \"garbage\", \"volume\", \"event\", \"meet\", \"computer\", \"closing\", \"crew\", \"couch\", \"luck\", \"con\", \"game\", \"member\", \"disappointment\", \"table\", \"window\", \"woman\", \"group\", \"team\", \"space\", \"seating\", \"work\", \"plenty\", \"people\", \"area\", \"place\", \"lot\", \"friend\", \"staff\", \"location\", \"cafe\", \"time\", \"spot\", \"counter\", \"store\", \"bit\", \"food\", \"sandwich\", \"breakfast\", \"lunch\", \"bread\", \"egg\", \"salad\", \"cheese\", \"smoothie\", \"meal\", \"chicken\", \"eat\", \"portion\", \"wrap\", \"pot\", \"convenience\", \"roll\", \"bacon\", \"chip\", \"tomato\", \"hair\", \"salmon\", \"dish\", \"dog\", \"bowl\", \"brunch\", \"delivery\", \"sauce\", \"sausage\", \"plate\", \"spinach\", \"exit\", \"item\", \"restaurant\", \"manger\", \"option\", \"ingredient\", \"bite\", \"rush\", \"price\", \"menu\", \"place\", \"side\", \"thing\", \"spot\", \"time\", \"service\", \"staff\", \"bit\", \"quality\", \"day\", \"lot\", \"customer\", \"cashier\", \"order\", \"girl\", \"attitude\", \"app\", \"money\", \"issue\", \"register\", \"toast\", \"smile\", \"fix\", \"management\", \"receipt\", \"face\", \"matter\", \"attention\", \"mistake\", \"scone\", \"coworker\", \"tax\", \"rude\", \"show\", \"system\", \"update\", \"waste\", \"shame\", \"response\", \"colleague\", \"franchise\", \"employee\", \"line\", \"minute\", \"worker\", \"today\", \"train\", \"name\", \"lady\", \"location\", \"help\", \"job\", \"guy\", \"person\", \"service\", \"time\", \"drink\", \"morning\", \"experience\", \"store\", \"barista\", \"people\", \"staff\", \"business\", \"star\", \"day\", \"way\", \"review\", \"counter\", \"thing\", \"work\", \"shop\", \"coffee\", \"cappuccino\", \"espresso\", \"oat\", \"bean\", \"drip\", \"bagel\", \"mess\", \"drinker\", \"temperature\", \"roast\", \"buck\", \"brew\", \"code\", \"power\", \"ground\", \"oatmeal\", \"highly_recommend\", \"draft\", \"mom\", \"blue_bottle\", \"lobby\", \"policy\", \"calorie\", \"cocktail\", \"babka\", \"pace\", \"culture\", \"empanada\", \"soy\", \"hotel\", \"latte\", \"milk\", \"pour\", \"neighborhood\", \"cup\", \"shot\", \"place\", \"pastry\", \"art\", \"spot\", \"quality\", \"price\", \"area\", \"bar\", \"city\", \"atmosphere\", \"chain\", \"staff\", \"barista\", \"service\", \"morning\", \"taste\", \"option\", \"day\", \"time\", \"way\", \"work\", \"lot\", \"location\", \"drink\", \"tea\", \"chocolate\", \"cookie\", \"cake\", \"vanilla\", \"folk\", \"texture\", \"fruit\", \"honey\", \"cupcake\", \"slice\", \"dessert\", \"lemon\", \"matcha\", \"apple\", \"sweetness\", \"salt\", \"birthday\", \"ginger\", \"min\", \"muffin\", \"banana\", \"mix\", \"dairy\", \"green_tea\", \"refund\", \"traffic\", \"protein\", \"buttery\", \"strawberry\", \"ok\", \"juice\", \"flavor\", \"donut\", \"box\", \"taste\", \"bakery\", \"sugar\", \"cream\", \"soup\", \"drink\", \"ton\", \"pastry\", \"milk\", \"bit\", \"place\", \"rush\", \"time\", \"day\", \"friend\", \"latte\", \"thing\", \"amount\"], \"Freq\": [19293.0, 3283.0, 2668.0, 3100.0, 1704.0, 1783.0, 1464.0, 1662.0, 1827.0, 4235.0, 3248.0, 2150.0, 8398.0, 990.0, 3307.0, 4197.0, 2918.0, 4410.0, 1238.0, 1098.0, 919.0, 1262.0, 1420.0, 1521.0, 1555.0, 1388.0, 869.0, 658.0, 852.0, 839.0, 1097.6522216796875, 868.2198486328125, 851.7792358398438, 838.2640991210938, 789.4788208007812, 437.0133056640625, 407.9201354980469, 389.0036315917969, 372.80535888671875, 361.8567199707031, 347.0025939941406, 331.9175720214844, 289.6908264160156, 245.11598205566406, 237.95306396484375, 144.92489624023438, 136.2825164794922, 124.62732696533203, 119.3651351928711, 117.50047302246094, 111.26214599609375, 106.40829467773438, 106.77588653564453, 98.90287017822266, 94.56986236572266, 93.41362762451172, 91.42479705810547, 89.85073852539062, 210.42288208007812, 88.60796356201172, 1791.9451904296875, 455.6167907714844, 391.09375, 223.5459442138672, 163.6348419189453, 1141.476806640625, 915.5340576171875, 1790.6297607421875, 411.1528625488281, 1522.8370361328125, 1108.151123046875, 2844.076904296875, 735.802490234375, 595.0576171875, 1081.82861328125, 911.2139282226562, 393.2625427246094, 747.814453125, 478.3905944824219, 339.2879943847656, 348.46368408203125, 344.0055847167969, 3282.4716796875, 1703.647216796875, 1463.9039306640625, 989.759521484375, 658.0859375, 578.4168090820312, 568.107421875, 461.0264892578125, 308.4497985839844, 292.4427795410156, 245.77503967285156, 169.93460083007812, 158.37066650390625, 150.91917419433594, 122.44918060302734, 116.17842864990234, 110.2771987915039, 106.30826568603516, 106.26231384277344, 101.2918701171875, 97.84324645996094, 93.7725601196289, 90.25093841552734, 87.52635192871094, 87.05647277832031, 82.14290618896484, 77.56063842773438, 75.0153579711914, 72.18695068359375, 72.28329467773438, 101.22596740722656, 76.98751068115234, 635.6654663085938, 244.4748992919922, 124.14119720458984, 789.805908203125, 213.3853302001953, 304.45538330078125, 268.8983459472656, 558.4204711914062, 340.36865234375, 1065.9833984375, 246.31605529785156, 312.31085205078125, 333.87420654296875, 489.2748107910156, 404.9051208496094, 379.7533264160156, 254.5464630126953, 220.25540161132812, 258.4264221191406, 203.77700805664062, 2667.216796875, 738.85009765625, 657.02783203125, 469.4379577636719, 442.3877868652344, 372.676513671875, 347.90191650390625, 328.5943298339844, 325.4869079589844, 296.6585998535156, 229.862060546875, 199.5178985595703, 189.3597412109375, 180.97543334960938, 180.5123291015625, 174.687744140625, 170.49951171875, 147.9221649169922, 134.00733947753906, 122.64910888671875, 115.20325469970703, 110.8300552368164, 114.3743896484375, 112.60137176513672, 96.59114074707031, 93.29420471191406, 92.93314361572266, 91.6193618774414, 89.6620864868164, 87.66551971435547, 1215.7838134765625, 1961.3408203125, 1309.0936279296875, 518.0040283203125, 788.8740844726562, 247.09942626953125, 628.7318725585938, 271.8737487792969, 2764.813720703125, 203.71922302246094, 425.5797119140625, 592.4993286132812, 498.5050354003906, 2537.3681640625, 3010.6103515625, 2344.013671875, 1354.546630859375, 858.4811401367188, 967.26416015625, 914.14599609375, 1495.6307373046875, 1589.0325927734375, 400.045654296875, 627.4298095703125, 878.6593017578125, 631.849853515625, 470.5392150878906, 462.88677978515625, 520.46142578125, 514.6599731445312, 3099.364013671875, 19274.15234375, 763.5095825195312, 751.4686889648438, 633.041748046875, 528.89892578125, 347.2864685058594, 273.3175354003906, 233.4496307373047, 150.49400329589844, 137.65928649902344, 131.5792999267578, 124.8370590209961, 121.27086639404297, 129.1661834716797, 120.84917449951172, 110.79676818847656, 103.36276245117188, 98.49646759033203, 94.55714416503906, 92.42718505859375, 85.75444793701172, 83.26868438720703, 85.45742797851562, 97.64802551269531, 77.27705383300781, 82.46449279785156, 69.15310668945312, 64.19271850585938, 63.569122314453125, 357.0328369140625, 473.9693908691406, 1199.690185546875, 2478.260009765625, 106.14908599853516, 361.5496520996094, 645.5762939453125, 225.19113159179688, 3716.8193359375, 982.7936401367188, 221.02392578125, 1034.898193359375, 612.7297973632812, 870.2330932617188, 1049.7010498046875, 477.9702453613281, 590.96142578125, 372.00189208984375, 342.5504455566406, 1266.5355224609375, 657.4024047851562, 1168.866943359375, 781.1923217773438, 578.6011352539062, 584.3529663085938, 676.3714599609375, 888.8910522460938, 500.8863525390625, 612.6201782226562, 491.47833251953125, 558.6283569335938, 520.6422729492188, 1782.9337158203125, 1662.0626220703125, 918.57470703125, 536.4288940429688, 401.86163330078125, 260.5611572265625, 243.9313507080078, 229.918212890625, 226.53172302246094, 230.69178771972656, 199.8636932373047, 195.21603393554688, 171.2499542236328, 168.1663818359375, 167.2830352783203, 162.48599243164062, 158.8651885986328, 151.47500610351562, 142.00802612304688, 143.14007568359375, 141.09902954101562, 134.37513732910156, 127.8469467163086, 124.68400573730469, 122.15165710449219, 124.08863067626953, 123.54064178466797, 118.08445739746094, 111.82157135009766, 100.62516784667969, 101.71931457519531, 498.7813720703125, 1021.9393920898438, 512.9113159179688, 162.63601684570312, 809.062255859375, 320.30999755859375, 412.9326477050781, 262.97320556640625, 234.0222930908203, 1062.4361572265625, 180.30557250976562, 540.2388916015625, 769.2985229492188, 501.0557861328125, 604.725830078125, 226.3524932861328, 444.24749755859375, 347.4438171386719, 288.8885192871094, 260.2434387207031, 247.72305297851562, 224.78001403808594], \"Total\": [19293.0, 3283.0, 2668.0, 3100.0, 1704.0, 1783.0, 1464.0, 1662.0, 1827.0, 4235.0, 3248.0, 2150.0, 8398.0, 990.0, 3307.0, 4197.0, 2918.0, 4410.0, 1238.0, 1098.0, 919.0, 1262.0, 1420.0, 1521.0, 1555.0, 1388.0, 869.0, 658.0, 852.0, 839.0, 1098.481689453125, 869.0399780273438, 852.603271484375, 839.0817260742188, 790.3134765625, 437.8301696777344, 408.74298095703125, 389.82342529296875, 373.6265869140625, 362.6759033203125, 347.8270568847656, 332.7496337890625, 290.5077209472656, 245.9491729736328, 238.76979064941406, 145.75848388671875, 137.10939025878906, 125.46365356445312, 120.19090270996094, 118.32899475097656, 112.08528137207031, 107.22996520996094, 107.60519409179688, 99.73822784423828, 95.3886947631836, 94.24699401855469, 92.24493408203125, 90.67463684082031, 212.44015502929688, 89.4749984741211, 1827.3006591796875, 488.176513671875, 426.9908752441406, 240.3429718017578, 174.055908203125, 1555.54736328125, 1324.434814453125, 2918.35107421875, 571.7164306640625, 3307.2333984375, 2327.518798828125, 8398.9814453125, 1567.477294921875, 1405.5045166015625, 4317.369140625, 4235.09765625, 1002.2545166015625, 5580.83837890625, 1861.5234375, 871.72998046875, 1601.619384765625, 1487.5135498046875, 3283.294677734375, 1704.468017578125, 1464.7252197265625, 990.5802612304688, 658.909423828125, 579.2329711914062, 568.9249267578125, 461.8463134765625, 309.27618408203125, 293.2600402832031, 246.5900115966797, 170.75897216796875, 159.18801879882812, 151.7389678955078, 123.28347778320312, 117.02223205566406, 111.10273742675781, 107.12657165527344, 107.08977508544922, 102.10932922363281, 98.68006896972656, 94.59001922607422, 91.0659408569336, 88.34577178955078, 87.8769302368164, 82.95662689208984, 78.3869857788086, 75.83406066894531, 73.00160217285156, 73.10350036621094, 102.44828033447266, 77.8653793334961, 828.7100830078125, 287.7517395019531, 137.10467529296875, 1521.5711669921875, 293.8455505371094, 483.0834655761719, 495.89703369140625, 1665.3321533203125, 758.0508422851562, 8398.9814453125, 823.03076171875, 1563.95361328125, 1861.5234375, 5580.83837890625, 4410.4794921875, 4317.369140625, 1487.5135498046875, 1046.61279296875, 2437.318359375, 1567.477294921875, 2668.1826171875, 739.7268676757812, 657.9058837890625, 470.31854248046875, 443.2574768066406, 373.5552673339844, 348.7769470214844, 329.4730529785156, 326.3682556152344, 297.5750427246094, 230.73602294921875, 200.40826416015625, 190.23052978515625, 181.85110473632812, 181.42129516601562, 175.591796875, 171.38693237304688, 148.7993621826172, 134.9141387939453, 123.53669738769531, 116.09468841552734, 111.6993637084961, 115.28740692138672, 113.5583724975586, 97.47929382324219, 94.17325592041016, 93.816650390625, 92.49380493164062, 90.55976104736328, 88.54821014404297, 1262.72607421875, 2150.82080078125, 1420.2952880859375, 565.7532958984375, 890.18310546875, 266.845703125, 764.6223754882812, 302.11102294921875, 4235.09765625, 221.00685119628906, 515.0892333984375, 759.3278198242188, 631.8143920898438, 4410.4794921875, 5580.83837890625, 4197.84326171875, 2317.14208984375, 1369.7777099609375, 1601.619384765625, 1638.836669921875, 3307.2333984375, 4317.369140625, 578.3422241210938, 1258.1912841796875, 2437.318359375, 1502.00732421875, 882.7923583984375, 871.72998046875, 1563.95361328125, 2918.35107421875, 3100.190673828125, 19293.587890625, 764.3401489257812, 752.2965698242188, 633.8649291992188, 529.7235107421875, 348.1114807128906, 274.16705322265625, 234.3258514404297, 151.32752990722656, 138.50880432128906, 132.40708923339844, 125.67945098876953, 122.09379577636719, 130.06809997558594, 121.75761413574219, 111.63399505615234, 104.24004364013672, 99.33454132080078, 95.37836456298828, 93.29877471923828, 86.58940887451172, 84.10145568847656, 86.33580780029297, 98.67594909667969, 78.14653778076172, 83.50677490234375, 70.03291320800781, 65.02052307128906, 64.47981262207031, 391.5547180175781, 535.91162109375, 1460.54736328125, 3248.169921875, 111.12881469726562, 464.2373352050781, 939.3565063476562, 270.052001953125, 8398.9814453125, 1679.7205810546875, 270.3928527832031, 1861.5234375, 1046.61279296875, 1665.3321533203125, 2327.518798828125, 803.9906005859375, 1104.0360107421875, 614.226318359375, 544.62158203125, 4317.369140625, 1638.836669921875, 4410.4794921875, 2317.14208984375, 1388.27587890625, 1521.5711669921875, 2437.318359375, 5580.83837890625, 1502.00732421875, 2918.35107421875, 1567.477294921875, 4235.09765625, 4197.84326171875, 1783.7601318359375, 1662.88671875, 919.44482421875, 537.2510986328125, 402.68682861328125, 261.41705322265625, 244.75909423828125, 230.7518768310547, 227.36508178710938, 231.58677673339844, 200.69818115234375, 196.03826904296875, 172.07293701171875, 168.99037170410156, 168.1188201904297, 163.30665588378906, 159.70721435546875, 152.30177307128906, 142.83132934570312, 143.97816467285156, 141.93019104003906, 135.20704650878906, 128.6739959716797, 125.51484680175781, 122.97823333740234, 124.9332504272461, 124.3909912109375, 118.94559478759766, 112.65455627441406, 101.4478988647461, 102.5697250366211, 562.746337890625, 1238.71435546875, 707.5220947265625, 176.46690368652344, 1388.27587890625, 442.3966064453125, 626.0538940429688, 363.75091552734375, 333.7481689453125, 4197.84326171875, 220.2444610595703, 1679.7205810546875, 3248.169921875, 1487.5135498046875, 8398.9814453125, 495.89703369140625, 5580.83837890625, 2437.318359375, 1405.5045166015625, 1460.54736328125, 1563.95361328125, 693.329345703125], \"Category\": [\"Default\", \"Default\", \"Default\", \"Default\", \"Default\", \"Default\", \"Default\", \"Default\", \"Default\", \"Default\", \"Default\", \"Default\", \"Default\", \"Default\", \"Default\", \"Default\", \"Default\", \"Default\", \"Default\", \"Default\", \"Default\", \"Default\", \"Default\", \"Default\", \"Default\", \"Default\", \"Default\", \"Default\", \"Default\", \"Default\", \"Topic1\", \"Topic1\", \"Topic1\", \"Topic1\", \"Topic1\", \"Topic1\", \"Topic1\", \"Topic1\", \"Topic1\", \"Topic1\", \"Topic1\", \"Topic1\", \"Topic1\", \"Topic1\", \"Topic1\", \"Topic1\", \"Topic1\", \"Topic1\", \"Topic1\", \"Topic1\", \"Topic1\", \"Topic1\", \"Topic1\", \"Topic1\", \"Topic1\", \"Topic1\", \"Topic1\", \"Topic1\", \"Topic1\", \"Topic1\", \"Topic1\", \"Topic1\", \"Topic1\", \"Topic1\", \"Topic1\", \"Topic1\", \"Topic1\", \"Topic1\", \"Topic1\", \"Topic1\", \"Topic1\", \"Topic1\", \"Topic1\", \"Topic1\", \"Topic1\", \"Topic1\", \"Topic1\", \"Topic1\", \"Topic1\", \"Topic1\", \"Topic1\", \"Topic1\", \"Topic2\", \"Topic2\", \"Topic2\", \"Topic2\", \"Topic2\", \"Topic2\", \"Topic2\", \"Topic2\", \"Topic2\", \"Topic2\", \"Topic2\", \"Topic2\", \"Topic2\", \"Topic2\", \"Topic2\", \"Topic2\", \"Topic2\", \"Topic2\", \"Topic2\", \"Topic2\", \"Topic2\", \"Topic2\", \"Topic2\", \"Topic2\", \"Topic2\", \"Topic2\", \"Topic2\", \"Topic2\", \"Topic2\", \"Topic2\", \"Topic2\", \"Topic2\", \"Topic2\", \"Topic2\", \"Topic2\", \"Topic2\", \"Topic2\", \"Topic2\", \"Topic2\", \"Topic2\", \"Topic2\", \"Topic2\", \"Topic2\", \"Topic2\", \"Topic2\", \"Topic2\", \"Topic2\", \"Topic2\", \"Topic2\", \"Topic2\", \"Topic2\", \"Topic2\", \"Topic3\", \"Topic3\", \"Topic3\", \"Topic3\", \"Topic3\", \"Topic3\", \"Topic3\", \"Topic3\", \"Topic3\", \"Topic3\", \"Topic3\", \"Topic3\", \"Topic3\", \"Topic3\", \"Topic3\", \"Topic3\", \"Topic3\", \"Topic3\", \"Topic3\", \"Topic3\", \"Topic3\", \"Topic3\", \"Topic3\", \"Topic3\", \"Topic3\", \"Topic3\", \"Topic3\", \"Topic3\", \"Topic3\", \"Topic3\", \"Topic3\", \"Topic3\", \"Topic3\", \"Topic3\", \"Topic3\", \"Topic3\", \"Topic3\", \"Topic3\", \"Topic3\", \"Topic3\", \"Topic3\", \"Topic3\", \"Topic3\", \"Topic3\", \"Topic3\", \"Topic3\", \"Topic3\", \"Topic3\", \"Topic3\", \"Topic3\", \"Topic3\", \"Topic3\", \"Topic3\", \"Topic3\", \"Topic3\", \"Topic3\", \"Topic3\", \"Topic3\", \"Topic3\", \"Topic3\", \"Topic4\", \"Topic4\", \"Topic4\", \"Topic4\", \"Topic4\", \"Topic4\", \"Topic4\", \"Topic4\", \"Topic4\", \"Topic4\", \"Topic4\", \"Topic4\", \"Topic4\", \"Topic4\", \"Topic4\", \"Topic4\", \"Topic4\", \"Topic4\", \"Topic4\", \"Topic4\", \"Topic4\", \"Topic4\", \"Topic4\", \"Topic4\", \"Topic4\", \"Topic4\", \"Topic4\", \"Topic4\", \"Topic4\", \"Topic4\", \"Topic4\", \"Topic4\", \"Topic4\", \"Topic4\", \"Topic4\", \"Topic4\", \"Topic4\", \"Topic4\", \"Topic4\", \"Topic4\", \"Topic4\", \"Topic4\", \"Topic4\", \"Topic4\", \"Topic4\", \"Topic4\", \"Topic4\", \"Topic4\", \"Topic4\", \"Topic4\", \"Topic4\", \"Topic4\", \"Topic4\", \"Topic4\", \"Topic4\", \"Topic4\", \"Topic4\", \"Topic4\", \"Topic4\", \"Topic4\", \"Topic4\", \"Topic4\", \"Topic5\", \"Topic5\", \"Topic5\", \"Topic5\", \"Topic5\", \"Topic5\", \"Topic5\", \"Topic5\", \"Topic5\", \"Topic5\", \"Topic5\", \"Topic5\", \"Topic5\", \"Topic5\", \"Topic5\", \"Topic5\", \"Topic5\", \"Topic5\", \"Topic5\", \"Topic5\", \"Topic5\", \"Topic5\", \"Topic5\", \"Topic5\", \"Topic5\", \"Topic5\", \"Topic5\", \"Topic5\", \"Topic5\", \"Topic5\", \"Topic5\", \"Topic5\", \"Topic5\", \"Topic5\", \"Topic5\", \"Topic5\", \"Topic5\", \"Topic5\", \"Topic5\", \"Topic5\", \"Topic5\", \"Topic5\", \"Topic5\", \"Topic5\", \"Topic5\", \"Topic5\", \"Topic5\", \"Topic5\", \"Topic5\", \"Topic5\", \"Topic5\", \"Topic5\", \"Topic5\"], \"logprob\": [30.0, 29.0, 28.0, 27.0, 26.0, 25.0, 24.0, 23.0, 22.0, 21.0, 20.0, 19.0, 18.0, 17.0, 16.0, 15.0, 14.0, 13.0, 12.0, 11.0, 10.0, 9.0, 8.0, 7.0, 6.0, 5.0, 4.0, 3.0, 2.0, 1.0, -4.012199878692627, -4.246699810028076, -4.2657999992370605, -4.281799793243408, -4.341800212860107, -4.933199882507324, -5.002099990844727, -5.049600124359131, -5.092100143432617, -5.1219000816345215, -5.16379976272583, -5.2083001136779785, -5.344299793243408, -5.51140022277832, -5.541100025177002, -6.036900043487549, -6.098400115966797, -6.18779993057251, -6.230999946594238, -6.246699810028076, -6.301199913024902, -6.345900058746338, -6.342400074005127, -6.419000148773193, -6.463799953460693, -6.476099967956543, -6.497600078582764, -6.514999866485596, -5.664000034332275, -6.528900146484375, -3.5220999717712402, -4.891499996185303, -5.0441999435424805, -5.603499889373779, -5.915500164031982, -3.973099946975708, -4.193600177764893, -3.5227999687194824, -4.994200229644775, -3.684799909591675, -4.002699851989746, -3.0601000785827637, -4.412199974060059, -4.624499797821045, -4.026700019836426, -4.198400020599365, -5.038700103759766, -4.395999908447266, -4.842700004577637, -5.186299800872803, -5.159599781036377, -5.172500133514404, -2.4263999462127686, -3.0822999477386475, -3.2339000701904297, -3.6252999305725098, -4.033400058746338, -4.162499904632568, -4.180500030517578, -4.3892998695373535, -4.791200160980225, -4.8445000648498535, -5.018400192260742, -5.387400150299072, -5.457799911499023, -5.50600004196167, -5.715099811553955, -5.7677001953125, -5.819799900054932, -5.856400012969971, -5.856900215148926, -5.904799938201904, -5.9394001960754395, -5.981900215148926, -6.020199775695801, -6.05079984664917, -6.05620002746582, -6.114299774169922, -6.1717000007629395, -6.205100059509277, -6.243500232696533, -6.242199897766113, -5.905399799346924, -6.179100036621094, -4.0680999755859375, -5.02370023727417, -5.701399803161621, -3.8510000705718994, -5.1596999168396, -4.804299831390381, -4.928400039672852, -4.197700023651123, -4.692800045013428, -3.551100015640259, -5.016200065612793, -4.778800010681152, -4.711999893188477, -4.329899787902832, -4.519100189208984, -4.5833001136779785, -4.98330020904541, -5.127999782562256, -4.968200206756592, -5.2058000564575195, -3.230299949645996, -4.513999938964844, -4.631400108337402, -4.967599868774414, -5.026899814605713, -5.198400020599365, -5.267199993133545, -5.3242998123168945, -5.333799839019775, -5.426499843597412, -5.681600093841553, -5.823200225830078, -5.875400066375732, -5.9207000732421875, -5.923299789428711, -5.956099987030029, -5.980400085449219, -6.122399806976318, -6.221199989318848, -6.309800148010254, -6.372399806976318, -6.411099910736084, -6.3796000480651855, -6.395199775695801, -6.548600196838379, -6.5833001136779785, -6.587200164794922, -6.601500034332275, -6.6230998039245605, -6.645599842071533, -4.015999794006348, -3.5376999378204346, -3.941999912261963, -4.869100093841553, -4.448500156402588, -5.609300136566162, -4.6753997802734375, -5.513800144195557, -3.1944000720977783, -5.8024001121521, -5.0655999183654785, -4.7347002029418945, -4.90749979019165, -3.2802000045776367, -3.1092000007629395, -3.359499931335449, -3.907900094985962, -4.363900184631348, -4.24459981918335, -4.30109977722168, -3.808799982070923, -3.748199939727783, -5.127500057220459, -4.677499771118164, -4.340700149536133, -4.670400142669678, -4.965199947357178, -4.981599807739258, -4.8643999099731445, -4.8755998611450195, -3.3176000118255615, -1.4900000095367432, -4.718599796295166, -4.734499931335449, -4.906000137329102, -5.085700035095215, -5.506400108337402, -5.7459001541137695, -5.903600215911865, -6.342599868774414, -6.43179988861084, -6.476900100708008, -6.5295000076293945, -6.558499813079834, -6.4953999519348145, -6.561999797821045, -6.648799896240234, -6.718299865722656, -6.766499996185303, -6.807300090789795, -6.830100059509277, -6.905099868774414, -6.934500217437744, -6.9085001945495605, -6.775199890136719, -7.009099960327148, -6.944200038909912, -7.120200157165527, -7.194699764251709, -7.204400062561035, -5.478700160980225, -5.195400238037109, -4.26669979095459, -3.5411999225616455, -6.691699981689453, -5.466100215911865, -4.88640022277832, -5.939599990844727, -3.1359000205993652, -4.466100215911865, -5.9583001136779785, -4.4145002365112305, -4.938600063323975, -4.587800025939941, -4.400300025939941, -5.186999797821045, -4.974800109863281, -5.437600135803223, -5.520100116729736, -4.212500095367432, -4.868199825286865, -4.292799949645996, -4.695700168609619, -4.9959001541137695, -4.986000061035156, -4.839799880981445, -4.5665998458862305, -5.140200138092041, -4.938799858093262, -5.15910005569458, -5.031099796295166, -5.101500034332275, -3.285399913787842, -3.355600118637085, -3.9486000537872314, -4.486499786376953, -4.775300025939941, -5.208600044250488, -5.274499893188477, -5.333700180053711, -5.348499774932861, -5.330399990081787, -5.473800182342529, -5.497300148010254, -5.628300189971924, -5.646500110626221, -5.651700019836426, -5.680799961090088, -5.703400135040283, -5.750999927520752, -5.815499782562256, -5.807600021362305, -5.822000026702881, -5.870800018310547, -5.920599937438965, -5.9456000328063965, -5.96619987487793, -5.950399875640869, -5.954899787902832, -6.0, -6.054500102996826, -6.159999847412109, -6.149199962615967, -4.559299945831299, -3.8420000076293945, -4.531300067901611, -5.679900169372559, -4.0756001472473145, -5.002099990844727, -4.7480998039245605, -5.199399948120117, -5.315999984741211, -3.803100109100342, -5.5767998695373535, -4.479400157928467, -4.125999927520752, -4.554699897766113, -4.366700172424316, -5.349299907684326, -4.675099849700928, -4.92080020904541, -5.105400085449219, -5.209799766540527, -5.259099960327148, -5.356299877166748], \"loglift\": [30.0, 29.0, 28.0, 27.0, 26.0, 25.0, 24.0, 23.0, 22.0, 21.0, 20.0, 19.0, 18.0, 17.0, 16.0, 15.0, 14.0, 13.0, 12.0, 11.0, 10.0, 9.0, 8.0, 7.0, 6.0, 5.0, 4.0, 3.0, 2.0, 1.0, 1.5923999547958374, 1.5922000408172607, 1.5922000408172607, 1.5922000408172607, 1.5921000242233276, 1.5913000106811523, 1.5910999774932861, 1.590999960899353, 1.59089994430542, 1.59089994430542, 1.5908000469207764, 1.5906000137329102, 1.5902999639511108, 1.5898000001907349, 1.5896999835968018, 1.587399959564209, 1.5871000289916992, 1.5865000486373901, 1.586300015449524, 1.5860999822616577, 1.585800051689148, 1.5855000019073486, 1.5853999853134155, 1.5846999883651733, 1.5844999551773071, 1.5843000411987305, 1.5842000246047974, 1.5839999914169312, 1.5836000442504883, 1.583400011062622, 1.5736000537872314, 1.5240999460220337, 1.5053000450134277, 1.5206999778747559, 1.5313999652862549, 1.2835999727249146, 1.2238999605178833, 1.104699969291687, 1.2634999752044678, 0.8176000118255615, 0.8510000109672546, 0.5102999806404114, 0.836899995803833, 0.7336999773979187, 0.20919999480247498, 0.0568000003695488, 0.6575999855995178, -0.41679999232292175, 0.23440000414848328, 0.6495000123977661, 0.06790000200271606, 0.12890000641345978, 2.0833001136779785, 2.0829999446868896, 2.082900047302246, 2.08270001411438, 2.0822999477386475, 2.0820999145507812, 2.0820999145507812, 2.081700086593628, 2.0808000564575195, 2.080699920654297, 2.080199956893921, 2.078700065612793, 2.078399896621704, 2.0780999660491943, 2.07669997215271, 2.0762999057769775, 2.0759999752044678, 2.0757999420166016, 2.075700044631958, 2.075500011444092, 2.075000047683716, 2.0748000144958496, 2.07450008392334, 2.074199914932251, 2.0741000175476074, 2.0736000537872314, 2.0729000568389893, 2.0725998878479004, 2.0722999572753906, 2.072200059890747, 2.071500062942505, 2.072200059890747, 1.8183000087738037, 1.9205000400543213, 1.9842000007629395, 1.4278000593185425, 1.7634999752044678, 1.6217999458312988, 1.471500039100647, 0.9908000230789185, 1.2827999591827393, 0.019300000742077827, 0.8770999908447266, 0.4724999964237213, 0.3650999963283539, -0.3506999909877777, -0.3046000003814697, -0.3474000096321106, 0.3181000053882599, 0.5249999761581421, -0.16050000488758087, 0.043299999088048935, 1.486799955368042, 1.4859999418258667, 1.4859000444412231, 1.4852999448776245, 1.485200047492981, 1.4847999811172485, 1.4846999645233154, 1.4845000505447388, 1.4845000505447388, 1.4840999841690063, 1.4833999872207642, 1.482699990272522, 1.4825999736785889, 1.4823999404907227, 1.482200026512146, 1.4819999933242798, 1.4819999933242798, 1.4812999963760376, 1.4803999662399292, 1.4800000190734863, 1.4795000553131104, 1.4794000387191772, 1.479200005531311, 1.478700041770935, 1.4780000448226929, 1.4778000116348267, 1.4776999950408936, 1.4776999950408936, 1.4772000312805176, 1.4772000312805176, 1.4493000507354736, 1.3949999809265137, 1.4056999683380127, 1.3990000486373901, 1.3664000034332275, 1.4103000164031982, 1.2914999723434448, 1.381700038909912, 1.0607999563217163, 1.4056999683380127, 1.2963000535964966, 1.2390999794006348, 1.2502000331878662, 0.9343000054359436, 0.8700000047683716, 0.9045000076293945, 0.9502999782562256, 1.0198999643325806, 0.9829000234603882, 0.9034000039100647, 0.6935999989509583, 0.4876999855041504, 1.1186000108718872, 0.7914000153541565, 0.4668999910354614, 0.6212999820709229, 0.8579999804496765, 0.854200005531311, 0.38690000772476196, -0.24809999763965607, 1.249500036239624, 1.2487000226974487, 1.2487000226974487, 1.2486000061035156, 1.2483999729156494, 1.2482000589370728, 1.2474000453948975, 1.2466000318527222, 1.246000051498413, 1.2441999912261963, 1.2436000108718872, 1.243499994277954, 1.2430000305175781, 1.2430000305175781, 1.242799997329712, 1.242300033569336, 1.2422000169754028, 1.2412999868392944, 1.2412999868392944, 1.2410999536514282, 1.240399956703186, 1.2401000261306763, 1.239799976348877, 1.2395000457763672, 1.239300012588501, 1.2386000156402588, 1.2372000217437744, 1.2371000051498413, 1.236899971961975, 1.2354999780654907, 1.1574000120162964, 1.1268999576568604, 1.0529999732971191, 0.979200005531311, 1.2038999795913696, 0.9997000098228455, 0.8747000098228455, 1.0680999755859375, 0.4345000088214874, 0.7138000130653381, 1.0480999946594238, 0.6626999974250793, 0.7143999934196472, 0.6007000207901001, 0.45339998602867126, 0.7297000288963318, 0.6248000264167786, 0.7483000159263611, 0.7860999703407288, 0.023399999365210533, 0.33629998564720154, -0.07819999754428864, 0.16249999403953552, 0.37450000643730164, 0.29280000925064087, -0.03220000118017197, -0.5874000191688538, 0.15160000324249268, -0.31130000948905945, 0.08990000188350677, -0.7759000062942505, -0.8374999761581421, 1.8344000577926636, 1.8344000577926636, 1.833899974822998, 1.833299994468689, 1.832800030708313, 1.8315999507904053, 1.8315000534057617, 1.8312000036239624, 1.8312000036239624, 1.8309999704360962, 1.8307000398635864, 1.8307000398635864, 1.8301000595092773, 1.8300000429153442, 1.8299000263214111, 1.829800009727478, 1.8295999765396118, 1.8293999433517456, 1.8291000127792358, 1.8289999961853027, 1.8289999961853027, 1.8286999464035034, 1.8284000158309937, 1.8281999826431274, 1.8280999660491943, 1.8280999660491943, 1.8279999494552612, 1.8276000022888184, 1.8273999691009521, 1.82669997215271, 1.8265000581741333, 1.7142000198364258, 1.6425000429153442, 1.513200044631958, 1.7532000541687012, 1.2948999404907227, 1.5118999481201172, 1.4186999797821045, 1.5104000568389893, 1.4799000024795532, 0.4607999920845032, 1.6347999572753906, 0.7005000114440918, 0.3944999873638153, 0.7466999888420105, -0.7961999773979187, 1.0506000518798828, -0.695900022983551, -0.11320000141859055, 0.25270000100135803, 0.10989999771118164, -0.007799999788403511, 0.7085000276565552]}, \"token.table\": {\"Topic\": [1, 2, 3, 4, 5, 3, 5, 1, 2, 3, 4, 5, 1, 4, 5, 1, 2, 4, 3, 3, 4, 2, 4, 2, 5, 5, 1, 3, 4, 5, 1, 3, 4, 1, 4, 5, 1, 2, 4, 5, 2, 4, 5, 4, 1, 2, 2, 5, 2, 2, 4, 2, 4, 1, 3, 4, 5, 1, 2, 4, 5, 5, 4, 4, 3, 2, 3, 4, 5, 1, 2, 2, 2, 5, 1, 2, 3, 4, 5, 1, 4, 4, 1, 3, 4, 3, 1, 1, 2, 5, 1, 1, 2, 3, 4, 5, 3, 2, 3, 5, 1, 4, 3, 4, 5, 5, 3, 5, 1, 2, 3, 4, 5, 2, 5, 1, 2, 2, 1, 4, 5, 4, 1, 3, 4, 5, 4, 4, 2, 2, 4, 1, 3, 4, 1, 2, 1, 2, 3, 4, 5, 3, 3, 4, 5, 1, 5, 2, 3, 1, 2, 4, 5, 5, 1, 1, 5, 3, 5, 4, 1, 2, 3, 4, 2, 1, 3, 5, 4, 5, 2, 4, 1, 2, 5, 3, 2, 3, 4, 5, 1, 3, 4, 1, 4, 5, 3, 5, 1, 4, 5, 5, 1, 3, 4, 4, 1, 3, 4, 1, 2, 3, 4, 5, 1, 2, 1, 3, 1, 2, 3, 5, 3, 2, 1, 1, 2, 1, 2, 4, 5, 4, 4, 5, 5, 1, 2, 3, 3, 5, 4, 3, 1, 2, 3, 4, 5, 1, 1, 3, 5, 1, 4, 1, 4, 4, 5, 2, 4, 5, 3, 1, 4, 1, 2, 4, 5, 1, 1, 3, 4, 5, 1, 3, 5, 1, 2, 3, 4, 5, 2, 1, 2, 4, 4, 2, 2, 3, 4, 4, 1, 2, 3, 4, 5, 5, 2, 3, 4, 5, 3, 5, 3, 3, 2, 4, 1, 1, 2, 3, 4, 5, 4, 2, 3, 2, 5, 2, 2, 5, 2, 2, 2, 3, 1, 1, 4, 1, 2, 3, 4, 3, 4, 3, 4, 5, 3, 1, 2, 3, 4, 5, 5, 3, 2, 3, 5, 3, 4, 1, 4, 2, 3, 1, 2, 4, 5, 1, 2, 3, 4, 1, 2, 3, 4, 5, 1, 3, 4, 5, 5, 1, 4, 5, 5, 3, 1, 2, 4, 5, 3, 5, 1, 4, 4, 5, 1, 2, 3, 4, 5, 1, 2, 3, 4, 5, 3, 3, 5, 2, 3, 5, 5, 3, 5, 3, 5, 1, 3, 1, 2, 3, 4, 5, 1, 1, 1, 4, 1, 5, 1, 3, 4, 1, 3, 2], \"Freq\": [0.30288636684417725, 0.08798127621412277, 0.05913495644927025, 0.2264436036348343, 0.32452109456062317, 0.9985135793685913, 0.9933450818061829, 0.4760434031486511, 0.06874272972345352, 0.0030074946116656065, 0.4511241614818573, 0.0012889262288808823, 0.09985470771789551, 0.8173292875289917, 0.08136309683322906, 0.25072193145751953, 0.14326967298984528, 0.6056399345397949, 0.9919075965881348, 0.9971631169319153, 0.9819562435150146, 0.9894837141036987, 0.9957432746887207, 0.27351024746894836, 0.7233328819274902, 0.9910725951194763, 0.37438249588012695, 0.02860729955136776, 0.5945343375205994, 0.0024875912349671125, 0.040882658213377, 0.5577126741409302, 0.4008941352367401, 0.9987108111381531, 0.9986341595649719, 0.991452693939209, 0.23125839233398438, 0.17142701148986816, 0.26083797216415405, 0.3368036448955536, 0.6292908191680908, 0.07866135239601135, 0.28980499505996704, 0.9931930899620056, 0.9967759847640991, 0.9900209307670593, 0.07366820424795151, 0.9236859679222107, 0.998619794845581, 0.9995048642158508, 0.991041362285614, 0.98846834897995, 0.9945937991142273, 0.2386130392551422, 0.6916320323944092, 0.06916320323944092, 0.9941896796226501, 0.392115980386734, 0.17759959399700165, 0.28136566281318665, 0.14866483211517334, 0.9976713061332703, 0.9931498169898987, 0.9995549917221069, 0.9990173578262329, 0.21666419506072998, 0.1395464390516281, 0.6297950744628906, 0.014689098112285137, 0.9983229637145996, 0.9981675148010254, 0.9976072907447815, 0.9898236989974976, 0.9994667768478394, 0.25270915031433105, 0.12046708166599274, 0.02264418825507164, 0.5353085994720459, 0.06974410265684128, 0.9943757653236389, 0.9853283762931824, 0.9917881488800049, 0.0003628148406278342, 0.0006219682982191443, 0.9989847540855408, 0.9938188791275024, 0.988529622554779, 0.9865040183067322, 0.9912646412849426, 0.9995161890983582, 0.9959251284599304, 0.3888818919658661, 0.003441432723775506, 0.5311277508735657, 0.07341723144054413, 0.003441432723775506, 0.9956555366516113, 0.1896902471780777, 0.08522315323352814, 0.7230222225189209, 0.9925983548164368, 0.9843046069145203, 0.2693333029747009, 0.6877048015594482, 0.04258234053850174, 0.9974662661552429, 0.9995567798614502, 0.9958981275558472, 0.11323920637369156, 0.10585404187440872, 0.3606422543525696, 0.27735400199890137, 0.1423695832490921, 0.9950631260871887, 0.9947037696838379, 0.9946912527084351, 0.9882948398590088, 0.9960861802101135, 0.0876297727227211, 0.18656660616397858, 0.7250657081604004, 0.9960330128669739, 0.06455696374177933, 0.558381974697113, 0.1241113543510437, 0.2529870569705963, 0.9912274479866028, 0.9968070983886719, 0.9955552816390991, 0.9978713989257812, 0.9925587177276611, 0.03642912209033966, 0.9629958868026733, 0.9982765316963196, 0.9972196817398071, 0.9888862371444702, 0.08614536374807358, 0.05621350184082985, 0.6263790130615234, 0.17375081777572632, 0.05694354698061943, 0.9976778030395508, 0.9979628324508667, 0.17437434196472168, 0.8250489830970764, 0.9981822967529297, 0.9984046220779419, 0.999605655670166, 0.993808925151825, 0.4233355224132538, 0.11028068512678146, 0.26040470600128174, 0.20562011003494263, 0.9967415928840637, 0.9925597906112671, 0.996304452419281, 0.9941796660423279, 0.9971964955329895, 0.9920454621315002, 0.9943207502365112, 0.9320014715194702, 0.06657153367996216, 0.7796369194984436, 0.218614399433136, 0.993108332157135, 0.04977221414446831, 0.9230483174324036, 0.027148479595780373, 0.9865651726722717, 0.9983943104743958, 0.1138247400522232, 0.8844742178916931, 0.9992924332618713, 0.7248706221580505, 0.2722518742084503, 0.9985641837120056, 0.7674577832221985, 0.08808870613574982, 0.003620083909481764, 0.13997657597064972, 0.12425031512975693, 0.8270411491394043, 0.04853527992963791, 0.11017397046089172, 0.0017769995611160994, 0.8867228031158447, 0.9003312587738037, 0.09930124133825302, 0.998252272605896, 0.8216097950935364, 0.17801545560359955, 0.9937646389007568, 0.08601367473602295, 0.9117449522018433, 0.0018597551388666034, 0.9869032502174377, 0.21510720252990723, 0.6528775095939636, 0.13199223577976227, 0.46954429149627686, 0.13014543056488037, 0.0012759355595335364, 0.3132421672344208, 0.08612564951181412, 0.986768901348114, 0.9994142055511475, 0.9977471828460693, 0.993531346321106, 0.9983380436897278, 0.9044184684753418, 0.08752436935901642, 0.9941394925117493, 0.9966297149658203, 0.9957033395767212, 0.9903173446655273, 0.988513708114624, 0.004707207903265953, 0.0065958634950220585, 0.4485187232494354, 0.37728339433670044, 0.16621576249599457, 0.9943418502807617, 0.7628911137580872, 0.23674869537353516, 0.9932061433792114, 0.0021122368052601814, 0.07604052871465683, 0.9216393232345581, 0.9946278929710388, 0.9947620034217834, 0.9860793948173523, 0.9977723956108093, 0.011652285233139992, 0.06646118313074112, 0.5847721099853516, 0.337053120136261, 0.9934461116790771, 0.9988033175468445, 0.13601484894752502, 0.8226283192634583, 0.04054288938641548, 0.2197152078151703, 0.7797735333442688, 0.9947962760925293, 0.998635470867157, 0.988103985786438, 0.9944455027580261, 0.5192001461982727, 0.3838137984275818, 0.0966106653213501, 0.9986230731010437, 0.99810391664505, 0.9852510094642639, 0.0011906742583960295, 0.09227725118398666, 0.5852164030075073, 0.3214820325374603, 0.9961407780647278, 0.46050575375556946, 0.45234182476997375, 0.08405817300081253, 0.003023675410076976, 0.1503606140613556, 0.7897889018058777, 0.060144245624542236, 0.33861249685287476, 0.12692014873027802, 0.01988336257636547, 0.44255366921424866, 0.07203254103660583, 0.984904944896698, 0.7188878655433655, 0.09270329773426056, 0.18715572357177734, 0.9845277667045593, 0.9925370216369629, 0.9895892143249512, 0.0359942652285099, 0.9538480043411255, 0.9937776923179626, 0.019215386360883713, 0.3350682854652405, 0.001801442471332848, 0.5224183201789856, 0.12129712104797363, 0.9920501708984375, 0.2102019041776657, 0.09554632008075714, 0.5856989622116089, 0.10796733945608139, 0.9953197836875916, 0.9925299882888794, 0.9958076477050781, 0.9946612119674683, 0.847953200340271, 0.14943437278270721, 0.9981363415718079, 0.1166752278804779, 0.023788154125213623, 0.5335342884063721, 0.1529238373041153, 0.1733136922121048, 0.9969254732131958, 0.990074634552002, 0.9937388896942139, 0.5424513220787048, 0.4557397663593292, 0.9983742833137512, 0.9937623739242554, 0.9955717921257019, 0.9997254014015198, 0.9890015125274658, 0.9862797260284424, 0.9932242631912231, 0.9995614886283875, 0.6916157603263855, 0.30805593729019165, 0.06779308617115021, 0.09182675182819366, 0.5752208828926086, 0.2650505602359772, 0.9912952780723572, 0.9996159076690674, 0.048138875514268875, 0.8331728577613831, 0.11849569529294968, 0.9888330698013306, 0.19440342485904694, 0.2988952696323395, 0.009720170870423317, 0.24057424068450928, 0.25636953115463257, 0.9965212345123291, 0.9968100786209106, 0.9958736300468445, 0.2966308295726776, 0.7011274695396423, 0.08683332800865173, 0.9117499589920044, 0.7335038781166077, 0.2655014097690582, 0.9858633279800415, 0.00976102240383625, 0.25677892565727234, 0.17942292988300323, 0.5559962391853333, 0.007520721759647131, 0.25061559677124023, 0.0880165621638298, 0.36804822087287903, 0.2934657633304596, 0.07073646038770676, 0.04689271003007889, 0.4983344078063965, 0.29327812790870667, 0.09060625731945038, 0.2172800898551941, 0.6037639379501343, 0.10114762932062149, 0.0774216428399086, 0.9955849647521973, 0.9976221919059753, 0.34022629261016846, 0.6596876382827759, 0.9919987320899963, 0.9950829744338989, 0.9806815385818481, 0.019153935834765434, 0.4170640707015991, 0.5827372074127197, 0.9905707240104675, 0.9995738863945007, 0.942225992679596, 0.05745280534029007, 0.9963265657424927, 0.9968985915184021, 0.14962080121040344, 0.199494406580925, 0.3324906826019287, 0.1592118889093399, 0.1585724800825119, 0.1340300440788269, 0.08762124180793762, 0.5395246744155884, 0.15929506719112396, 0.07955794036388397, 0.9980675578117371, 0.8863344788551331, 0.11345980316400528, 0.9891358613967896, 0.17707596719264984, 0.8172736763954163, 0.9968567490577698, 0.9256285429000854, 0.07120219618082047, 0.9950830936431885, 0.9982944130897522, 0.9900915622711182, 0.9875414967536926, 0.10585834085941315, 0.032623011618852615, 0.4207702577114105, 0.33355364203453064, 0.10718989372253418, 0.9919087290763855, 0.9978876709938049, 0.9340883493423462, 0.0655500590801239, 0.91571044921875, 0.08196896314620972, 0.6137027144432068, 0.17646951973438263, 0.21005012094974518, 0.08307507634162903, 0.9155934453010559, 0.9951300024986267], \"Term\": [\"amount\", \"amount\", \"amount\", \"amount\", \"amount\", \"app\", \"apple\", \"area\", \"area\", \"area\", \"area\", \"area\", \"art\", \"art\", \"art\", \"atmosphere\", \"atmosphere\", \"atmosphere\", \"attention\", \"attitude\", \"babka\", \"bacon\", \"bagel\", \"bakery\", \"bakery\", \"banana\", \"bar\", \"bar\", \"bar\", \"bar\", \"barista\", \"barista\", \"barista\", \"bathouroom\", \"bean\", \"birthday\", \"bit\", \"bit\", \"bit\", \"bit\", \"bite\", \"bite\", \"bite\", \"blue_bottle\", \"book\", \"bowl\", \"box\", \"box\", \"bread\", \"breakfast\", \"brew\", \"brunch\", \"buck\", \"business\", \"business\", \"business\", \"buttery\", \"cafe\", \"cafe\", \"cafe\", \"cafe\", \"cake\", \"calorie\", \"cappuccino\", \"cashier\", \"chain\", \"chain\", \"chain\", \"chain\", \"chair\", \"cheese\", \"chicken\", \"chip\", \"chocolate\", \"city\", \"city\", \"city\", \"city\", \"city\", \"closing\", \"cocktail\", \"code\", \"coffee\", \"coffee\", \"coffee\", \"colleague\", \"computer\", \"con\", \"convenience\", \"cookie\", \"couch\", \"counter\", \"counter\", \"counter\", \"counter\", \"counter\", \"coworker\", \"cream\", \"cream\", \"cream\", \"crew\", \"culture\", \"cup\", \"cup\", \"cup\", \"cupcake\", \"customer\", \"dairy\", \"day\", \"day\", \"day\", \"day\", \"day\", \"delivery\", \"dessert\", \"disappointment\", \"dish\", \"dog\", \"donut\", \"donut\", \"donut\", \"draft\", \"drink\", \"drink\", \"drink\", \"drink\", \"drinker\", \"drip\", \"eat\", \"egg\", \"empanada\", \"employee\", \"employee\", \"espresso\", \"event\", \"exit\", \"experience\", \"experience\", \"experience\", \"experience\", \"experience\", \"face\", \"fix\", \"flavor\", \"flavor\", \"floor\", \"folk\", \"food\", \"franchise\", \"friend\", \"friend\", \"friend\", \"friend\", \"fruit\", \"game\", \"garbage\", \"ginger\", \"girl\", \"green_tea\", \"ground\", \"group\", \"group\", \"guy\", \"guy\", \"hair\", \"help\", \"help\", \"help\", \"highly_recommend\", \"honey\", \"hotel\", \"hotel\", \"hour\", \"ingredient\", \"ingredient\", \"issue\", \"item\", \"item\", \"item\", \"item\", \"job\", \"job\", \"job\", \"juice\", \"juice\", \"juice\", \"lady\", \"lady\", \"laptop\", \"latte\", \"latte\", \"lemon\", \"line\", \"line\", \"line\", \"lobby\", \"location\", \"location\", \"location\", \"lot\", \"lot\", \"lot\", \"lot\", \"lot\", \"luck\", \"lunch\", \"man\", \"management\", \"manager\", \"manger\", \"manger\", \"matcha\", \"matter\", \"meal\", \"meet\", \"member\", \"member\", \"menu\", \"menu\", \"menu\", \"menu\", \"mess\", \"milk\", \"milk\", \"min\", \"minute\", \"minute\", \"minute\", \"mistake\", \"mix\", \"mom\", \"money\", \"morning\", \"morning\", \"morning\", \"morning\", \"muffin\", \"music\", \"name\", \"name\", \"name\", \"neighborhood\", \"neighborhood\", \"none\", \"oat\", \"oatmeal\", \"ok\", \"option\", \"option\", \"option\", \"order\", \"outlet\", \"pace\", \"pastry\", \"pastry\", \"pastry\", \"pastry\", \"patron\", \"people\", \"people\", \"people\", \"people\", \"person\", \"person\", \"person\", \"place\", \"place\", \"place\", \"place\", \"place\", \"plate\", \"plenty\", \"plenty\", \"plenty\", \"policy\", \"portion\", \"pot\", \"pour\", \"pour\", \"power\", \"price\", \"price\", \"price\", \"price\", \"price\", \"protein\", \"quality\", \"quality\", \"quality\", \"quality\", \"receipt\", \"refund\", \"register\", \"response\", \"restaurant\", \"restaurant\", \"restroom\", \"review\", \"review\", \"review\", \"review\", \"review\", \"roast\", \"roll\", \"rude\", \"rush\", \"rush\", \"salad\", \"salmon\", \"salt\", \"sandwich\", \"sauce\", \"sausage\", \"scone\", \"seat\", \"seating\", \"seating\", \"service\", \"service\", \"service\", \"service\", \"shame\", \"shop\", \"shot\", \"shot\", \"shot\", \"show\", \"side\", \"side\", \"side\", \"side\", \"side\", \"slice\", \"smile\", \"smoothie\", \"soup\", \"soup\", \"soy\", \"soy\", \"space\", \"space\", \"spinach\", \"spinach\", \"spot\", \"spot\", \"spot\", \"spot\", \"staff\", \"staff\", \"staff\", \"staff\", \"star\", \"star\", \"star\", \"star\", \"star\", \"store\", \"store\", \"store\", \"store\", \"strawberry\", \"study\", \"sugar\", \"sugar\", \"sweetness\", \"system\", \"table\", \"table\", \"taste\", \"taste\", \"tax\", \"tea\", \"team\", \"team\", \"temperature\", \"texture\", \"thing\", \"thing\", \"thing\", \"thing\", \"thing\", \"time\", \"time\", \"time\", \"time\", \"time\", \"toast\", \"today\", \"today\", \"tomato\", \"ton\", \"ton\", \"traffic\", \"train\", \"train\", \"update\", \"vanilla\", \"volume\", \"waste\", \"way\", \"way\", \"way\", \"way\", \"way\", \"weekday\", \"wifi\", \"window\", \"window\", \"woman\", \"woman\", \"work\", \"work\", \"work\", \"worker\", \"worker\", \"wrap\"]}, \"R\": 30, \"lambda.step\": 0.01, \"plot.opts\": {\"xlab\": \"PC1\", \"ylab\": \"PC2\"}, \"topic.order\": [1, 2, 3, 4, 5]};\n",
       "\n",
       "function LDAvis_load_lib(url, callback){\n",
       "  var s = document.createElement('script');\n",
       "  s.src = url;\n",
       "  s.async = true;\n",
       "  s.onreadystatechange = s.onload = callback;\n",
       "  s.onerror = function(){console.warn(\"failed to load library \" + url);};\n",
       "  document.getElementsByTagName(\"head\")[0].appendChild(s);\n",
       "}\n",
       "\n",
       "if(typeof(LDAvis) !== \"undefined\"){\n",
       "   // already loaded: just create the visualization\n",
       "   !function(LDAvis){\n",
       "       new LDAvis(\"#\" + \"ldavis_el181921404068034793124132114518\", ldavis_el181921404068034793124132114518_data);\n",
       "   }(LDAvis);\n",
       "}else if(typeof define === \"function\" && define.amd){\n",
       "   // require.js is available: use it to load d3/LDAvis\n",
       "   require.config({paths: {d3: \"https://cdnjs.cloudflare.com/ajax/libs/d3/3.5.5/d3.min\"}});\n",
       "   require([\"d3\"], function(d3){\n",
       "      window.d3 = d3;\n",
       "      LDAvis_load_lib(\"https://cdn.rawgit.com/bmabey/pyLDAvis/files/ldavis.v1.0.0.js\", function(){\n",
       "        new LDAvis(\"#\" + \"ldavis_el181921404068034793124132114518\", ldavis_el181921404068034793124132114518_data);\n",
       "      });\n",
       "    });\n",
       "}else{\n",
       "    // require.js not available: dynamically load d3 & LDAvis\n",
       "    LDAvis_load_lib(\"https://cdnjs.cloudflare.com/ajax/libs/d3/3.5.5/d3.min.js\", function(){\n",
       "         LDAvis_load_lib(\"https://cdn.rawgit.com/bmabey/pyLDAvis/files/ldavis.v1.0.0.js\", function(){\n",
       "                 new LDAvis(\"#\" + \"ldavis_el181921404068034793124132114518\", ldavis_el181921404068034793124132114518_data);\n",
       "            })\n",
       "         });\n",
       "}\n",
       "</script>"
      ],
      "text/plain": [
       "<IPython.core.display.HTML object>"
      ]
     },
     "execution_count": 5,
     "metadata": {},
     "output_type": "execute_result"
    }
   ],
   "source": [
    "import pickle\n",
    "from gensim.test.utils import datapath\n",
    "from gensim.models import LdaModel\n",
    "from gensim import corpora\n",
    "#Visualize the LDA topics\n",
    "dictionary = gensim.corpora.Dictionary.load('dictionary_allreviews_nouns.gensim')\n",
    "corpus = pickle.load(open('corpus_allreviews_nouns.pkl', 'rb'))\n",
    "\n",
    "temp_file = datapath(\"lda_nounsonly_5topics.gensim\")\n",
    "lda = gensim.models.ldamodel.LdaModel.load(temp_file)\n",
    "\n",
    "import pyLDAvis.gensim\n",
    "lda_display = pyLDAvis.gensim.prepare(lda, corpus, dictionary, sort_topics=False)\n",
    "pyLDAvis.display(lda_display)\n",
    "\n"
   ]
  },
  {
   "cell_type": "code",
   "execution_count": 36,
   "metadata": {},
   "outputs": [
    {
     "ename": "NameError",
     "evalue": "name 'topicweightsdf' is not defined",
     "output_type": "error",
     "traceback": [
      "\u001b[0;31m---------------------------------------------------------------------------\u001b[0m",
      "\u001b[0;31mNameError\u001b[0m                                 Traceback (most recent call last)",
      "\u001b[0;32m<ipython-input-36-1d111bd1ba76>\u001b[0m in \u001b[0;36m<module>\u001b[0;34m\u001b[0m\n\u001b[1;32m      8\u001b[0m     \u001b[0mtopicweights\u001b[0m\u001b[0;34m.\u001b[0m\u001b[0mappend\u001b[0m\u001b[0;34m(\u001b[0m\u001b[0mtoadd\u001b[0m\u001b[0;34m)\u001b[0m\u001b[0;34m\u001b[0m\u001b[0;34m\u001b[0m\u001b[0m\n\u001b[1;32m      9\u001b[0m \u001b[0mtopicweightdf\u001b[0m \u001b[0;34m=\u001b[0m \u001b[0mpd\u001b[0m\u001b[0;34m.\u001b[0m\u001b[0mDataFrame\u001b[0m\u001b[0;34m(\u001b[0m\u001b[0mtopicweights\u001b[0m\u001b[0;34m)\u001b[0m\u001b[0;34m\u001b[0m\u001b[0;34m\u001b[0m\u001b[0m\n\u001b[0;32m---> 10\u001b[0;31m \u001b[0mtopicweightsdf\u001b[0m\u001b[0;34m.\u001b[0m\u001b[0mcolumns\u001b[0m \u001b[0;34m=\u001b[0m \u001b[0;34m[\u001b[0m\u001b[0;34m't0'\u001b[0m\u001b[0;34m,\u001b[0m\u001b[0;34m't1'\u001b[0m\u001b[0;34m,\u001b[0m\u001b[0;34m't2'\u001b[0m\u001b[0;34m,\u001b[0m\u001b[0;34m't3'\u001b[0m\u001b[0;34m,\u001b[0m\u001b[0;34m't4'\u001b[0m\u001b[0;34m]\u001b[0m\u001b[0;34m\u001b[0m\u001b[0;34m\u001b[0m\u001b[0m\n\u001b[0m\u001b[1;32m     11\u001b[0m \u001b[0mtopicweightsdf\u001b[0m\u001b[0;34m[\u001b[0m\u001b[0;34m'alias'\u001b[0m\u001b[0;34m]\u001b[0m \u001b[0;34m=\u001b[0m \u001b[0mmerged\u001b[0m\u001b[0;34m.\u001b[0m\u001b[0malias\u001b[0m\u001b[0;34m\u001b[0m\u001b[0;34m\u001b[0m\u001b[0m\n\u001b[1;32m     12\u001b[0m \u001b[0mtopicweightsdf\u001b[0m\u001b[0;34m[\u001b[0m\u001b[0;34m'date'\u001b[0m\u001b[0;34m]\u001b[0m \u001b[0;34m=\u001b[0m \u001b[0mmerged\u001b[0m\u001b[0;34m.\u001b[0m\u001b[0mdate\u001b[0m\u001b[0;34m\u001b[0m\u001b[0;34m\u001b[0m\u001b[0m\n",
      "\u001b[0;31mNameError\u001b[0m: name 'topicweightsdf' is not defined"
     ]
    }
   ],
   "source": [
    "doclist2 = docldalist[2]\n",
    "topicweights = []\n",
    "for i in range(len(doclist2)):\n",
    "    topicw = doclist2[i][0]\n",
    "    toadd = [0 for i in range(5)]\n",
    "    for (index,frac) in topicw:\n",
    "        toadd[index] = frac\n",
    "    topicweights.append(toadd)\n",
    "topicweightdf = pd.DataFrame(topicweights)\n",
    "topicweightdf.columns = ['t0','t1','t2','t3','t4']"
   ]
  },
  {
   "cell_type": "code",
   "execution_count": 40,
   "metadata": {},
   "outputs": [],
   "source": [
    "topicweightdf['alias'] = merged.alias\n",
    "topicweightdf['date'] = merged.date\n",
    "topicweightdf['reviewtxt'] = merged.reviewtxt\n",
    "topicweightdf['mreviewtxt'] = merged.mreviewtxt\n",
    "topicweightdf.head(5)\n",
    "topicweightdf.to_csv('./LDAresults/ldatopicweights_allreviews_5topics.csv',index=False)"
   ]
  },
  {
   "cell_type": "code",
   "execution_count": 79,
   "metadata": {},
   "outputs": [
    {
     "name": "stdout",
     "output_type": "stream",
     "text": [
      "19590\n",
      "19590\n",
      "([(0, 0.07720012), (2, 0.28036457), (3, 0.060510945), (4, 0.27330515), (5, 0.29990527)], [(0, [5, 4, 2, 3]), (1, [5, 2]), (2, [4]), (3, [4]), (4, [5, 3]), (5, [2, 4, 0]), (6, [4]), (7, [5]), (8, [4, 5, 2, 0]), (9, [0]), (10, [2]), (11, [5, 3, 0, 2]), (12, [5, 2, 4]), (13, [2]), (14, [2, 4, 3, 0]), (15, [5, 2, 3, 0]), (16, [4]), (17, [2, 5, 3, 4, 0])], [(0, [(2, 0.088868394), (3, 0.025242487), (4, 0.34965935), (5, 0.5361199)]), (1, [(2, 0.3724494), (5, 0.62741256)]), (2, [(4, 0.9704254)]), (3, [(4, 0.99937314)]), (4, [(3, 0.23781292), (5, 0.75967526)]), (5, [(0, 0.0398874), (2, 0.8370215), (4, 0.12304808)]), (6, [(4, 0.9746351)]), (7, [(5, 0.99936974)]), (8, [(0, 0.018951189), (2, 0.0384567), (4, 0.10991031), (5, 0.061534923)]), (9, [(0, 0.9962093)]), (10, [(2, 0.9978771)]), (11, [(0, 0.0779918), (2, 0.050287813), (3, 0.14465523), (5, 0.727047)]), (12, [(2, 0.3353542), (4, 0.03847308), (5, 0.61673373)]), (13, [(2, 0.9989006)]), (14, [(0, 0.069053695), (2, 0.43240085), (3, 0.10421982), (4, 0.39421615)]), (15, [(0, 0.034834947), (2, 0.29113472), (3, 0.0416635), (5, 0.63221514)]), (16, [(4, 0.9988776)]), (17, [(0, 0.06767529), (2, 0.7718946), (3, 0.38876155), (4, 0.117253214), (5, 0.6541573)])])\n",
      "3\n",
      "first list in doclist3[0]\n",
      "[(0, 0.07722241), (2, 0.28050613), (3, 0.05976328), (4, 0.27334216), (5, 0.30045205)]\n",
      "length of 2nd list in doclist3[0]\n",
      "18\n",
      "data_lemmatized[0]\n",
      "['review', 'place', 'considering', 'amount', 'time', 'time', 'art', 'taro', 'cuteness', 'people', 'cup', 'preference', 'cheesecake', 'milk', 'stuff', 'incase', 'bingsoo', 'individual', 'goodness']\n",
      "19\n",
      "I can't believe I have never left a review for this place considering the amount of times I stop by here. And all the times I have been here not once has anyone been rude to me. I always make sure to get a latter art so maybe the taro or red velvet or matcha to be honest I like them all, just the cuteness of it makes me love it. Understandable that many people don't wanna pay $4-5 for such small cups of latte but it is definitely based on preference \n",
      "Second -- the bingsoo here is so so good  the one I get the most has to be the mango cheesecake it literally has lives of cheesecakes and has condensed milk and all that good stuff - it's very sweet Incase u don't like that \n",
      "I really don't think it's a miss if you come here ! They have individual and large bingsoos-- I get individual b/c I don't like sharing the goodness ....\n"
     ]
    }
   ],
   "source": [
    "#exploring the doc_lda\n",
    "doclist3 = docldalist[3]\n",
    "print(len(doclist3))\n",
    "print(len(merged))\n",
    "print(doclist3[0])\n",
    "print(len(doclist3[0]))\n",
    "print('first list in doclist3[0]')\n",
    "print(doclist3[0][0])\n",
    "print('length of 2nd list in doclist3[0]')\n",
    "print(len(doclist3[0][1]))\n",
    "print('data_lemmatized[0]')\n",
    "print(data_lemmatized[0])\n",
    "print(len(data_lemmatized[0]))\n",
    "print(merged.reviewtxt[0])\n"
   ]
  },
  {
   "cell_type": "code",
   "execution_count": 80,
   "metadata": {},
   "outputs": [
    {
     "name": "stdout",
     "output_type": "stream",
     "text": [
      "19590\n",
      "19590\n",
      "([(2, 0.7232571), (5, 0.2570325)], [(10, [2]), (12, [2, 5]), (14, [2]), (20, [2, 5]), (23, [2, 5]), (31, [2, 5]), (43, [5, 2]), (50, [5]), (80, [5]), (82, [2, 5]), (90, [5]), (123, [5]), (183, [2, 5]), (185, [2, 5]), (197, [2]), (204, [2, 5]), (256, [5]), (320, [2]), (348, [2]), (433, [2]), (444, [2]), (608, [2, 5]), (626, [2]), (781, [2, 5]), (859, [2]), (860, [2]), (861, [2]), (862, [2])], [(10, [(2, 2.999985)]), (12, [(2, 1.2621312), (5, 0.7377541)]), (14, [(2, 0.99967)]), (20, [(2, 0.8593746), (5, 0.14037992)]), (23, [(2, 0.9688772), (5, 0.031112444)]), (31, [(2, 2.662524), (5, 0.33747336)]), (43, [(2, 0.44088784), (5, 0.5589997)]), (50, [(5, 0.9999687)]), (80, [(5, 0.99997604)]), (82, [(2, 0.515228), (5, 0.4846151)]), (90, [(5, 0.99988955)]), (123, [(5, 0.9994988)]), (183, [(2, 0.7400612), (5, 0.2597474)]), (185, [(2, 0.606823), (5, 0.39304286)]), (197, [(2, 0.99985105)]), (204, [(2, 0.7099869), (5, 0.28959993)]), (256, [(5, 0.9993788)]), (320, [(2, 0.9993876)]), (348, [(2, 0.99990994)]), (433, [(2, 0.99992675)]), (444, [(2, 0.9999562)]), (608, [(2, 0.91518265), (5, 0.084682494)]), (626, [(2, 0.9988118)]), (781, [(2, 0.7441173), (5, 0.25460097)]), (859, [(2, 0.99965763)]), (860, [(2, 0.999415)]), (861, [(2, 0.99998003)]), (862, [(2, 0.996879)])])\n",
      "3\n",
      "first list in doclist3[200]\n",
      "[(2, 0.723274), (5, 0.2570156)]\n",
      "length of 2nd list in doclist3[0]\n",
      "28\n",
      "data_lemmatized[0]\n",
      "['gem', 'staff', 'job', 'description', 'ambiance', 'coffee', 'sugar', 'coffee', 'almond', 'milk', 'milk', 'manager', 'soy', 'milk', 'latte', 'review', 'thing', 'bathouroom', 'table', 'seat', 'place', 'laptop', 'weekend', 'restriction', 'house', 'rule', 'date', 'catch', 'friend', 'place', 'drink', 'coffee', 'chat']\n",
      "33\n",
      "This cafe is a gem! Such sweet staff who'll go past their job descriptions to make you feel welcome, cute and cozy ambiance, and smooth, yet strong coffee that doesn't need any sugar added to it. They're doing it all right here.\n",
      "\n",
      "I got a coffee with almond milk and loved it. I needed more almond milk, and the manager literally grabbed my cup, took it to the counter, and added more for me. Say what! Also tried the soy latte, which was so foamy and delicious. I'll have to return to try their almond milk lattes, which, if you read my reviews, you know I have a thing for! \n",
      "\n",
      "They do have a bathroom, along with a few tables. It's so popular, so seats will forever be taken, unless you hang around and snag one up soon as it frees up.\n",
      "\n",
      "They do have free WiFi, but the whole place is laptop-free on the weekends. I don't like the restrictions, but their house, their rules. Come here for a quick and casual date or to catch up with a friend. It's a place that's meant for socializing, so drink that refreshing coffee and chat away!\n"
     ]
    }
   ],
   "source": [
    "doclist3 = docldalist[3]\n",
    "print(len(doclist3))\n",
    "print(len(merged))\n",
    "print(doclist3[200])\n",
    "print(len(doclist3[200]))\n",
    "print('first list in doclist3[200]')\n",
    "print(doclist3[200][0])\n",
    "print('length of 2nd list in doclist3[0]')\n",
    "print(len(doclist3[200][1]))\n",
    "print('data_lemmatized[0]')\n",
    "print(data_lemmatized[200])\n",
    "print(len(data_lemmatized[200]))\n",
    "print(merged.reviewtxt[200])"
   ]
  },
  {
   "cell_type": "code",
   "execution_count": 94,
   "metadata": {},
   "outputs": [
    {
     "data": {
      "text/plain": [
       "([(0, [5, 4, 2, 3]),\n",
       "  (1, [5, 2]),\n",
       "  (2, [4]),\n",
       "  (3, [4]),\n",
       "  (4, [5, 3]),\n",
       "  (5, [2, 4, 0]),\n",
       "  (6, [4]),\n",
       "  (7, [5]),\n",
       "  (8, [4, 5, 2, 0]),\n",
       "  (9, [0]),\n",
       "  (10, [2]),\n",
       "  (11, [5, 3, 0, 2]),\n",
       "  (12, [5, 2, 4]),\n",
       "  (13, [2]),\n",
       "  (14, [2, 4, 3, 0]),\n",
       "  (15, [5, 2, 3, 0]),\n",
       "  (16, [4]),\n",
       "  (17, [2, 5, 3, 4, 0])],\n",
       " [(0, [(2, 0.08889181), (3, 0.026211245), (4, 0.35002545), (5, 0.53476137)]),\n",
       "  (1, [(2, 0.373104), (5, 0.6267575)]),\n",
       "  (2, [(4, 0.9704182)]),\n",
       "  (3, [(4, 0.99937314)]),\n",
       "  (4, [(3, 0.24517326), (5, 0.75232977)]),\n",
       "  (5, [(0, 0.039894335), (2, 0.83693135), (4, 0.12313121)]),\n",
       "  (6, [(4, 0.97463095)]),\n",
       "  (7, [(5, 0.9993673)]),\n",
       "  (8, [(0, 0.018937396), (2, 0.03841789), (4, 0.109885395), (5, 0.061300896)]),\n",
       "  (9, [(0, 0.9962064)]),\n",
       "  (10, [(2, 0.9978756)]),\n",
       "  (11, [(0, 0.077741615), (2, 0.050112385), (3, 0.14964339), (5, 0.7224845)]),\n",
       "  (12, [(2, 0.33592257), (4, 0.03856847), (5, 0.6160512)]),\n",
       "  (13, [(2, 0.99889934)]),\n",
       "  (14, [(0, 0.06877742), (2, 0.43054962), (3, 0.10772787), (4, 0.39283592)]),\n",
       "  (15, [(0, 0.0348507), (2, 0.29118437), (3, 0.04325845), (5, 0.63055456)]),\n",
       "  (16, [(4, 0.99887735)]),\n",
       "  (17,\n",
       "   [(0, 0.06725399),\n",
       "    (2, 0.7668733),\n",
       "    (3, 0.40094984),\n",
       "    (4, 0.11658172),\n",
       "    (5, 0.64808434)])])"
      ]
     },
     "execution_count": 94,
     "metadata": {},
     "output_type": "execute_result"
    }
   ],
   "source": [
    "test = lda[corpus]\n",
    "test[0][1:3]"
   ]
  },
  {
   "cell_type": "markdown",
   "metadata": {},
   "source": [
    "Starbucks dominates the data set (3944 reviews ) vs the next most (Dunkin with 800 reviews), and 380 for La Colombe Coffee. The topics identified cover a very diverse set of coffee shops, with very different customer bases as well.  If we were to focus on a more niche coffe shop like La Colombe, would we get the same pattern of topics?  This is important because the topics we obtained by performin LDA on the whole set might not be enough to adequately describe the differences between reviews for a subset."
   ]
  },
  {
   "cell_type": "code",
   "execution_count": 58,
   "metadata": {},
   "outputs": [],
   "source": [
    "# Build LDA model with 3 to 9 topics for only La Colombe coffee shops\n",
    "\n",
    "\n",
    "def getid2wordandcorpus(data_lemmatized,texts):\n",
    "    # Create Dictionary\n",
    "    id2word = corpora.Dictionary(data_lemmatized)\n",
    "    # Create Corpus\n",
    "    texts = data_lemmatized\n",
    "    # Term Document Frequency\n",
    "    corpus = [id2word.doc2bow(text) for text in texts]\n",
    "    result = {}\n",
    "    result['id2word'] = id2word\n",
    "    result['corpus'] = corpus\n",
    "    return(result)\n",
    "\n",
    "def getcoherencevstopick(data_lemmatized,corpus,id2word,mink,maxk):\n",
    "    ldamodlist = []\n",
    "    docldalist = []\n",
    "    cohereldalist = []\n",
    "    for nt in range(mink,maxk+1):\n",
    "        lda_model = gensim.models.LdaMulticore(corpus=corpus,\n",
    "                                        id2word=id2word,\n",
    "                                       num_topics=nt, \n",
    "                                       random_state=100,\n",
    "                                       chunksize=100,\n",
    "                                        passes=10,\n",
    "                                       per_word_topics=True)\n",
    "        print(f'Number of topics is:{nt}')\n",
    "        pprint(lda_model.print_topics())\n",
    "        doc_lda = lda_model[corpus]\n",
    "        coherence_model_lda = CoherenceModel(model=lda_model, texts=data_lemmatized, dictionary=id2word, coherence='c_v')\n",
    "        coherence_lda = coherence_model_lda.get_coherence()\n",
    "        ldamodlist.append(lda_model)\n",
    "        docldalist.append(doc_lda)\n",
    "        cohereldalist.append(coherence_lda)\n",
    "    result = {}\n",
    "    result['ldamodlist']  = ldamodlist\n",
    "    result['docldalist'] = docldalist\n",
    "    result['cohereldalist'] = cohereldalist\n",
    "    return(result)\n",
    "    "
   ]
  },
  {
   "cell_type": "code",
   "execution_count": 86,
   "metadata": {},
   "outputs": [
    {
     "ename": "TypeError",
     "evalue": "'LdaMulticore' object is not callable",
     "output_type": "error",
     "traceback": [
      "\u001b[0;31m---------------------------------------------------------------------------\u001b[0m",
      "\u001b[0;31mTypeError\u001b[0m                                 Traceback (most recent call last)",
      "\u001b[0;32m<ipython-input-86-0dae90eef8eb>\u001b[0m in \u001b[0;36m<module>\u001b[0;34m\u001b[0m\n\u001b[0;32m----> 1\u001b[0;31m \u001b[0mtest\u001b[0m \u001b[0;34m=\u001b[0m \u001b[0mlda\u001b[0m\u001b[0;34m(\u001b[0m\u001b[0;34m'hello t-rex blah blah'\u001b[0m\u001b[0;34m)\u001b[0m\u001b[0;34m\u001b[0m\u001b[0;34m\u001b[0m\u001b[0m\n\u001b[0m",
      "\u001b[0;31mTypeError\u001b[0m: 'LdaMulticore' object is not callable"
     ]
    }
   ],
   "source": []
  },
  {
   "cell_type": "code",
   "execution_count": 59,
   "metadata": {},
   "outputs": [
    {
     "name": "stdout",
     "output_type": "stream",
     "text": [
      "['fact', 'lid', 'straw', 'provide', 'straw', 'location', 'work', 'time', 'drink', 'draft', 'latte', 'friend', 'latte', 'shot', 'time', 'coffee', 'shop', 'seating', 'area']\n",
      "Number of topics is:3\n",
      "[(0,\n",
      "  '0.067*\"coffee\" + 0.029*\"line\" + 0.017*\"morning\" + 0.015*\"shop\" + '\n",
      "  '0.015*\"draft\" + 0.014*\"time\" + 0.013*\"day\" + 0.012*\"service\" + '\n",
      "  '0.012*\"place\" + 0.011*\"barista\"'),\n",
      " (1,\n",
      "  '0.109*\"coffee\" + 0.029*\"location\" + 0.028*\"place\" + 0.020*\"time\" + '\n",
      "  '0.013*\"draft\" + 0.013*\"milk\" + 0.012*\"people\" + 0.012*\"staff\" + '\n",
      "  '0.012*\"drink\" + 0.012*\"line\"'),\n",
      " (2,\n",
      "  '0.074*\"latte\" + 0.063*\"milk\" + 0.060*\"draft\" + 0.059*\"coffee\" + 0.047*\"oat\" '\n",
      "  '+ 0.020*\"drink\" + 0.012*\"shop\" + 0.010*\"place\" + 0.010*\"flavor\" + '\n",
      "  '0.008*\"attitude\"')]\n",
      "Number of topics is:4\n",
      "[(0,\n",
      "  '0.071*\"coffee\" + 0.033*\"line\" + 0.019*\"morning\" + 0.017*\"time\" + '\n",
      "  '0.016*\"place\" + 0.016*\"draft\" + 0.014*\"service\" + 0.014*\"tea\" + 0.013*\"lot\" '\n",
      "  '+ 0.012*\"shop\"'),\n",
      " (1,\n",
      "  '0.107*\"coffee\" + 0.026*\"place\" + 0.026*\"location\" + 0.022*\"time\" + '\n",
      "  '0.016*\"people\" + 0.016*\"milk\" + 0.016*\"draft\" + 0.015*\"drink\" + '\n",
      "  '0.013*\"line\" + 0.013*\"shop\"'),\n",
      " (2,\n",
      "  '0.074*\"milk\" + 0.073*\"coffee\" + 0.068*\"latte\" + 0.062*\"oat\" + 0.059*\"draft\" '\n",
      "  '+ 0.017*\"place\" + 0.013*\"drink\" + 0.011*\"tap\" + 0.010*\"friend\" + '\n",
      "  '0.009*\"shop\"'),\n",
      " (3,\n",
      "  '0.061*\"coffee\" + 0.043*\"latte\" + 0.028*\"draft\" + 0.018*\"location\" + '\n",
      "  '0.018*\"staff\" + 0.013*\"shop\" + 0.012*\"day\" + 0.012*\"ice\" + 0.012*\"drink\" + '\n",
      "  '0.011*\"way\"')]\n",
      "Number of topics is:5\n",
      "[(0,\n",
      "  '0.046*\"coffee\" + 0.034*\"latte\" + 0.033*\"draft\" + 0.018*\"drink\" + '\n",
      "  '0.018*\"line\" + 0.017*\"tea\" + 0.017*\"time\" + 0.016*\"shop\" + 0.014*\"seat\" + '\n",
      "  '0.013*\"morning\"'),\n",
      " (1,\n",
      "  '0.096*\"coffee\" + 0.032*\"place\" + 0.022*\"people\" + 0.019*\"location\" + '\n",
      "  '0.019*\"time\" + 0.017*\"drink\" + 0.017*\"draft\" + 0.016*\"milk\" + 0.016*\"line\" '\n",
      "  '+ 0.015*\"shop\"'),\n",
      " (2,\n",
      "  '0.093*\"milk\" + 0.080*\"oat\" + 0.070*\"latte\" + 0.060*\"draft\" + 0.046*\"coffee\" '\n",
      "  '+ 0.028*\"place\" + 0.014*\"spot\" + 0.013*\"lot\" + 0.013*\"line\" + 0.010*\"time\"'),\n",
      " (3,\n",
      "  '0.048*\"latte\" + 0.045*\"coffee\" + 0.037*\"draft\" + 0.023*\"ice\" + '\n",
      "  '0.021*\"staff\" + 0.017*\"milk\" + 0.015*\"day\" + 0.014*\"way\" + 0.012*\"location\" '\n",
      "  '+ 0.011*\"service\"'),\n",
      " (4,\n",
      "  '0.134*\"coffee\" + 0.027*\"location\" + 0.013*\"time\" + 0.013*\"draft\" + '\n",
      "  '0.013*\"flavor\" + 0.013*\"chocolate\" + 0.012*\"taste\" + 0.012*\"espresso\" + '\n",
      "  '0.011*\"shop\" + 0.010*\"quality\"')]\n",
      "Number of topics is:6\n",
      "[(0,\n",
      "  '0.051*\"coffee\" + 0.023*\"line\" + 0.020*\"morning\" + 0.019*\"draft\" + '\n",
      "  '0.017*\"service\" + 0.016*\"barista\" + 0.016*\"time\" + 0.015*\"place\" + '\n",
      "  '0.014*\"lot\" + 0.014*\"day\"'),\n",
      " (1,\n",
      "  '0.094*\"coffee\" + 0.033*\"place\" + 0.024*\"location\" + 0.021*\"time\" + '\n",
      "  '0.021*\"draft\" + 0.017*\"spot\" + 0.015*\"milk\" + 0.014*\"table\" + 0.012*\"space\" '\n",
      "  '+ 0.012*\"staff\"'),\n",
      " (2,\n",
      "  '0.095*\"milk\" + 0.088*\"latte\" + 0.087*\"oat\" + 0.073*\"draft\" + 0.050*\"coffee\" '\n",
      "  '+ 0.020*\"drink\" + 0.018*\"shop\" + 0.016*\"place\" + 0.014*\"line\" + '\n",
      "  '0.013*\"woman\"'),\n",
      " (3,\n",
      "  '0.057*\"coffee\" + 0.045*\"latte\" + 0.030*\"draft\" + 0.017*\"staff\" + '\n",
      "  '0.017*\"location\" + 0.015*\"service\" + 0.014*\"milk\" + 0.013*\"drink\" + '\n",
      "  '0.012*\"shop\" + 0.012*\"way\"'),\n",
      " (4,\n",
      "  '0.134*\"coffee\" + 0.023*\"location\" + 0.019*\"line\" + 0.019*\"time\" + '\n",
      "  '0.015*\"place\" + 0.015*\"people\" + 0.013*\"draft\" + 0.013*\"chocolate\" + '\n",
      "  '0.012*\"taste\" + 0.010*\"milk\"'),\n",
      " (5,\n",
      "  '0.045*\"coffee\" + 0.030*\"latte\" + 0.022*\"drink\" + 0.017*\"summer\" + '\n",
      "  '0.017*\"milk\" + 0.015*\"flavor\" + 0.014*\"draft\" + 0.014*\"day\" + '\n",
      "  '0.012*\"creamy\" + 0.012*\"staff\"')]\n",
      "Number of topics is:7\n",
      "[(0,\n",
      "  '0.052*\"coffee\" + 0.044*\"line\" + 0.030*\"morning\" + 0.027*\"lot\" + '\n",
      "  '0.017*\"shop\" + 0.017*\"draft\" + 0.017*\"place\" + 0.014*\"minute\" + '\n",
      "  '0.013*\"time\" + 0.013*\"barista\"'),\n",
      " (1,\n",
      "  '0.099*\"coffee\" + 0.031*\"place\" + 0.023*\"people\" + 0.020*\"drink\" + '\n",
      "  '0.019*\"location\" + 0.019*\"time\" + 0.018*\"shop\" + 0.016*\"table\" + '\n",
      "  '0.016*\"work\" + 0.014*\"milk\"'),\n",
      " (2,\n",
      "  '0.114*\"milk\" + 0.104*\"oat\" + 0.093*\"latte\" + 0.074*\"draft\" + 0.048*\"coffee\" '\n",
      "  '+ 0.027*\"place\" + 0.018*\"line\" + 0.013*\"service\" + 0.010*\"work\" + '\n",
      "  '0.009*\"time\"'),\n",
      " (3,\n",
      "  '0.053*\"coffee\" + 0.047*\"latte\" + 0.041*\"draft\" + 0.019*\"location\" + '\n",
      "  '0.015*\"milk\" + 0.012*\"tea\" + 0.012*\"way\" + 0.012*\"seating\" + 0.011*\"stuff\" '\n",
      "  '+ 0.011*\"ice\"'),\n",
      " (4,\n",
      "  '0.139*\"coffee\" + 0.027*\"location\" + 0.016*\"place\" + 0.015*\"draft\" + '\n",
      "  '0.014*\"milk\" + 0.013*\"time\" + 0.013*\"drink\" + 0.013*\"shop\" + 0.011*\"space\" '\n",
      "  '+ 0.011*\"chocolate\"'),\n",
      " (5,\n",
      "  '0.057*\"coffee\" + 0.046*\"latte\" + 0.026*\"draft\" + 0.024*\"flavor\" + '\n",
      "  '0.021*\"drink\" + 0.020*\"summer\" + 0.019*\"staff\" + 0.016*\"day\" + 0.015*\"milk\" '\n",
      "  '+ 0.012*\"bean\"'),\n",
      " (6,\n",
      "  '0.032*\"time\" + 0.029*\"draft\" + 0.028*\"day\" + 0.020*\"coffee\" + 0.018*\"place\" '\n",
      "  '+ 0.017*\"spot\" + 0.014*\"hotel\" + 0.013*\"area\" + 0.013*\"sit\" + '\n",
      "  '0.012*\"block\"')]\n",
      "Number of topics is:8\n",
      "[(0,\n",
      "  '0.042*\"coffee\" + 0.027*\"place\" + 0.027*\"draft\" + 0.026*\"line\" + 0.020*\"tea\" '\n",
      "  '+ 0.019*\"lot\" + 0.014*\"walk\" + 0.014*\"latte\" + 0.013*\"foamy\" + '\n",
      "  '0.013*\"time\"'),\n",
      " (1,\n",
      "  '0.083*\"coffee\" + 0.026*\"table\" + 0.020*\"spot\" + 0.019*\"place\" + '\n",
      "  '0.018*\"space\" + 0.017*\"location\" + 0.017*\"work\" + 0.015*\"friend\" + '\n",
      "  '0.015*\"draft\" + 0.014*\"day\"'),\n",
      " (2,\n",
      "  '0.098*\"latte\" + 0.090*\"milk\" + 0.083*\"draft\" + 0.081*\"oat\" + 0.062*\"coffee\" '\n",
      "  '+ 0.027*\"shop\" + 0.022*\"drink\" + 0.012*\"woman\" + 0.012*\"service\" + '\n",
      "  '0.011*\"lot\"'),\n",
      " (3,\n",
      "  '0.040*\"coffee\" + 0.039*\"latte\" + 0.031*\"draft\" + 0.027*\"service\" + '\n",
      "  '0.023*\"location\" + 0.020*\"way\" + 0.017*\"today\" + 0.016*\"office\" + '\n",
      "  '0.014*\"ice\" + 0.013*\"shop\"'),\n",
      " (4,\n",
      "  '0.125*\"coffee\" + 0.025*\"location\" + 0.016*\"chocolate\" + 0.014*\"time\" + '\n",
      "  '0.014*\"taste\" + 0.012*\"shop\" + 0.011*\"staff\" + 0.011*\"espresso\" + '\n",
      "  '0.010*\"day\" + 0.010*\"quality\"'),\n",
      " (5,\n",
      "  '0.052*\"coffee\" + 0.031*\"latte\" + 0.027*\"staff\" + 0.019*\"flavor\" + '\n",
      "  '0.018*\"milk\" + 0.017*\"work\" + 0.015*\"drink\" + 0.012*\"mocha\" + 0.012*\"syrup\" '\n",
      "  '+ 0.011*\"line\"'),\n",
      " (6,\n",
      "  '0.037*\"coffee\" + 0.031*\"location\" + 0.024*\"drink\" + 0.023*\"area\" + '\n",
      "  '0.019*\"cup\" + 0.018*\"straw\" + 0.018*\"seating\" + 0.016*\"one\" + 0.015*\"place\" '\n",
      "  '+ 0.014*\"stir\"'),\n",
      " (7,\n",
      "  '0.117*\"coffee\" + 0.040*\"place\" + 0.033*\"milk\" + 0.026*\"time\" + 0.025*\"line\" '\n",
      "  '+ 0.022*\"draft\" + 0.018*\"location\" + 0.016*\"latte\" + 0.014*\"people\" + '\n",
      "  '0.013*\"drink\"')]\n",
      "Number of topics is:9\n",
      "[(0,\n",
      "  '0.039*\"coffee\" + 0.035*\"service\" + 0.028*\"latte\" + 0.021*\"draft\" + '\n",
      "  '0.021*\"seat\" + 0.021*\"line\" + 0.019*\"product\" + 0.019*\"lady\" + '\n",
      "  '0.016*\"morning\" + 0.014*\"time\"'),\n",
      " (1,\n",
      "  '0.098*\"coffee\" + 0.024*\"location\" + 0.019*\"place\" + 0.017*\"time\" + '\n",
      "  '0.015*\"office\" + 0.015*\"shop\" + 0.015*\"day\" + 0.014*\"staff\" + 0.013*\"cup\" + '\n",
      "  '0.012*\"pastry\"'),\n",
      " (2,\n",
      "  '0.122*\"milk\" + 0.114*\"latte\" + 0.110*\"oat\" + 0.106*\"draft\" + 0.042*\"coffee\" '\n",
      "  '+ 0.022*\"drink\" + 0.016*\"woman\" + 0.015*\"service\" + 0.012*\"lot\" + '\n",
      "  '0.011*\"shop\"'),\n",
      " (3,\n",
      "  '0.063*\"coffee\" + 0.044*\"latte\" + 0.030*\"draft\" + 0.024*\"location\" + '\n",
      "  '0.022*\"way\" + 0.021*\"service\" + 0.017*\"office\" + 0.015*\"people\" + '\n",
      "  '0.013*\"staff\" + 0.012*\"milk\"'),\n",
      " (4,\n",
      "  '0.143*\"coffee\" + 0.020*\"chocolate\" + 0.017*\"shop\" + 0.017*\"location\" + '\n",
      "  '0.016*\"draft\" + 0.016*\"taste\" + 0.015*\"time\" + 0.014*\"flavor\" + '\n",
      "  '0.012*\"friend\" + 0.010*\"foam\"'),\n",
      " (5,\n",
      "  '0.064*\"coffee\" + 0.038*\"latte\" + 0.027*\"drink\" + 0.027*\"draft\" + '\n",
      "  '0.024*\"milk\" + 0.024*\"summer\" + 0.019*\"flavor\" + 0.019*\"bean\" + '\n",
      "  '0.017*\"shop\" + 0.017*\"creamy\"'),\n",
      " (6,\n",
      "  '0.032*\"draft\" + 0.031*\"coffee\" + 0.023*\"location\" + 0.023*\"drink\" + '\n",
      "  '0.020*\"area\" + 0.020*\"place\" + 0.018*\"half\" + 0.017*\"latte\" + '\n",
      "  '0.015*\"design\" + 0.014*\"tap\"'),\n",
      " (7,\n",
      "  '0.107*\"coffee\" + 0.044*\"place\" + 0.026*\"time\" + 0.024*\"milk\" + '\n",
      "  '0.024*\"location\" + 0.015*\"area\" + 0.015*\"shop\" + 0.014*\"seating\" + '\n",
      "  '0.014*\"day\" + 0.014*\"draft\"'),\n",
      " (8,\n",
      "  '0.054*\"coffee\" + 0.050*\"line\" + 0.046*\"table\" + 0.045*\"people\" + '\n",
      "  '0.032*\"work\" + 0.020*\"place\" + 0.019*\"latte\" + 0.018*\"morning\" + '\n",
      "  '0.018*\"spot\" + 0.018*\"staff\"')]\n",
      "Number of topics is:10\n",
      "[(0,\n",
      "  '0.058*\"coffee\" + 0.050*\"morning\" + 0.046*\"line\" + 0.029*\"latte\" + '\n",
      "  '0.023*\"product\" + 0.020*\"draft\" + 0.018*\"work\" + 0.013*\"time\" + '\n",
      "  '0.013*\"barista\" + 0.013*\"choice\"'),\n",
      " (1,\n",
      "  '0.094*\"coffee\" + 0.027*\"location\" + 0.024*\"drink\" + 0.023*\"day\" + '\n",
      "  '0.020*\"shop\" + 0.017*\"milk\" + 0.016*\"woman\" + 0.014*\"cashier\" + 0.013*\"way\" '\n",
      "  '+ 0.012*\"service\"'),\n",
      " (2,\n",
      "  '0.150*\"latte\" + 0.142*\"milk\" + 0.133*\"draft\" + 0.127*\"oat\" + 0.042*\"coffee\" '\n",
      "  '+ 0.016*\"service\" + 0.015*\"place\" + 0.015*\"tap\" + 0.012*\"water\" + '\n",
      "  '0.009*\"creamy\"'),\n",
      " (3,\n",
      "  '0.047*\"draft\" + 0.047*\"latte\" + 0.042*\"coffee\" + 0.020*\"way\" + 0.019*\"ice\" '\n",
      "  '+ 0.018*\"service\" + 0.016*\"sugar\" + 0.014*\"town\" + 0.013*\"counter\" + '\n",
      "  '0.013*\"girl\"'),\n",
      " (4,\n",
      "  '0.149*\"coffee\" + 0.025*\"location\" + 0.019*\"drink\" + 0.017*\"time\" + '\n",
      "  '0.015*\"place\" + 0.014*\"chocolate\" + 0.014*\"friend\" + 0.014*\"taste\" + '\n",
      "  '0.014*\"draft\" + 0.014*\"space\"'),\n",
      " (5,\n",
      "  '0.043*\"coffee\" + 0.041*\"latte\" + 0.039*\"draft\" + 0.034*\"summer\" + '\n",
      "  '0.024*\"day\" + 0.022*\"drink\" + 0.021*\"shop\" + 0.018*\"bean\" + 0.016*\"nitro\" + '\n",
      "  '0.015*\"half\"'),\n",
      " (6,\n",
      "  '0.030*\"lot\" + 0.026*\"walk\" + 0.024*\"line\" + 0.024*\"place\" + 0.023*\"spot\" + '\n",
      "  '0.021*\"seating\" + 0.021*\"summer\" + 0.019*\"location\" + 0.019*\"street\" + '\n",
      "  '0.018*\"draft\"'),\n",
      " (7,\n",
      "  '0.108*\"coffee\" + 0.042*\"place\" + 0.027*\"milk\" + 0.023*\"time\" + 0.022*\"line\" '\n",
      "  '+ 0.019*\"draft\" + 0.018*\"drink\" + 0.017*\"location\" + 0.016*\"staff\" + '\n",
      "  '0.015*\"people\"'),\n",
      " (8,\n",
      "  '0.051*\"table\" + 0.045*\"coffee\" + 0.029*\"spot\" + 0.029*\"staff\" + '\n",
      "  '0.029*\"work\" + 0.025*\"space\" + 0.020*\"place\" + 0.019*\"study\" + '\n",
      "  '0.018*\"location\" + 0.018*\"seat\"'),\n",
      " (9,\n",
      "  '0.087*\"coffee\" + 0.032*\"shop\" + 0.024*\"line\" + 0.021*\"time\" + 0.019*\"tea\" + '\n",
      "  '0.016*\"people\" + 0.015*\"area\" + 0.014*\"location\" + 0.014*\"service\" + '\n",
      "  '0.013*\"barista\"')]\n"
     ]
    }
   ],
   "source": [
    "#Performing LDA topic modeling on La Colombe Nouns\n",
    "lcdata_lemmatized = [data_lemmatized[i] for i in range(len(merged)) if merged.name[i]=='La Colombe Coffee']\n",
    "lctexts = [texts[i] for i in range(len(merged)) if merged.name[i]=='La Colombe Coffee']\n",
    "print(lctexts[1])\n",
    "\n",
    "dict1 = getid2wordandcorpus(lcdata_lemmatized,lctexts)\n",
    "dict2 = getcoherencevstopick(lcdata_lemmatized,dict1['corpus'],dict1['id2word'],3,10)\n",
    "\n"
   ]
  },
  {
   "cell_type": "code",
   "execution_count": 60,
   "metadata": {},
   "outputs": [
    {
     "data": {
      "text/plain": [
       "Text(0.5, 1.0, 'Coherence vs Number of Topics LDA for La Colombe Reviews ')"
      ]
     },
     "execution_count": 60,
     "metadata": {},
     "output_type": "execute_result"
    },
    {
     "data": {
      "image/png": "[encoded data removed]",
      "text/plain": [
       "<Figure size 432x288 with 1 Axes>"
      ]
     },
     "metadata": {
      "needs_background": "light"
     },
     "output_type": "display_data"
    }
   ],
   "source": [
    "import seaborn as sns\n",
    "import matplotlib.pyplot as plt\n",
    "\n",
    "fig, ax = plt.subplots()\n",
    "sns.lineplot(x=range(3,11),y=dict2['cohereldalist'],ax=ax)\n",
    "ax.set_xlabel('Number of Clusters')\n",
    "ax.set_ylabel('C_v score')\n",
    "ax.set_title('Coherence vs Number of Topics LDA for La Colombe Reviews ')"
   ]
  },
  {
   "cell_type": "markdown",
   "metadata": {},
   "source": [
    "When LDA was performed on the La Colombe Coffee reviews, there was a large overlap in the top words for the topics. For example, coffee, latte, draft, drink, and time appear in multiple topics.  "
   ]
  },
  {
   "cell_type": "markdown",
   "metadata": {},
   "source": [
    "Hyperparamater Tuning"
   ]
  },
  {
   "cell_type": "code",
   "execution_count": 18,
   "metadata": {},
   "outputs": [],
   "source": [
    "# supporting function\n",
    "def compute_coherence_values(corpus, dictionary, k, a, b):\n",
    "    \n",
    "    lda_model = gensim.models.LdaMulticore(corpus=corpus,\n",
    "                                           id2word=id2word,\n",
    "                                           num_topics=10, \n",
    "                                           random_state=100,\n",
    "                                           chunksize=100,\n",
    "                                           passes=10,\n",
    "                                           alpha=a,\n",
    "                                           eta=b,\n",
    "                                           per_word_topics=True)\n",
    "    \n",
    "    coherence_model_lda = CoherenceModel(model=lda_model, texts=data_lemmatized, dictionary=id2word, coherence='c_v')\n",
    "    \n",
    "    return coherence_model_lda.get_coherence()"
   ]
  },
  {
   "cell_type": "markdown",
   "metadata": {},
   "source": [
    "Iterating the function over different hyperparameters."
   ]
  },
  {
   "cell_type": "code",
   "execution_count": 19,
   "metadata": {},
   "outputs": [
    {
     "name": "stderr",
     "output_type": "stream",
     "text": [
      "\n",
      "  0%|          | 0/540 [00:00<?, ?it/s]\u001b[A\n",
      "  0%|          | 1/540 [01:37<14:38:17, 97.77s/it]\u001b[A\n",
      "  0%|          | 2/540 [03:16<14:38:01, 97.92s/it]\u001b[A\n",
      "  1%|          | 3/540 [04:32<13:37:43, 91.37s/it]\u001b[A\n",
      "  1%|          | 4/540 [05:44<12:44:43, 85.60s/it]\u001b[A\n",
      "  1%|          | 5/540 [06:54<12:01:52, 80.96s/it]\u001b[A\n",
      "  1%|          | 6/540 [08:02<11:26:40, 77.15s/it]\u001b[A\n",
      "  1%|▏         | 7/540 [09:25<11:40:40, 78.87s/it]\u001b[A\n",
      "  1%|▏         | 8/540 [10:45<11:41:06, 79.07s/it]\u001b[A\n",
      "  2%|▏         | 9/540 [11:57<11:22:37, 77.13s/it]\u001b[A\n",
      "  2%|▏         | 10/540 [13:10<11:10:07, 75.86s/it]\u001b[A\n",
      "  2%|▏         | 11/540 [14:19<10:50:00, 73.72s/it]\u001b[A\n",
      "  2%|▏         | 12/540 [15:30<10:42:54, 73.06s/it]\u001b[A\n",
      "  2%|▏         | 13/540 [16:50<10:58:25, 74.96s/it]\u001b[A\n",
      "  3%|▎         | 14/540 [18:07<11:03:42, 75.71s/it]\u001b[A\n",
      "  3%|▎         | 15/540 [19:26<11:09:18, 76.49s/it]\u001b[A\n",
      "  3%|▎         | 16/540 [20:47<11:21:50, 78.07s/it]\u001b[A\n",
      "  3%|▎         | 17/540 [21:58<11:00:26, 75.77s/it]\u001b[A\n",
      "  3%|▎         | 18/540 [23:07<10:43:22, 73.95s/it]\u001b[A\n",
      "  4%|▎         | 19/540 [24:29<11:01:32, 76.18s/it]\u001b[A\n",
      "  4%|▎         | 20/540 [25:47<11:05:37, 76.80s/it]\u001b[A\n",
      "  4%|▍         | 21/540 [27:02<10:59:59, 76.30s/it]\u001b[A\n",
      "  4%|▍         | 22/540 [28:15<10:50:42, 75.37s/it]\u001b[A\n",
      "  4%|▍         | 23/540 [29:23<10:30:08, 73.13s/it]\u001b[A\n",
      "  4%|▍         | 24/540 [30:35<10:26:06, 72.80s/it]\u001b[A\n",
      "  5%|▍         | 25/540 [31:54<10:40:11, 74.58s/it]\u001b[A\n",
      "  5%|▍         | 26/540 [33:15<10:55:11, 76.48s/it]\u001b[A\n",
      "  5%|▌         | 27/540 [34:30<10:49:07, 75.92s/it]\u001b[A\n",
      "  5%|▌         | 28/540 [35:43<10:40:41, 75.08s/it]\u001b[A\n",
      "  5%|▌         | 29/540 [36:51<10:22:15, 73.06s/it]\u001b[A\n",
      "  6%|▌         | 30/540 [38:03<10:17:27, 72.64s/it]\u001b[A\n",
      "  6%|▌         | 31/540 [39:46<11:34:26, 81.86s/it]\u001b[A\n",
      "  6%|▌         | 32/540 [41:25<12:15:33, 86.88s/it]\u001b[A\n",
      "  6%|▌         | 33/540 [43:01<12:36:59, 89.58s/it]\u001b[A\n",
      "  6%|▋         | 34/540 [44:32<12:39:26, 90.05s/it]\u001b[A\n",
      "  6%|▋         | 35/540 [45:57<12:26:19, 88.67s/it]\u001b[AProcess ForkPoolWorker-218:\n",
      "Process ForkPoolWorker-219:\n",
      "Process ForkPoolWorker-217:\n",
      "Traceback (most recent call last):\n",
      "Traceback (most recent call last):\n",
      "Traceback (most recent call last):\n",
      "  File \"/Users/thomasyoung/opt/anaconda3/envs/nlp_env/lib/python3.6/multiprocessing/process.py\", line 258, in _bootstrap\n",
      "    self.run()\n",
      "  File \"/Users/thomasyoung/opt/anaconda3/envs/nlp_env/lib/python3.6/multiprocessing/process.py\", line 258, in _bootstrap\n",
      "    self.run()\n",
      "  File \"/Users/thomasyoung/opt/anaconda3/envs/nlp_env/lib/python3.6/multiprocessing/process.py\", line 258, in _bootstrap\n",
      "    self.run()\n",
      "  File \"/Users/thomasyoung/opt/anaconda3/envs/nlp_env/lib/python3.6/multiprocessing/process.py\", line 93, in run\n",
      "    self._target(*self._args, **self._kwargs)\n",
      "  File \"/Users/thomasyoung/opt/anaconda3/envs/nlp_env/lib/python3.6/multiprocessing/process.py\", line 93, in run\n",
      "    self._target(*self._args, **self._kwargs)\n",
      "  File \"/Users/thomasyoung/opt/anaconda3/envs/nlp_env/lib/python3.6/multiprocessing/process.py\", line 93, in run\n",
      "    self._target(*self._args, **self._kwargs)\n",
      "  File \"/Users/thomasyoung/opt/anaconda3/envs/nlp_env/lib/python3.6/site-packages/gensim/models/ldamulticore.py\", line 337, in worker_e_step\n",
      "    worker_lda.do_estep(chunk)  # TODO: auto-tune alpha?\n",
      "  File \"/Users/thomasyoung/opt/anaconda3/envs/nlp_env/lib/python3.6/multiprocessing/pool.py\", line 103, in worker\n",
      "    initializer(*initargs)\n",
      "  File \"/Users/thomasyoung/opt/anaconda3/envs/nlp_env/lib/python3.6/multiprocessing/pool.py\", line 103, in worker\n",
      "    initializer(*initargs)\n",
      "  File \"/Users/thomasyoung/opt/anaconda3/envs/nlp_env/lib/python3.6/multiprocessing/pool.py\", line 103, in worker\n",
      "    initializer(*initargs)\n",
      "  File \"/Users/thomasyoung/opt/anaconda3/envs/nlp_env/lib/python3.6/site-packages/gensim/models/ldamulticore.py\", line 337, in worker_e_step\n",
      "    worker_lda.do_estep(chunk)  # TODO: auto-tune alpha?\n",
      "  File \"/Users/thomasyoung/opt/anaconda3/envs/nlp_env/lib/python3.6/site-packages/gensim/models/ldamodel.py\", line 742, in do_estep\n",
      "    gamma, sstats = self.inference(chunk, collect_sstats=True)\n",
      "  File \"/Users/thomasyoung/opt/anaconda3/envs/nlp_env/lib/python3.6/site-packages/gensim/models/ldamulticore.py\", line 337, in worker_e_step\n",
      "    worker_lda.do_estep(chunk)  # TODO: auto-tune alpha?\n",
      "  File \"/Users/thomasyoung/opt/anaconda3/envs/nlp_env/lib/python3.6/site-packages/gensim/models/ldamodel.py\", line 695, in inference\n",
      "    expElogthetad = np.exp(Elogthetad)\n",
      "  File \"/Users/thomasyoung/opt/anaconda3/envs/nlp_env/lib/python3.6/site-packages/gensim/models/ldamodel.py\", line 742, in do_estep\n",
      "    gamma, sstats = self.inference(chunk, collect_sstats=True)\n",
      "  File \"/Users/thomasyoung/opt/anaconda3/envs/nlp_env/lib/python3.6/site-packages/gensim/models/ldamodel.py\", line 742, in do_estep\n",
      "    gamma, sstats = self.inference(chunk, collect_sstats=True)\n",
      "KeyboardInterrupt\n",
      "  File \"/Users/thomasyoung/opt/anaconda3/envs/nlp_env/lib/python3.6/site-packages/gensim/models/ldamodel.py\", line 696, in inference\n",
      "    phinorm = np.dot(expElogthetad, expElogbetad) + epsilon\n",
      "  File \"/Users/thomasyoung/opt/anaconda3/envs/nlp_env/lib/python3.6/site-packages/gensim/models/ldamodel.py\", line 698, in inference\n",
      "    meanchange = mean_absolute_difference(gammad, lastgamma)\n",
      "  File \"<__array_function__ internals>\", line 6, in dot\n",
      "KeyboardInterrupt\n",
      "KeyboardInterrupt\n"
     ]
    },
    {
     "ename": "KeyboardInterrupt",
     "evalue": "",
     "output_type": "error",
     "traceback": [
      "\u001b[0;31m---------------------------------------------------------------------------\u001b[0m",
      "\u001b[0;31mFull\u001b[0m                                      Traceback (most recent call last)",
      "\u001b[0;32m~/opt/anaconda3/envs/nlp_env/lib/python3.6/site-packages/gensim/models/ldamulticore.py\u001b[0m in \u001b[0;36mupdate\u001b[0;34m(self, corpus, chunks_as_numpy)\u001b[0m\n\u001b[1;32m    291\u001b[0m                     \u001b[0;32mtry\u001b[0m\u001b[0;34m:\u001b[0m\u001b[0;34m\u001b[0m\u001b[0;34m\u001b[0m\u001b[0m\n\u001b[0;32m--> 292\u001b[0;31m                         \u001b[0mjob_queue\u001b[0m\u001b[0;34m.\u001b[0m\u001b[0mput\u001b[0m\u001b[0;34m(\u001b[0m\u001b[0;34m(\u001b[0m\u001b[0mchunk_no\u001b[0m\u001b[0;34m,\u001b[0m \u001b[0mchunk\u001b[0m\u001b[0;34m,\u001b[0m \u001b[0mself\u001b[0m\u001b[0;34m)\u001b[0m\u001b[0;34m,\u001b[0m \u001b[0mblock\u001b[0m\u001b[0;34m=\u001b[0m\u001b[0;32mFalse\u001b[0m\u001b[0;34m)\u001b[0m\u001b[0;34m\u001b[0m\u001b[0;34m\u001b[0m\u001b[0m\n\u001b[0m\u001b[1;32m    293\u001b[0m                         \u001b[0mqueue_size\u001b[0m\u001b[0;34m[\u001b[0m\u001b[0;36m0\u001b[0m\u001b[0;34m]\u001b[0m \u001b[0;34m+=\u001b[0m \u001b[0;36m1\u001b[0m\u001b[0;34m\u001b[0m\u001b[0;34m\u001b[0m\u001b[0m\n",
      "\u001b[0;32m~/opt/anaconda3/envs/nlp_env/lib/python3.6/multiprocessing/queues.py\u001b[0m in \u001b[0;36mput\u001b[0;34m(self, obj, block, timeout)\u001b[0m\n\u001b[1;32m     82\u001b[0m         \u001b[0;32mif\u001b[0m \u001b[0;32mnot\u001b[0m \u001b[0mself\u001b[0m\u001b[0;34m.\u001b[0m\u001b[0m_sem\u001b[0m\u001b[0;34m.\u001b[0m\u001b[0macquire\u001b[0m\u001b[0;34m(\u001b[0m\u001b[0mblock\u001b[0m\u001b[0;34m,\u001b[0m \u001b[0mtimeout\u001b[0m\u001b[0;34m)\u001b[0m\u001b[0;34m:\u001b[0m\u001b[0;34m\u001b[0m\u001b[0;34m\u001b[0m\u001b[0m\n\u001b[0;32m---> 83\u001b[0;31m             \u001b[0;32mraise\u001b[0m \u001b[0mFull\u001b[0m\u001b[0;34m\u001b[0m\u001b[0;34m\u001b[0m\u001b[0m\n\u001b[0m\u001b[1;32m     84\u001b[0m \u001b[0;34m\u001b[0m\u001b[0m\n",
      "\u001b[0;31mFull\u001b[0m: ",
      "\nDuring handling of the above exception, another exception occurred:\n",
      "\u001b[0;31mKeyboardInterrupt\u001b[0m                         Traceback (most recent call last)",
      "\u001b[0;32m<ipython-input-19-9f45920bfec3>\u001b[0m in \u001b[0;36m<module>\u001b[0;34m\u001b[0m\n\u001b[1;32m     42\u001b[0m                     \u001b[0;31m# get the coherence score for the given parameters\u001b[0m\u001b[0;34m\u001b[0m\u001b[0;34m\u001b[0m\u001b[0;34m\u001b[0m\u001b[0m\n\u001b[1;32m     43\u001b[0m                     cv = compute_coherence_values(corpus=corpus_sets[i], dictionary=id2word, \n\u001b[0;32m---> 44\u001b[0;31m                                                   k=k, a=a, b=b)\n\u001b[0m\u001b[1;32m     45\u001b[0m                     \u001b[0;31m# Save the model results\u001b[0m\u001b[0;34m\u001b[0m\u001b[0;34m\u001b[0m\u001b[0;34m\u001b[0m\u001b[0m\n\u001b[1;32m     46\u001b[0m                     \u001b[0mmodel_results\u001b[0m\u001b[0;34m[\u001b[0m\u001b[0;34m'Validation_Set'\u001b[0m\u001b[0;34m]\u001b[0m\u001b[0;34m.\u001b[0m\u001b[0mappend\u001b[0m\u001b[0;34m(\u001b[0m\u001b[0mcorpus_title\u001b[0m\u001b[0;34m[\u001b[0m\u001b[0mi\u001b[0m\u001b[0;34m]\u001b[0m\u001b[0;34m)\u001b[0m\u001b[0;34m\u001b[0m\u001b[0;34m\u001b[0m\u001b[0m\n",
      "\u001b[0;32m<ipython-input-18-18f7a1bf07cd>\u001b[0m in \u001b[0;36mcompute_coherence_values\u001b[0;34m(corpus, dictionary, k, a, b)\u001b[0m\n\u001b[1;32m     10\u001b[0m                                            \u001b[0malpha\u001b[0m\u001b[0;34m=\u001b[0m\u001b[0ma\u001b[0m\u001b[0;34m,\u001b[0m\u001b[0;34m\u001b[0m\u001b[0;34m\u001b[0m\u001b[0m\n\u001b[1;32m     11\u001b[0m                                            \u001b[0meta\u001b[0m\u001b[0;34m=\u001b[0m\u001b[0mb\u001b[0m\u001b[0;34m,\u001b[0m\u001b[0;34m\u001b[0m\u001b[0;34m\u001b[0m\u001b[0m\n\u001b[0;32m---> 12\u001b[0;31m                                            per_word_topics=True)\n\u001b[0m\u001b[1;32m     13\u001b[0m \u001b[0;34m\u001b[0m\u001b[0m\n\u001b[1;32m     14\u001b[0m     \u001b[0mcoherence_model_lda\u001b[0m \u001b[0;34m=\u001b[0m \u001b[0mCoherenceModel\u001b[0m\u001b[0;34m(\u001b[0m\u001b[0mmodel\u001b[0m\u001b[0;34m=\u001b[0m\u001b[0mlda_model\u001b[0m\u001b[0;34m,\u001b[0m \u001b[0mtexts\u001b[0m\u001b[0;34m=\u001b[0m\u001b[0mdata_lemmatized\u001b[0m\u001b[0;34m,\u001b[0m \u001b[0mdictionary\u001b[0m\u001b[0;34m=\u001b[0m\u001b[0mid2word\u001b[0m\u001b[0;34m,\u001b[0m \u001b[0mcoherence\u001b[0m\u001b[0;34m=\u001b[0m\u001b[0;34m'c_v'\u001b[0m\u001b[0;34m)\u001b[0m\u001b[0;34m\u001b[0m\u001b[0;34m\u001b[0m\u001b[0m\n",
      "\u001b[0;32m~/opt/anaconda3/envs/nlp_env/lib/python3.6/site-packages/gensim/models/ldamulticore.py\u001b[0m in \u001b[0;36m__init__\u001b[0;34m(self, corpus, num_topics, id2word, workers, chunksize, passes, batch, alpha, eta, decay, offset, eval_every, iterations, gamma_threshold, random_state, minimum_probability, minimum_phi_value, per_word_topics, dtype)\u001b[0m\n\u001b[1;32m    182\u001b[0m             \u001b[0mdecay\u001b[0m\u001b[0;34m=\u001b[0m\u001b[0mdecay\u001b[0m\u001b[0;34m,\u001b[0m \u001b[0moffset\u001b[0m\u001b[0;34m=\u001b[0m\u001b[0moffset\u001b[0m\u001b[0;34m,\u001b[0m \u001b[0meval_every\u001b[0m\u001b[0;34m=\u001b[0m\u001b[0meval_every\u001b[0m\u001b[0;34m,\u001b[0m \u001b[0miterations\u001b[0m\u001b[0;34m=\u001b[0m\u001b[0miterations\u001b[0m\u001b[0;34m,\u001b[0m\u001b[0;34m\u001b[0m\u001b[0;34m\u001b[0m\u001b[0m\n\u001b[1;32m    183\u001b[0m             \u001b[0mgamma_threshold\u001b[0m\u001b[0;34m=\u001b[0m\u001b[0mgamma_threshold\u001b[0m\u001b[0;34m,\u001b[0m \u001b[0mrandom_state\u001b[0m\u001b[0;34m=\u001b[0m\u001b[0mrandom_state\u001b[0m\u001b[0;34m,\u001b[0m \u001b[0mminimum_probability\u001b[0m\u001b[0;34m=\u001b[0m\u001b[0mminimum_probability\u001b[0m\u001b[0;34m,\u001b[0m\u001b[0;34m\u001b[0m\u001b[0;34m\u001b[0m\u001b[0m\n\u001b[0;32m--> 184\u001b[0;31m             \u001b[0mminimum_phi_value\u001b[0m\u001b[0;34m=\u001b[0m\u001b[0mminimum_phi_value\u001b[0m\u001b[0;34m,\u001b[0m \u001b[0mper_word_topics\u001b[0m\u001b[0;34m=\u001b[0m\u001b[0mper_word_topics\u001b[0m\u001b[0;34m,\u001b[0m \u001b[0mdtype\u001b[0m\u001b[0;34m=\u001b[0m\u001b[0mdtype\u001b[0m\u001b[0;34m\u001b[0m\u001b[0;34m\u001b[0m\u001b[0m\n\u001b[0m\u001b[1;32m    185\u001b[0m         )\n\u001b[1;32m    186\u001b[0m \u001b[0;34m\u001b[0m\u001b[0m\n",
      "\u001b[0;32m~/opt/anaconda3/envs/nlp_env/lib/python3.6/site-packages/gensim/models/ldamodel.py\u001b[0m in \u001b[0;36m__init__\u001b[0;34m(self, corpus, num_topics, id2word, distributed, chunksize, passes, update_every, alpha, eta, decay, offset, eval_every, iterations, gamma_threshold, minimum_probability, random_state, ns_conf, minimum_phi_value, per_word_topics, callbacks, dtype)\u001b[0m\n\u001b[1;32m    517\u001b[0m         \u001b[0;32mif\u001b[0m \u001b[0mcorpus\u001b[0m \u001b[0;32mis\u001b[0m \u001b[0;32mnot\u001b[0m \u001b[0;32mNone\u001b[0m\u001b[0;34m:\u001b[0m\u001b[0;34m\u001b[0m\u001b[0;34m\u001b[0m\u001b[0m\n\u001b[1;32m    518\u001b[0m             \u001b[0muse_numpy\u001b[0m \u001b[0;34m=\u001b[0m \u001b[0mself\u001b[0m\u001b[0;34m.\u001b[0m\u001b[0mdispatcher\u001b[0m \u001b[0;32mis\u001b[0m \u001b[0;32mnot\u001b[0m \u001b[0;32mNone\u001b[0m\u001b[0;34m\u001b[0m\u001b[0;34m\u001b[0m\u001b[0m\n\u001b[0;32m--> 519\u001b[0;31m             \u001b[0mself\u001b[0m\u001b[0;34m.\u001b[0m\u001b[0mupdate\u001b[0m\u001b[0;34m(\u001b[0m\u001b[0mcorpus\u001b[0m\u001b[0;34m,\u001b[0m \u001b[0mchunks_as_numpy\u001b[0m\u001b[0;34m=\u001b[0m\u001b[0muse_numpy\u001b[0m\u001b[0;34m)\u001b[0m\u001b[0;34m\u001b[0m\u001b[0;34m\u001b[0m\u001b[0m\n\u001b[0m\u001b[1;32m    520\u001b[0m \u001b[0;34m\u001b[0m\u001b[0m\n\u001b[1;32m    521\u001b[0m     \u001b[0;32mdef\u001b[0m \u001b[0minit_dir_prior\u001b[0m\u001b[0;34m(\u001b[0m\u001b[0mself\u001b[0m\u001b[0;34m,\u001b[0m \u001b[0mprior\u001b[0m\u001b[0;34m,\u001b[0m \u001b[0mname\u001b[0m\u001b[0;34m)\u001b[0m\u001b[0;34m:\u001b[0m\u001b[0;34m\u001b[0m\u001b[0;34m\u001b[0m\u001b[0m\n",
      "\u001b[0;32m~/opt/anaconda3/envs/nlp_env/lib/python3.6/site-packages/gensim/models/ldamulticore.py\u001b[0m in \u001b[0;36mupdate\u001b[0;34m(self, corpus, chunks_as_numpy)\u001b[0m\n\u001b[1;32m    301\u001b[0m                         \u001b[0;31m# in case the input job queue is full, keep clearing the\u001b[0m\u001b[0;34m\u001b[0m\u001b[0;34m\u001b[0m\u001b[0;34m\u001b[0m\u001b[0m\n\u001b[1;32m    302\u001b[0m                         \u001b[0;31m# result queue, to make sure we don't deadlock\u001b[0m\u001b[0;34m\u001b[0m\u001b[0;34m\u001b[0m\u001b[0;34m\u001b[0m\u001b[0m\n\u001b[0;32m--> 303\u001b[0;31m                         \u001b[0mprocess_result_queue\u001b[0m\u001b[0;34m(\u001b[0m\u001b[0;34m)\u001b[0m\u001b[0;34m\u001b[0m\u001b[0;34m\u001b[0m\u001b[0m\n\u001b[0m\u001b[1;32m    304\u001b[0m \u001b[0;34m\u001b[0m\u001b[0m\n\u001b[1;32m    305\u001b[0m                 \u001b[0mprocess_result_queue\u001b[0m\u001b[0;34m(\u001b[0m\u001b[0;34m)\u001b[0m\u001b[0;34m\u001b[0m\u001b[0;34m\u001b[0m\u001b[0m\n",
      "\u001b[0;32m~/opt/anaconda3/envs/nlp_env/lib/python3.6/site-packages/gensim/models/ldamulticore.py\u001b[0m in \u001b[0;36mprocess_result_queue\u001b[0;34m(force)\u001b[0m\n\u001b[1;32m    266\u001b[0m             \"\"\"\n\u001b[1;32m    267\u001b[0m             \u001b[0mmerged_new\u001b[0m \u001b[0;34m=\u001b[0m \u001b[0;32mFalse\u001b[0m\u001b[0;34m\u001b[0m\u001b[0;34m\u001b[0m\u001b[0m\n\u001b[0;32m--> 268\u001b[0;31m             \u001b[0;32mwhile\u001b[0m \u001b[0;32mnot\u001b[0m \u001b[0mresult_queue\u001b[0m\u001b[0;34m.\u001b[0m\u001b[0mempty\u001b[0m\u001b[0;34m(\u001b[0m\u001b[0;34m)\u001b[0m\u001b[0;34m:\u001b[0m\u001b[0;34m\u001b[0m\u001b[0;34m\u001b[0m\u001b[0m\n\u001b[0m\u001b[1;32m    269\u001b[0m                 \u001b[0mother\u001b[0m\u001b[0;34m.\u001b[0m\u001b[0mmerge\u001b[0m\u001b[0;34m(\u001b[0m\u001b[0mresult_queue\u001b[0m\u001b[0;34m.\u001b[0m\u001b[0mget\u001b[0m\u001b[0;34m(\u001b[0m\u001b[0;34m)\u001b[0m\u001b[0;34m)\u001b[0m\u001b[0;34m\u001b[0m\u001b[0;34m\u001b[0m\u001b[0m\n\u001b[1;32m    270\u001b[0m                 \u001b[0mqueue_size\u001b[0m\u001b[0;34m[\u001b[0m\u001b[0;36m0\u001b[0m\u001b[0;34m]\u001b[0m \u001b[0;34m-=\u001b[0m \u001b[0;36m1\u001b[0m\u001b[0;34m\u001b[0m\u001b[0;34m\u001b[0m\u001b[0m\n",
      "\u001b[0;32m~/opt/anaconda3/envs/nlp_env/lib/python3.6/multiprocessing/queues.py\u001b[0m in \u001b[0;36mempty\u001b[0;34m(self)\u001b[0m\n\u001b[1;32m    118\u001b[0m \u001b[0;34m\u001b[0m\u001b[0m\n\u001b[1;32m    119\u001b[0m     \u001b[0;32mdef\u001b[0m \u001b[0mempty\u001b[0m\u001b[0;34m(\u001b[0m\u001b[0mself\u001b[0m\u001b[0;34m)\u001b[0m\u001b[0;34m:\u001b[0m\u001b[0;34m\u001b[0m\u001b[0;34m\u001b[0m\u001b[0m\n\u001b[0;32m--> 120\u001b[0;31m         \u001b[0;32mreturn\u001b[0m \u001b[0;32mnot\u001b[0m \u001b[0mself\u001b[0m\u001b[0;34m.\u001b[0m\u001b[0m_poll\u001b[0m\u001b[0;34m(\u001b[0m\u001b[0;34m)\u001b[0m\u001b[0;34m\u001b[0m\u001b[0;34m\u001b[0m\u001b[0m\n\u001b[0m\u001b[1;32m    121\u001b[0m \u001b[0;34m\u001b[0m\u001b[0m\n\u001b[1;32m    122\u001b[0m     \u001b[0;32mdef\u001b[0m \u001b[0mfull\u001b[0m\u001b[0;34m(\u001b[0m\u001b[0mself\u001b[0m\u001b[0;34m)\u001b[0m\u001b[0;34m:\u001b[0m\u001b[0;34m\u001b[0m\u001b[0;34m\u001b[0m\u001b[0m\n",
      "\u001b[0;32m~/opt/anaconda3/envs/nlp_env/lib/python3.6/multiprocessing/connection.py\u001b[0m in \u001b[0;36mpoll\u001b[0;34m(self, timeout)\u001b[0m\n\u001b[1;32m    255\u001b[0m         \u001b[0mself\u001b[0m\u001b[0;34m.\u001b[0m\u001b[0m_check_closed\u001b[0m\u001b[0;34m(\u001b[0m\u001b[0;34m)\u001b[0m\u001b[0;34m\u001b[0m\u001b[0;34m\u001b[0m\u001b[0m\n\u001b[1;32m    256\u001b[0m         \u001b[0mself\u001b[0m\u001b[0;34m.\u001b[0m\u001b[0m_check_readable\u001b[0m\u001b[0;34m(\u001b[0m\u001b[0;34m)\u001b[0m\u001b[0;34m\u001b[0m\u001b[0;34m\u001b[0m\u001b[0m\n\u001b[0;32m--> 257\u001b[0;31m         \u001b[0;32mreturn\u001b[0m \u001b[0mself\u001b[0m\u001b[0;34m.\u001b[0m\u001b[0m_poll\u001b[0m\u001b[0;34m(\u001b[0m\u001b[0mtimeout\u001b[0m\u001b[0;34m)\u001b[0m\u001b[0;34m\u001b[0m\u001b[0;34m\u001b[0m\u001b[0m\n\u001b[0m\u001b[1;32m    258\u001b[0m \u001b[0;34m\u001b[0m\u001b[0m\n\u001b[1;32m    259\u001b[0m     \u001b[0;32mdef\u001b[0m \u001b[0m__enter__\u001b[0m\u001b[0;34m(\u001b[0m\u001b[0mself\u001b[0m\u001b[0;34m)\u001b[0m\u001b[0;34m:\u001b[0m\u001b[0;34m\u001b[0m\u001b[0;34m\u001b[0m\u001b[0m\n",
      "\u001b[0;32m~/opt/anaconda3/envs/nlp_env/lib/python3.6/multiprocessing/connection.py\u001b[0m in \u001b[0;36m_poll\u001b[0;34m(self, timeout)\u001b[0m\n\u001b[1;32m    412\u001b[0m \u001b[0;34m\u001b[0m\u001b[0m\n\u001b[1;32m    413\u001b[0m     \u001b[0;32mdef\u001b[0m \u001b[0m_poll\u001b[0m\u001b[0;34m(\u001b[0m\u001b[0mself\u001b[0m\u001b[0;34m,\u001b[0m \u001b[0mtimeout\u001b[0m\u001b[0;34m)\u001b[0m\u001b[0;34m:\u001b[0m\u001b[0;34m\u001b[0m\u001b[0;34m\u001b[0m\u001b[0m\n\u001b[0;32m--> 414\u001b[0;31m         \u001b[0mr\u001b[0m \u001b[0;34m=\u001b[0m \u001b[0mwait\u001b[0m\u001b[0;34m(\u001b[0m\u001b[0;34m[\u001b[0m\u001b[0mself\u001b[0m\u001b[0;34m]\u001b[0m\u001b[0;34m,\u001b[0m \u001b[0mtimeout\u001b[0m\u001b[0;34m)\u001b[0m\u001b[0;34m\u001b[0m\u001b[0;34m\u001b[0m\u001b[0m\n\u001b[0m\u001b[1;32m    415\u001b[0m         \u001b[0;32mreturn\u001b[0m \u001b[0mbool\u001b[0m\u001b[0;34m(\u001b[0m\u001b[0mr\u001b[0m\u001b[0;34m)\u001b[0m\u001b[0;34m\u001b[0m\u001b[0;34m\u001b[0m\u001b[0m\n\u001b[1;32m    416\u001b[0m \u001b[0;34m\u001b[0m\u001b[0m\n",
      "\u001b[0;32m~/opt/anaconda3/envs/nlp_env/lib/python3.6/multiprocessing/connection.py\u001b[0m in \u001b[0;36mwait\u001b[0;34m(object_list, timeout)\u001b[0m\n\u001b[1;32m    909\u001b[0m \u001b[0;34m\u001b[0m\u001b[0m\n\u001b[1;32m    910\u001b[0m             \u001b[0;32mwhile\u001b[0m \u001b[0;32mTrue\u001b[0m\u001b[0;34m:\u001b[0m\u001b[0;34m\u001b[0m\u001b[0;34m\u001b[0m\u001b[0m\n\u001b[0;32m--> 911\u001b[0;31m                 \u001b[0mready\u001b[0m \u001b[0;34m=\u001b[0m \u001b[0mselector\u001b[0m\u001b[0;34m.\u001b[0m\u001b[0mselect\u001b[0m\u001b[0;34m(\u001b[0m\u001b[0mtimeout\u001b[0m\u001b[0;34m)\u001b[0m\u001b[0;34m\u001b[0m\u001b[0;34m\u001b[0m\u001b[0m\n\u001b[0m\u001b[1;32m    912\u001b[0m                 \u001b[0;32mif\u001b[0m \u001b[0mready\u001b[0m\u001b[0;34m:\u001b[0m\u001b[0;34m\u001b[0m\u001b[0;34m\u001b[0m\u001b[0m\n\u001b[1;32m    913\u001b[0m                     \u001b[0;32mreturn\u001b[0m \u001b[0;34m[\u001b[0m\u001b[0mkey\u001b[0m\u001b[0;34m.\u001b[0m\u001b[0mfileobj\u001b[0m \u001b[0;32mfor\u001b[0m \u001b[0;34m(\u001b[0m\u001b[0mkey\u001b[0m\u001b[0;34m,\u001b[0m \u001b[0mevents\u001b[0m\u001b[0;34m)\u001b[0m \u001b[0;32min\u001b[0m \u001b[0mready\u001b[0m\u001b[0;34m]\u001b[0m\u001b[0;34m\u001b[0m\u001b[0;34m\u001b[0m\u001b[0m\n",
      "\u001b[0;32m~/opt/anaconda3/envs/nlp_env/lib/python3.6/selectors.py\u001b[0m in \u001b[0;36mselect\u001b[0;34m(self, timeout)\u001b[0m\n\u001b[1;32m    374\u001b[0m             \u001b[0mready\u001b[0m \u001b[0;34m=\u001b[0m \u001b[0;34m[\u001b[0m\u001b[0;34m]\u001b[0m\u001b[0;34m\u001b[0m\u001b[0;34m\u001b[0m\u001b[0m\n\u001b[1;32m    375\u001b[0m             \u001b[0;32mtry\u001b[0m\u001b[0;34m:\u001b[0m\u001b[0;34m\u001b[0m\u001b[0;34m\u001b[0m\u001b[0m\n\u001b[0;32m--> 376\u001b[0;31m                 \u001b[0mfd_event_list\u001b[0m \u001b[0;34m=\u001b[0m \u001b[0mself\u001b[0m\u001b[0;34m.\u001b[0m\u001b[0m_poll\u001b[0m\u001b[0;34m.\u001b[0m\u001b[0mpoll\u001b[0m\u001b[0;34m(\u001b[0m\u001b[0mtimeout\u001b[0m\u001b[0;34m)\u001b[0m\u001b[0;34m\u001b[0m\u001b[0;34m\u001b[0m\u001b[0m\n\u001b[0m\u001b[1;32m    377\u001b[0m             \u001b[0;32mexcept\u001b[0m \u001b[0mInterruptedError\u001b[0m\u001b[0;34m:\u001b[0m\u001b[0;34m\u001b[0m\u001b[0;34m\u001b[0m\u001b[0m\n\u001b[1;32m    378\u001b[0m                 \u001b[0;32mreturn\u001b[0m \u001b[0mready\u001b[0m\u001b[0;34m\u001b[0m\u001b[0;34m\u001b[0m\u001b[0m\n",
      "\u001b[0;31mKeyboardInterrupt\u001b[0m: "
     ]
    }
   ],
   "source": [
    "import numpy as np\n",
    "import tqdm\n",
    "grid = {}\n",
    "grid['Validation_Set'] = {}\n",
    "# Topics range\n",
    "min_topics = 3\n",
    "max_topics = 8\n",
    "step_size = 1\n",
    "topics_range = range(min_topics, max_topics, step_size)\n",
    "# Alpha parameter\n",
    "alpha = list(np.arange(0.3, 1, 0.8))\n",
    "alpha.append('symmetric')\n",
    "alpha.append('asymmetric')\n",
    "# Beta parameter\n",
    "beta = list(np.arange(0.3, 1, 0.8))\n",
    "beta.append('symmetric')\n",
    "# Validation sets\n",
    "num_of_docs = len(corpus)\n",
    "corpus_sets = [# gensim.utils.ClippedCorpus(corpus, num_of_docs*0.25), \n",
    "               # gensim.utils.ClippedCorpus(corpus, num_of_docs*0.5), \n",
    "               gensim.utils.ClippedCorpus(corpus, int(num_of_docs*0.75)), \n",
    "               corpus]\n",
    "corpus_title = ['75% Corpus', '100% Corpus']\n",
    "model_results = {'Validation_Set': [],\n",
    "                 'Topics': [],\n",
    "                 'Alpha': [],\n",
    "                 'Beta': [],\n",
    "                 'Coherence': []\n",
    "                }\n",
    "# Can take a long time to run\n",
    "if 1 == 1:\n",
    "    pbar = tqdm.tqdm(total=540)\n",
    "    \n",
    "    # iterate through validation corpuses\n",
    "    for i in range(len(corpus_sets)):\n",
    "        # iterate through number of topics\n",
    "        for k in topics_range:\n",
    "            # iterate through alpha values\n",
    "            for a in alpha:\n",
    "                # iterare through beta values\n",
    "                for b in beta:\n",
    "                    # get the coherence score for the given parameters\n",
    "                    cv = compute_coherence_values(corpus=corpus_sets[i], dictionary=id2word, \n",
    "                                                  k=k, a=a, b=b)\n",
    "                    # Save the model results\n",
    "                    model_results['Validation_Set'].append(corpus_title[i])\n",
    "                    model_results['Topics'].append(k)\n",
    "                    model_results['Alpha'].append(a)\n",
    "                    model_results['Beta'].append(b)\n",
    "                    model_results['Coherence'].append(cv)\n",
    "                    \n",
    "                    pbar.update(1)\n",
    "    pd.DataFrame(model_results).to_csv('lda_tuning_results.csv', index=False)\n",
    "    pbar.close()"
   ]
  },
  {
   "cell_type": "markdown",
   "metadata": {},
   "source": [
    "## Plotting the model results\n"
   ]
  },
  {
   "cell_type": "code",
   "execution_count": null,
   "metadata": {},
   "outputs": [],
   "source": [
    "import seaborn as sns\n",
    "import matplotlib as plt"
   ]
  },
  {
   "cell_type": "code",
   "execution_count": 27,
   "metadata": {},
   "outputs": [
    {
     "data": {
      "text/plain": [
       "{'Validation_Set': [], 'Topics': [], 'Alpha': [], 'Beta': [], 'Coherence': []}"
      ]
     },
     "execution_count": 27,
     "metadata": {},
     "output_type": "execute_result"
    }
   ],
   "source": [
    "model_results"
   ]
  },
  {
   "cell_type": "code",
   "execution_count": 30,
   "metadata": {},
   "outputs": [
    {
     "data": {
      "text/plain": [
       "4"
      ]
     },
     "execution_count": 30,
     "metadata": {},
     "output_type": "execute_result"
    }
   ],
   "source": [
    "int(0.5*9)"
   ]
  },
  {
   "cell_type": "code",
   "execution_count": null,
   "metadata": {},
   "outputs": [],
   "source": []
  }
 ],
 "metadata": {
  "kernelspec": {
   "display_name": "nlp_envp3",
   "language": "python",
   "name": "nlp_envp3"
  },
  "language_info": {
   "codemirror_mode": {
    "name": "ipython",
    "version": 3
   },
   "file_extension": ".py",
   "mimetype": "text/x-python",
   "name": "python",
   "nbconvert_exporter": "python",
   "pygments_lexer": "ipython3",
   "version": "3.6.10"
  }
 },
 "nbformat": 4,
 "nbformat_minor": 4
}
